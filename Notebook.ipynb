{
  "nbformat": 4,
  "nbformat_minor": 0,
  "metadata": {
    "colab": {
      "name": "01_00_build_models.ipynb",
      "provenance": [],
      "collapsed_sections": []
    },
    "kernelspec": {
      "name": "python3",
      "display_name": "Python 3"
    },
    "language_info": {
      "name": "python"
    }
  },
  "cells": [
    {
      "cell_type": "markdown",
      "source": [
        "# **Predicción de la satisfacción de niños y abuelos según la composición de su hogar y otros determinantes**\n",
        "## Alejandro Betancur Quiroz 1007286609\n",
        "## Julian Esteban Carvajal Ramírez 1001774262\n",
        "## Wilfer Mauricio Chavarría Jaramillo 1035833003\n",
        "## Alejandro Bedoya Taborda 1152226157"
      ],
      "metadata": {
        "id": "d47I9SM5uUEk"
      }
    },
    {
      "cell_type": "markdown",
      "source": [
        "# Preguntas\n",
        "\n",
        "*   Se debería dividir entre datos de entrenamiento y validación tomando como referencia las personas o tomando como referencia los hogares??? En el caso de que sea mejor con hogares, se puede usar Group Shuffle Split de sklearn\n",
        "*   Verificar cuál fue el n_splits que profe dijo que era recomendable para realizar validación cruzada\n"
      ],
      "metadata": {
        "id": "g3TexXCiwuYg"
      }
    },
    {
      "cell_type": "markdown",
      "source": [
        "# Construcción de modelos"
      ],
      "metadata": {
        "id": "0IT9WFq0wuMP"
      }
    },
    {
      "cell_type": "code",
      "source": [
        "import pathlib\n",
        "\n",
        "import math\n",
        "\n",
        "import numpy as np\n",
        "import pandas as pd\n",
        "\n",
        "import matplotlib.pyplot as plt\n",
        "\n",
        "from sklearn.model_selection import train_test_split\n",
        "\n",
        "from sklearn.pipeline import Pipeline\n",
        "\n",
        "from sklearn.experimental import enable_halving_search_cv \n",
        "from sklearn.model_selection import HalvingGridSearchCV\n",
        "\n",
        "from sklearn.neighbors import KNeighborsClassifier\n",
        "\n",
        "from sklearn.preprocessing import Binarizer, MinMaxScaler, OneHotEncoder, StandardScaler\n",
        "\n",
        "from sklearn.compose import ColumnTransformer\n",
        "from sklearn.compose import make_column_selector\n",
        "\n",
        "from sklearn.metrics import roc_auc_score\n",
        "from sklearn.metrics import f1_score\n",
        "from sklearn.metrics import accuracy_score\n",
        "from sklearn.metrics import confusion_matrix\n",
        "\n",
        "import warnings\n",
        "from sklearn.exceptions import DataConversionWarning\n",
        "warnings.filterwarnings(action='ignore', category=DataConversionWarning)"
      ],
      "metadata": {
        "id": "moBliPd_m5CG"
      },
      "execution_count": null,
      "outputs": []
    },
    {
      "cell_type": "markdown",
      "source": [
        "## Rutas"
      ],
      "metadata": {
        "id": "M7HqVqPerM4d"
      }
    },
    {
      "cell_type": "code",
      "source": [
        "from google.colab import drive\n",
        "drive.mount('/content/drive')"
      ],
      "metadata": {
        "id": "2nUh6YAT55e0",
        "colab": {
          "base_uri": "https://localhost:8080/"
        },
        "outputId": "d9e92c3d-c9f0-4ecc-89dd-3ee4280eba31"
      },
      "execution_count": null,
      "outputs": [
        {
          "output_type": "stream",
          "name": "stdout",
          "text": [
            "Drive already mounted at /content/drive; to attempt to forcibly remount, call drive.mount(\"/content/drive\", force_remount=True).\n"
          ]
        }
      ]
    },
    {
      "cell_type": "code",
      "source": [
        "data_path = pathlib.Path('/content/drive/Shareddrives/Tecnicas de aprendizaje estadistico/data')\n",
        "external_figures_path = pathlib.Path('/content/drive/Shareddrives/Tecnicas de aprendizaje estadistico/figuras_externas')\n",
        "list(data_path.glob('*.csv'))"
      ],
      "metadata": {
        "id": "6a56bw0XrMhB",
        "colab": {
          "base_uri": "https://localhost:8080/"
        },
        "outputId": "553d35ef-36ba-4653-ed14-1a6f7369b704"
      },
      "execution_count": null,
      "outputs": [
        {
          "output_type": "execute_result",
          "data": {
            "text/plain": [
              "[PosixPath('/content/drive/Shareddrives/Tecnicas de aprendizaje estadistico/data/data_60_try.csv'),\n",
              " PosixPath('/content/drive/Shareddrives/Tecnicas de aprendizaje estadistico/data/menores.csv'),\n",
              " PosixPath('/content/drive/Shareddrives/Tecnicas de aprendizaje estadistico/data/menores_592_1_y_592_3.csv')]"
            ]
          },
          "metadata": {},
          "execution_count": 46
        }
      ]
    },
    {
      "cell_type": "markdown",
      "source": [
        "## Datos\n",
        "\n",
        "Temporalmente se carga un archivo csv que tiene datos de la tabla \"Caracteristicas y composicion del hogar\" la ECV de 2020. Las columnas son:\n"
      ],
      "metadata": {
        "id": "uRiv_wmKoqpY"
      }
    },
    {
      "cell_type": "markdown",
      "source": [
        "### Descripción de los datos"
      ],
      "metadata": {
        "id": "_17vVJ4rxWUw"
      }
    },
    {
      "cell_type": "markdown",
      "source": [
        "*   DIRECTORIO\n",
        "*   P6020 - Sexo:\n",
        "  *   1 Hombre\n",
        "  *   2 Mujer\n",
        "*   P6040 - ¿cuántos años cumplidos tiene...?\n",
        "*   P6051 - ¿Cuál es el parentesco de ___ con el jefe o la jefa de este hogar?\n",
        "  *   1 Jefe (a) del hogar\n",
        "  *   2 Pareja, esposo (a), cónyuge, compañero(a)\n",
        "  *   3 Hijo(a) hijastro(a)\n",
        "  *   4 Nieto (a)\n",
        "  *   5 Padre, madre, padrastro y madrastra\n",
        "  *   6 Suegro o suegra\n",
        "  *   7 Hermano (a), hermanastro (a)\n",
        "  *   8 Yerno, nuera\n",
        "  *   9 Otro pariente del jefe(a)\n",
        "  *   10 Empleado(a) del servicio doméstico\n",
        "  *   11 Parientes del servicio doméstico\n",
        "  *   12 Trabajador\n",
        "  *   13 Pensionista\n",
        "  *   14 Otro pariente\n",
        "*   P5502 - Actualmente…:\n",
        "  *   1 No está casado(a) y vive en pareja hace menos de dos años\n",
        "  *   2 No está casado(a) y vive en pareja hace dos años o más\n",
        "  *   3 Está viudo(a)\n",
        "  *   4 Está separado(a) o divorciado(a)\n",
        "  *   5 Está soltero(a)\n",
        "  *   6 Está casado(a)\n",
        "*   P767 - ¿Cuántos años continuos hace que vive ___ aquí en este municipio? - Cuántos años: ______\n",
        "*   P6081 - El padre de ____ ¿vive en este hogar?\n",
        "  *   1 Sí\n",
        "  *   2 No\n",
        "  *   3 Fallecido\n",
        "*   P6083 - La madre de ____ ¿vive en este hogar?\n",
        "  *   1 Sí\n",
        "  *   2 No\n",
        "  *   3 Fallecida\n",
        "*   P1895 - En general, qué tan satisfecho(a) se siente ... con su vida actualmente?\n",
        "  *   10 Totalmente satisfecho(a)\n",
        "  *   9\n",
        "  *   ...\n",
        "  *   1\n",
        "  *   0 Totalmente insatisfecho(a)\n",
        "*   P1896 - En general, qué tan satisfecho(a) se siente ... con su ingreso actualmente?\n",
        "  *   10 Totalmente satisfecho(a)\n",
        "  *   9\n",
        "  *   ...\n",
        "  *   1\n",
        "  *   0 Totalmente insatisfecho(a)\n",
        "*   P1897 - En general, qué tan satisfecho(a) se siente ... con su salud actualmente?\n",
        "  *   10 Totalmente satisfecho(a)\n",
        "  *   9\n",
        "  *   ...\n",
        "  *   1\n",
        "  *   0 Totalmente insatisfecho(a)\n",
        "*   P1898 - En general, qué tan satisfecho(a) se siente ... con su nivel de seguridad actualmente?\n",
        "  *   10 Totalmente satisfecho(a)\n",
        "  *   9\n",
        "  *   ...\n",
        "  *   1\n",
        "  *   0 Totalmente insatisfecho(a)\n",
        "*   P1899 - En general, qué tan satisfecho(a) se siente ... con su trabajo/actividad actualmente?\n",
        "  *   10 Totalmente satisfecho(a)\n",
        "  *   9\n",
        "  *   ...\n",
        "  *   1\n",
        "  *   0 Totalmente insatisfecho(a)\n",
        "*   P3175 - En general, ¿qué tan satisfecho/a se siente _____ con su tiempo libre?\n",
        "  *   10 Totalmente satisfecho(a)\n",
        "  *   9\n",
        "  *   ...\n",
        "  *   1\n",
        "  *   0 Totalmente insatisfecho(a)\n",
        "*   P1901 - ¿qué tan feliz se sintió ... el día de ayer?\n",
        "  *   10 Todo el tiempo feliz\n",
        "  *   9\n",
        "  *   ...\n",
        "  *   1\n",
        "  *   0 Para nada feliz\n",
        "*   P1903 - ¿qué tan preocupado(a) se sintió ... el día de ayer?\n",
        "  *   10 Todo el tiempo preocupado(a)\n",
        "  *   9\n",
        "  *   ...\n",
        "  *   1\n",
        "  *   0 Para nada preocupado(a)\n",
        "*   P1904 ¿qué tan triste se sintió ... el día de ayer?\n",
        "  *   10 Todo el tiempo triste\n",
        "  *   9\n",
        "  *   ...\n",
        "  *   1\n",
        "  *   0 Para nada triste\n",
        "*   P1905 - Qué tanto considera ... que las cosas que hace en su vida valen la pena?\n",
        "  *   10 Valen totalmente la pena\n",
        "  *   9\n",
        "  *   ...\n",
        "  *   1\n",
        "  *   0 No valen la pena\n",
        "*   P1927 - ¿En cuál escalón diría usted que se encuentra parado(a) en este momento?\n",
        "  *   10 Mejor vida\n",
        "  *   9\n",
        "  *   ...\n",
        "  *   1\n",
        "  *   0 Peor vida"
      ],
      "metadata": {
        "id": "eFW8JHZQxatB"
      }
    },
    {
      "cell_type": "markdown",
      "source": [
        "### Carga datos"
      ],
      "metadata": {
        "id": "jGqGi3xsxaiq"
      }
    },
    {
      "cell_type": "code",
      "execution_count": null,
      "metadata": {
        "id": "sUdETtTLmbJ0",
        "colab": {
          "base_uri": "https://localhost:8080/",
          "height": 455
        },
        "outputId": "c5f64faa-7f32-4955-ce81-002dcc045cc1"
      },
      "outputs": [
        {
          "output_type": "execute_result",
          "data": {
            "text/plain": [
              "            P6020  P6040  P6051  P5502  P1895  P1896  P1897  P1898  P1899  \\\n",
              "DIRECTORIO                                                                  \n",
              "7247300         1     67      2    2.0    8.0    5.0    7.0    8.0    6.0   \n",
              "7247300         2     71      1    2.0    7.0    5.0    8.0    8.0    6.0   \n",
              "7247300         1     64      7    4.0    9.0    6.0   10.0   10.0    4.0   \n",
              "7247301         1     84      1    6.0    4.0    7.0    7.0   10.0    0.0   \n",
              "7247301         2     76      2    6.0   10.0   10.0    7.0   10.0    0.0   \n",
              "...           ...    ...    ...    ...    ...    ...    ...    ...    ...   \n",
              "7406936         1     84      1    5.0    9.0    3.0    8.0    8.0    8.0   \n",
              "7406979         1     67      1    2.0    6.0    6.0    6.0    7.0    5.0   \n",
              "7406982         2     61      1    4.0   10.0   10.0   10.0   10.0   10.0   \n",
              "7406991         2     66      1    4.0   10.0   10.0   10.0   10.0   10.0   \n",
              "7407007         1     63      1    3.0   10.0   10.0   10.0   10.0   10.0   \n",
              "\n",
              "            P3175  P1901  P1903  P1904  P1905  P1927  \n",
              "DIRECTORIO                                            \n",
              "7247300       8.0    8.0    8.0    8.0   10.0    9.0  \n",
              "7247300      10.0    9.0    5.0    4.0   10.0    7.0  \n",
              "7247300       8.0   10.0    6.0    6.0   10.0    8.0  \n",
              "7247301       7.0   10.0    0.0    0.0   10.0   10.0  \n",
              "7247301       7.0    8.0    8.0    0.0   10.0   10.0  \n",
              "...           ...    ...    ...    ...    ...    ...  \n",
              "7406936       8.0    8.0    4.0    1.0    2.0    8.0  \n",
              "7406979       5.0    7.0    2.0    2.0    6.0    5.0  \n",
              "7406982      10.0   10.0    5.0    6.0   10.0   10.0  \n",
              "7406991      10.0   10.0    0.0    0.0   10.0   10.0  \n",
              "7407007      10.0   10.0    0.0    0.0   10.0   10.0  \n",
              "\n",
              "[30914 rows x 15 columns]"
            ],
            "text/html": [
              "\n",
              "  <div id=\"df-ba41a00c-2fea-4c4e-af78-01442a0bf22e\">\n",
              "    <div class=\"colab-df-container\">\n",
              "      <div>\n",
              "<style scoped>\n",
              "    .dataframe tbody tr th:only-of-type {\n",
              "        vertical-align: middle;\n",
              "    }\n",
              "\n",
              "    .dataframe tbody tr th {\n",
              "        vertical-align: top;\n",
              "    }\n",
              "\n",
              "    .dataframe thead th {\n",
              "        text-align: right;\n",
              "    }\n",
              "</style>\n",
              "<table border=\"1\" class=\"dataframe\">\n",
              "  <thead>\n",
              "    <tr style=\"text-align: right;\">\n",
              "      <th></th>\n",
              "      <th>P6020</th>\n",
              "      <th>P6040</th>\n",
              "      <th>P6051</th>\n",
              "      <th>P5502</th>\n",
              "      <th>P1895</th>\n",
              "      <th>P1896</th>\n",
              "      <th>P1897</th>\n",
              "      <th>P1898</th>\n",
              "      <th>P1899</th>\n",
              "      <th>P3175</th>\n",
              "      <th>P1901</th>\n",
              "      <th>P1903</th>\n",
              "      <th>P1904</th>\n",
              "      <th>P1905</th>\n",
              "      <th>P1927</th>\n",
              "    </tr>\n",
              "    <tr>\n",
              "      <th>DIRECTORIO</th>\n",
              "      <th></th>\n",
              "      <th></th>\n",
              "      <th></th>\n",
              "      <th></th>\n",
              "      <th></th>\n",
              "      <th></th>\n",
              "      <th></th>\n",
              "      <th></th>\n",
              "      <th></th>\n",
              "      <th></th>\n",
              "      <th></th>\n",
              "      <th></th>\n",
              "      <th></th>\n",
              "      <th></th>\n",
              "      <th></th>\n",
              "    </tr>\n",
              "  </thead>\n",
              "  <tbody>\n",
              "    <tr>\n",
              "      <th>7247300</th>\n",
              "      <td>1</td>\n",
              "      <td>67</td>\n",
              "      <td>2</td>\n",
              "      <td>2.0</td>\n",
              "      <td>8.0</td>\n",
              "      <td>5.0</td>\n",
              "      <td>7.0</td>\n",
              "      <td>8.0</td>\n",
              "      <td>6.0</td>\n",
              "      <td>8.0</td>\n",
              "      <td>8.0</td>\n",
              "      <td>8.0</td>\n",
              "      <td>8.0</td>\n",
              "      <td>10.0</td>\n",
              "      <td>9.0</td>\n",
              "    </tr>\n",
              "    <tr>\n",
              "      <th>7247300</th>\n",
              "      <td>2</td>\n",
              "      <td>71</td>\n",
              "      <td>1</td>\n",
              "      <td>2.0</td>\n",
              "      <td>7.0</td>\n",
              "      <td>5.0</td>\n",
              "      <td>8.0</td>\n",
              "      <td>8.0</td>\n",
              "      <td>6.0</td>\n",
              "      <td>10.0</td>\n",
              "      <td>9.0</td>\n",
              "      <td>5.0</td>\n",
              "      <td>4.0</td>\n",
              "      <td>10.0</td>\n",
              "      <td>7.0</td>\n",
              "    </tr>\n",
              "    <tr>\n",
              "      <th>7247300</th>\n",
              "      <td>1</td>\n",
              "      <td>64</td>\n",
              "      <td>7</td>\n",
              "      <td>4.0</td>\n",
              "      <td>9.0</td>\n",
              "      <td>6.0</td>\n",
              "      <td>10.0</td>\n",
              "      <td>10.0</td>\n",
              "      <td>4.0</td>\n",
              "      <td>8.0</td>\n",
              "      <td>10.0</td>\n",
              "      <td>6.0</td>\n",
              "      <td>6.0</td>\n",
              "      <td>10.0</td>\n",
              "      <td>8.0</td>\n",
              "    </tr>\n",
              "    <tr>\n",
              "      <th>7247301</th>\n",
              "      <td>1</td>\n",
              "      <td>84</td>\n",
              "      <td>1</td>\n",
              "      <td>6.0</td>\n",
              "      <td>4.0</td>\n",
              "      <td>7.0</td>\n",
              "      <td>7.0</td>\n",
              "      <td>10.0</td>\n",
              "      <td>0.0</td>\n",
              "      <td>7.0</td>\n",
              "      <td>10.0</td>\n",
              "      <td>0.0</td>\n",
              "      <td>0.0</td>\n",
              "      <td>10.0</td>\n",
              "      <td>10.0</td>\n",
              "    </tr>\n",
              "    <tr>\n",
              "      <th>7247301</th>\n",
              "      <td>2</td>\n",
              "      <td>76</td>\n",
              "      <td>2</td>\n",
              "      <td>6.0</td>\n",
              "      <td>10.0</td>\n",
              "      <td>10.0</td>\n",
              "      <td>7.0</td>\n",
              "      <td>10.0</td>\n",
              "      <td>0.0</td>\n",
              "      <td>7.0</td>\n",
              "      <td>8.0</td>\n",
              "      <td>8.0</td>\n",
              "      <td>0.0</td>\n",
              "      <td>10.0</td>\n",
              "      <td>10.0</td>\n",
              "    </tr>\n",
              "    <tr>\n",
              "      <th>...</th>\n",
              "      <td>...</td>\n",
              "      <td>...</td>\n",
              "      <td>...</td>\n",
              "      <td>...</td>\n",
              "      <td>...</td>\n",
              "      <td>...</td>\n",
              "      <td>...</td>\n",
              "      <td>...</td>\n",
              "      <td>...</td>\n",
              "      <td>...</td>\n",
              "      <td>...</td>\n",
              "      <td>...</td>\n",
              "      <td>...</td>\n",
              "      <td>...</td>\n",
              "      <td>...</td>\n",
              "    </tr>\n",
              "    <tr>\n",
              "      <th>7406936</th>\n",
              "      <td>1</td>\n",
              "      <td>84</td>\n",
              "      <td>1</td>\n",
              "      <td>5.0</td>\n",
              "      <td>9.0</td>\n",
              "      <td>3.0</td>\n",
              "      <td>8.0</td>\n",
              "      <td>8.0</td>\n",
              "      <td>8.0</td>\n",
              "      <td>8.0</td>\n",
              "      <td>8.0</td>\n",
              "      <td>4.0</td>\n",
              "      <td>1.0</td>\n",
              "      <td>2.0</td>\n",
              "      <td>8.0</td>\n",
              "    </tr>\n",
              "    <tr>\n",
              "      <th>7406979</th>\n",
              "      <td>1</td>\n",
              "      <td>67</td>\n",
              "      <td>1</td>\n",
              "      <td>2.0</td>\n",
              "      <td>6.0</td>\n",
              "      <td>6.0</td>\n",
              "      <td>6.0</td>\n",
              "      <td>7.0</td>\n",
              "      <td>5.0</td>\n",
              "      <td>5.0</td>\n",
              "      <td>7.0</td>\n",
              "      <td>2.0</td>\n",
              "      <td>2.0</td>\n",
              "      <td>6.0</td>\n",
              "      <td>5.0</td>\n",
              "    </tr>\n",
              "    <tr>\n",
              "      <th>7406982</th>\n",
              "      <td>2</td>\n",
              "      <td>61</td>\n",
              "      <td>1</td>\n",
              "      <td>4.0</td>\n",
              "      <td>10.0</td>\n",
              "      <td>10.0</td>\n",
              "      <td>10.0</td>\n",
              "      <td>10.0</td>\n",
              "      <td>10.0</td>\n",
              "      <td>10.0</td>\n",
              "      <td>10.0</td>\n",
              "      <td>5.0</td>\n",
              "      <td>6.0</td>\n",
              "      <td>10.0</td>\n",
              "      <td>10.0</td>\n",
              "    </tr>\n",
              "    <tr>\n",
              "      <th>7406991</th>\n",
              "      <td>2</td>\n",
              "      <td>66</td>\n",
              "      <td>1</td>\n",
              "      <td>4.0</td>\n",
              "      <td>10.0</td>\n",
              "      <td>10.0</td>\n",
              "      <td>10.0</td>\n",
              "      <td>10.0</td>\n",
              "      <td>10.0</td>\n",
              "      <td>10.0</td>\n",
              "      <td>10.0</td>\n",
              "      <td>0.0</td>\n",
              "      <td>0.0</td>\n",
              "      <td>10.0</td>\n",
              "      <td>10.0</td>\n",
              "    </tr>\n",
              "    <tr>\n",
              "      <th>7407007</th>\n",
              "      <td>1</td>\n",
              "      <td>63</td>\n",
              "      <td>1</td>\n",
              "      <td>3.0</td>\n",
              "      <td>10.0</td>\n",
              "      <td>10.0</td>\n",
              "      <td>10.0</td>\n",
              "      <td>10.0</td>\n",
              "      <td>10.0</td>\n",
              "      <td>10.0</td>\n",
              "      <td>10.0</td>\n",
              "      <td>0.0</td>\n",
              "      <td>0.0</td>\n",
              "      <td>10.0</td>\n",
              "      <td>10.0</td>\n",
              "    </tr>\n",
              "  </tbody>\n",
              "</table>\n",
              "<p>30914 rows × 15 columns</p>\n",
              "</div>\n",
              "      <button class=\"colab-df-convert\" onclick=\"convertToInteractive('df-ba41a00c-2fea-4c4e-af78-01442a0bf22e')\"\n",
              "              title=\"Convert this dataframe to an interactive table.\"\n",
              "              style=\"display:none;\">\n",
              "        \n",
              "  <svg xmlns=\"http://www.w3.org/2000/svg\" height=\"24px\"viewBox=\"0 0 24 24\"\n",
              "       width=\"24px\">\n",
              "    <path d=\"M0 0h24v24H0V0z\" fill=\"none\"/>\n",
              "    <path d=\"M18.56 5.44l.94 2.06.94-2.06 2.06-.94-2.06-.94-.94-2.06-.94 2.06-2.06.94zm-11 1L8.5 8.5l.94-2.06 2.06-.94-2.06-.94L8.5 2.5l-.94 2.06-2.06.94zm10 10l.94 2.06.94-2.06 2.06-.94-2.06-.94-.94-2.06-.94 2.06-2.06.94z\"/><path d=\"M17.41 7.96l-1.37-1.37c-.4-.4-.92-.59-1.43-.59-.52 0-1.04.2-1.43.59L10.3 9.45l-7.72 7.72c-.78.78-.78 2.05 0 2.83L4 21.41c.39.39.9.59 1.41.59.51 0 1.02-.2 1.41-.59l7.78-7.78 2.81-2.81c.8-.78.8-2.07 0-2.86zM5.41 20L4 18.59l7.72-7.72 1.47 1.35L5.41 20z\"/>\n",
              "  </svg>\n",
              "      </button>\n",
              "      \n",
              "  <style>\n",
              "    .colab-df-container {\n",
              "      display:flex;\n",
              "      flex-wrap:wrap;\n",
              "      gap: 12px;\n",
              "    }\n",
              "\n",
              "    .colab-df-convert {\n",
              "      background-color: #E8F0FE;\n",
              "      border: none;\n",
              "      border-radius: 50%;\n",
              "      cursor: pointer;\n",
              "      display: none;\n",
              "      fill: #1967D2;\n",
              "      height: 32px;\n",
              "      padding: 0 0 0 0;\n",
              "      width: 32px;\n",
              "    }\n",
              "\n",
              "    .colab-df-convert:hover {\n",
              "      background-color: #E2EBFA;\n",
              "      box-shadow: 0px 1px 2px rgba(60, 64, 67, 0.3), 0px 1px 3px 1px rgba(60, 64, 67, 0.15);\n",
              "      fill: #174EA6;\n",
              "    }\n",
              "\n",
              "    [theme=dark] .colab-df-convert {\n",
              "      background-color: #3B4455;\n",
              "      fill: #D2E3FC;\n",
              "    }\n",
              "\n",
              "    [theme=dark] .colab-df-convert:hover {\n",
              "      background-color: #434B5C;\n",
              "      box-shadow: 0px 1px 3px 1px rgba(0, 0, 0, 0.15);\n",
              "      filter: drop-shadow(0px 1px 2px rgba(0, 0, 0, 0.3));\n",
              "      fill: #FFFFFF;\n",
              "    }\n",
              "  </style>\n",
              "\n",
              "      <script>\n",
              "        const buttonEl =\n",
              "          document.querySelector('#df-ba41a00c-2fea-4c4e-af78-01442a0bf22e button.colab-df-convert');\n",
              "        buttonEl.style.display =\n",
              "          google.colab.kernel.accessAllowed ? 'block' : 'none';\n",
              "\n",
              "        async function convertToInteractive(key) {\n",
              "          const element = document.querySelector('#df-ba41a00c-2fea-4c4e-af78-01442a0bf22e');\n",
              "          const dataTable =\n",
              "            await google.colab.kernel.invokeFunction('convertToInteractive',\n",
              "                                                     [key], {});\n",
              "          if (!dataTable) return;\n",
              "\n",
              "          const docLinkHtml = 'Like what you see? Visit the ' +\n",
              "            '<a target=\"_blank\" href=https://colab.research.google.com/notebooks/data_table.ipynb>data table notebook</a>'\n",
              "            + ' to learn more about interactive tables.';\n",
              "          element.innerHTML = '';\n",
              "          dataTable['output_type'] = 'display_data';\n",
              "          await google.colab.output.renderOutput(dataTable, element);\n",
              "          const docLink = document.createElement('div');\n",
              "          docLink.innerHTML = docLinkHtml;\n",
              "          element.appendChild(docLink);\n",
              "        }\n",
              "      </script>\n",
              "    </div>\n",
              "  </div>\n",
              "  "
            ]
          },
          "metadata": {},
          "execution_count": 47
        }
      ],
      "source": [
        "data = pd.read_csv(data_path.joinpath('data_60_try.csv'), index_col=0)\n",
        "data = data.drop(columns=['P767', 'P6081', 'P6083'])\n",
        "data = data[data['P1896'].le(10)]\n",
        "data"
      ]
    },
    {
      "cell_type": "code",
      "source": [
        "data.describe(include = 'all')"
      ],
      "metadata": {
        "id": "1cbDz92_rwQV",
        "colab": {
          "base_uri": "https://localhost:8080/",
          "height": 364
        },
        "outputId": "4f8fc955-8b44-4484-f17b-6e28bf11246c"
      },
      "execution_count": null,
      "outputs": [
        {
          "output_type": "execute_result",
          "data": {
            "text/plain": [
              "              P6020         P6040         P6051         P5502         P1895  \\\n",
              "count  30914.000000  30914.000000  30914.000000  30914.000000  30914.000000   \n",
              "mean       1.476742     69.733228      1.855308      4.129391      7.844342   \n",
              "std        0.499467      7.893443      1.925435      1.585653      1.818477   \n",
              "min        1.000000     60.000000      1.000000      1.000000      0.000000   \n",
              "25%        1.000000     63.000000      1.000000      3.000000      7.000000   \n",
              "50%        1.000000     68.000000      1.000000      4.000000      8.000000   \n",
              "75%        2.000000     75.000000      2.000000      6.000000      9.000000   \n",
              "max        2.000000    106.000000     14.000000      6.000000     10.000000   \n",
              "\n",
              "              P1896         P1897         P1898         P1899         P3175  \\\n",
              "count  30914.000000  30914.000000  30914.000000  30914.000000  30914.000000   \n",
              "mean       6.273565      7.126318      7.518632      6.916672      7.346671   \n",
              "std        2.538925      2.041634      1.968172      2.346324      1.930066   \n",
              "min        0.000000      0.000000      0.000000      0.000000      0.000000   \n",
              "25%        5.000000      6.000000      6.000000      6.000000      6.000000   \n",
              "50%        7.000000      7.000000      8.000000      7.000000      8.000000   \n",
              "75%        8.000000      8.000000      9.000000      8.000000      9.000000   \n",
              "max       10.000000     10.000000     10.000000     10.000000     10.000000   \n",
              "\n",
              "              P1901         P1903         P1904         P1905         P1927  \n",
              "count  30914.000000  30914.000000  30914.000000  30914.000000  30914.000000  \n",
              "mean       7.507343      2.972375      2.277188      8.273242      7.433816  \n",
              "std        2.093061      2.787416      2.555322      1.744760      1.856244  \n",
              "min        0.000000      0.000000      0.000000      0.000000      0.000000  \n",
              "25%        6.000000      0.000000      0.000000      7.000000      6.000000  \n",
              "50%        8.000000      2.000000      2.000000      8.000000      8.000000  \n",
              "75%        9.000000      5.000000      4.000000     10.000000      9.000000  \n",
              "max       10.000000     10.000000     10.000000     10.000000     10.000000  "
            ],
            "text/html": [
              "\n",
              "  <div id=\"df-ce2f5cfe-078f-4388-bbd6-05bbae766736\">\n",
              "    <div class=\"colab-df-container\">\n",
              "      <div>\n",
              "<style scoped>\n",
              "    .dataframe tbody tr th:only-of-type {\n",
              "        vertical-align: middle;\n",
              "    }\n",
              "\n",
              "    .dataframe tbody tr th {\n",
              "        vertical-align: top;\n",
              "    }\n",
              "\n",
              "    .dataframe thead th {\n",
              "        text-align: right;\n",
              "    }\n",
              "</style>\n",
              "<table border=\"1\" class=\"dataframe\">\n",
              "  <thead>\n",
              "    <tr style=\"text-align: right;\">\n",
              "      <th></th>\n",
              "      <th>P6020</th>\n",
              "      <th>P6040</th>\n",
              "      <th>P6051</th>\n",
              "      <th>P5502</th>\n",
              "      <th>P1895</th>\n",
              "      <th>P1896</th>\n",
              "      <th>P1897</th>\n",
              "      <th>P1898</th>\n",
              "      <th>P1899</th>\n",
              "      <th>P3175</th>\n",
              "      <th>P1901</th>\n",
              "      <th>P1903</th>\n",
              "      <th>P1904</th>\n",
              "      <th>P1905</th>\n",
              "      <th>P1927</th>\n",
              "    </tr>\n",
              "  </thead>\n",
              "  <tbody>\n",
              "    <tr>\n",
              "      <th>count</th>\n",
              "      <td>30914.000000</td>\n",
              "      <td>30914.000000</td>\n",
              "      <td>30914.000000</td>\n",
              "      <td>30914.000000</td>\n",
              "      <td>30914.000000</td>\n",
              "      <td>30914.000000</td>\n",
              "      <td>30914.000000</td>\n",
              "      <td>30914.000000</td>\n",
              "      <td>30914.000000</td>\n",
              "      <td>30914.000000</td>\n",
              "      <td>30914.000000</td>\n",
              "      <td>30914.000000</td>\n",
              "      <td>30914.000000</td>\n",
              "      <td>30914.000000</td>\n",
              "      <td>30914.000000</td>\n",
              "    </tr>\n",
              "    <tr>\n",
              "      <th>mean</th>\n",
              "      <td>1.476742</td>\n",
              "      <td>69.733228</td>\n",
              "      <td>1.855308</td>\n",
              "      <td>4.129391</td>\n",
              "      <td>7.844342</td>\n",
              "      <td>6.273565</td>\n",
              "      <td>7.126318</td>\n",
              "      <td>7.518632</td>\n",
              "      <td>6.916672</td>\n",
              "      <td>7.346671</td>\n",
              "      <td>7.507343</td>\n",
              "      <td>2.972375</td>\n",
              "      <td>2.277188</td>\n",
              "      <td>8.273242</td>\n",
              "      <td>7.433816</td>\n",
              "    </tr>\n",
              "    <tr>\n",
              "      <th>std</th>\n",
              "      <td>0.499467</td>\n",
              "      <td>7.893443</td>\n",
              "      <td>1.925435</td>\n",
              "      <td>1.585653</td>\n",
              "      <td>1.818477</td>\n",
              "      <td>2.538925</td>\n",
              "      <td>2.041634</td>\n",
              "      <td>1.968172</td>\n",
              "      <td>2.346324</td>\n",
              "      <td>1.930066</td>\n",
              "      <td>2.093061</td>\n",
              "      <td>2.787416</td>\n",
              "      <td>2.555322</td>\n",
              "      <td>1.744760</td>\n",
              "      <td>1.856244</td>\n",
              "    </tr>\n",
              "    <tr>\n",
              "      <th>min</th>\n",
              "      <td>1.000000</td>\n",
              "      <td>60.000000</td>\n",
              "      <td>1.000000</td>\n",
              "      <td>1.000000</td>\n",
              "      <td>0.000000</td>\n",
              "      <td>0.000000</td>\n",
              "      <td>0.000000</td>\n",
              "      <td>0.000000</td>\n",
              "      <td>0.000000</td>\n",
              "      <td>0.000000</td>\n",
              "      <td>0.000000</td>\n",
              "      <td>0.000000</td>\n",
              "      <td>0.000000</td>\n",
              "      <td>0.000000</td>\n",
              "      <td>0.000000</td>\n",
              "    </tr>\n",
              "    <tr>\n",
              "      <th>25%</th>\n",
              "      <td>1.000000</td>\n",
              "      <td>63.000000</td>\n",
              "      <td>1.000000</td>\n",
              "      <td>3.000000</td>\n",
              "      <td>7.000000</td>\n",
              "      <td>5.000000</td>\n",
              "      <td>6.000000</td>\n",
              "      <td>6.000000</td>\n",
              "      <td>6.000000</td>\n",
              "      <td>6.000000</td>\n",
              "      <td>6.000000</td>\n",
              "      <td>0.000000</td>\n",
              "      <td>0.000000</td>\n",
              "      <td>7.000000</td>\n",
              "      <td>6.000000</td>\n",
              "    </tr>\n",
              "    <tr>\n",
              "      <th>50%</th>\n",
              "      <td>1.000000</td>\n",
              "      <td>68.000000</td>\n",
              "      <td>1.000000</td>\n",
              "      <td>4.000000</td>\n",
              "      <td>8.000000</td>\n",
              "      <td>7.000000</td>\n",
              "      <td>7.000000</td>\n",
              "      <td>8.000000</td>\n",
              "      <td>7.000000</td>\n",
              "      <td>8.000000</td>\n",
              "      <td>8.000000</td>\n",
              "      <td>2.000000</td>\n",
              "      <td>2.000000</td>\n",
              "      <td>8.000000</td>\n",
              "      <td>8.000000</td>\n",
              "    </tr>\n",
              "    <tr>\n",
              "      <th>75%</th>\n",
              "      <td>2.000000</td>\n",
              "      <td>75.000000</td>\n",
              "      <td>2.000000</td>\n",
              "      <td>6.000000</td>\n",
              "      <td>9.000000</td>\n",
              "      <td>8.000000</td>\n",
              "      <td>8.000000</td>\n",
              "      <td>9.000000</td>\n",
              "      <td>8.000000</td>\n",
              "      <td>9.000000</td>\n",
              "      <td>9.000000</td>\n",
              "      <td>5.000000</td>\n",
              "      <td>4.000000</td>\n",
              "      <td>10.000000</td>\n",
              "      <td>9.000000</td>\n",
              "    </tr>\n",
              "    <tr>\n",
              "      <th>max</th>\n",
              "      <td>2.000000</td>\n",
              "      <td>106.000000</td>\n",
              "      <td>14.000000</td>\n",
              "      <td>6.000000</td>\n",
              "      <td>10.000000</td>\n",
              "      <td>10.000000</td>\n",
              "      <td>10.000000</td>\n",
              "      <td>10.000000</td>\n",
              "      <td>10.000000</td>\n",
              "      <td>10.000000</td>\n",
              "      <td>10.000000</td>\n",
              "      <td>10.000000</td>\n",
              "      <td>10.000000</td>\n",
              "      <td>10.000000</td>\n",
              "      <td>10.000000</td>\n",
              "    </tr>\n",
              "  </tbody>\n",
              "</table>\n",
              "</div>\n",
              "      <button class=\"colab-df-convert\" onclick=\"convertToInteractive('df-ce2f5cfe-078f-4388-bbd6-05bbae766736')\"\n",
              "              title=\"Convert this dataframe to an interactive table.\"\n",
              "              style=\"display:none;\">\n",
              "        \n",
              "  <svg xmlns=\"http://www.w3.org/2000/svg\" height=\"24px\"viewBox=\"0 0 24 24\"\n",
              "       width=\"24px\">\n",
              "    <path d=\"M0 0h24v24H0V0z\" fill=\"none\"/>\n",
              "    <path d=\"M18.56 5.44l.94 2.06.94-2.06 2.06-.94-2.06-.94-.94-2.06-.94 2.06-2.06.94zm-11 1L8.5 8.5l.94-2.06 2.06-.94-2.06-.94L8.5 2.5l-.94 2.06-2.06.94zm10 10l.94 2.06.94-2.06 2.06-.94-2.06-.94-.94-2.06-.94 2.06-2.06.94z\"/><path d=\"M17.41 7.96l-1.37-1.37c-.4-.4-.92-.59-1.43-.59-.52 0-1.04.2-1.43.59L10.3 9.45l-7.72 7.72c-.78.78-.78 2.05 0 2.83L4 21.41c.39.39.9.59 1.41.59.51 0 1.02-.2 1.41-.59l7.78-7.78 2.81-2.81c.8-.78.8-2.07 0-2.86zM5.41 20L4 18.59l7.72-7.72 1.47 1.35L5.41 20z\"/>\n",
              "  </svg>\n",
              "      </button>\n",
              "      \n",
              "  <style>\n",
              "    .colab-df-container {\n",
              "      display:flex;\n",
              "      flex-wrap:wrap;\n",
              "      gap: 12px;\n",
              "    }\n",
              "\n",
              "    .colab-df-convert {\n",
              "      background-color: #E8F0FE;\n",
              "      border: none;\n",
              "      border-radius: 50%;\n",
              "      cursor: pointer;\n",
              "      display: none;\n",
              "      fill: #1967D2;\n",
              "      height: 32px;\n",
              "      padding: 0 0 0 0;\n",
              "      width: 32px;\n",
              "    }\n",
              "\n",
              "    .colab-df-convert:hover {\n",
              "      background-color: #E2EBFA;\n",
              "      box-shadow: 0px 1px 2px rgba(60, 64, 67, 0.3), 0px 1px 3px 1px rgba(60, 64, 67, 0.15);\n",
              "      fill: #174EA6;\n",
              "    }\n",
              "\n",
              "    [theme=dark] .colab-df-convert {\n",
              "      background-color: #3B4455;\n",
              "      fill: #D2E3FC;\n",
              "    }\n",
              "\n",
              "    [theme=dark] .colab-df-convert:hover {\n",
              "      background-color: #434B5C;\n",
              "      box-shadow: 0px 1px 3px 1px rgba(0, 0, 0, 0.15);\n",
              "      filter: drop-shadow(0px 1px 2px rgba(0, 0, 0, 0.3));\n",
              "      fill: #FFFFFF;\n",
              "    }\n",
              "  </style>\n",
              "\n",
              "      <script>\n",
              "        const buttonEl =\n",
              "          document.querySelector('#df-ce2f5cfe-078f-4388-bbd6-05bbae766736 button.colab-df-convert');\n",
              "        buttonEl.style.display =\n",
              "          google.colab.kernel.accessAllowed ? 'block' : 'none';\n",
              "\n",
              "        async function convertToInteractive(key) {\n",
              "          const element = document.querySelector('#df-ce2f5cfe-078f-4388-bbd6-05bbae766736');\n",
              "          const dataTable =\n",
              "            await google.colab.kernel.invokeFunction('convertToInteractive',\n",
              "                                                     [key], {});\n",
              "          if (!dataTable) return;\n",
              "\n",
              "          const docLinkHtml = 'Like what you see? Visit the ' +\n",
              "            '<a target=\"_blank\" href=https://colab.research.google.com/notebooks/data_table.ipynb>data table notebook</a>'\n",
              "            + ' to learn more about interactive tables.';\n",
              "          element.innerHTML = '';\n",
              "          dataTable['output_type'] = 'display_data';\n",
              "          await google.colab.output.renderOutput(dataTable, element);\n",
              "          const docLink = document.createElement('div');\n",
              "          docLink.innerHTML = docLinkHtml;\n",
              "          element.appendChild(docLink);\n",
              "        }\n",
              "      </script>\n",
              "    </div>\n",
              "  </div>\n",
              "  "
            ]
          },
          "metadata": {},
          "execution_count": 48
        }
      ]
    },
    {
      "cell_type": "code",
      "source": [
        "data.isnull().sum()"
      ],
      "metadata": {
        "id": "YLlWbThSCUfo",
        "colab": {
          "base_uri": "https://localhost:8080/"
        },
        "outputId": "78cfa1bb-bd7d-49ef-91cc-fe15516f9cd9"
      },
      "execution_count": null,
      "outputs": [
        {
          "output_type": "execute_result",
          "data": {
            "text/plain": [
              "P6020    0\n",
              "P6040    0\n",
              "P6051    0\n",
              "P5502    0\n",
              "P1895    0\n",
              "P1896    0\n",
              "P1897    0\n",
              "P1898    0\n",
              "P1899    0\n",
              "P3175    0\n",
              "P1901    0\n",
              "P1903    0\n",
              "P1904    0\n",
              "P1905    0\n",
              "P1927    0\n",
              "dtype: int64"
            ]
          },
          "metadata": {},
          "execution_count": 49
        }
      ]
    },
    {
      "cell_type": "markdown",
      "source": [
        "## Modelos\n"
      ],
      "metadata": {
        "id": "xJPbW5CKxjXX"
      }
    },
    {
      "cell_type": "code",
      "source": [
        "X = data.copy().drop(columns=['P1895','P6051','P5502'])\n",
        "y = data.copy().filter(items=['P1895'])\n"
      ],
      "metadata": {
        "id": "YQG15eAprao6"
      },
      "execution_count": null,
      "outputs": []
    },
    {
      "cell_type": "code",
      "source": [
        "test_size = 0.2\n",
        "random_state = 10"
      ],
      "metadata": {
        "id": "2HC_0PGBrcQe"
      },
      "execution_count": null,
      "outputs": []
    },
    {
      "cell_type": "code",
      "source": [
        "X"
      ],
      "metadata": {
        "id": "Vzw30zaYAgKY",
        "colab": {
          "base_uri": "https://localhost:8080/",
          "height": 455
        },
        "outputId": "5a9723da-097a-4e46-d9b6-46b730d4798d"
      },
      "execution_count": null,
      "outputs": [
        {
          "output_type": "execute_result",
          "data": {
            "text/plain": [
              "            P6020  P6040  P1896  P1897  P1898  P1899  P3175  P1901  P1903  \\\n",
              "DIRECTORIO                                                                  \n",
              "7247300         1     67    5.0    7.0    8.0    6.0    8.0    8.0    8.0   \n",
              "7247300         2     71    5.0    8.0    8.0    6.0   10.0    9.0    5.0   \n",
              "7247300         1     64    6.0   10.0   10.0    4.0    8.0   10.0    6.0   \n",
              "7247301         1     84    7.0    7.0   10.0    0.0    7.0   10.0    0.0   \n",
              "7247301         2     76   10.0    7.0   10.0    0.0    7.0    8.0    8.0   \n",
              "...           ...    ...    ...    ...    ...    ...    ...    ...    ...   \n",
              "7406936         1     84    3.0    8.0    8.0    8.0    8.0    8.0    4.0   \n",
              "7406979         1     67    6.0    6.0    7.0    5.0    5.0    7.0    2.0   \n",
              "7406982         2     61   10.0   10.0   10.0   10.0   10.0   10.0    5.0   \n",
              "7406991         2     66   10.0   10.0   10.0   10.0   10.0   10.0    0.0   \n",
              "7407007         1     63   10.0   10.0   10.0   10.0   10.0   10.0    0.0   \n",
              "\n",
              "            P1904  P1905  P1927  \n",
              "DIRECTORIO                       \n",
              "7247300       8.0   10.0    9.0  \n",
              "7247300       4.0   10.0    7.0  \n",
              "7247300       6.0   10.0    8.0  \n",
              "7247301       0.0   10.0   10.0  \n",
              "7247301       0.0   10.0   10.0  \n",
              "...           ...    ...    ...  \n",
              "7406936       1.0    2.0    8.0  \n",
              "7406979       2.0    6.0    5.0  \n",
              "7406982       6.0   10.0   10.0  \n",
              "7406991       0.0   10.0   10.0  \n",
              "7407007       0.0   10.0   10.0  \n",
              "\n",
              "[30914 rows x 12 columns]"
            ],
            "text/html": [
              "\n",
              "  <div id=\"df-ecd186d2-0bf0-4aa1-b004-ecf93119a331\">\n",
              "    <div class=\"colab-df-container\">\n",
              "      <div>\n",
              "<style scoped>\n",
              "    .dataframe tbody tr th:only-of-type {\n",
              "        vertical-align: middle;\n",
              "    }\n",
              "\n",
              "    .dataframe tbody tr th {\n",
              "        vertical-align: top;\n",
              "    }\n",
              "\n",
              "    .dataframe thead th {\n",
              "        text-align: right;\n",
              "    }\n",
              "</style>\n",
              "<table border=\"1\" class=\"dataframe\">\n",
              "  <thead>\n",
              "    <tr style=\"text-align: right;\">\n",
              "      <th></th>\n",
              "      <th>P6020</th>\n",
              "      <th>P6040</th>\n",
              "      <th>P1896</th>\n",
              "      <th>P1897</th>\n",
              "      <th>P1898</th>\n",
              "      <th>P1899</th>\n",
              "      <th>P3175</th>\n",
              "      <th>P1901</th>\n",
              "      <th>P1903</th>\n",
              "      <th>P1904</th>\n",
              "      <th>P1905</th>\n",
              "      <th>P1927</th>\n",
              "    </tr>\n",
              "    <tr>\n",
              "      <th>DIRECTORIO</th>\n",
              "      <th></th>\n",
              "      <th></th>\n",
              "      <th></th>\n",
              "      <th></th>\n",
              "      <th></th>\n",
              "      <th></th>\n",
              "      <th></th>\n",
              "      <th></th>\n",
              "      <th></th>\n",
              "      <th></th>\n",
              "      <th></th>\n",
              "      <th></th>\n",
              "    </tr>\n",
              "  </thead>\n",
              "  <tbody>\n",
              "    <tr>\n",
              "      <th>7247300</th>\n",
              "      <td>1</td>\n",
              "      <td>67</td>\n",
              "      <td>5.0</td>\n",
              "      <td>7.0</td>\n",
              "      <td>8.0</td>\n",
              "      <td>6.0</td>\n",
              "      <td>8.0</td>\n",
              "      <td>8.0</td>\n",
              "      <td>8.0</td>\n",
              "      <td>8.0</td>\n",
              "      <td>10.0</td>\n",
              "      <td>9.0</td>\n",
              "    </tr>\n",
              "    <tr>\n",
              "      <th>7247300</th>\n",
              "      <td>2</td>\n",
              "      <td>71</td>\n",
              "      <td>5.0</td>\n",
              "      <td>8.0</td>\n",
              "      <td>8.0</td>\n",
              "      <td>6.0</td>\n",
              "      <td>10.0</td>\n",
              "      <td>9.0</td>\n",
              "      <td>5.0</td>\n",
              "      <td>4.0</td>\n",
              "      <td>10.0</td>\n",
              "      <td>7.0</td>\n",
              "    </tr>\n",
              "    <tr>\n",
              "      <th>7247300</th>\n",
              "      <td>1</td>\n",
              "      <td>64</td>\n",
              "      <td>6.0</td>\n",
              "      <td>10.0</td>\n",
              "      <td>10.0</td>\n",
              "      <td>4.0</td>\n",
              "      <td>8.0</td>\n",
              "      <td>10.0</td>\n",
              "      <td>6.0</td>\n",
              "      <td>6.0</td>\n",
              "      <td>10.0</td>\n",
              "      <td>8.0</td>\n",
              "    </tr>\n",
              "    <tr>\n",
              "      <th>7247301</th>\n",
              "      <td>1</td>\n",
              "      <td>84</td>\n",
              "      <td>7.0</td>\n",
              "      <td>7.0</td>\n",
              "      <td>10.0</td>\n",
              "      <td>0.0</td>\n",
              "      <td>7.0</td>\n",
              "      <td>10.0</td>\n",
              "      <td>0.0</td>\n",
              "      <td>0.0</td>\n",
              "      <td>10.0</td>\n",
              "      <td>10.0</td>\n",
              "    </tr>\n",
              "    <tr>\n",
              "      <th>7247301</th>\n",
              "      <td>2</td>\n",
              "      <td>76</td>\n",
              "      <td>10.0</td>\n",
              "      <td>7.0</td>\n",
              "      <td>10.0</td>\n",
              "      <td>0.0</td>\n",
              "      <td>7.0</td>\n",
              "      <td>8.0</td>\n",
              "      <td>8.0</td>\n",
              "      <td>0.0</td>\n",
              "      <td>10.0</td>\n",
              "      <td>10.0</td>\n",
              "    </tr>\n",
              "    <tr>\n",
              "      <th>...</th>\n",
              "      <td>...</td>\n",
              "      <td>...</td>\n",
              "      <td>...</td>\n",
              "      <td>...</td>\n",
              "      <td>...</td>\n",
              "      <td>...</td>\n",
              "      <td>...</td>\n",
              "      <td>...</td>\n",
              "      <td>...</td>\n",
              "      <td>...</td>\n",
              "      <td>...</td>\n",
              "      <td>...</td>\n",
              "    </tr>\n",
              "    <tr>\n",
              "      <th>7406936</th>\n",
              "      <td>1</td>\n",
              "      <td>84</td>\n",
              "      <td>3.0</td>\n",
              "      <td>8.0</td>\n",
              "      <td>8.0</td>\n",
              "      <td>8.0</td>\n",
              "      <td>8.0</td>\n",
              "      <td>8.0</td>\n",
              "      <td>4.0</td>\n",
              "      <td>1.0</td>\n",
              "      <td>2.0</td>\n",
              "      <td>8.0</td>\n",
              "    </tr>\n",
              "    <tr>\n",
              "      <th>7406979</th>\n",
              "      <td>1</td>\n",
              "      <td>67</td>\n",
              "      <td>6.0</td>\n",
              "      <td>6.0</td>\n",
              "      <td>7.0</td>\n",
              "      <td>5.0</td>\n",
              "      <td>5.0</td>\n",
              "      <td>7.0</td>\n",
              "      <td>2.0</td>\n",
              "      <td>2.0</td>\n",
              "      <td>6.0</td>\n",
              "      <td>5.0</td>\n",
              "    </tr>\n",
              "    <tr>\n",
              "      <th>7406982</th>\n",
              "      <td>2</td>\n",
              "      <td>61</td>\n",
              "      <td>10.0</td>\n",
              "      <td>10.0</td>\n",
              "      <td>10.0</td>\n",
              "      <td>10.0</td>\n",
              "      <td>10.0</td>\n",
              "      <td>10.0</td>\n",
              "      <td>5.0</td>\n",
              "      <td>6.0</td>\n",
              "      <td>10.0</td>\n",
              "      <td>10.0</td>\n",
              "    </tr>\n",
              "    <tr>\n",
              "      <th>7406991</th>\n",
              "      <td>2</td>\n",
              "      <td>66</td>\n",
              "      <td>10.0</td>\n",
              "      <td>10.0</td>\n",
              "      <td>10.0</td>\n",
              "      <td>10.0</td>\n",
              "      <td>10.0</td>\n",
              "      <td>10.0</td>\n",
              "      <td>0.0</td>\n",
              "      <td>0.0</td>\n",
              "      <td>10.0</td>\n",
              "      <td>10.0</td>\n",
              "    </tr>\n",
              "    <tr>\n",
              "      <th>7407007</th>\n",
              "      <td>1</td>\n",
              "      <td>63</td>\n",
              "      <td>10.0</td>\n",
              "      <td>10.0</td>\n",
              "      <td>10.0</td>\n",
              "      <td>10.0</td>\n",
              "      <td>10.0</td>\n",
              "      <td>10.0</td>\n",
              "      <td>0.0</td>\n",
              "      <td>0.0</td>\n",
              "      <td>10.0</td>\n",
              "      <td>10.0</td>\n",
              "    </tr>\n",
              "  </tbody>\n",
              "</table>\n",
              "<p>30914 rows × 12 columns</p>\n",
              "</div>\n",
              "      <button class=\"colab-df-convert\" onclick=\"convertToInteractive('df-ecd186d2-0bf0-4aa1-b004-ecf93119a331')\"\n",
              "              title=\"Convert this dataframe to an interactive table.\"\n",
              "              style=\"display:none;\">\n",
              "        \n",
              "  <svg xmlns=\"http://www.w3.org/2000/svg\" height=\"24px\"viewBox=\"0 0 24 24\"\n",
              "       width=\"24px\">\n",
              "    <path d=\"M0 0h24v24H0V0z\" fill=\"none\"/>\n",
              "    <path d=\"M18.56 5.44l.94 2.06.94-2.06 2.06-.94-2.06-.94-.94-2.06-.94 2.06-2.06.94zm-11 1L8.5 8.5l.94-2.06 2.06-.94-2.06-.94L8.5 2.5l-.94 2.06-2.06.94zm10 10l.94 2.06.94-2.06 2.06-.94-2.06-.94-.94-2.06-.94 2.06-2.06.94z\"/><path d=\"M17.41 7.96l-1.37-1.37c-.4-.4-.92-.59-1.43-.59-.52 0-1.04.2-1.43.59L10.3 9.45l-7.72 7.72c-.78.78-.78 2.05 0 2.83L4 21.41c.39.39.9.59 1.41.59.51 0 1.02-.2 1.41-.59l7.78-7.78 2.81-2.81c.8-.78.8-2.07 0-2.86zM5.41 20L4 18.59l7.72-7.72 1.47 1.35L5.41 20z\"/>\n",
              "  </svg>\n",
              "      </button>\n",
              "      \n",
              "  <style>\n",
              "    .colab-df-container {\n",
              "      display:flex;\n",
              "      flex-wrap:wrap;\n",
              "      gap: 12px;\n",
              "    }\n",
              "\n",
              "    .colab-df-convert {\n",
              "      background-color: #E8F0FE;\n",
              "      border: none;\n",
              "      border-radius: 50%;\n",
              "      cursor: pointer;\n",
              "      display: none;\n",
              "      fill: #1967D2;\n",
              "      height: 32px;\n",
              "      padding: 0 0 0 0;\n",
              "      width: 32px;\n",
              "    }\n",
              "\n",
              "    .colab-df-convert:hover {\n",
              "      background-color: #E2EBFA;\n",
              "      box-shadow: 0px 1px 2px rgba(60, 64, 67, 0.3), 0px 1px 3px 1px rgba(60, 64, 67, 0.15);\n",
              "      fill: #174EA6;\n",
              "    }\n",
              "\n",
              "    [theme=dark] .colab-df-convert {\n",
              "      background-color: #3B4455;\n",
              "      fill: #D2E3FC;\n",
              "    }\n",
              "\n",
              "    [theme=dark] .colab-df-convert:hover {\n",
              "      background-color: #434B5C;\n",
              "      box-shadow: 0px 1px 3px 1px rgba(0, 0, 0, 0.15);\n",
              "      filter: drop-shadow(0px 1px 2px rgba(0, 0, 0, 0.3));\n",
              "      fill: #FFFFFF;\n",
              "    }\n",
              "  </style>\n",
              "\n",
              "      <script>\n",
              "        const buttonEl =\n",
              "          document.querySelector('#df-ecd186d2-0bf0-4aa1-b004-ecf93119a331 button.colab-df-convert');\n",
              "        buttonEl.style.display =\n",
              "          google.colab.kernel.accessAllowed ? 'block' : 'none';\n",
              "\n",
              "        async function convertToInteractive(key) {\n",
              "          const element = document.querySelector('#df-ecd186d2-0bf0-4aa1-b004-ecf93119a331');\n",
              "          const dataTable =\n",
              "            await google.colab.kernel.invokeFunction('convertToInteractive',\n",
              "                                                     [key], {});\n",
              "          if (!dataTable) return;\n",
              "\n",
              "          const docLinkHtml = 'Like what you see? Visit the ' +\n",
              "            '<a target=\"_blank\" href=https://colab.research.google.com/notebooks/data_table.ipynb>data table notebook</a>'\n",
              "            + ' to learn more about interactive tables.';\n",
              "          element.innerHTML = '';\n",
              "          dataTable['output_type'] = 'display_data';\n",
              "          await google.colab.output.renderOutput(dataTable, element);\n",
              "          const docLink = document.createElement('div');\n",
              "          docLink.innerHTML = docLinkHtml;\n",
              "          element.appendChild(docLink);\n",
              "        }\n",
              "      </script>\n",
              "    </div>\n",
              "  </div>\n",
              "  "
            ]
          },
          "metadata": {},
          "execution_count": 52
        }
      ]
    },
    {
      "cell_type": "code",
      "source": [
        "X_train, X_test, y_train, y_test = train_test_split(X, y, test_size=test_size, random_state=random_state)"
      ],
      "metadata": {
        "id": "_WaW1rYxrdUt"
      },
      "execution_count": null,
      "outputs": []
    },
    {
      "cell_type": "markdown",
      "source": [
        "### Referencias\n",
        "\n",
        "Referencia de *scikit-learn:* https://scikit-learn.org/stable/modules/cross_validation.html"
      ],
      "metadata": {
        "id": "YBluTtFOzJBT"
      }
    },
    {
      "cell_type": "markdown",
      "source": [
        "![image.png](data:image/png;base64,iVBORw0KGgoAAAANSUhEUgAAB+8AAAVSCAYAAADHJ7k2AAAgAElEQVR4nOzdd2BT1/n/8Y/kvcHYBmywjcFm7x1W2AnZzSRk76ZNm3777Uqb/rq/3UnTrGY3ZC9GEmYIECDsYaYHeOCJjQ14ykPS7w8KhejKliXZMvB+/RWfc+9zH11kwj3PueeYJNkFAABwYfi5pD/4OgkAAHBReFHSw75OAgAAwAWFknr7OgkAQPsz+zoBAAAAAAAAAAAAAAAudRTvAQAAAAAAAAAAAADwMYr3AAAAAAAAAAAAAAD4GMV7AAAAAAAAAAAAAAB8jOI9AAAAAAAAAAAAAAA+RvEeAAAAAAAAAAAAAAAfo3gPAAAAAAAAAAAAAICP+bd2wJVXPar4+NSOyAUAAFzili5+SuXlR32dBgAAgJL7DNfMWff4Og0AAHAJyMrapg3r3/V1GgCATqDV4n18fKr6pY7piFwAAMAlLig4zNcpAAAASJLCw7swHgIAADrEqVNlvk4BANBJsGw+AAAAAAAAAAAAAAA+RvEeAAAAAAAAAAAAAAAfo3gPAAAAAAAAAAAAAICPUbwHAAAAAAAAAAAAAMDHKN4DAAAAAAAAAAAAAOBjFO8BAAAAAAAAAAAAAPAxivcAAAAAAAAAAAAAAPgYxXsAAAAAAAAAAAAAAHyM4j0AAAAAAAAAAAAAAD5G8R4AAAAAAAAAAAAAAB+jeA8AAAAAAAAAAAAAgI9RvAcAAAAAAAAAAAAAwMco3gMAAAAAAAAAAAAA4GMU7wEAAAAAAAAAAAAA8DGK9wAAAAAAAAAAAAAA+BjFewAAAAAAAAAAAAAAfIziPQAAAAAAAAAAAAAAPkbxHgAAAAAAAAAAAAAAH6N4DwAAAAAAAAAAAACAj1G8BwAAAAAAAAAAAADAxyjeAwAAAAAAAAAAAADgYxTvAQAAAAAAAAAAAADwMYr3AAAAAAAAAAAAAAD4GMV7AAAAAAAAAAAAAAB8jOI9AAAAAAAAAAAAAAA+RvEeAAAAAAAAAAAAAAAfo3gPAAAAAAAAAAAAAICPUbwHAAAAAAAAAAAAAMDHKN4DAAAAAAAAAAAAAOBjFO8BAAAAAAAAAAAAAPAxivcAAAAAAAAAAAAAAPgYxXsAAAAAAAAAAAAAAHyM4j0AAAAAAAAAAAAAAD5G8R4AAAAAAAAAAAAAAB+jeA8AAAAAAAAAAAAAgI9RvAcAAAAAAAAAAAAAwMco3gMAAAAAAAAAAAAA4GMU7wEAAAAAAAAAAAAA8DGK9wAAAAAAAAAAAAAA+BjFewAAAAAAAAAAAAAAfIziPQAAAAAAAAAAAAAAPkbxHgAAAAAAAAAAAAAAH6N4DwAAAAAAAAAAAACAj1G8BwAAAAAAAAAAAADAxyjeAwAAAAAAAAAAAADgYxTvAQAAAAAAAAAAAADwMYr3AAAAAAAAAAAAAAD4GMV7AAAAAAAAAAAAAAB8jOI9AAAAAAAAAAAAAAA+RvEeAAAAAAAAAAAAAAAfo3gPAAAAAAAAAAAAAICPUbwHAAAAAAAAAAAAAMDHKN4DAAAAAAAAAAAAAOBjFO8BAAAAAAAAAAAAAPAxivcAAAAAAAAAAAAAAPgYxXsAAAAAAAAAAAAAAHyM4j0AAAAAAAAAAAAAAD5G8R4AAAAAAAAAAAAAAB+jeA8AAAAAAAAAAAAAgI9RvAcAAAAAAAAAAAAAwMco3gMAAAAAAAAAAAAA4GMU7wEAAAAAAAAAAAAA8DGK9wAAAAAAAAAAAAAA+BjFewAAAAAAAAAAAAAAfIziPQAAAAAAAAAAAAAAPkbxHgAAAAAAAAAAAAAAH6N4DwAAAAAAAAAAAACAj1G8BwAAAAAAAAAAAADAxyjeAwAAAAAAAAAAAADgYxTvAQAAAAAAAAAAAADwMYr3AAAAAAAAAAAAAAD4GMV7AAAAAAAAAAAAAAB8jOI9AAAAAAAAAAAAAAA+RvEeAAAAAAAAAAAAAAAf8/d1ApeivNx0VVdXunVuYGCwgoPDFRwcpuDgcEVExshsZg4GAAAAAABAZ5KdvV2W+po2nxcUHCazySyz2ayQ0EiFhXVRWFgX+fkxjAcAAABc7PhXvw+s/XKhsjK3eiVWYGCw4hP6q1fvAUpJGanUtHHy9w/wSmwAAAAAAAC4Z/nnL6ikONtr8cLDoxUb11sxsYnq2bOvkvsMV48eKTKZeKkDAAAAuFhQvL/ANTZalJebrrzcdG386n2FhERowsTrNXnqrQoNjfJ1esAlb+eOZSovO+rQPmr0FYrrnuyDjAAAAAAAF6KamkrV1FQqNyf9bFtwSLj69x+vocOmK63/BAUEBPkwQ9+x2WxateIlh3aTyaS5Vz7sg4xwoThRWaKtW5Y4tHfp2kMTJl7vg4wAAMCljuL9Raa+vlprv1yobVuX6prrfqDhI2b6OiXgkrZv7zplZmx2aE9MGkLxHgAAAADgEUt9jdL3rFH6njUKCg7T6DFXauq02xUVFevr1DqU3W7V+nVvO7RTvEdrTp48ZvjdSUoaQvEeAAD4BOtqXaRqa0/pvXd+pRXLXpTdbvd1OgAAAAAAAGhHDZZafb3xI/3tz/P1xerX1Nzc6OuUAAAAALQRxfuL3Pp1b2vVipd9nQYAAAAAAAA6QFNTg9asfl3/eOoelZYc8XU6AAAAANqAZfM7kejoeH33+6+0eExjQ73q66t16lSZ8vP36+CBjTpWmtPiOevXvaXEpMEaOGiSN9MFAAAAAABAGyUmDdE99/25xWMs9TWyyy5Lfa2qq4+rqqpCZcdyVVJyWEfzD6ipqaHV6xwvL9Dzzz6im299QkOHTfdW+gAAAADaEcX7TsRsNiskJKLFY0JCIhTVJU49evZV/wETNXvOA8rO3q4ln/xNlZXFhufY7XYtXfyUUtPGyt8/sD1SBwAAAAAAgAvMZj+Xxn/+K/W8vubmJuXm7tGeXau1f99aNTZanMZparLovXd+JbvdpmHDZ3qSNgAAAIAOwLL5FziTyaS0tHF67PuvKqXvSKfHnTx5TLt2rujAzAAAAAAAAOBt/v4BSk0dq5tvfUI//tmHmnr57fLzC3B6vM1m0/vv/la5OXs6MEsAAAAA7qB4f5EIDgnXgjt/p27dEpwes3P7sg7MCAAAAAAAAO0pLKyLrpz3bT32/VfUo2dfp8fZbFa9986vVVNzogOzAwAAANBWFO8vIqGhkbpi3iNO+wsKDvKQBgAAAAAAcJHp3iNFjzz6vFJTxzo9pqrquJZ99lwHZgUAAACgrSjeX2QGD5mqrl17GPbZ7XYVHD3gletYrc2yWpu9Eqsj2Ww2NTc3tUvspibne8x1Vs3NTbLZrO0Yv7HdYnuqoaFOdrvN12l0Ck1Nlnb9Hnhbe/yuNTbWy263ez0uAAAAAHSUoKBQ3XnPH5SYONjpMXt2r1JBwaF2z8Vqbd/xhgtJZx9Da2y0yGbrfOMjVmuzmpoafJ0GAABAh/P3dQLwLpPJrH6pY7R922eG/ZWVJS7HamysV17ePhUVZqrsWJ7KyvJ06uQxNTTUnS2ABwaGKDQ0UiGhkYqLS1Sv3oPUv/94xcYleeXznGG1Nqm0JMeh3c/P3+mycOXlR5VxcJNyc9NVdixPJ0+WyWr9b97R0T214M7fKSa2t0s52Gw2lZYcUX7+Ph0rzVV5eb6OlxeooaFODQ11kk7vOxcSEqGQkAh16dpDCb36q1+/0UpKHiY/P+/+upWX5aux0bGIGRuXqMDAEIf2qqrjOnhgg7KztutYaY5Onjx29uExMDBE3bsnKzF5qEaMnK1evQa0OZ/CgkPav2+9CgoOqexYrmprT8putysgIEjh4V0V172PBg2erEGDpyg8vGvbP7CbysuPKitzq47mH1BZWZ5OVJac/fOSJH//QEVH91Rc9z5K7jNMgwdPURcnE2BaY7U2q7TkyHltFkuN4bGVFUUqKsx0OXZoaKS6Rvd0K68zqk6VKzNji/Ly9unYsRydqCxRXV3V2X4/P3916dJdsXGJSkoeqoEDJ6l7jxSPrnmuiooiWeod70d0t3iFhEQ4tDc21isrc6uyMreqpOSIKo4Xqr6+WpJkNvspMjJGY8dfoxkz73bp+lZrsw5nb1d+/n6VFGfr2LE8WeprzsaUTv8dGhwcpvDwrurStYe6dO2unj37qXfvgeoZn+r132MAAAAA8KaAgGDdfsdv9PRTdxs+f9ntdq1d86buuuf/PL5WQ0Od8nL3qrgoS8eOnR4nOXmiTI2N/x03CgoKVUhIhELDohQXl6TevQcpbcAExcT08ujatbUndfLEsbM/W23Oi+NtefaWnD+jtuT8MbRclZXlOx1DCw2LVGxsknr3Hqi0ARMUG5vYpmu5w263KefI7tN/XsXZOlaaq7q6U7JYas97sSEkJEKhoVHq0rW7unbtoR49UtQrcZASEtLk7x/YLrk1NVmUlblNubnpKi7KUmVFkaqqKs7LKyKym7p166XevQcqNW2s+vYbLbPZz63rnThRqrraU2d/Pl5eYHhcQ2N9m787PXr2ZdwAAAB4zCSpxVcN73/wKfVLHdNB6VwaXn/1f5WVudWhPSaml37443c9jr9l8yItWfR3w74ZM+/W7LkPOD23vCxfe9O/VFbmVhUWZrg9Szo+IU2TJt+skaPmyGTyfIGHUyfL9Mc/3OjQHhERrSeeXHJeW37+fn2x6lUdzt7RatzvfO/lFgvV9fXVOrD/Kx08sEG5uemGD76uCA/vqjFjr9aUabcqNDTKrRjf9PyzD6vg6EGH9ocffU7JycPO/lxdVaGVK17Snt2rz05eaE1K35G69vofqHv3Pq0em5mxWatWvqziomyXYvv7B2jCxBs054oHFRAQ7NI5bWW1Nit9z2pt2vihy3mdYTKZ1LffaE2fcZdS+o5s07lVVcf1f7+7oU3nuGrkqDm65bYn23ye3W5XZsZmbfjqfeXm7GnzagPxCWm6fPodGjL0cplMpjZf/1xvvfkLHdi/3qF9/oJfadjwmWd/tlhqtX7tW9qyZXGrv3Ou3JeamhNa9+VC7dm9WrW1J91LXqcHwdL6j9fQYdM1aPBkBQQEuR0Lzj33z4dU2PKbQD+X9IcOSgcAAFzcXpT0sLPOIUOnacGdv+vAdHCxeebp+1RS7PhMmtxnuB7+9rPteu2tW5Zo8Sd/Newzm8363x+/59YE8WPHcrU3/UtlZ25VUVGW2+NGvXsP1KQpt2jY8BlujRu1NPblqQV3/lZDhl7e6nFlZfnam75G2ZnbPBpDS+jVX5Mm36wRI2d7ZQztXBZLrb5a97Z27lyhqlPlbsfx8wtQv9QxGjpsuoYMmaqg4DCPcysry9eG9e9qb/oaw5dTWhIeHq3LJt2oyybfpKCg0Dad+8F7v9PuXSvbdI6rfvbzTxQZFdsusXHx27ljmT76oMWJVYWSXHsLDQBwQWMq4EWopeJw7TkzS89VWHBIn3z8F8OHSncUF2Xpw/d/r00bP9Attz3pUhHYU1Zrkz5b+k9t3bLY5eWvnR1ntTbr7YW/UFbmNpcL3i2pqTmhdWsXasuWRbrm2u9r1OgrPI7piv371uvjj/7Y5kkHOUd269l/PKCbb33ivKLquRoa6rRk0d/b/MDT3NykjRs+0OHDO/XAQ08rLKxLm85vTc6RXVr8yd9UXn7UrfPtdrsOZ+/Q4ewdGj5ipq69/n8UGhrp1Rw7SmlpjhZ//Bfl5+93O0ZxUZbeeeuX6pMyQjfd8jNFR8d7MUNH2dnb9dH7f1BV1XGXjm/tV33b1qVasezF896ud1dTk0UH9q/Xgf3r9dAjz6pPynCPYwIAAABAexgz9iptWP+uKiqKHPpsNpt27VqpmbPucTleXt5eLfnkbyotdVwV0R0FBYf03ju/1qYNp8eNXF0VsTMoOHpQiz7+i0pKDnslXlFhpj5473fauOED3Xrbk4rrnuyVuPv2rtWnS55WdXWlx7Gs1iZlZmxWZsZmBQQEadjwGW7HstTXaOWKf2nrlqVub2dYU1OpVStf1pYti3XDt36kAQMnup0PAABAZ8Oe9xehgADny1g1NxvvFVVeftRrhftzFRdl67lnHlJmxmavxz5XY6NFr73yv9qyeVHb9q12cqzNZtWhg5u8Urg/l6W+Rh++/3stXfx0u++3vmXzIr3z1i/dXi2gublR773za+1N/9Khr7b2lF568bsezVQuLTmiV1/6wXnLtnvCZrNp1cqX9cpLj7tduP+m9D1r9Pw/H1J5Wb5X4nWkbVuX6rlnHvCocH+u3Jw9eu6ZB5VzZLdX4hnZtXO53nj1Ry4X7iW1+Hu0YtmLWvTxX7xSuAcAAACAC4mfn7/GT7jOaX/Goa/bFO9Yaa7XCvfnKig4pGefeUBHDu/0euz2UlaW77XC/bmKi7L03D8fVGbGFo9jbdzwgd59+/95pXDvTcVF2XrmH/dpy+bFXhkXqzpVrjff+Im+/OINL2QHAADQOVC8vwi1VAwN9fJbzq5oarJo4b9/rtycPe0S32az6b13fqWcI7vafK695V0j2s3mrz/Wss+fb7f4+/au9coEAbvdro8++IPKjuWdbWtstOjVl3/Q5uXojZSUHNaSRX/zOI7NZtUH7/1Ga9e82bbJGy6oqCjSy//6ntcmBHSE1ate1aKP/3J2Xz1vqaur0huv/dit37XWZGZs1scf/smNZQaN/7zXr3tb69e93aZI/v4Bbbw2AAAAAHReI0fPdboMe1FhhmpqTnRwRsYaGur0xms/Ntwa8FLT2GjRwn8/obzcdLdj7Nq5XJ9/+s82jY90xPNwbs4e/euFR3WissSrce12u1avelWrVrzk1bgAAAC+wrL5F6GW/hEcFub6fut+fgFKSh6i+IQ09ezZT7GxiQoNi1JwcLgCAoLU2FgnS32tSktzVHD0gPbtXasTJ0oNY1mtTXrnrV/q8R8ubFMOrti04X0dOrjJoT00NEpp/ccroVd/hf0n78ZGiyoripSXm64jR3a3udDbvXsf9U4cpJ7xqerZs6/CwrsqJDhcQcFhslqbVF9frZMnSlVYkKGMjM3Ky013eo2NX72v5ORhGjxkqluf25nKimItWfR3h8J9z/hUDRw0Sb16DVBYeBcFBoaotuakiosytX/feh09esAwXlNTg5YsfkoPPvwP2e12ffzh/zms0hAQEKzUtDFK6z9e0dHxiojopqbmRtVUV+jw4Z3au2eN00GBvelfavSYeUrrP97tz/zxh39S+p41Tvv9/QM1aPAUpfQdod69ByksvKuCg8PU2GhRbc0J5efvV8ahTcrM2GL451VdXak3X/+JHn3sJYWERDi9TnBwmK6Y98h5bTu3LzMs/I8afUWblsJzdeuJ9evebnHGudlsVmraePVLHaPExEGKjIxRSGikmpsbT38firOUcWiz9u9bb7jyRFOTRW+9+Qs9+t1/eW1Zw5rqE1qy6O8OhXuz2azevQepX+oYRUbFKjw8WjabVbW1J1VUlKmsjC2Gi2dUVBRpzerXnV6vS9ceGjpsulJSRio2rre6dOkuP7/TAxVWa7MaGmpVdeq4jh3LVWnJEeXmpqvg6AHZbO27WgYAAAAAeFN4eLTiE1JVVJjp0Ge321VUmKH+A9xfbtzfP0BJyUMVn9BfPXv2U0xs7/+Mv4TJ3//0uFF9fY1KS46o4OhB7d37pU6dLDOM1dzcqLcW/kI/+OFCBbuwn3pi4pDznr9tNpth8dZkMmnulQ+36XN175HSpuOlM2NoQxWfkKr4+FTFxCYqNDRSISHh592LY6W5Kjh6QHv3rtVJF8bQ2rqNX23tSX3+6XNO+8PDozVs+HT17TdGsXGJ6tq1h/z9T6/gabNZZbHUqrq6QmXH8lRamqP8vL3Ky90rq7W5TXl8U2Fhhl5/9UdqanK+t32Pnn01cOBlSk4ZoeiuPRUaFik/vwDV1JxQRUWRsjK3am/6GlVXVRiev/bLhYrulqAxY69qMZdhw2eoe4//jrGcqCzR1i1LHI7r0rWHJky83sVPeFqQC99dAACA1lC8vwgdaWFZ6/Dw6BbPNZnMGjBwooYOm6GBAy9TcEi402MDA4MVHh6tmNjeGjJ0mq6Y94gOHdykpUueNnwYq6k5oRXLX9SNN/3E9Q/TCoulTqtXvXZeW1SXOF1x5SMaNnymzGbni0tUVR2X2ezX6jW690jRyFFzNHjINMXE9GrhyGCFhEQoOjpeKX1Haerlt6u8LF+fLX1GWVnbDM9YuvgppfUfp4CA4FbzcNWyz55TY2P92Z/j4pJ01bXfU1raOMPj+/YbpSnT5mtv+pf6+MM/nnfuGTlHdunI4V2qqio/bxl9k8msMWPnafbcBxURYfzdGjhosmbPvl9LlzztdJn9lSv+5XbxfsNX72nXzuWGfWaznyZPuUVTpt1m+N0PCgpVRES0evTsq/ETrlNRYaaWLP674Wz/48cLtXTx07p1/pNOcwkMDNG0yxec15abk25YvB88ZJoGDZ7c2sdrk4xDX2vlcuczzUeNvkIzZt2tbt0cv8dBQaEKC+uiuO7JGjFyjiori/X5p//UwQMbHY6tr6/W++/9Vt/+zost/o656ss1b5y3YojZbNaYsVdr1pz7nX6vpNODM2VleQ7t69e+paYmxy1C/PwCNO+qRzV+4vXy8zP+35+fn79CQ6MUGhqlHj37aviIWZJOD4BkHPpaWzYvVmHBobZ+RAAAAADwiZS+owyL95JUVJTV5uK92WzWwEGTNXTYdA0YMLHFYuWZcaPY2EQNHTZdV8z7tg7sX69Pl/7DsABbdapcq1e+rGuue7zVPOITUhWfkHr2Z6u1yemb1998TvcWk8msgYMu+8+9cG0MLTY28ewY2sEDG/Xpkqd16lS5w/HV1ZVaufxfuuHGH7Upp683fqS6ulMO7WazWTNm3aup0+YrICDI8Fyz2U+hoZEKDY1U9+59NHTYdEmnt4DMzNyibVuXurWVXk1NpRa+8TOnhfv4hDRdceXDSnUybhUUFKpu3RKUljZOc+Y+qA1fvacvv3jDcOW+pYufUnKf4S2O3w0YeJkGDLzs7M+5OXsMi/dRkTHt9t0BAABoCcX7i0xlZbGOtrDHdUJCmmG7n5+/xoy7WlOnzVdsbKJb1zaZzP95u3mUFv77CcOltXfvXKEZM+9W16493LrGN33zH/79B0zQgjt/61IxPDIypsX+pOShunz6Heo/YKJMJpNb+cXGJeme+/+q9eve1srl/3Lor6o6rm1blmrSlFvcim+ktvbk2f9OTRunO+76vQIDW78fw4bPUFhYF732yv8YPgCtW7tQpSVHzv7s5+evm255QiNGzm41dnBIuG6+9QnZbFal7/nCob+4KFulpTnq0cbZ7WXH8pw+nEdERGv+gl+rT8oIl+Ml9Oqvhx75p95/97fav2+dQ/+e3as0dtxVSuk7qk15doS6uip98tGfDLdKCAwM1rdu+snZQrQroqPjdcddf9CK5S/qq3XvOPQXFhzStq1LNGHiDR7lLUm1tf8dWAgKDtPd9/xJfVKGt3qe2Wx2+M7YbDbDCQeSdMttv9Cw4TPcyjEsrItGj5mn0WPmKS9vr7pExbkVBwAAAAA6Unx8P6d9526R15qAgECNn3Cdpkybr27dEtzKxWw2a+iw6erbb7TefOOnys/b53DMtq2fatr0O1ods/Elf/8AjR13taZevqCVlzycM5nMGjxkqvr2HaU3//0zw60md+5Ypukz71KXLt1djms0liFJV13zPV026Ua3cg0OCdfwEbM0fMQsFRdlt3mJ/SWL/q6qquOGfRMmXq+rrvmeyzEDA4M1c9Y96tVrgN5565cOL6A0NTXo0yVP6977/9qmHIELRHdJ7C/SeV0lKdfXSQC4OFC8v8h8sepVp3tGh4dHn7cs1LmGDZ+pYcNneiWH4OAw3X3vH/Xi899xWF7dam3Wju2fa/ac+71yrXOl9R+vO+/+w9nlrz0REBCkRx71zp70JpNJl0+/Qw2WOq1bu9Chf9u2T71avD8jKXmo7rrnj216qOrbb5TGjb9GWzYvdug7nL3jvJ9vvPlnLhXuzzCZzLr2+h8oO2vbeW9Zn7F75wpdedWjLseTpE+X/sNwX/eg4DDd9+BTbZ4MIJ1eYn/+gl/ppRcfMxxIWL3yVT38aOcr3n+x6jVVV1c6tJvNZs1f8BsNGNj2pRBNJpOunPdt1dac0M4djqsbrP1yocaMvdpre+MFBATr/gefUu/eA92OUVpy5LwJLGckJQ91u3D/TcnJw7wSBwAAAADaW1yc8y3YjN74dmbU6Cs1avSV3khJoaGRuue+v+iF5x5xmEDQ3NyoXTtX6PLpd3jlWu3hTCHbG4JDwnX3vX/Si88/et4LE9LpMbSd25dp5ux7XYpVXVWhsrJ8h/Zu3Xpp4mXf8kq+56524Irs7O3av2+9Yd+Eidfruht+6FYe/QdM0C23/VxvL3zSYfvDrMytys/fr6SkIW7FBjqxAEnuD5qhvRkvawIAbvB8vWN0Gtu3fqrdu1Y57R8ydJpMpo75Iw8MDNF1N/yP4RvrB5z8o90ToaGRuvnWJ7xSuG8vM2ffazg7vexYnuHDlSeCgsN0621PulVUnTb9jlZXGhgxco5GjprT5tihoZEaN/5aw77c3PQ2xcrN2eMwoeCMW279uVuF+zPMZj/Nv/1XCgwMcejLy9urkpLDbsduD6dOlmn7tqWGfbPnPuBW4f5c117/P4qOjndorzpVrgP7v/Io9rlmz73fo8K9JFVXG8/md7b8HgAAAABczCKjujntO3XyWAdmcr7g4DBd62R5fG8+Z14IgoJCnY6h7d/v+hhadbXxXvCpaWPcXlHSU6tXvmLYnpw8zKXtEVoyeMg0jRl3tWHflq8/8Sg2AACAL1G8vwjYbDatWf26Fi9yviSUyWTWZZNv6sCspKSkIerde5BDe1lZviyWWq9ea/bcBw33NO9M/P0DnC4xXnD0gFevddmkG9U1uqdb53bp0l29eg1w2m82+8ZTMAMAACAASURBVOmKeY+4m5qGDL3csL20JEc2m+OS785sdvIg1rffaA0aPMWt3M4V1SVOY8dfY9jX0iQZX9i27VPDFQi6RvfU5Cm3eRw/MDBY06Yb7/O2Z/dKj+NLUvfufTRpsucrUBi9dS+dnjgCAAAAAJeasLAuMpuNh//qLTUdnM35+vYbrR49+zq0lxRnq6mpwQcZ+U5y8jDDsZiyY7lqaKhzKUaN0+fhKI9yc1dhYYYKjjqu8G0ymXTVtY/JbPbz+BozZ94jPz/HhWX371uvxkaLwRkAAACdH8vmX8CqqyuVcXCTNm54v9U3t8eNv9btvew90X/ABB39RmHabrepoOCgUlPHeuUagYEhbr0F7gv9B0zQ558969B+NP+ARo+Z55Vr+Pn5a8KE6z2KkZg8VAUFhwz7Bg+ZqqioWLdjxyekKiAgWE1N5z9ENTVZdPx4geLiklqNYamvcbqv+cxZ97id2zdNvOxb2rThA4f2zIzNmtfGJf7b0y6DJe0ladrlC7y2pP2o0Vdo2efPq+EbE2+OHN6t5uZG+fsHehR/7LirnQ4otYW/v/EKVSdOlHocGwAAoAU/l3SZr5NAmzzg6wSAjmAymeXvH+SwN7gkNXeCAvmAARMNl4svLspSUvJQH2XlG/0HTHQYi7HZbCosyFDffq1v3xfg9Hm4xCv5tdWuHSsM29P6T2jxpZG2iOoSp4GDJmv/vnXntTc3NyrnyC4NGMj/mgEAwIWH4n0nUlVVoXfe+mWLx9hsVtXVVenUyTJVVha7FDc2NlFXevCmtCe6xfQ2bC8qzPBa8X7wkKkKCgr1Sqz2Ft0tQSaTWXb7+W+YFxZmeO0aCb0GKNKD4rokdY9Ldto3cNBkj2KbTGbFxiWquCjLoa+66rhLxfusrG2yWh3fNI+I7KbkPt7bj7xbtwRFR8c7/K6Vl+Wrvr5aISERXruWu0pLjuikwVKHZrOfhgyd5rXr+PsHqk+fYco4tPm89qYmi4qLspTowV5yZrNZI0bN9TRFSVJ4eFfD9vQ9X2jmrHsumL8rAADABWe0JO/MxkVHCfN1AkBHCQgINC7eNzfJbrd12BaLRrrF9DJsLyzMuOSK987uRVGha8X78PAuhu0HD25SdXWlIiI6dsXKjEObDNuHDZ/u1ev0Sx3jULyXpPy8fRTvAQDABYnifSfS2FivfXvXejVmVJc43X3fnxUU7JtxCWeFtJoa46W83OHNYm178/PzV0hIhOrqTp3XXltzwmvX8MbDbWRUTAvx3S/SnhEVFWdYvHd1O4WcI7sM2/sPmOj1QYek5CEOxXu73a6S4sNK6TvSq9dyx5HDOw3beycOUliY8YO7uxKThjoU7yWpuPiwR8X7mNhEhYV5Zxm/hF79ZTb7yWazntdedapcby98UvMX/KpTTLoAAAAAgI5itxu3+2of9HM5Gzfy5jjJhcL5GJpr96JbTG+FhESovr76vPYGS60WvvFT3Xn3/ykispvHebqisrLY6Qp43i6oJzsZByspOezV6wAAAHQUivcXscTEwbr9jt8oqkucR3Gs1iaVHctTaWmujpcfVU3NCTU2WtTYWG84c/tclnrj/dPq66oN292RkNDfa7FcdaKyRKWlOTp2LEdVpyrU2FinxkaLwwOSEaO9yuqd3Cd3dO/ex+MYgYHGbycHBAQpOjre4/hBQSGG7a4W740K/5LUwwuf/ZsiIo0nMlRXV3j9Wu4oLs42bO/RI8Xr14psp3vhzd/hoKBQ9UkZriOHHSd4ZGdt01//NF8TJ31LY8bMU5euPbx2XQAAAADorJqbjZfH9/ML8MoE+ObmM+NGR3T8eIFqa06eHTNqbd/xb77ccIYr4yudkfMxtLpW74Wzz+zqvTCbzeo/YIL27F7t0FdQcEh/+8vtGj/hOo0Zd3W7b63pbNwmIrKbQkO9M3n/vzGNxyqqTh336nUAAAA6CsX7i1BYWJSmz7hLEyfdKLPZz60YDZZaHTiwQXvT1+hw9g5Zrc1ezdFi8d5DWEys8dL83mS325Sbk6696Wu0f9861dYaP1y6q7GxXlZrs/z8PP+V9MZbxYGBwYbtwSHhHseWTk8CMNLU1PKD7BllZflO+4oKM93KyZnm5kbD9rq6Kq9ex11lx/IM2/39A71+LyzOBhI8vBfe/h2eNv0Ow+K9dHpgaM3q17Vm9euKi0tSato4paaNVZ+UkU6/9wAAAABwobLZrGpqMn6udfZs7gpLfY0OHPhK6XvW6MjhnQ6rn3nKmy85tLf2HkNry72YdvkCpe/5QnaD5RYaGur01fp39dX6d9WtW4JS08YqNW2cUvqOUrCXV+x0NlYRERHt9bEKu+yGW1ReqBNAAAAAKN5fJPz9A5WYNEQjRszSiFGzFRDgXhGqsdGidV++qU0bP2r1rXpPGL197g6TyazAQOO3uL1l3961WrXiJR0/Xtiu12loqFNoaKTHcbzxwOVs6byQYO8U753N7Dd6uPwmS32N0+/PZ5/+06O82sLTgrW3nDpVZti+aeOH2rTxww7JwdOJDMFe+l6dkZo6VqPHzNPOHctaPK6sLF9lZfnatPFDmc1+io9PVWLyEKWkjFSflOFefxsAAAAAADpaTc0Jh6LmGe488zQ01GnNF29oy9eLXJ6A7w5vjRu1p8ZGi9au+be+3vRRq2/Ve3SdNtyLHj37atrlC7Ru7VstHldRUaSKzUXasnmxzGaz4rr3UVLSUPVJGaG+/UYqPDzao5xPnSo3bC8uytazzzzgUWxXdZaXLgAAANqK4n0nEhAQ3Op+4iaTWSEh4QoODldwSLhiuvVSQq8B6t6jj8dvbZeWHNFbb/5CFRXtW6SWXCvSuiIoOLTd9mhrbLTo4w//T3vTv2yX+N/krXti9nNvtQWXYru5koM3ubrXW3urt3SOtwBqak76OgVZPLwXwcHG2zR44vpv/a/q66t18MAGl4632awqLMxQYWGGvt74kUwmsxJ69deIEbM0bMQsRUR4NnABAAAAAL5Q5aSIKklRXWLbFKuoMFNvL/yF073MvclbYyTtpaTksN5+8xeqqChq92vZnEy+cGbOFQ+qpvakdmz7zLX4NptKS46otOSItm5ZLOn0JIDhI2ZqxMg56tKle5tz7gxjN95c5RIAAKAj8a+XTiQqKkb3P/iUT65dWJihV156XA0u7jn+TYGBwfLzC3Bot9ms7TpbOsA/sF3iNjZa9OpLj+vo0QNune/nF+B0CW6LpdbprHe0ztky9h2tMwwkNDc3dYrvkt3mWQ7+7fB77O8foDvu+r02bfhAa754XZY2/t1mt9tUWHBIhQWHtOzz5zVi5BzNnH2PoqPjvZ4rAAAAALSXY8dynfZFRcW5HCc/b59ee+V/3H7DPDAwxLCIarU2t+vKj+2hoOCQXn3pcbfHu9p7DM1kMuvGm36i5OShWrHsRbcK6WeK+atWvKLBQ6Zo1uz71L1HisvnNzc1tPma7aEzjN0AAAC0FcV7qLb2lN5846ctFu67du2hPikjlJg0RNHd4hUVFaeIiGgFB4e3+OZ7Xm66/vXCd9sj7Xb1yUd/bLFwHxQUqj4pw5WYNFQ9evRRVFR3RUZ1U3BwhPz9HR/AzvWH316n6upKb6d8yWi2Nvk6hU7DZvPuPnoXG5PJpMlTb9WoMVdo08aPtHPHMp06abzNQEtsNqt27Vyu9D2rNWfug5oybX67rfgBAAAAAN5UXJzttK+Hi8XY6qoKLfz3z1os3EdHx/9nnGSIoqPjFRUVq/CIaIWERLQYOytrm15/5Ycu5dEZ1NSc0Juv/7TFIru7Y2i5OXv00ouPeS3X0WPmaeiw6fp608fauf1zt7aDtNtt2r9vvQ7s36Cp0+ZrzhUPurQqo5XxCqA9NEj62tdJXCISJKX5OgkAly6K99CKZS+ouqrCsK9XrwGaPfcBpaaNc6tYZbNZPU2vw2VmbFH6njWGfSEhEZo1536NHnOlgoLcW+rbar3w7kln0tJqCzNn36uAgKAOyaNXrwEdcp2WtPTG+oSJ16tL1x4dkkfXrj075DruCg2N0uw592vW7HuVm5Ouw9nbdeTwLhUWZrTp7yirtVnLl72g4uJs3Tr/SZlM5nbMGgAAAAA8d+TwLqd98Qmu1SU+/+xZ1daeMuxLShqiWXPuV99+o90bN7rAxkiWf/6CamqMX8jo3XugZs19QKmpYzvNGFpgYIgun36HLp9+h44ePaDszG06cmSnCo4eVHOz6y9H2O02rV/3toqLsnT3fX8yXDngXP7+xmMzKX1HKq3/+DZ9Bk90hu0fAS8qlzTD10lcIh6V9JyvkwBw6aJ4f4mrOlWuXTtXGPYNHzFLN93yRKtvkrekvr7a7XN9Zd2XCw3bu0b31P0PPqVu3RLcjm2322WxXHj3pDMJbGHSxLBhMxTXPbkDs/Ets9lP/v6BhlsJ9O03RkOGTvNBVp2XyWRWSt+RSuk7UtLp7TEKjh5Qbs4eZWfvUGHBIZcGS9L3fKGuXXtq7pUPtXfKAAAAAOC2kyePqczJsvlms59Lk9IrKoq0N/1Lw77RY+bphht/5NGe4hfSuNHJk8e0Z/dKw74RI+foplt+2mpRuyXtfS8SEwcrMXGwZs6+V83NjSosOKScnD06cnin8vP2y+rCSofZ2du16OO/6qZbftbicc62kuzSpbumXb7ArfwBAAAuFRTvL3Hpe74wLFbFxPTSjTf/xKPCvSTV1V04D2GSdKKyRPn5+xzaTSazbr3tSY8K95LUYKmVzcP9wS91kZHdZDKZDfd6r6wsuaSK99LpPQorKhyXvjtRWeyDbC4sgYHB6ttvtPr2G61Zc+6XxVKrnCO7lZ21Tfv2fun0zRJJ2vDVuxoz7iqP/04AAAAAgPaya8dyp3t+JyUPUXBIeKsx9uxebfj83b17H13/rf/1qHAvSfV1VR6d35FOj6E53ovY2ER966Yfe1S4l6S6DrwX/v6BSu4zXMl9hmvGzLvV2GhRbs4eHc7err1716rqVLnTc3ftXK7xE65T78RBTo+Jioo1bD9xosTj3AEAAC52FO8vcUeO7DZsn3jZjQoIMJ4l2xYVbuyn5Us5ObsNH2yTkocqKXmox/ErKoo8jnGp8/MLUGRUjOHe5eVleRowcKIPsvKd6OiehsX7svKjPsjmwhYcHKZBgydr0ODJuuqax7Rr53KtXP6S6uoci/hWa7M2bfhQ117/uA8yBQAAFwGrpAJfJ3GJc329aOAC1NzcqK1blzrtHzhwkktxco4YL7s/afLNHr/wIUkVlRfOOEmOky0IJk76lle28PPlGFpgYLD6D5ig/gMm6MqrHtW+vWu17PPnDYv4drtdG756T7ff8Run8aK7xRu2l5cdld1ud2tbAQAAgEsFxftLXKWTt3MHDLrMK/GPHt3vlTgdxVlx3VsF4fz8C+t+dFYJCWmGxfusrG2aMm2+DzLynfiENGVnb3doz87cygOxB/z9AzRu/LVK6TtKLz73bdXWnnQ4Jjtrqw8yAwAAF4lSSX18nQSAi9eWrxc5fXvazy9AI0bNdSlOZYWTcaOBXho3yrtwxkmcjqG5OBGiNZ1lzMhs9tPwEbPUJ2WEXnz+UZ2odHxbPjt7u2w2q9M95eMT+hu219ScUHFRlhJ6GfcDAABAMvs6AfhWbc0JhzaTyaTISOPlrdqiqcmiwoJMj+N0pBqD+yE5X+6rrXJzjFc6QNskJRmvgpCbk66GhroOzqZlZrPxX7NGyw66Iyl5iGH7qVPlKi057JVrXMpiYnpp1pz7DPuOHy9Ug6W2gzMCAAAAgJZVVBRq9apXnPYPHTZdERHRLsUyGifx8/NXeERXt/M7w2KpVYmXnltNJj/Dyet2u91rz99G9+L0GFqMx7EbGy0qKuxcY2iRkTG66urvGPZZ6mucTuyQpPj4VKerEWRkbPZKft7ibAKCzUvfGwAAgLaieH8Js9lsqq933JPebPb3ytJnu3etUlOTxeM4Hamu1nh/scDAUI9jV1dX6tDBrz2OA2ng4MmG7VZrk7Zv+6yDs2lZUJDxd6epqcEr8fuljnG6xcXmzYu8co1L3eAh05z21Ri8kQ8AAAAAvtJgqdXbbz6pxkbj8Riz2U/TZ9zpUqzGxno1Nzc6tPsHBMlk8nxIcef2z2W1NnscRzo9cd7f37hYbPQZ2spqbZbFYPK2n5+//Pw8X9h0184VXsnT2/oPuMzpGKHRCnVnBAQEKTVtrGHfjm2fqbm58+xc4mzcprmp8/15AACASwPF+0vY6QebQId2q7VJlvoaj2Lb7TZ9veljj2L4QmCgcRHUaIWCttqyeZGs1s7zcHIhi41NdLrE2vq1bzsdpPAFZw+BRg/97ggICNbgIVMN+3btWO50WT+4LiIi2ulgjLcGmgAAAADAU3V1VXrj9Z+0+Db7+AnXKa57skvx/P2Ni/SNDXUeF5ptNqs2f+3dCefBwU6ev+s9f/728zN+0aW5ucnjFdnsdps2b/rIoxjtxd8/QGHhxqsstDbGNXzEbMP2kyePafu2Tz3OzVucjdvUWzwbGwUAAHAXxftLXFhYF8P2/Px9HsXdtOFDHSvN8SiGL4SFO7sfnu07Vl5+VBvWv+tRDJzvskk3GrbX1FRq+efPdXA2zoWGRRm2V1YUee0aEyd9y7Ddam3Woo//IpvN6rVrXYoaLLVOi/TeWB4RAAAAADxVUHBILzz3iPJy050e061bguZc8ZDLMc1ms0JDIxza7Xa7juYfcCvPM9atfUsVFYUexfim0FDj5++KSu88f4c6HUPzbMxow1fvq6ws36MY7cVut6u+zniVyohWnocHD5nqdBvKL1a9phOVJR7n5w2hoZGGWy5UnSrjJRwAAOATFO8vcTGxvQ3bt2/73O2YJSWHtXLFS26f70sxMcb348CBr1Tn5GGlNc3Njfrwvd95bZl0nDZi5BzFxSUZ9m3ZvFhbtyxpl+s2Nze26c+yR48Uw/a8vL3eSkmJiYM1cNAkw77D2Tu07LP2mcxgt9s63Z7vRluBeCo7e7the0hIhIKDw7x+PQAAAABw1amTZVqy6G968blHdLy8wOlxAQFBuv2O37T5GcbZOMmO7e5vWVdYcEhffvFvt893pkdPJ8/fud55/nZ+LzwYQyvO1uqVL7t9/rna43k4P3+f4eqGZrOfoqLiWjzXz89fM2ffZ9hXV3dKb/77Z2psrPdKnt/UlnsRFBymqC7dHdptNpvHk1QAAADcQfH+EpeaNs6w/eCBr3To4MY2xysqzNSrLz3eKffpckWak/thqa/R55/+U3a7vU3xGhvr9fqrP1JBwSFvpIdzmM1+uua6xw1nR0vSkkV/1xerX5PdbvPK9errq7V2zZv60x9ubtPs8J49+xm2FxZkqODoQa/kJknzrv6u020fNm38UB998AevTSBpamrQ1i2L9bc/L9Dhwzu8EtNbliz6m9547UfKObLLK/EaG+u1auUrhn0DB032yjUAAAAAoC0aLLU6sH+93nrz5/rLn27Tls2LZbM5f/b19w/QHXf9XvEJaW2+lrNxoz27v3A60bklR/P367VXftgubzT3jE81bN+x7XOvjFM528N9/751yjj0dZvjFRYc0isv/cBr+7+v+eINvfTid5Vx6Os2j18ZsVqbtfzzFwz7+vUb7XQM4lyjx8xT794DDftKS47ohee+rePHvbcCw+HsHXrtlR/qs6X/bNN58fHGYzdfd9LtDAAAwMXNeBNfXDIGDZqsFctedChw2u12vfv2r3XLbT/XkKGXtxrHZrNp29YlWrH8X+e9ievnF3BBLTHVNbqnesanqqQ426Fv184VCgwM0VXXfFf+/oGtxsrP36/Fn/xVpSVHzraZTCaZzX7sk+0l/VLHaNKUW7Txq/cd+ux2m9asfl05R3Zr9pz71SdlRJvjW61Nys7aof371mnf3rVuzQiPiU1UdHS8w97zdrtN/379x5p75SMaOmy6x29wx8T00tXXfl+ffPQnw/6dO5arsDBTs+fcp0GDpxjuW9gSu92m/Lx92rdvnfbuWaOamhMe5dte7HYpM2OLMjO2KD4hTSNHzdXQYdOdLtXXkhMnSvXOW79UuZPlC0eOmuNpugAAAAAuQc3NjQ7PiN9kt9tkqa9VU5NFVVUVqqo6rrJjuSouzlZJcXaLxfpzhYRE6LYFv3L6skJrBg2ZojVfvO5QDLbbbXp74ZO69bYnna4Edy6rtVlbvv5Eq1a+fN6b3N4cN0rrP14rlr3o0F5RUaiX//V9zZn7gPqkjJDZ7OdW/EGDp2jVipedjKH9P91y2y80eMi0VuPYbFZt3bJYK5e/pIaGurPt3rgXuTnpys1JV1xckkaOnquhw2aoW7eENsepqanU++/+VkedbAkwYtRcl+KYzWbdevsv9c+n7z/vs55RWnJEzz7zgGbMuEvjJ1ynIDfGRioqCrV/33rt2b367BjcqNFXtilGWv/xOnjA8SWm/fvW6/13f6Op0+Y7nRwCAADgbRTvL3Exsb01fMQs7dm9yqGvqcmitxc+qf4DJmjCxG+pT8pwBQWFnndMRUWRDh3YqJ07lqn0G3vcm81mzZpzr1Yuv7CW0J81+14t/PcThn1bNi/S4eztumzyzRo0aLKiupy/RFiDpVaZmVu0N32tDh74yuHhdtLkm5W+5wtVV1e2W/6XmivnfVsVxwt16OAmw/7cnD166cXH1Lv3QA0YNEl9+oxQfEKqw3fZZrOqpuaESktzVFyUpaLCTB0+vEOW+hqP8jOZTBoz9iqtMlgGr7b2lD756E9a9PGf1bVrT4WGRTkt4vftN1qXT7+jxWuNHXe1ysryDCczSNKx0hy99eYvFBubqCFDpym5z3D16j1QoaGR5x1nt9tVW3tS5WX5KirKUnFRlg4f3qHqqgoXP3XnUPyf3Jd99qwSk4Yope9IJSSkKSGhv7p07WF4Tm3tKR3N36f9+75S+p4vnA6cDBo8Rf1Sx7Rn+gAAAAAuUoUFh/SXP97a7tfp1WuA5t/xa0VHx7sdo2fPfho0eIoO7P/Koa/BUqs33/ipBg6arAkTr1dyn+EOb2MfP16ogwc2aOf2zx32dffz89fMWfcYPi+7m2uv3gNVaLD64dH8/Xrlpcfl7x+gbjG9FRwUqgAnb47PnHWPkvsMd2iPi0vSsOHTlb5njUNfY6NFb735Cw0YOFETJt6gPikjFBgYct4xZ8bQduxYpmPtPIZWVpavlctf0srlLymhV3/17Tf69PNwr/6Kjk4wXMWwvr5aBQWHdHD/Bu3auUJNTY7L5UtSUvJQDR8xy+VcunXrpQV3/U7/fu0nhs/YDZZaLV/2gtZ++aaGDZ+pPinDlZw8TFFd4hxePGhoqFPF8SIVF2epuChbeXl7DV/AaavhI2Zr2WfPGW4RsGf3au3ZvVpBwWGKjo5XcHCo/PwCDOPcdvuvFBYW5XE+AADg0kbxHpoz9wFlZmx2uh/UmbdYzWazIiNjFRISoYaGOlVXVzr9h7wkzbniISUlDWmvtNvNwEGTlZo61unyb8ePF2rp4qe0dPFTCg/vqtD//KO8prpSdXVVTuMmJQ/V3CsfUfqeL9ol70uV2eyn+Qt+rXff/lWLWz0UFBw6b/sCf/8AhYZGyWQ2y1JfYzgD3FvGT7xeW7cu0amTZYb9drtdlZXFLb55ERER7dK15l31HdlsVn290fnSbuXlR7X2y4WSFko6fQ9DQ6PkHxAoS321LJ1sH3tP2e125eftU37evrNtfn7+CgmJUEhIhAKDQmSpr1F9fXWLv8NnREbF6oYb/7c9UwYAAAAAt4WGRmr23Ac0bvx1Mps93zFz7pUP63D2DqfPzYcObtShgxtlNvspMjJGIaGRslhqVFNd2eL2bfOu/q5iYo33kXfXnLkP6PVXf+R0C73m5iaHwvk3jZ9wnfP4VzykzMytTif6ZxzarIxDmw3G0CpavBdzr3zE6fLynioqzFRRYebZn81m89nn4aDgMFnqa2Wx1Ki29mSrsUJCInTTLU+0+XuVmjpWC+78jd59+9dOxxItllpt27pU27YuPe96p+9hrerra2SzWdt0XVcFB4dp6uUL9MWqV50e02CpbXWigPUC3UYUAAB0Lux5D3WN7qkFd/5Wfn4tz+Ww2Ww6efKYSkoOq7KyuMXC/ZSpt2na5Qu8nWqHMJlMmn/HrxUbm9jqsTU1J1R2LE9lx/JaLPr1jE/VXff8Uf7+xjNz4ZmAgCDdcdfvNXXafJeXg29ublJV1XGdOlnWroV76fTAyW23/z+X9oPzlMlk0jXXfl/XXv+4S9s7SGdWHajUyROlF13h3hmrtVk1NSdUXn5URYWZqqgocqlwHxPTS488+rzCw12bTAEAAAAAHaVLl+6ad/V39OOffqAJE2/wSuFekmJjE3Xb7b9qNZ7NZj09blScrROVJS0Wq2fMukeXTbrRK/mdKzVtnGbMutvrcc+Ijo7Xgjt+2+rS+45jaM7vxdRp8zV12nxvp9pibrW1p3T8eOF/nocLXSrcR0bG6KFvP6uYmF5uXXfgoMl68JFn1DW6p8vn1NdXq7KyWLW1p9qtcH/G9Bl3Ka3/+Ha9BgAAgCso3kPS6SW577rnjx4v7eTvH6Brr/+B5l39HS9l5hshIRF64KGnlZw8zONYQ4ZO0yOPPuewNDm8y2w268qrHtUDDz2tHj1S2uUa/v6BGjZ8hsIjurb53OTkYXrs+68psYNWo5h42Y367vdeVkrfke0S32w2K63/eMV179Mu8d1lsPKfl+KaNGLkHD3ynRfU1cmS+wAAAADQ0aKiYjV+wvV68OF/6Ec//UBTpt7m1r7hrRkwcKLuuOv3CgmJ8ChOQECQbrzpJ5o9534vZeZo1uz7tODO37bbpOt+qWN01z1/VGiop2Nogbruhh/qyqse9Upe7fQ4LEkaOGiSvv3dFz0eb+nde6C+//jrmnjZja2+ROSuuO7J6j9gQpvPX14QkAAAIABJREFUM5vNuvveP2v23AcUEBDUDpkBAAC4hmXzcVZa//F67PHXteyz57R/31rZbMZLjBkxmczqP2C85l39XZfeWL8QREbF6sFHntG6tW9p04YPXHor91wxsb0194qHNGTo5e2UIYyk9B2pxx5/XXvT12jzpo919OgBj+IFBAQruc8wDRk6TcOGzVBwSLjbsWJie+vb33lBxUVZ2rVrpY7m79ex0lw1NtZ7lKMz3Xuk6MGHn1FW1jZt2vCBsrO2O1060BVms596Jw7S4MFTNHzkbEVGxngxW++46Zafa/TYq5SZsUVZGVtUXn7Uo3hms59S08Zp+ow7lZQ81EtZAgAAAEDbBAQEKTIyVrFxiYqNS1LPnn2V3Gd4h04uHjhosh77/qv6/LPndPDAhjY9X5pMZg0cNEnzrv6OunVLaMcsTxsy9HIN/P/s3XeYnWd9J/zvFEkzI41k2SqWLMlNcrdxxRSbDi8O4CVZcEwSErK7ZNNgyb6bdxcSkpAlwGbTA/smJAQCISEOxCGhmdi44QLuxpZsyep91KXR9LJ/yDi2ZyTNaM4595TP57ruy5eec85zfvc9Gvl3zvcpF1yTp5+6Lz94/PZs27o6u3dvqdjZ2+ee97K87wOfefY7tDtHvRbnnveyvKXCtw247i2/mAsuvPbI7S+fvj87d6zL4ODgCe+vrq4+Z551aV79mp+o6BnpM5pm5vq3fyCvuOYduefum/LIw7eM+YqI8+cvyznnXp1LL39Tliw574T3U19fn9e9/mfyile+I48/dlueWnVvdmxfm337doypPgCA0ahLcswu7j++9w+zfMWVNSpnati2dU06Og4M2T5tetO4uUf8nj1b8tCD38z6tY9m8+ZV6e/vHfKc5ubWLFq8PMtXXJVLXvLanHLK0MtmdXW2Z8uWp4Z97WlLzh1xPX19Pdmw/vEh2xsapuXMs14y4v2cqJ6ezjz80C1Zs/r72bD+8WF/fo2N0zJv/rKcdfZlueCCa3LW2ZenbpjTgNeve2zY9TzzrEtHddTxls2rhr3E+ZIl540pYE6S7u6ObN60csj26TOas2zZhWPad5K0tW3MwQO7hmyfv+D0zJkzf8z7f769e7dl1cp7smH949m69ekc2L/zqAemNDZOz7z5SzN//rIsWHhGzjrrsiw7/aKq3u5gcHAgBw7sSnd3R3q6O4/6gbW19eQsHOMR7ocO7c1TK+/J+vWPZcuWp7J3z7Zh/y4mR+4Jf/LJizN/welZsOD0nH7GJTnr7EszfXrzCb//ju1r096+b8j2UxedVbUzItrb92XzppXZvHlldmxfmz27t2Tv3m3p6xt+3vX1DZm/4PQsXrw8S5ddmIsveW1mzRr9lRY4cZ/605/Lls2rjvWUX0vysRqVAwAj9Y9JfnQUz9+a5MSuO0wl/VmS/3y0By+6+NX5yXd/tIblMNls3rTyhEPJH57h3tQ8M62tp4zps1g17GrbmIcf+lbWr3s0W7Y8lf7+viHPaWmZnUWLV2TFOVflkkteN+zl0js6DmTb1qH3EZ85c04WLV5R0Zr7+npy8ODudHcdTndPZ/p6h78/+amLzh7V58Ddu7fk4Qe/kXXrHs2WzU8N+zm7pWV2Tl20PCvOuTIXXzL8d2idnYdecG/657928WnnjLie5+9v86aV2bxpZbZvfyZ7dm/Jnj1bj3oJ/7q6+sybtySLFq/I0mUX5OKLX5M5Jy0Y9fuOVm9vd55Z82CeWfNAtmx+Kjt3rj/m782cOfMzb/6yzJ+/LEuXnZ+zl19Z8e+SXqyrsz2HOw6kq7M93d0dRz0I5IwzX+KWmZywhx78Rr5808eP9ZQtSSp3xA/H8otJPjXK15yfZGgQAnAChPcc18BAfzo6DqTj8MH09nZnRtPMNDfPysyZJ5UurZgjTfv+dHUeTuO06WmaMTOts+dV7H5yVM/AQH8OHdyTru7D6evtSWPjtEyf0ZKmpplpapqZurqp8zMcHBzIoUN709V1OL09XalvaMiMGS1pbm7N9OnNVbuEXWmDgwPp6DiU7u7D6e46nIGBgTS3tGbGjJlpampJQ4MP2iUJ7wGYoIT3E5PwHiqgv78vHR0H09FxIH29PWlqnpnm5tYxX1Z+Ihr+O7TWMd+mspI6Og6kq+vwkRC6vz9NzbPS1DQzM2bMHDfBc0fHwXR2HkxX55GTVpqaZ2XGjJbMmNGcadOaClcH1SG8H1eE90BRkzOZoaLq6xsya9bJVTszdiJqap415rPbKaO+viFzTlqQ8fOxuZy6uvrMnj1vXF7+vprq6uozc+accfXlCQAAwETV0NCY1taT09rqe6OJ8B1aS8uccX9gRUvL7LS0zC5dBgBAEVPnFFMAAAAAAAAAGKeE9wAAAAAAAABQmPAeAAAAAAAAAAoT3gMAAAAAAABAYcJ7AAAAAAAAAChMeA8AAAAAAAAAhQnvAQAAAAAAAKAw4T0AAAAAAAAAFCa8BwAAAAAAAIDChPcAAAAAAAAAUJjwHgAAAAAAAAAKE94DAAAAAAAAQGHCewAAAAAAAAAoTHgPAAAAAAAAAIUJ7wEAAAAAAACgMOE9AAAAAAAAABQmvAcAAAAAAACAwoT3AAAAAAAAAFCY8B4AAAAAAAAAChPeAwAAAAAAAEBhwnsAAAAAAAAAKEx4DwAAAAAAAACFCe8BAAAAAAAAoDDhPQAAAAAAAAAUJrwHAAAAAAAAgMKE9wAAAAAAAABQmPAeAAAAAAAAAAoT3gMAAAAAAABAYcJ7AAAAAAAAAChMeA8AAAAAAAAAhQnvAQAAAAAAAKAw4T0AAAAAAAAAFCa8BwAAAAAAAIDChPcAAAAAAAAAUJjwHgAAAAAAAAAKE94DAAAAAAAAQGHCewAAAAAAAAAoTHgPAAAAAAAAAIUJ7wEAAAAAAACgMOE9AAAAAAAAABQmvAcAAAAAAACAwoT3AAAAAAAAAFCY8B4AAAAAAAAAChPeAwAAAAAAAEBhwnsAAAAAAAAAKEx4DwAAAAAAAACFCe8BAAAAAAAAoDDhPQAAAAAAAAAUJrwHAAAAAAAAgMKE9wAAAAAAAABQmPAeAAAAAAAAAAoT3gMAAAAAAABAYcJ7AAAAAAAAAChMeA8AAAAAAAAAhQnvAQAAAAAAAKAw4T0AAAAAAAAAFCa8BwAAAAAAAIDChPcAAAAAAAAAUJjwHgAAAAAAAAAKE94DAAAAAAAAQGHCewAAAAAAAAAoTHgPAAAAAAAAAIUJ7wEAAAAAAACgMOE9AAAAAAAAABQmvAcAAAAAAACAwoT3AAAAAAAAAFCY8B4AAAAAAAAAChPeAwAAAAAAAEBhwnsAAAAAAAAAKEx4DwAAAAAAAACFCe8BAAAAAAAAoDDhPQAAAAAAAAAUJrwHAAAAAAAAgMKE9wAAAAAAAABQWOPxnvDMmgdz6NCeWtQCAExxHYcPlC4BACBJsn9/Wx55+JbSZQAAU8DGjU+ULgGAceK44f2dd3yxFnUAAAAAjBtbNq/KTV/6aOkyAAAAmEJcNh8AAAAAAAAAChPeAwAAAAAAAEBhwnsAAAAAAAAAKEx4DwAAAAAAAACFCe8BAAAAAAAAoDDhPQAAAAAAAAAU1phkR+kigAmrLsnCUb7mcJJDVagFmBraSxcAAEwaB+I7EQBgYthZugAAAMa/WUkGRzk+VqRSAAConn/M6HriLWXKBAAAjuMXM/rvvM8rUikwKblsPgAAAAAAAAAUJrwHAAAAAAAAgMKE9wAAAAAAAABQmPAeAAAAAAAAAAoT3gMAAAAAAABAYcJ7AAAAAAAAAChMeA8AAAAAAAAAhQnvAQAAAAAAAKAw4T0AAAAAAAAAFCa8BwAAAAAAAIDChPcAAAAAAAAAUJjwHgAAAAAAAAAKE94DAAAAAAAAQGHCewAAAAAAAAAoTHgPAAAAAAAAAIUJ7wEAAAAAAACgMOE9AAAAAAAAABQmvAcAAAAAAACAwoT3AAAAAAAAAFCY8B4AAAAAAAAAChPeAwAAAAAAAEBhwnsAAAAAAAAAKEx4DwAAAAAAAACFCe8BAAAAAAAAoDDhPQAAAAAAAAAUJrwHAAAAAAAAgMKE9wAAAAAAAABQmPAeAAAAAAAAAAoT3gMAAAAAAABAYcJ7AAAAAAAAAChMeA8AAAAAAAAAhQnvAQAAAAAAAKAw4T0AAAAAAAAAFCa8BwAAAAAAAIDChPcAAAAAAAAAUJjwHgAAAAAAAAAKE94DAAAAAAAAQGHCewAAAAAAAAAoTHgPAAAAAAAAAIUJ7wEAAAAAAACgMOE9AAAAAAAAABQmvAcAAAAAAACAwoT3AAAAAAAAAFCY8B4AAAAAAAAAChPeAwAAAAAAAEBhwnsAAAAAAAAAKEx4DwAAAAAAAACFCe8BAAAAAAAAoDDhPQAAAAAAAAAUJrwHAAAAAAAAgMKE9wAAAAAAAABQmPAeAAAAAAAAAAoT3gMAAAAAAABAYcJ7AAAAAAAAAChMeA8AAAAAAAAAhQnvAQAAAAAAAKAw4T0AAAAAAAAAFCa8BwAAAAAAAIDChPcAAAAAAAAAUJjwHgAAAAAAAAAKE94DAAAAAAAAQGHCewAAAAAAAAAoTHgPAAAAAAAAAIUJ7wEAAAAAAACgMOE9AAAAAAAAABQmvAcAAAAAAACAwoT3AAAAAAAAAFCY8B4AAAAAAAAAChPeAwAAAAAAAEBhwnsAAAAAAAAAKEx4DwAAAAAAAACFCe8BAAAAAAAAoDDhPQAAAAAAAAAUJrwHAAAAAAAAgMKE9wAAAAAAAABQmPAeAAAAAAAAAAoT3gMAAAAAAABAYcJ7AAAAAAAAAChMeA8AAAAAAAAAhQnvAQAAAAAAAKAw4T0AAAAAAAAAFCa8BwAAAAAAAIDChPcAAAAAAAAAUJjwHgAAAAAAAAAKE94DAAAAAAAAQGHCewAAAAAAAAAoTHgPAAAAAAAAAIUJ7wEAAAAAAACgMOE9AAAAAAAAABQmvAcAAAAAAACAwoT3AAAAAAAAAFCY8B4AAAAAAAAAChPeAwAAAAAAAEBhwnsAAAAAAAAAKEx4DwAAAAAAAACFCe8BAAAAAAAAoDDhPQAAAAAAAAAUJrwHAAAAAAAAgMKE9wAAAAAAAABQmPAeAAAAAAAAAAoT3gMAAAAAAABAYcJ7AAAAAAAAAChMeA8AAAAAAAAAhQnvAQAAAAAAAKCwxtIFAFV1UZJTq7j/5hN4zRlJ3lDpQl7ku0m6qvweAAAAAAAAUDHCe5jcFib519JFvMi7nh3V8t0kr6ri/gEAAAAAAKDiXDYfJrfbknytdBE11J/kfUkGSxcCAAAAAAAAo+HMe5j8PpDkjUlmlC6kBv4iyaOliwAAAAAAoOLqkpxU5fdoOYHXzE4yt9KFPE9/koNV3D8AUGP/O0fORp/MY1+S+ZVaMAAAGIV/zOh61y1lygQAgAnv9pT/LrrW4zcqsnIAwLjRmmRbyjcZ1RwfqNhqAQDA6AjvAQCgNi5N0pfy30fXamxM0lyRlQMmBPe8h6nhUJIPly6iip5K8qnSRQAAAAAAUFWPJvnL0kXU0K8m6SxdBABQefVJHkz5IwWrMa6r4DoBAMBoOfMeAABqZ36O3Ea19PfS1R53Jamr0JoBE4RfephaXp7knkyu3/2vJ3lr6SIAABi3FufIQaxNVXyPWUmmjeL5A0kOVKmWH3pnktuq/B4AAFDKryT5g9JFVNFAkqtz5LMMADCJ/V3KHzFYqdGT5NzKLg8AAJPQR1O+d63l+FZllg0AAMatxiRPpHzvXa3x55VbKgBgPFuSpD3lm49KjN+r8NoAADA5tSTZmPL9ay1Gb5KLKrNsAAAwrl2X8v13Ncb+JAsquE4AwDj3WynfgIx17ExyUqUXBgCASeunUr6HrcX440otGAAATABfS/kevNLjv1Z0hQCAca85yYaUb0LGMt5b8VUBAGAyq0tyd8r3sdUce5KcUqkFAwCACWB5kq6U78UrNdYkmVHRFQIAJoQbU74ROdHxSJKGyi8JAACT3OVJ+lO+n63W+PnKLRUAAEwYv5fyvXilxo9UeG0AgAnkzpRvRk5kvLoaiwEAwJTwuZTvZ6sxHosDXAEAmJpak2xP+Z58rOPblV4YAGBiuSxJX8o3JaMZX6rKSgAAMFUsTHIg5fvaSo83VnKRAABggnlvyvfkYxm9SS6s+KoAABPOX6R8YzLS0ZHkjOosAwAAU8j/SPnetpLjy5VdHgAAmHDqkzyQ8r35iY7fr/ySAAAT0YIk+1O+ORnJ+K0qrQEAAFPL9CSrU76/rcToSrK8sssDAAAT0iuSDKR8jz7a0ZbkpCqsBwAwQf23lG9Qjjc2J5lZrQUAAGDK+dGU73ErMT5a6YUBAIAJ7Esp36OPdvxcVVYCAJiwpid5KuWblGONd1Vt9gAATFW3pHyfO5axPcnsiq8KAABMXEuSHE75Xn2k49EkDVVZCQBgQntryjcqRxv3Jqmr3tQBAJiiLkjSm/L97omOd1d+SQAAYML7SMr36iMdr6nSGgAAk8A3Ur5ZefHoT3JVNScNAMCU9smU73lPZNwXB7gCAMBwmpNsSPme/XjjpmotAAAwOZyXpCflm5bnj7+s6owBAJjq5ibZnfJ972jGQJKrq7EYAAAwSfxEyvftxxqdSc6o2uwBgEnjD1O+cfnhOJhkUXWnCwAAeV/K976jGZ+rzjIAAMCkUZfkrpTv3Y82frt6UwcAJpOTkrSlfPMymORXqzxXAABIkoYkj6d8/zuScSjJ4uosAwAATCqX5chtWUv38C8eW5LMrOK8AYBJ5udTvoF5JsmMak8UAACe9bqU74FHMj5YrQUAAIBJ6DMp38O/ePxkVWcMAEw69UkeTNkG5m1VnyUAALzQP6X8F3nHGmuTNFVt9gAAMPksSLI/5Xv5H457c+SS/gAAo3JNkoGUaWBurcH8AADgxc5K0pXyX+gdbfxo9aYOAACT1v+X8r38YI5cwv+lVZ4rADCJ/UNq38D0JrmoFpMDAIBhfCLlv9QbbtxWzUkDAMAkNj3J0ynf0/9VtScKAExuS5McTm0bmD+qycwAAGB4rUm2pfwXe88ffUkuqeakAQBgkrs+ZXv6g0kWVX2WAMCk9z9TuwZmT5JTajMtAAA4qp9N+cD++eOT1Z0uAABMCd9MuZ7+v9dgfgDAFNCSZGNq08D8Qo3mBAAAx1Kf5HspH9oPJtmbZF51pwsAAFPC+Ul6Uvuefm2SGTWYHwAwRfxUqt/APJGksVYTAgCA43h5koGUD+/fX+2JAgDAFPLHqX1P/+9qMjMAYMqoS3J3qtvAvLFmswEAgJH5m5QN7lcmmVb1WQIAwNQxN8mu1K6nv6020wIApprLk/SnOg3Ml2s4DwAAGKnTkrSnXHj/5upPEQAAppxfTG36+b4kF9doTgDAFPTZVL6B6UqyvJaTAACAUfhwygT3X63F5AAAYApqSPJYqt/T/0mtJgQATE0LkxxIZRuYj9Z0BgAAMDpNSdantsF9d5JzajE5AACYol6b6vb0e5OcUrPZAABT1v9I5RqY7Ulm17Z8AAAYtXemtuH9/6rNtAAAYEr7SqrX0/9SDecBAExh05OsTmUamHfXuHYAADhRt6c2wf3OJHNqNCcAAJjKzkzSmcr39E8maazhPACAKe7tGXsD82CS+loXDgAAJ+glSfpS/fD+P9RqQgAAQH4nle/p31TTGQAAJLk1J968DCR5We1LBgCAMfmzVDe4fzgOcAUAgFqalWRrKtfT/2NtywcAOOKCJL05sQbmrwvUCwAAYzU/yb5UJ7gfSHJt7aYCAAA866dTmZ6+O8mKGtcOAPCcT2b0DcyhJItLFAsAABXwX1Od8P6LtZwEAADwnLok383Ye/qP1bpwAIDnm5tkd0bXwHyoSKUAAFAZjUmeSGWD+44kp9dyEgAAwAtckaQ/J97T70gyu+ZVAwC8yPsy8gZmXZKmMmUCAEDFvDGVDe9/o7blAwAAw/h8Trynf0+BegEAhhjNmUc/VqhGAACotK+nMsH9piQtNa4dAAAYamGSAxl9T/9gkvoC9QIADOt1OX4D851i1QEAQOUtT9KVsYf3N9S6cAAA4Kg+lNH18wNJrilSKQDAMfxTjt7A9CW5pFxpAABQFb+fsQX39ySpq3nVAADA0UxPsjoj7+k/X6ZMAIBjOytHP/PoUwXrAgCAapmTZGdOLLjvT3J57UsGAACO48cysp7+cJJlhWoEADiuT2RoA7M3ybySRQEAQBX9XE4svP90iWIBAIARuS3H7+l/vVh1AAAj0JpkW17YwLy/aEUAAFBd9UkeyOiC+4NJTi1RLAAAMCKX5MjtYI/W069P0lysOgCAEfrZ/FsDszLJtLLlAABA1b0yyUBGHt7/v2XKBAAARuH/5Og9/b8vWBcAwIjVJ/lejjQwby5cCwAA1MrfZ2TB/ZokMwrVCAAAjNzJSXZnaE9/d5K6gnUBAIzKy5P8U+kiAACghk5P0pHjh/dvLVUgAAAwav8lL+zn+5K8pGhFwKRWl+S9pYsAJqWmJF2liwAmnQeSPFq6CAA4it9O8uFjPP6tJNfVqBYAAGDsGpM8kuSiZ//8Z0l+oVw5wGRXlyNHCgEATAS/luRjpYsAgKNoTrIqR87Cf7G+JJcmebKmFQEAAGP1+iS3Jtmf5Jwku8qWA0xm9aULAAAAgEmiM8mHjvLYn0ZwDwAAE9FtSf4lyUciuAeqzJn3AMBE4sx7AMa7uiR3Jrn2edv2Jlnx7H8BAICJZ2mSHUl6SxcCTG6NpQsAAIAJ7uwkHyhdBDCubMuRA+Xrnv3z4zlylg7AePBHSdaWLgJq6E1J3la6CACAkRDeAwDA2CxO8suliwDGtdc8OwDGg5sivGdquTL6dQBggnDPewAAAAAAAAAoTHgPAAAAAAAAAIUd97L5ra0np7Fxei1qAQCmuIMH96S/v7d0GQAAAAAAUHPHDe9vuPHDWb7iylrUAgBMcZ/605/Lls2rSpcBAAAAAAA157L5AAAAAAAAAFCY8B4AAAAAAAAACjvuZfMBAICxOe/8V6SuznGzAEB1DQ4O5KlV95YuAyaUpuZZOfPMS0uXAQBMAR2H92fjxieO+RzhPQAAVNlPvvujaWycVroMAGCS6+vrzYc/9LrSZcCEMm/e0vz0ez5eugwAYAp4Zs2D+cxf/Moxn+P0HwAAAAAAAAAoTHgPAAAAAAAAAIUJ7wEAAAAAAACgMOE9AAAAAAAAABQmvAcAAAAAAACAwoT3AAAAAAAAAFCY8B4AAAAAAAAAChPeAwAAAAAAAEBhwnsAAAAAAAAAKEx4DwAAAAAAAACFCe8BAAAAAAAAoDDhPQAAAAAAAAAUJrwHAAAAAAAAgMKE9wAAAAAAAABQmPAeAAAAAAAAAAoT3gMAAAAAAABAYcJ7AAAAAAAAAChMeA8AAAAAAAAAhQnvAQAAAAAAAKAw4T0AAAAAAAAAFCa8BwAAAAAAAIDChPcAAAAAAAAAUJjwHgAAAAAAAAAKE94DAAAAAAAAQGHCewAAAAAAAAAoTHgPAAAAAAAAAIUJ7wEAAAAAAACgMOE9AAAAAAAAABQmvAcAAAAAAACAwoT3AAAAAAAAAFCY8B4AAAAAAAAAChPeAwAAAAAAAEBhwnsAAAAAAAAAKEx4DwAAAAAAAACFCe8BAAAAAAAAoDDhPQAAAAAAAAAUJrwHAAAAAAAAgMKE9wAAAAAAAABQmPAeAAAAAAAAAAoT3gMAAAAAAABAYcJ7AAAAAAAAAChMeA8AAAAAAAAAhQnvAQAAAAAAAKAw4T0AAAAAAAAAFCa8BwAAAAAAAIDChPcAAAAAAAAAUJjwHgAAAAAAAAAKE94DAAAAAAAAQGHCewAAAAAAAAAoTHgPAAAAAAAAAIUJ7wEAAAAAAACgMOE9AAAAAAAAABQmvAcAAAAAAACAwoT3AAAAAAAAAFCY8B4AAAAAAAAAChPeAwAAAAAAAEBhwnsAAAAAAAAAKEx4DwAAAAAAAACFCe8BAAAAAAAAoDDhPQAAAAAAAAAUJrwHAAAAAAAAgMKE9wAAAAAAAABQmPAeAAAAAAAAAAoT3gMAAAAAAABAYcJ7AAAAAAAAAChMeA8AAAAAAAAAhQnvAQAAAAAAAKCwxtIFAAAAUH2bNj6RHTvWDdl++hkXZ+HCMwtUVH0rn7w77e37hmy/8KJXZebMkwpUxES2dcvT2br16SHblyw5P4tPW1GgIgAAACYb4T0AAMAU8Pjjt+eeu28asv36t39g0ob3d97+xWza9OSQ7YtPO0d4z6itWnVPbvvXzw7Z/qb/573CewAAACpCeA8AAIzJgf1twwak48nMmSflrLMvK10GAAAAAByV8B4AABiTDRt+kC/97W+VLuOYzjr7MuE9AAAAAOOa8B6YkHp6utLevnfI9tbWkzNtWtOI97Nv7/YMZvAF22bMaBkXl1Ht7+/NgQO7hmxvaZmTpqaZBSqaWKwfAACcmE0bn8jKJ787ZPvSZefnwoteXaAiAACAqUF4D0xIz6x5IF/46w8N2f7T7/lEzr/glSPez+/97rsyMND/gm2XX3Fd3vnjQ/dda7t2bc4f/8HPDNn+1uvfn1de884CFU0se3ZvzR/+/ruHbP+Rt/5Srn3VjQUqAgCAiWHr1tW5844vDtn+0quvF94DAABU0YQP77u7DmfDhh9k86Yns3372uzfvyMH9u9KT09nenu709DQmObm1jS3zE5zc2vmz1+W00+/KEtPvzALF56Rurr60lMAAAAAAAAAYIqbkOH9wEB/nvjBnXn0kW9nzervp6+v96jP7e/vS3v7vrS370ty5NJvDz34jSRJU/OsvOQlr88VV/5Ili67oCa1AwAAAAAAQCV8+aaPDXvLoxtu/PWcd/4rClQEjMWECu8HBwfywPe/lju+84Xs27djzPvr6mzP9+7/ar53/1ezYOEZufZVN+aKK698QgLbAAAgAElEQVRzNj5ADdx/383Zv2/nC7a1zJyTV736XYUqAuBErTjnqvzy+/9yTPs4fHh/PvuZ/zbsY1dd/bZcffW/G9P+Z8xoGdPrJ4Nrr/3xXHbZm4Zsn3PSggLV1MY7bvhgenq6hmxfsPD0AtUAAABUXk9PVzo7Dw3Z3t9/9BNfgfFrwoT3O3asy5dv+li2bnm6Kvtv27khX/mHT+T++27OW69/f84445KqvA8ARzzy0C3ZtOnJF2w75ZTThPcAE1BLy+y0tMwe0z4OHtx91Mdmz56X05acO6b9cySkn8xB/XDmLxDSAwBwxL989Y/y1Kr7SpdxTK97w3tyxZXXlS4DgIImRHj/0IPfzFdv/v309nZX/b22bnk6n/7/fznvuOFDufyKN1f9/QAAAAAAgOpqb9+fvXu3lS7jmLq62kuXMC4NDg6kq+vwkO11dfVpappZoCJK6e3tGvZW2tOmzUhj4/QCFUHljfvw/o7bv5Bbvvnp4z5v7smLcs45V2fpsvMzb97SzDlpwXOXxuzr601nx8Hs2bM1O7avzYb1j2X9+seOejDA4OBgDh/eX9F5AAAAAAAAMDoH9rflf338nUO2z549Lx/89ZsLVEQp3/z6n+W+e78yZPtb3va+XHPtDQUqgsob1+H9nXd88ZjBfV1dfS686FW59lU/nqXLLkxdXd1Rn9vaenIWLDwj51/wyiRJd9fhPPnkXbn3nq9U7VL8wPj3O5+4o3QJVMmChWfk4797d+kyAAAAAAAARmTchvc/ePz23PLNPz/q4wsXnpkfe+d/z7JlF57Q/mc0zczlV1yXy6+4LqtXfz/f+JdPZufO9SdaLgAAMAn19/dmYGAg06bNqOh+BwcH0tvbnenTmyu634mku7vjuaulTQUDA/3p7+/NtGlNpUt5zsBAf3p7ujJjil5qtKenMw0N09LQMG6/GnlOd9fhKftzejFrAQAATGbj8hPq3r3b8uWbPp7BwcFhH7/wolfnhht/PdOnV+ZLj3POeWmW/8pnc9edf5tbv/1X6e/vq8h+AQCAMvr7e7Nj+7oh2xsaGnPqorOHfU3bzg1ZteqerF/3WNraNuTA/p0ZGBhIkkyb1pSTT1mcd//M7+SUU5aMqIaBgYFs37YmGzc+kbad69PWtjG7d21Kd3dHenq6nqunubk1zc2tmTv31Cw+7dwsX3FlzjjzkooHigf2t6W9fd+Q7XNOWpBZs+aOeD9dne3Zs2frkO1NzTOPujabN63Mk0/c9dxadHQcTJI0NEzLzJlzMuekBVm+4sqce97Ls2zZBamrqx9xPceyq23jc2v9fAsWnj6qEP3ggV05dGjvkO2zZ89L6+xThmwfGOjPmtUPZNXKe7Jly6q07dyY3t4jdUyb1pSZM+dk/vxlWXHOVTn3/FdkwYLTRzGrEzM4OJA1qx/IU6vuzcaNT2T3rk0vWJtZs+ZmwcIzsmzZRTn/wlcOe6D84OBgtm1dPWR7XV19Fp+2oqr1j1Vn56E8/th3smb1A9m+bU327duRwcEjv98NDdNyyrzTsmjR2VlxztW54MJr0tzcWvMa9+zZkg3rH8+OHevStnNDdrVtTGfnoefu71pXV/fcvxez58zLqacuz1lnX5oVK64ac5jd1rYxvc/7+3Bgf9uwzzt8eP+orl5YX1+fRYtH/3dj795t2bD+sezYvi5tbRvS9sO16Py3+wA3N7empWV2WmfPy6mnnpUzz7o055zz0jQ1zxr1+wEwNSxbdsFz//8/UXv2bB22H0qSFSuuGvP/h+bNG9lnDQAmr3EX3g8ODuYr//CJ9PR0Dvv4RRe/Ou/6yY+kvr6hou9bX9+Q17z23Tl7+ZX5m8//WkX3DQAA1Nahg3vyyT/5T0O2D3dPxA0bHs+t3/5M1j7z8FH319vblZ071qW7q+OY79vRcTBPPnFXVj55V9avfzzdz4ZuR9Pf35f29n1pb9+XXbs2ZfXq7+eO27+QWbPm5sqr3pprX31jWlpmH3MfI3X33X+fe+6+acj269/+gbz8Ff9+xPtZt+7RfOGvPzhk+7nnvTzv+Q+/+4Jta595KLd869PZvGnlsPvq7+/NwYO7c/Dg7mzetDK33/b5LFhwet78Iz+f8y+4ZsQ1Hc2Xb/p4Nm16csj2X3r/X2TJkvNGvJ/77r05d9z+hSHb3/Cm/5jXv+E9z/15cHAwDz3w9XznO5/Pvr3bh91Xb29X9u/vyv79O7NmzQP5xtf/T85efnne8rb3ZdGi5SOuaaQGBwfy8EO35LZbP3vUmpI89/dw3dpHcsftX8hpS87NG9/0n3LueS977jkDA/3D/l5NmzYjv/07t1a89kro6DiY79z6uXz/e//y3AEUL9bf35u2nRvStnNDHnv0tkyf3pyXXv22vP4NP1vVILivrzern/5envjB7Vm79pEcPLDrmM8fHBxMR8fBdHQczJ49W7N+3WO5796vpLFxei55yevymtf+VOaf4IEgf/93H8m2rWuO+7wnn7grTz5x14j329zcmt/4yDeO+7z+/t6sWf1AfvD4HVn7zIM5cJy1SI4ckNHZeSh79mzNhvWP5f77bk5j47RcdPFr85rX/VQWLjxzxHUCMDW88tob8sox3hP7/vtuzldv/oNhH7vuLb9wQgetAcDzjbvwfuWTd2Xd2keGfWzR4hW54cYPVzy4f76lS8/PL/3yn2eHS+gDAMCk1tfXm6/98x/n+9/756Ne9evFBo5ypk5/f2/+5vO/ljWrH6jIlbza2/fljtu/kPvvvzlvu/6/5PIr3jzmfdZSX19v/vmrf5gHv/+1Ea/tD7W1bcznP/fBvPTq63P9239lQlzSPDlywMjf/e1vZf26R0f92rXPPJxP/cl789br35+XvfxHK1bTwQO78vdf+p9H/Yx9LFu3PJ3P/dWv5oorr8vbf+xX09g4rWJ11cqaNQ/kpr/7aNrbh1414Vh6ejrz3btvymOP3ZYb3/WbOevsyype27e/9encd9/NLziT/ET19fXk4Ye+lUcf+ddcc+0NedOb35uGhonz87rtXz+be777D+nsPDTmffX19ebRR76dxx+7NS9/5Tvy5uv+cxobp1egSgAAgNoYV9+CDA4O5Nu3/OWwjzU0TMuNP/GbFb/X5HBmz5mf2XPmV2Xf+/Zuz6ZNK7N716a0t+9NX19vGhunZ/bseVlx7ktHdfZHkvT2dmfL5qeyY8fa7N27LT3dnenv701Dw7S0tMzO3JMXZfFp52Tx4hVVPeghOXIWwN69W7N92zPZ1bYpXV3t6eo6/Fw902c0Z8aMlsyduyhz5y7M/PmnD3uJybHo6enKjh1rs33bmhw8sDtd3YfT3dWRhobG1NXVp6lpZmbNmpuT5p6auXNPzcJTz/RB/gT19/dl795tadu5Ibt3b05nx5GzHgYG+jNjRkuaW2anpaU1ixYtz5Kl50/ZdR4YGMiWLauyZfNT2b1r87P31WzM9OlNOWXe0ixevDxLll6Q+vrKXBp2NLq6DmdX28a0tW3Ivr3b093dka7ujtQlaW6Znebm1syZMz9Llp6f+fOX1by+iaK3t+vf/h3esy09PV3P+3d4Tk5+9t/hRYtXFPk5/1B/f282bngi27auzr79O9Lzf9k7z8AmruztP5Kt5t57bxTbGGxTTDWhd0JCQgik901PNtlks8km295sNr0sCaGEDgmh997BuHdwL7j3Ismq7wcv/G3rjixpRrYM9/cJ7tWcORpLozv3nPOcLhkEAhFsbB1hb++CkNBY+nemUCj3FAqFDBvX/xElxRnGHcgQiFar1cjPu8KBZ72Ryzrw685/4FZlPhYufpUzOXlz0iXvxMYN76K0xMhr24eka/vR1dWJhx/50OLfd319OdavfRMtLbUm21CrVdi35wuoVEpMZlkRBnS3gVj/85sGVTDrIyX5CJqaqvHk05+Bz7eoLQS9JF8/hD27/32n9YUptLc1Yv3Pb2HFyo8QFT2NQ++AgpvXOQnc90SjUeP8ue0oL8/F40/8vyEjH19YkMxJ4L4nGo0Gly7sQkVZDh5/6t+cKZhQKBQKhUKhUCgUirmxqCfvwoJk1NWWEucSJi0bkD6AxpCRfgoXzm/XGV/+0Pvw9Aq583+lUo7k64dx7cpe1Oqp6JdKWw0O3hfcTMK1q/txI/8KVCpFv68XS+wQFTUNCRMf4LwXYU1NMVKuH0JG+kliH0h9ODl5IiAwEsNHTMKIkZMgNqFPn1qtQnbWWaSlHkfBzSRoNGqDj7WysoaPTziCgmMQNSoR/v4jwePxjPbBVFKSj+DK5d064xMS7kf82AWcniv5+iFcvbJHZzxh4gOIi59nkI3KijzcvJmE0uIMlJVlEfuHkrC2FsI/YARiRs/EmNi5EAoN7y9qbn749jmdCrrhIyZi5qynWNmVyzpw4cJOJF3d32+lj62tI+LHLsTkqQ/Bzs6F1Xn1oVTKcSP/GoqL0lBcnIa62hKDK+Hs7V0QGhaPseMWmlx5tGHd2+jsbLnz//q6Mp3XtLbWEaVYmZg6bSVGxdxHnGtuqsbWLX/RGZ80+SGMiZ1t8DlIaLVa3LxxFUnXDuDmjatQqZT9HiOR2CNqVCISJi7jRBJ38y/vo7W1dy9ST88QLH/4/V5jzc01uHBuO9JSj93pl8qEi4sPEiYuQ8KkZUOqWotCoVCMRaPRYNuWj4wP3AMwroacOy5f2g0rKwHmL/zDIHlgGCqVApt+eY914P42GemnEBQ8GhMSlnJizxy0ttSxDtz35Mih7xEUFA0//xEm22hpqcW6tW+gra3BoNdbWVnrVYwoKU7Hzu1/w4qVfzXZp4EkI/0Ufv/tU4PXuny+FeNzpFqtxM7tn8De4WsuXTQrpSUZ2LjhHTzz3NdDUjGBS8rLc7Bx3dt49oVvB6QYhEKhUCgUCoVCoVDYYlHB+6RrB4jj1tZCTJ36yAB70z+dHc24VXlDZ7xnQLPgZhL27P4Mzc01/dozZFuhuqoAe37/D2PPSCbksg4kXz+ElOTDGBk5FYuWvAZHluoCUmkbjh5Zg+SkQ9AyyIf2R0tLLVpaapGZcRrW1gK88fYWuLj4GHx8cVEa9u35HHWEIKAhqNUqVFTkoaIiDxfO70Bk1FSseuwfJtkyhaDgUdj96790NpUuX/yN8+D95Yu/obq6sNcYj8dDUPAovcd1drbi0oWdyEg/haamKpPOrVIpUFKcgZLiDJw6sQFz57+A2DjDEgbMza1bN3U26jw9QxhebRhZmWew9/fPIZW2GvT6zs5WnDu7Fdeu7sWCRa9w/rcvLc3E1ct7kJd70eCEi760tzchPe040tOOIyQ0FkuXvWV0lXZNdVG/G8gqlZJ4X2Wis7OZcU6p7CLaMlY2tS+3Km9g7+//QWVlvlHHyWTtuH7tAJKTDiIqOhELF78KBwc3k/2orSlBY2Nlr7GeCitarRYXzu/AyeProFR2GWSzqakKhw5+h6tX9mDFo381Wg2GQqFQhgoXzm/HjXzdKnlbWycMGz4BPj7hsLVzgkTigK6uTjQ1VaGkOAPFRalGr3u9vELgHxgJb+8weHmFws7eGWKxHcRiW6hUCshlHWhurkFlZT7y8y6jtCSDMeB44fwOBAZFIzJqqknveyA4dOA7HYl2a2sBgkPGIGLYeLi7+8PWzhnW1kJIO1tQXVWI3NxLKC5KZbR59PB/MXxEApycPM3tvtFoNGps3fIXncC9WGKHiIhxCAuLh5OLF+ztXKDRaNDR0YTy8hxkZ51DbU0xg00Ndv/6//Dyaz+blEynUimx+Zf39a673Nz9ETN6JkaMmAQnZy/Y2jpCpVKio6MJlRV5yMo8i9yc870SFHOyz+MaIRnY0qiuKsBvu/7J+D3i8XgICx+L0WNmIjBoFBwc3CAQiNDR0Yzm5hrkZJ1DetrxXooFKpUCO7Z9jCgzf/ccHd0RFDwK3j7h8PEJh4Oj+537BdD9XN/e0YTKinyUFKchN+cCYxJpWWkWjh5Zg4WLXjHo3BMnLe+1Ti4vy0ZuzkWd1/n7j0CkESoEpiqwOTi4ISg4Bt4+YfDxCYejk0fvayHvRGdHMyoqclFSnIGc7POMhQ0VFXk4fPA7LLn/LZN8oVAoFAqFQqFQKJSBxGKC90plF27kXyXORUZN4VxefSC4fPE3HDr4reEyff1UBVy9sgcH93/DqoemVqtFTvY5FBelYsWjf0VExDiT7DQ3VWPtT6+huanaZF/6olIpDapevc2Vy7txYN/XRvfQ1Ed/Valc4+rqi6DgUTpVX9XVhaiuKoC3DzcqCdVVBTqBe6A7ecDV1VfvsTXVhThzejMnfgDdQeBfd/4ThQUpeGD5n4ZMD1ND0Gq1OHFsrcnXSy7vxO5f/x9qa4oxf+HLnPmVdHU/MtJPcmavuCgV3339NB5a8QEio7iVD7V0Ll38FYcPfm+UwkdftFotsjLPoKgwFStXfYzQsDgOPexGrVZi145/IDPjlEnHNzbews8/vY7Hn/gUwSExHHtHoVAog4tM1oFTJzb0GnNy9sK8+S8ielQiozx74vTVaGtrMGjt4u0dhtGxsxEZNVXvWksgEEEisYezizdCQsdg6rRHUF9XhoP7v8HNm0nEY/bv/RIRw8ZbZAVpZUUebt74v2c6Ho+HMbFzMGvOM4yB95DQWEya8hCKClPx265/EqvXu7qkOHdmK5bc/6bZfDeVa1f29lIWEgjEmDJtBaZOXQERg6pYxLDxmDHzCaRcP4z9+74iJtnV1BQjM+M0xsTOMdqnk8fXoerWTeKcQCDCjFlPYsrUFTpt1aytBXBy8oSTkyeiohNRX1+O33/7dy8VhWNH1xrtz0CiUimxY9vHjEFcZ2cvPPjQewgJjdWZs7Nzhp2dM/z9R2DGrCdx/OhPuHTxtzsJOy3NNbh2dT/nPts7uGJM7BxERU2Dn/8IvUpwIpENHJ084Oc3HBMSlqKzsxVnTm/C5R5+9uTyxd8QFzfXoOfKvmpsVy7/Tgzee/uEY1riowa8M+Oxs3PBmLg5iIqaCv+AkXrbZYhENnB0dIePbwTGT1gKqbQVZ89sxaULO4l7MNeu7kNs/Hz4s1C0oFAoFAplsFAq5bhVeQMN9RVobqmFQiGDoksGoUgCscgWLq4+8PYJh6dn0IC1m1Iqu1BTU4zqqgJIpW2QyzrQ1SUFj8eHUCjuftaxcYDz/9rXurr5WeQzjKWgUilQXpaNmpoStLXWQy7vgEAohkgogbtHEHx8wuA+yMrUWq0WLS21qK8rQ31dGeRdUnR1SaHokkEisYfExh4SiT2cnDzg7RMOOzvnQfXXnGi1WrS21KKuvrz7Wsg7ofjf9ei+Fv9rSevkAR+fMLOq7VLuTiwmalZclAqlklwROipmxgB7w56U5MM4sN84WT19VTwnT6zX2WRkg0zWjl/Wv4MVKz9C9KjpRh3b2dmCH9e8jNaWuv5fbCauJx3E/r1fDdr5uSQufj5RsjUl5SgWchS8T0k5ynjuwSIt9RiUyi6sXPWxxfcwNZTjR3/C2TNbWNu5eGEXxBJ7i66qUyjk2LblQzy6+u8YGTllsN0ZEI4d+Qlnz3CXyCKVtmLDurexctUnnF5DrVaDXTv+jsyM06zsdMk7sWnju3jjrc1wYKnUQqFQKJZE32eO4SMmYuWqTwzaSOpPMSU4JAbTElchYth4k1sxuXsE4omn/4NzZ7fg2JGfdObb2hqQdG0/Jk1ebpJ9c9IziG1lJcADy/9kcKua0LBYPPvCN/jxhz8QK8Yz0k9iwaKXTa7iNRc937OdnTMef/JTg+TueTw+4scthJOzFzau/yMxQTv5+iGjg/cNDZW4eGEXcU4gEOGJpz4zuAWSu3sAnn3+G2zb8iFyss8B0P3+WBqXL/3GqMrm6RmM5178zqDe5wKBCAsWvQJfv2HYtePvdxLGuXz/Lq6+GDt+EWLj5pksbW9r64iFi17BsOETsHnj+zr+abUanDr5C1Y99ncuXDYbzi7eiBkzE3Hx803e1LexccT8BS9h+PAE/LLhXSgUsl7zWq0Wp09uwONP/psLlykUCoVCMTtd8k6kpZ1AZsYplJdlG1TQZ2PjgJFRUzF+/GJWLZiYkMnakZlxGmmpx1BRnmt0+1ov71D4+4/EsOETEBY+Vu8aKCX5CNLTjt/5v0pJTs6USluxbu0bhr8JAAsXvwpPz2CjjjEXVbdu4uKFncjOOt/vWtPFxQdx8fMwYeIyg9a0bNFqNagoz0VxcRpKitJRVpaNri6pwcd7eYVgZNRUjB27AE7OXib7sXH9O1Cr/6/os76+nPi6a1f3EhX2mPDwDMKixa8Z9FqtVoPKivzua1GcjtLSLHQZUQjq6RmMkVFTMHbsQji7eBt8HOXexXKC98XpxHE+3wqhhKx4S6a2tgT79nyuM25j44DwiHFwdw+ArZ0TrKwEkMnaUV1VgIKbSYyF99eu7tMbuJdI7BEVPQ3DhifAwdEdNjb26GhvRlNTNXJzziM/7wqx8kCjUWPn9k9gZ+diVGXlkUM/MAbuHRzcMDJyCoJDYuDm5g8bGweIxLZQq5WQy6WQSlvRUF+B2ppiVFTkoqw02+gK1ra2Bhw6+B3jfHBIDIYNT4C3Tzicnb0gFtvB2lqAri4puuSdaG9vQk1NMWqqi1BUlIoWA1oamJOo6ETs3/uljpx5RtoJzJv/IuvKdLVahYy0EzrjQqEYUdGJJtkUCEQICIz8PzlHB3dIJHYQS+ygUikhl3egseEWKitykZN9vpfkZE+ys87iwrkdmJq40iQ/LIm01ON6A/dubn4YPWY2QsNi4eDoDqFQjPb2JtTVliEz4xRu5F/ttQg5dWI9JGI7s/nr6OgO/4BI+PiEw8s7BDY2jhCLbSEQitHVJYVM2obqqkKUlmYiP+8yURVDo9Fg5/a/4bU3NxrU7mLCxGW9FjVpqcd0NufFEjuMH7/E4Pfh6zvM4Ney4fKl3XoD9zY2DogeNR3hEeP63IerkJ11DjdvXCVeQ7VahW1bPsJzL3yDgMAoTnw9ffIXncC9SGyLsLB4BIfEwNHRA2KxLRQKOZqaqnAz/yoKC1OICWRyeSf27vkCjz3xL058o1AoFEtj+IgErHrs7yZJk/dFKBTjuReY16jGwOPxkDh9NeSyTpw7u1Vn/vq1AxYZvO/JipUfGr3WdHHxweKlb2DLpj/rzMlk7cjNuYhRMfdx5SKniEQ2eO6Fb42uhgkLj8fkKQ8T/84lxeloaa4xaqPr7OlNvdaUPVmx8iODA/e34fP5WLHyI6z76XWUlmYadexAo1DIcY5hPe7g4IYnn/nc6E3O0WNmo72tEYcP/cCFi7145NG/cmYrPHwsHl39CX7Z8K6OMl1e7kW0tzfB3t5yq30eWvEBZ7ZCQsdg9eP/xPqf39JZ397Iv4bWljo4Onlwdj4KhUKhULhGqezCuTNbcOnir0arxEqlbUhOOojkpIMYNjwBi5a81q/qqiFoNBpcubwbJ46vMypg2RO1WoVblTdwq/IGrl7ZA7HYFssefJexsLCpqQqFBcn92lWplAa9ridyWYdRrzcHcnknDuz7GmmpRw1WFm5qqsKJ4+tw4cJOzJ//EuLHLTQ5aVwfFeW5yMg4hayM0/22QNVHTU0xamqKcfb0ZsSPXYDZc5+Dra2j0XaKClMYlbV60lBfgYb6CoPtKg1oL1tZmY+M9JPIyjjNGOMwhNraEtTWluDcmS2IjZ+POXOfu6uVCSjssZjgPZOsn49POKPcoKVy9PB/ewVpumU4X0BU9HTw+eQKY7VaiYaGSp3x6upCHGSo4OfxeBg/YSnmLXgRQqGk15yrqx8Cg6IxJnY22lrr8fvufxPbEqjVKmzf+iFef2sTbGz6v3E2Nt5CKqGK28rKGrPnPoeJkx5kzJjrlgbxQ0BA5J0xqbQNN/KvIOnqfoM3gy6c205cJHh4BGL5ig8YezRLJPYAAE+vEISFx98Zr64uRFbmGSSZQQLREEQiG0RFJ+pc146OZty8cQ0jRk5iZf/mjWvo6NDtCx4VnQiRyMZgO1ZW1oiMmoboUYmIGDYBQqFY7+sDAiIxJnY2Fix6FdlZZ3HwwDdob2vUed3JE+sxavQMi+xhaigtzTXEhB2gu8fj7LnPYtLkh3S+/3Z2LvD2DkPM6BmoqyvDbzv/gYqKPADdlSHHjv7IqZ8Oju6IjZ2DyOhp8PUd1u/i7raMbWdnC86e3txLNvQ2CoUM+/d+hSee6r+CZfp9q3v9v6Q4XWcBaGvjiLnzXzDwHQ0Mtypv4DBDwhCPx8fESQ9gzrznIBD0/k783314DlpaavH7r5+ioOC6jg21WomtWz7EG29tvtPD01QaG27hdOXGO/+/I9077RHG7/vkKQ+hsjIfv+38J2prS3Tm83Ivorw8p9e9m0KhUO4GbG0d8cDy9zgJ3JuLmbOfQlbmGTQ1VfUar60tQX19OdzdAwbJM/1MSLjf5CTRyKip8PMbjsrKfJ25srIsiw3eL7n/TZNlLKfftxqXL+0mVE1rUVqahdEGBu87O1uQnkZulRQVnWiy0o+1tQD3P/BHfPPVk6xauJmb1JQjkErbiHPzF74MRxOVhCZPXYGsrLOoKM9l457ZGTY8AaNi7kNGeu+2SRqNGnm5FzFu/OJB8mzgCQuPR2zcHKQkH+k1rtVqkJNzARMnPTBInlEoFAqFop/y8hzs3PaJzvrfFG7kX0FxURqWPfgORo+ZZbIduawDGze8g7LSLNY+9bIr7+S0Je9Qor6uDBvXv2Py31ku68Dvu/+NsrIs3P/AO5y3pf35p9d0Cg3ZoNGokXRtP/LzLmPl6r8hkKMCpoFgw89vMT5jmIJGo0Fy0kHcyLuMRx79hLYrpTBiMVrVNdVFxHFPr5AB9oQ9nZ2td/49bPgEvPn2ZoyKmcEYuAe6ZSX7SrVotVrs/f1zYrUmj8fH8oc/wJL739QJ3PfFwdEdTzz1GSZPfZg43ye0mhIAACAASURBVN7ehKOH1+i1cZuc7PPETLCl97+FqdMeMVruz8bGAWNi5+D5l77HH15dCzs7J72v12q1yM4+rzPu6OiO51/6njFwrw9v7zDMnvMs/vTn3Zgx8wmjj+eCvv0Fb5OacoQ4bgxMNpjO2RdrgQgTJz+It9/dgUce/SuiohP7Ddz3hM/nY1TMfXj9zU3E/oLd2aS6lUZDiSOH/0uUDLK2FuKpZ774X09R/bdbD49APP/SDxg2fMKdMa4WSa5ufnjgwXfxzp92Ys685+HnN9yorExbWycsWPQKnnzmP0QZyxv5V+4kHdxtaLUa7P39P8SNah6vuxJt4eJXdQL3fXFy8sSTz3yOhInkjcK21nocP6orjWwsUmnrnR6fdnbOeO6FbzBr9tP9Jur4+Q3Hsy98wxh0SE46yNo3CoVCsTRmzXnW4jPdra2FmJCwlDhXUZ4zwN4YhlAowey5z7KyMZpBar+qkpzwPdj4+g0zqTf9bURiW4yMJCfsVlUVGGwnK/Msseqez7fCgkUvm+wf0C0pOc4IdaTBIC3lGHE8MCiaVdIHj8fDoiWvm3z8QDJpCvmZv7zMMu8X5mQyw7Ww1HsnhUKhUCipKUfw039f4SRwfxulUo6d2z/BhfM7TDpeLuvA2p9e4zxwfy9TV1uKH//7Mid/55TkI9j9678MrtwfbNraGrDupzdQVJg62K4MOu3tTVj/85u4eePaYLtCsVAsovJeqezq1SuwJ27ufgPsDXeEhMZi1WP/NLl/XX7eZZSXZRPn5i140eD+kbeZv+AP6GhvQjpBQj0l+TCmTX8Urq76r3dpiW5vdjc3P8SNXWCULyQMCby3ttQSZe6nTHvEIOUAfVhbCxEcMpqVDVMJDhkNZ2cvNPd5b3m5lyGVtpr83qTSVuTlXtYZd3b2Mvi9BgZGcZINZ2PjgCef+RzffvWUzvtMTzuO+Qv/YHJ/w8GktqYYWZlniHPLH37fqOw5KytrrFz1N6z54SVUG7FR2x9cJaWEh4/Fw4/8BVs26cpaXk86QEzOGOrkZF8gVv4B3f2xjNkI7t74fRXt7Y3IzjqrM590bT+mTnuEVQ+o2wgEIjz97Jfw8g41+BhbWycse+CP+GnNKzqL/syM01hy/5sWXZ1KoVAoxiAS2Ri9lh4shg1PIEp2l5flIjbOsGTMgSQuft4dxStTYWqbVlVVAK1WaxZpSDZMmvwQaxshobE6FdMAs0IdiYKb5I2fsPB4TlSuxo5fiCuXd7O2Yw7a25tQUUGujJ+QcD/rz4y//wj4+4+w+IRVP79hsLNz1lFeuxcD1l7eoXB0dNeRN70XExkoFAqFYvmkJB/G7l8/JbY0vA2Px4enVzB8fCJgY2MPscQeMlk7OtobUVycTlQ8vc3hg99DIrZD/LiFRvl1+PAPetejfD4fPj4R8PQKhouLD6ythRCJbSGXd0Au64RM1o7ammLU1BYbLVVvbS3s9Vyh1WqIbQR4PL7RSpZ8vpVRr+eKjo5mbFz/R8ZYGNC9f+gfENm9rrN3hcBaiJbWOjTUV6CwIFknWTct9Ti8fcLN7fodHBzd4e0dCnt7V4jFthBL7LtbJss60NJSh8rKPL2fRaVSjq2bP8AfXl1rcEsHyf9a9fa0QSp4FQhEsLYWGvxejFElJmHv4Apv7zDY27t2txQW20GtUUEu60Rrax0qK/PRpkdqX6VSYNvWj/CHV36yWFU9yuBhEcH7trZ6xuwgths/g4VQKMGDD71ncuAeAC5e2EkcDwiMYswi1wePx8PipW+g4OZ1nR8IjUaDSxd+xeKlb+i10d7epDMWGBQ9YBtopPPf9mEow+PxERs3F6dObuw1rlYrkZF+CgkTl5lkNyP9FLH6JjZuLni8gRfekEjsMXf+i9i+9aNe43J5J0pKMhARMW7AfWLLpUu/Ee9fw0ckYFTMDKPtCYViLF32FtZ8/6JFZk1GRk1DxLDxOlmB+Xm6SSJ3AxcZMpODQ2JM+l7yeHwsXfY2iotSdSSX1GoVLl36DQsWsquMA4C58180KnB/m6DgGAQFx6CkOL3XeFeXFHW1pQP6MEChUCjmJCp6Wr/qVZaCq5sveDyezrrgFkNy2WATGTWVtQ13jwBYWQl01rEKhQwKhYz1JguX8Pl8jGTZ5goA4+92B8PzDwkmWXc2Mqk98fYOg5dXCGpqijmxxyUV5bnEtbNQKMbIyMmcnGP0mNkWH7zn8fhwcfXVCd7X11dAoZANmfseV7i6+esE75uaqiCVtsHGxmGQvKJQKBQKpTeFBcn4/bd/MwbunZw8MXnqwxgTO5uxwEur1aKiPAfHj/2MosIU4mv27vkC3j7h8PUbZpBflZX5SE46RJyztXXEtOmrEBc/3+Df1Lq6MuTnXUZe7iWUlWb2u+85/b7VvVpwtjTX4NN/Ldd5nb29C977YI9BPgwmWq0Wu3/9l05R2214PB7ixy3E9Omr4eziTXyNVNqG60kHcOrEBiiVXXfGjx9da3ILr/6wsXHEiJETMTJyKgKDomBrq185Gegudrt2dT+uJx0g9qqXydrx+2+f4pnnvjYorvT+X/b1+v/+vV8Rk4pnz30Ok6ewT6xmQiKxx4iRkxAZNRUBgZH/axOtn7raUiRd24+kawd02qQBQJe8E7t3/QvPv/T9oMRrKJaLRXwaZNJ2xjmx2G4APeGOSVOWw5lF9WRLSy1KinWr3AFg0ZLXTA6WSyT2mDXnGeIcU6C3J6S/VX9y0Vwik5Mz9IQD6IO5GBM3l/h3TU05arJN0rE8Hg9j4uaabJMtUdHTiEk5lt5DkoRarUR2pm4FNY/Hw/wFfzDZbkBApMX2cwWAsYQs3fa2RrS01A6CN+ajsfEWyglVSjweD4uXvGHyfdjW1hEzZj1FnEtPPQGNRm2S3ds4Orpj/ATTZW1jRs8kjt8yovKPQqFQLJ3AoFGD7YLBWFkJiM9EfYNzlgCfbwX/gEjWdqysBLC3J2+EkKptBhMv71CIjKz0IcFUGS9neP7pS0tzDWOic3Awd30Ug0PGcGaLSyoZqu6DQ8ZwFrAePnIiJ3bMDWlDVavVoLODucLrboWpLV+nBd4/KRQKhXJv0tnZgh3bPibuBfF4PEya8hDefnc7Jk1erleZlcfjISAwCs889xWWPfAOsbJcrVbit1//ZfC+U1rqMWJCgbt7AF55bT2mTF1hVDKch0cgpk57BM+/+B3eeHsLxk9YCoERrVmHOhnpJ5Cfd4U4JxRK8MRTn2HZA+8wBu6BbmXbaYmP4pXX1sHN3f/OuEql4FTFFQD8A0Zi9eP/xJ8/3IcHH3ofIyMnGxS4B7pbYS9e+jpefX09Y7JIcVEabuSTr4el4ec3HI+u/jv+/OF+LH/4zxgZOcWgwD3Q3X5s4eJX8eobG+AfMJL4mrKybORkX+DSZcpdgEVU3iuVutk3txmKwXsej4d4ljLy+XlXiD+Ovn7DTOrr3pMxsXNw+OD3UChkvcal0laUl+XolVMXS3Q3poyRcmQLkwROVdVNeHgGDZgf5sDV1RdBwaN0kjYqK/JQV1tq9Purqy1FJaEyJCh4lMGSNOaAz7dCcMho5Ob0/kEailKOFRV5kMl0E1oCAiJZZzvGjV1AlE61BELD4ojj5WU5nEiyWgr5eZeJWcD+AZEmVbX3JC5uLo4e/m+vLFkA6OhoQmVlPgJYBD7GTVgCKyvTf94DGBaStbUlJtukUCgUS8PX17BqE67QarVobq5GTXURamtK0NZWD4VCjq4uGbq6+g9GKxS6GfpMSa2DiYuLN4QcbcAxBcTl8g44Orpzcg4u8PQM4cQO03OOockKt27dII5LJPactOS5jY9PGGe2uKSygqxEwaW/zs7eEIttBySBpL29qVtitroIzc3V/7tfSCGXd+qV0wWAmuoi4rhM1gFnczhrZjo6mu9ci6bmaii6ZAZfi1oGlQhLvH9SKBQK5d7k4P5viRLqPB4PDyx/D3HxxrfJGjt+EWxsHbF18wc6+1o11UVISz1ukN3cnIvE8RUrP4Kjk4fRfvXE3T0AS5e9xcrGUEKtVuLYkZ+Ic1ZWAqx67O8IN0KR1t0jEE898wXWfP8i2toauHLzDk8+8zmCOEh4d/cIxLPPfY11a98gKlhdOL8Dw0dYdoLs6if+xcm1cHPzwzPPfYX1a99EGaFV9oXzOxAVPY31eSh3DxYRvFepmYP3IrHlSCIaio9vBFxcfFjZKC5KJY6PGcO+N6dQKEZU9DRiVXZRUare4L2TkxduVfbeGCovz0FO9jlERpn/5sIUGDx9ahNGjJjESdXLYBIXP5+ouJCScgTz5r9olK2UlCOM5xhsSBuutbWlg+AJOyrLybKZoxgql40hNDQOdnYu6OgwXCp1oJBI7CEQiHWkfurusuAu432Ygx7JIrEtRkZOJiZoFBWmsgreh4XHs3EN7h5B4PP50Gh6b4bK+sj8UygUylCmZ5WCudBoNCgpTkNG+knkZJ/XaZfCFkWXFBqNBny+RYipAeC25RlTEoCSkMgwmEhsuHnPAoGY2B6BJK1Ior2dXEns6RnM2rde9lgmMJqLxsZbxHG2CZc94fF48PIOQ2kJWSGPLTU1xchIO4nMjFNoaqri3L5czqx4aGnU1pYgM/0UMtJPobGxknP7xvbcpVAoFArFHFRXFSAj/SRxbuasp0wK3N8mMmoqpkx7BOfPbtOZO3d26/9aqjIrSqpUCrQQ5N19/YbBxzfCZL/uVdLTTjIqls6e+6xRgfvbODt7YeXqv+HHH17ivPUqF8Hq24jEtli5+m/44rNVOs82JcUZaG2pY50MYk64vBZCoQSPrv47Pv9sJbq6pL3mKspz0Nh4a1CLLimWhUUE762tmPvCW9rmjCGwrYwHwChzEhLKjUxhSGgsMXhfdUu/vEpo2BjkZJ/TGd++9WPMmPUkJk1ezlm1DQkHBze4uwegvr6813h9XRnW/PASFi15nbNrNBhERSdi/94vdaqr0lOPY87c5w3enNVoNEhPPa4z3p24kciJr32RydrR1SWFQiHv93vbt9r49vFDjcpKcvA+KCiatW0+n4+AwEgdhQJzoVIpoVB0V7B0yTt1Ard9EQp1g/d3WwVLVVUhcTyEI7nYkNBYYvCejZqJtbUAviwfoqytBRCKbHQ2NS1NpphCoVBMhc+3Mut6FQAy0k/i+NG1ZgnA3Uar1ULRJYVYYjlKZWIOg/dM/f643ZZij4QjpTimzVND9+GYArM2ttz29bbUPuFM7QUcOVaFcjLDxmJlRR4OH/qesW0eV8jl0v5fNMhU3bqJw4e+R1EhOYmWK+i6lkKhUCiWwLmz24gqMt7eYZg+4zHW9mfNfgZpqcfQ3tbYa7y+rgxlZVl6g5IdDO2Y3NzMnwR9N3Lt6l7iuLt7ACZNftBku4GBURg9ZjbSUo+ZbGMgcHLyRMLE+3H+3PZe41qtBsXF6ZwUSg0V7B1cMWnKQzh9cmOvca1Wi5KiNBq8p9zBMoL31kLGuaH4UOXtE87qeI1Gg8ZG3Y0+KysBZ9LwPr5kHxv6BMX7MipmBo4eXqMTXFarlTh+9CecP7sVUaOmIyJiHELD4syyuRM/biGOHPpBZ7ymphhrf3wVXt6hiI5ORHjEOPj6DbeoaqT+EIlsEBWdqJNY0dbWgMKC64gYNt4gO4UF14mSOVHRiRCJ2KtZKBQy5OVeQklxOmqqi1BTW4Iult/V7uoxNbEnk6VCSnaxsrKGB0cVTt4+YWYL3jc23kJO9nncqsxHTXURGhoqWfdal0mHXgIGEyqVAq2EjFiBQAw39wBOzuHD8FvR331YH7a2TrDSkxBnKGKRLSF4f3clZ1AolHsXJnlyLlAoZNi14x/EZFdzoOlHMnqgGUrrOK7gWch7ljFUEnOx9u+JOb8/pqLVahnXKVy/f5GIu/ev1Wpx5tQvOHVyI+t1uGHns6z7RV/Ond2K40fXDtC1sLQ0IAqFQqHca0ilbcjJPk+cmzv/BcZEVmOwthZg0uTlOHp4jc5cbs5FvcF7lUpJHFeryeMUZpqba4itbQHgvpmPs97HmzXnGaSnHbf49U3UqOk6wXsAqCjPvaeC9wAQHZ2oE7wHgPKKXMSPWzgIHlEsEYsI3ut7oB6KcmZ2dk6sjpfL24kP1m5ufpwEZQDAwyOIKMvYn5ynra0TpiU+ihPH1xHn5fJOJCcdRHLSQfD5fPj6DUdIyBgEBEYhMCgatraOrH2fkHA/rl3Zy1jJVFNdhJrqIpw4vg4SiT1Cw2IRFDQKAUHR8PWNYLWp2NnZyqiKYCiBQVEQCJirveLi5xFVEVJTjhgcvE9llMw3XW4JAOrry3HqxAbk5lw0WMLTUG5vutnYsP+MDBSdna06Y84u3rC25up7GsiJndtotVpkZpzCpQu7iH2G2DIUk62YkEnbiYtedw9/zhKCPL3ISR5SFioUEo4Spki/Nf2pMVAoFMpQQV/iMBsUChl+/vE1k39jBQIx4xpCLu+w+M0YyuCi6CJXVQuF3AavhUIJp/a44HYLCRJiroP3HLb127/3C1y9Qq7C6g8rKwGjgohCIR9yG+sH93+DSxd/NenYu+1aUCgUCuXeID/vMlQq3VbCjo7uJkmoMxEVPY0YvC8qTNZ7HJN6U2lJJtRqJWcxinuBkuI04rOcUCjGyMgprO07O3shKHiU2VWc2OLnNwxWVgKdtVlFec4geTR4eHmHQiSy0ZXOL7v3rgWFGYsI3pP6X99mKFb6iVlKJzJVTXDZQ9LKyhpCkY1OtbRM1h2w0tfzZvqMx1BdXYjsLP0VRRqNBhXluagozwXQLX3p5RWCkLBYRI+ajoCASL3nYUIoFGP1E//C2jWv9JtsIJO1Izvr3B1fRSIbBAXHICJiHKJj7oO9vYtR5y4vy8amjX8y2ueevP3udri6+jHOB4eMhrOzF5r79BXKzbkIubyz32oXubwTuTkXdcadnb0QHDLaJJ/VaiVOHFuHixd2mXXzQ61Smc021zBV+LD9/veyxeF3vr6uDHt+/8ysC7m7aWOMqQUAl/fh7iCNUOdhjY2CgUAgYusWhUKhUEzkt13/0hu4F4ltERwcg8CgKHh6hsDJ2RP29q6wtXXst7LmH58sRkcHuac5hQKAMTmY1K6KDVzb4wK9iS0mPG/qg89BFRwAXLn8u97AvZWVNfwDIhEUFA1fv2FwcHSHk5MnbG0d+90s37r5L8jOOsuJnwPB9aSDegP3fL4VAgIiERAUBT+/4XB0dIeTsxdsbBz7TZreteNvSCO0k6NQKBQKZbC5eeMqcTwyeppJ++VMuLr6wdHRHa2t9b3Ga2tKoVIpGX9LJRJ72Ng4QirtXbjU0dGMo0d+xIKFL3Pm491ORTn5GXHY8ATOEmNHxcyw+OA9j8eHnZ2TzmexoaFikDwaXOzsXHSC9w0NlYPkDcUSsYjgvUhsC7HYlli12dRUPQgesUPAsocmU+9vEccShWJC8F6jUUOhkOlVQ+Dx+Fi56hOcPLEB585sgVptWMBVq9WguroQ1dWFuHRhF1xcfJAwcRnGJyw1OuDk5RWCl1/9Gdu3fmRUdVNXlxQ38q/gRv4VHDr4LcIjxmP6fasRyEGPcq7g8fiIjZuLU32kU5TKLmRmnMK48Yv1Hp+ZcYq4qRYbN9ckySWVSomtmz9Aft5lo4+9m1Eq5URJRy6lObmSJa2uKsC6tW+is7OFE3v3Aoz3YQ6lUoHuv3FHR+/gvVIp1/sARaFQKBTLIz/vCrIyzxDnbGwcMHP204iLn2fy5oyh623KvQvTurHvhhBbuLbHBSKxDXg8PlG9jmt/uVCaam9vwtHD/yXO8fl8TJryMCZNXq63yEEfGs3QuV90drbi0MHviHM8Hh8TJz+IyVMegpOTp0n21WrzS/BTKBQKhWIKTAHdgIBIzs/l7hGoEzBVq5Vobq6GO0NrSB6Pj5DQ0cTivYvnd6KluQZz5r0ANzfmAjVKN5WV+cRxLv/W5vjc9IdKpUR7eyMUChkUCrlBLXVJLce6umTQajWctIoYLNRqJdrbGruvg0Jm2LUg5OioVAqoVAqzqQVShhYWEbwHAA/PYJSXZeuM19aWDII37OCBXXYcSTIH4F7i09qaHDBXKrv6DUDyeHzMmv00YuPm4PTJX5CVecboKoympiocOvgdLpzfgaXL3saIkZOMOt7ZxRsvvvwjMjNO4/y5rcT+4/rQaDR3AvkjRk7CsgffhZ2ds1E2zMWYuLk4feoXnSqS1OQj/QbvU5N1JfN5PB7GxM012g+tVosd2/6qN3AvltghMDAaPj5hcHD0gJOTB6ythXorlK9e3YvkpING+2NJKJXm/55aW7G31dRUhZ9/el2vSoWbmx8Cg6K7s3GdPGBv7wKBQKS3vcPG9X+8qysAVQx/X4GA6/sw2Z5K2UWD9xQKhTKEOHt6E3Hc1dUXTz/7JZxdvE22rdVq7qrWNBTzwKTYJJebruhDtMeivY+54PH4EIltiC33uE9eYP9dvHzxNygUui3IrK2FePzJTxEWHs/KPlMSqiVy9fLvxM1NKytrrH78nxg2PIGV/aF0LSgUCoVy79Al70RzM7lgkesWmkB3G1wSsn4UbceNX8yovJuddQ452ecREjoGw4dPRHjEWHh6hbD29W5Dq9WiuqqQOOftE8bZeTw8g2FlZW3WpO+W5hpkZZ1FZUUeamqK0VBfQSxsM5bbz7tcqp2am9aWOmRlnUVFeS5qa4rR0FDB2bWXyTqMVoum3J1YTPDe1zeCGLy/VZl/z/VRYZLdZupjaCpMGw/GyH67uvph+cN/xqIlryMn+xwKbiahqDANHR1NBttoa2vA5l/ew8zZT+O+GY8bfBzQHZSOGT0DMaNnoKamGNlZZ1FUkIKKilyjbph5uZfw7ddP4+lnvoCHZ5BRPpgDV1dfYq+a8vIcNDRUMmY1NjRUopzQJyYoeBRcXX2N9iMj/QRyss8T54JDRiNx+iqER4w1OjPOztYykiTYIGbod8nlBiEXtvbs/owYuLeyEiBh4v1ImPQAXFx8jLbLpYSXJTJQ1Wtywn349gY0hUKhUIYGjY23UEZ4juHx+HhoxQesAvdA98M7qaKYQumJjQ25L2l9PbcylHV1ZZza4wqJ2I4YvG9va+T0PG0c2EtLO0YcnzXnGdaBewCQsmjBNNAwSdrfN/MJ1oF7oP+gBIVCoVAog0FzSy1j258D+7/mPA7CtH7rb80QHjEOYeHxKCxIJs5rtVoUFaaiqDAVAODg6I6wsHgEBY9CQGAkPDyC7vr9w/7o6pIythl15zBRw9paAGcXbzRwvPbXaDRITzuGpKv7UV6eo79dFQvksg6LD95rtRqkp51E0tV9KCvLNtszulzWToP3FAAWFLwPCIzClcu/64wrFHKUl+WY3Kt7KMJ0oyIFedhAquARCsUmVXuKxbaIi5+PuPj50Gq1qK8vR1lpFoqLUlFYkNJvMF+r1eLEsZ/h6OiBuPh5Rp8f6JbS9/IKwcxZT0GhkKOyIhclJZkoKkxGeVlOv8H8ttZ6bFz/R/zh1Z9ha+tIfI2tnRPrDRV91cw9iYufrxO812q1SEs5illzniEek5ZylPgjGhc/33hHAZw5vZk4PjVxJebOe95kOZu7oQLCykoAgUAMpbJ31Qy3wXt23/mKijziAlssscMTT32GwMAok23LCJujdxMSG6bqNe7+vlqtlpiUJRbbDmmpKAqFQrnXKC5KI453b1qZ/lt7m8bGW6xtUO5+mCp32lrr0dnZwlhxZSxVVcapnQ0UTs6eaG6u0RmvqS5CZNRUzs5TU02unDKUhoZKtLbU6YwLhWIkTLyflW2guw1e8xBpPdjSUovGRt2+ntbWQkya9CBr+1qtFk1NVaztUCgUCoXCNW19JOx7MpB9y2Wy/pPcVqz8CD98+7xBv6ltrfVITTmC1JRuVVhbWyeEhI5BaFgcoqKncbYeHUroU62SSAwvoDQEGwk5mddUqqsKsGvnP1BTXcSpXRJMStSWQk1NMX7d+XejlZ9NQcWQ7EG597CY4H3EsHHg8/nQaHQzVrIyz9xjwXvyjZvLqgGptI14U+Qiw4nH48HDIxAeHoEYO24htFotamuKUViQjNzcC3oXIYcPfo/IqKmse30LhWKEhMYiJDQWM2Y+AYVChuKidBQWXEdmxim0t5OTCZqba3Dm9CYsXPQKcT4gIBJPP/slK98MJSo6Efv3fqkjqZiachQzZz+lE9zTajVITTmqY0coFCMqOtHo89fXl6OutlRnPDQsDnPnvcAqc9KQxeFQQCKx0wned7Rz9z1l+53PYZC2WrzkDVaB++6e7Ja9qGILkwIJl/fhjo5m4m+epWeaUigUCqU3TY3kjazhIyZyYp+kTkah9MXDIxAisS1RgryiPJezz2MFQeXLEvDzG0F8zqzmcLOxOxGilZUNpo3vkNBYg5O89VFTXQyFQsbazkDAdO8MDo6BiOV+AND9PKuvdRiFQqFQKIMF16qOpmJIC1xbWye89MqP2L71ozsV9obS2dmCrMwzyMo8gwP7vkJ4xFhMSFiGYcMnmOrykEMmJxc/8flWnKz9esLF+uk2OdnnsXP7J0a3Sb4byc+7jO1bPyK2vaJQzInFBO9tbBwRGDQKJcXpOnMZ6acwd/6LEAq5vaFZKkKhBCKRjc4PeUtLLaTSNkZJRGNg6rVi7+DG2nZfeDwevLxD4eUdislTH0ZNTTEO7PuKWKUklbYiNfkIJk5mn2nfE6FQguEjEjB8RALmLXgJqSlHcfTwf4kP89eu7MXsOc8O+udNJLJBVHSiTkC+paUWxUXpCA2L7TVeXJSOlpZaHTtR0YkQiYyX4Gbqcz912iOsJY8aGnQrLIYiTk6eaGtr6DXW3t6Ejo5m2Nmxbw3AdrMxP/+KzpiDgxtGj5nJyu7d8vfTh0RiB4FApLNIbWqqQleX1KTvVF+qGSrX7B1cWdumUCgUysDR0dlMHHd0BrFUCgAAIABJREFU9ODEPun5iELpC4/Hh5/fcBQVpujMZaSf5CR439JSi9KSLNZ2zIGf/wjieElxGmdt+AoKrrO20dlh7vsFWQnEFPh8K+K4hiOJ0A6Ga+Hg6M6JfS6vBYVCoVAoXDLUCmJsbZ3w9LNfIjPjNE4c+9kkZTC1WoX8vCvIz7uCwMAoLFryOnz9hpnBW8uCKVFDYIa4A1exjOKiNGzf+ldGuf/biMW28PQKgZOTJxwd3WHzPyVjkcgWfD5ZUfTUiQ06e+mWTFlZNrZu/ku/31mR2BZensFwcvaEg6PHHVVnfdfizKlNxFgOhXIbiwneA8DYcQuJm1NSaSuuX9uPSVMeGgSvBgdPrxBilU11VQFCw+JY26+6dYM47uUVwtp2f3h5heDpZ7/E5l/eQ36ebnCxoCCJ8+B9T6ysrDF23EL4+4/AD9+9oFM5rVIpUFKcxkmPPbbExs0jVtOnphzRCd7fliQi2TCFRkKAls+3Yv35UyhkAyK3MxD4BYxAOaH6qLq6EOHhY1nbZwruGgrpbxgWPpa1JPu9UAHI4/Hh4RmEW5W975VarQbV1YUIChrF+hy3bt0kjnt7h7K2TaFQKJSBQ8pQicvF5klbWwNjQiWF0pfQsDhi8D435wK65J2sq3FSU46arbcjW/wDRhLHpdI2FNy8zknyQnraCdY2mCr3ubhfaLVaXE86yNrObZiSVVVKbgIOUinTtZBwYj/p2gFO7FAoFAqFwjVM+3I8Hp+1Gq0xGNM6l8fjI2b0TIyKuQ/FRWlITTmKmzeuMSbj6aOsLBtrfngRCxe/ivETlhp9/FBCxLCuUZqhipsLm11dUuza8TfGwL2DozsmTFiKEZGT4ekZZPQe86WLvw6Z4L1CIcfObR8zBu7tHVwxfsJSjIycDE/PEMYgPRPXru6jwXuKXiwqeB8VnYjDB78n3vRPn9qE0bFzGHuR3234+48gBshycy5wErzPyT5PPi/DpgfX8PlWWLTkddzIv6rTo722pmRAfPDyDsWEhKW4cH6HzlxdbalFBO9DQkfD2dlLp39jdtZZLLn/zTsbGwqFDNlZZ3WOd3b2QkioaS0nSN9DWzsnWFmxu20UF6VBo1GzsmEp+DNU+NzIu8I6eN/Z2YqKilyTj5fLO4mLC0dH9uoahQXJrG0AAJ/wWVJb0GfD33+kTvAeAHJzLnISvM8d5PswhUKhULiBKdDEVGFrDFcv/w61WsXaDuXeYFTMfThxbK3O85VCIcepkxsxf+EfTLbd0dFMfG6yFJydveDpFYLammKduetJB1gH7xsbK1FcZJxULAmmDVxTNr77UlhwHbW13D1LMwXv5XLm3q3GwHjvZFAzMYaS4gxUMSTKUigUCoUy2AgEIuK4UCTBhx8fHmBvjIPH4yM0LA6hYXHdrXJrS1BcmIrS0kyUlmYa3G5SpVJi354vIBCITC48GwqIGVpjajRqKJVdjJ8FU5Bz0I7h0sVf0dpaT5ybkHA/Fi5+hZWilaW0jDCEq1f26MRkbjN23EIsXvoGrK2FJttXDKFrQRkc2JVfcoxAIELi9FXEOam0Ffv2fD4gfqhUykGvDA5jCPxlZpxmHfhsbKwkVgt3nzeelW1jcHHxgYuLj8442z6CxsD0fjs6WwbMB33weHzExs3VGVco5MjK/L9gfVbmWWLfldi4uSZXWcsJPXn4LCu2ge4fvrsF/4BI4nhm5mliL3NjyMo8zWqzntTvFAB4DPKXhtLaWo+83EusbNyGtCGosqBeSkz3h4z0k6yrzurqylBZma8zzuPxEBY2cPdhCoVCobDH1s6JOF7GUqmmrrYUF87vZGWDcm/h6uqLiGHjiXOXL/3G6hn38MHvIZeRe3ZaCqPHzCKO5+ZcZN1+4vDB71mv7wHm+0V5Gfn53FCUSjkO7PualY2+MBVONDL0qjfevnnunSqVEvv2fsHKBoVCoVAo5oRpPdAl72RUprFEeDwevLxCMHHyg1i56hO8/8FevP7mL1i46BUMH5HQr5qOVqvFnt2fMQZI7wYkYjvGOa7X1jIZuwRLrVaDpGv7iXPx4xZiyf1vsm5FJSO0MLZEtFotkq7uI86NiZ2NZQ++yypwDwBSKTcJsZS7F4sK3gPA+ISlcHX1Jc5lZZ7B2TObzXr+zs4WrP/5DU762bEhLDweEkJmVkdHM1Kus8vAO3t6i041BtDdJ5AUTDcnIrFu8I7tjc8YmKSIBtKH/hgTN5fYY76nTD5JMp/H42EMIfBvKOTPXwtUKv39bvRRXVWAmzeSTD7e0nB19YW3T7jOeHtbIzIzTplsV61W4fKl3Wxcg8SGnNnZylKO58L5HZxVAJKC91Jpm8VUGEYMG0+Ul21rrUda6nFWts+e3kQcDwyM5qzPJ4VCoVAGBjc3f+J4TvZ5kzdQlMou/LrzH0OuHyZl8Em8bzXx2UGtVmHD+j+iqcn4wOvJE+uRlnqMC/fMyrjxiyAQkOXn9+/9EgqFzCS7uTkXkJtzkY1rd2C6XzQ2VrJKMDh88HvU15ebfDwJT89g4mepob6CE6UAN3fytWhtqUPBTdOfGY8eWUNUYKBQKBQKxVJwdvJinGtqqh5AT7jH0ysEk6Y8hMef/Dc+/PgwVj/+T53Wrz1RqZQ4fXLjAHo4sIjENowqtlyu3dRqJZpYJlhWVxWitaVOZ1wolGDhwpdZ2Qa6ixFJxYeWSF1dKRobb+mMW1sLsXDxa6ztq9VKztSsKHcvFhe8t7YW4oHlf2KsFj525CecPbPFLOcuKLiOr798AiXFGWaxbwzW1gKMiZ1NnDt29CeTNwIrKvKQkkzujT523EKTbJqKRqNBS7NuINGBA1lvQyHdhAHA0YKCZ66uvggK1pXoLilOR3NzDZqba4gbPUHBoxgTYQzBzs5ZZ0ytVposF6lSKbFr5z8stk+mqcTHzyeOHz2yBkqlaQuSq1f2oL6ujI1bEAolxM3LwoJkk6uGykqzcOXSb6z86omTk4fOmEajZvxeDjQCgQijR88kzh09soZR3aA/SkszGXumjh0/sPdhCoVCobAnPIKsmCWTtePg/m+NttfVJcWGdW8TFVoolP4IChqFUTH3EefaWuuxds2rBieqKxQy7N/7FU6d2HBnzFRVr4HAxsYRCZOWEedqaoqxddMHjP07mSgrzcKObZ9w4R4AwMMziPFZc//eL42WEtVqtTh04FtcvbKXC/d6IRLbEpP7tVoNrl7+nbV9V1dfxufVg/u/gdyEtfaxIz/i0oVdbF2jUCgUCsWsODi6MRaUlZZkDrA35sPKyhojI6fgmee+xsOPfMhYtZ2dfY4ThSNLhMfjw9MrmDhXXV3I2Xnq6sqMXuf2hdQ6FACGj5hILG4y3v7Qeb5luhYRw8bDxsaBvf1bN+/azzyFOyzyyTs4ZDQSpz/KOH/syI/Yse2vnMnItLU1YNeOv2HDz28Z3JdlIJgy7RHij1pnZwu2b/nI6Aro1tZ6bNvyITF46ujo3m9/mc7OFly7uhdKjmStc7LPQUqQSvHxiWA8JjfnIirKTe8D3hOtVovk64eIc6Rq6sEkjhAg1mq1SE05itSUo0QlBdIxxsAkCX/m1Cbi+fSh0WiwZ/dng96OwhzEj1sAGxtdScnWljrs/vVTo5MVKspzcfzoT5z4FhCo2zu9tbUeqcnGq3c0NVVhx7aPOV1YePuEEcfz8y5zdg62TE1cScyQbW9rxPZtHxutEtDSXIMdW/9K/A45O3shZjRZ7pVCoVAolourqy+8vcm/aakpR7BvzxcGV9CXlmZizfcv9krM5PH4jNUaFAqJRUvegIMDOSG6paUWG35+C1s3/wV5uZeIz5TNTdU4f247vvz8MVy53FsNKmHi/WbxmSvuu+8xxvd+82YSfv7pDYMSRbVaLa5fO4AN697ulZDLZ9mCCgAio6YSx2tqivHLhnfQ1tZgkJ2W5hps2fQ+LvYJVrOVM+1JxLAJxPEzpzfh0MHvWCfdjmS4FnV1Zdi47m1i9ReJ1pY6bN38gU6hB5fXgkKhUCgUruDx+PD1G06cu5F/ZYC9GRhGj5mFeQteJM7JZR2oqrrZvxGCItBQwN9fd38WACoruAtmV5bnsbbR3tFEHPf2CWVtGwDKyrI4sTMQMKlMMe1lG0t5Kbs2UZR7A4vdBZo15xnU1ZUjJ/sccT4j/RQKC5IxLfFRjJuwhCi/3B91dWW4cuk3JF8/bJGSlE5OnpgydQWxVUBBwXVs2/Ihlj/8PlHevC8N9RXYvOl9tDD0kJm34CVYW+t/sFUq5Nj7++c4eXw9EiYuQ/zYBSbLO1dXF2LfHnIfupjRMxiPKyvNxPlz2xEcEoPJU1Zg2PDxJj2Qa7VanDi2FsVFaTpzrq6+8GNYQA0WUdGJ/5N67F3JnZZylPh6oVCMqOhEVucMjxgHHo+vE3wuLc3EkUM/YN6Cl4gyin3p6pLit13/QnbWWVb+WCpCoQQzZj2JA/u+0pnLSD8JkcgGi5a83u/3CwDKy3Pwy/p3OZMQiogYj6JCXaWEA/u/hodXMAIYEjT6cqvyBjZt/JPBG4mG4seweD13ZgtCQ2Ph6zeM0/OZgouLDyZOehAXzu/QmbuRfwU7tv0VDyx/jzFjuid1dWXY/Mt7aG2tJ84vWPQyDc5QKBTKEGXGrCexZdOfiXNXr+xBwc3rmDTlQYwcOQWOfZRn5LIO3LhxFZkZp5GXe1EnwWvy1IeRlnKUE5lqyr2Bra0jVq76BOvWvkFMvNZqtcjOOovsrLOwthbA3t4VDg5u6OqSor29CZ2dLUS73j7hmD3nWdbtncyJSGyLBx96DxvWvU1MliwtycA3Xz6B+LELEDNmFvz9R/Z6ppHLO5GTfQ7JSYdQWtq78s3GxgFR0YmMvUANZVrio7iedJD4tykpzsBXnz+G8ROWImbMTHh6BvVSO1CrlSguTkdu9nmkJB/VUfoKCIyCnZ0zcnMusPLxNmPHL9RJ4AC6k7Mvnt+Ji+d3wsbGEU7OnhCJJMRnc6FQgtWP/5Nof+q0Fbh2ZQ/x+aesLBtfffEYxk1YgjFjZsPTK7jPtVChpDgduTkXkZJ8SMeGn99wuLj6IDPjtLFvm0KhUCgUsxMRMQ5FhSk64yXFGWhvb4K9vcsgeGVexo1fjONHfyL+7re11gP97McztUdi0+J1IPDzH4FrhP7peXmXoFIpOGnfm5nJfr3TyfC8aWerq85rCtlZ5DifKQiEIuI4W/WB2zA9e5OUik3hbo2TULjFYqMEPB4fK1Z+hG1bPkReLrm/XGdnKw4f+gEnT6zH8BETER4xDv4BI+Hq6kcMlLW3N6GmuhClJZnIy7uM6qoCc78N1tw383Hk511CDaFnW17uRXz5+WrMnfc8oqITIRRKdF7T3t6E5OuHcObUL4wV85FR0xDDIA1NoqOjGSeOr8PJExsQGBiF6Jj7EBYeD3d3/35lFNta63Ht6j5cvLCT+EPt4xuOsPD4fn0oKc5ASXEGJBJ7jIycjMioaQgIjIKtrW4FdE80Gg1KSzJw+tQvxAUS0K14YEhQeiARiWwQFZ2I1D7BeqZKh6joRJMSWnpib++CUTHTkZGu27v9wvkdqKsrxdx5L8DLm5x919UlRVbGaRw//nMvRQsej4/AoGiUlgx+ewqumJCwFJnpJ1FWpps1l3RtP8rKsrFg0csIDY0Dn6/7HWlra8Cli7/i4vkdvSrbff2GMcr0GELc2Pk4feoXHflNhUKOtWtewX0znkDCpAcYA8+Njbdw8fwOJF3b38svT89gdHQ0obOTnfqJm5sfAgKjUN7nukmlbfj+2+cQEjoaAQGRcHL2glAoIQa2fXzD4erqx8qP/pg5+2ncyL+COkIrg+ysc6goz8Wcec8jMmoahELdB4n2tkYkJR3A2dObGRPFYkbPQGTUNM59p1AoFMrAMDJyCsLDxzLKkTc2VmL/3q+wf+9XsLV1urNmbW9v0tsOKyg4BrPnPMuYsEmhMBEYFI2Vqz7Bti0f6lVOU6mUd1px6cPJ2QuPP/kprAXkjTLSs+hgER4xDnPmPY+jh9cQ5xUKOS5f2o3Ll3bDysoadvYuEIvt0N7WyKjux+PxsezBd1DNgZKYg6M7Eqevwonj64jzMlk7zp7ZjLNnNkMolMDe3hUCgRCdnS3o6GhhVPayt3fBipUf4fDB71n7eBtv7zCMirlPbwBcKm3Vq4qor9jAzs4FM2Y9hSOHfiDOy+WdOH92G86f3QahUAx7ezcIhCJ0djTrvRa2tk5Y8ehHvVo+UCgUCoViSURGT8XRI2t0kg3VaiXOndmChYtfHSTPzIdAIIKHRxCxPRhJnbcvTHvdprYtHSiCQ2KI413yTuTnXWZdgNfW1mBym9ueqNVq4jgXRWZlZdms9rj7wvhZ4KggTsOgtMqF/VuVN4gxBAqlLxYbvAe6+74/uvpv2Lf3C1y/doDxdQqFHJkZp+88UPJ4PNjZOUMgEINvZQWVSonOjhajbuSWIq8mEIjw6GP/wI8/vETM+Glva8SvO/+Jvb9/jqCgUXBwdIONrRM62pvQ1FSFivIcvTLXXt6hWP7Qeyb5ptVqUFqaeaciQSiUwMcnHC6uPpBI7CGR2IPH56OrS4rWllrU1paitqaYUXLdykqA5Q/92SgpQpmsHSnJR5CSfARA96aSt3co7Oxd7vigVMgh7+pEQ30FblXeYKwkAYDw8LEYN36xEVdh4IiNm6cTvNf3Wi6YOetp5GRfIAYcb+RfxY38q/DyCoF/YCTs7V3B5/HR0dGExoZbKClJJ2Y+Jk5/FDwe/64K3vP5Vnh45Uf44dvniN/T2ppirF/7Jhwc3BAcMhoOju4QiWzQ3taAurpSlJZk6Ww8OTq6Y8HCl/HTmldM9svW1glTpq7AyRPrdeZUKiWOH1uLs2c2IyAwCl5eIZDYOECpkKOtrRG3bt1ALSFpSCAQ4+GVH2Lj+ndM9qsnk6c8hG2EBYtWq0FRYSpROaAni5e+joSJ5g3eC4VirHrsH1jzwx+IG5OtrfXYtePvEAj+g6DgUXBwcP2/+3DjLVRU5Oq9D/v4hmPZg++a8y1QKBQKxczweDw8supj/Pe7F1BfX673tZ2dLXrXo7fx8Y3A40/8P4PUeygUEsNHTMTTz32F7Vs/Mlh+nISPbwQef/JTODi4QS7rIL5GLLYz2b45mJb4KLrknThzWlfFridqtQqtLXVohf7rM2/Bi4iMmsZJ8B4Aps94HDU1xcjKPKP3dQqFDI2Nlf3as7V1xJNP/wfOzl6c+NeT+x94BzU1xairLeXcNgBMmboCNdWFSEs9rvd1CoXcoGshkdjjiaf+bfYEXwqFQqFQ2ODq6ofQsDgUFiTrzF27ug8Jkx6Aq6vvIHhmXniEoiYAkEj6X0taWwtgbS3Q2W9WKrsglbYS25paAq6ufvDxjUDVLd3WAKdPbcLIyKnEYi9DOXNqEydtTpmKIg1Zf+lDq9XiJEPSqqmIReRCNCa1U2OxYbgWDQ3srgUAxgReCqUvFh28BwArK2sse+AdBAfHYP++rxg3C3qi1WrR3k7u0dEfdnYumDP3WcSNZdcvnEvc3Pzw9HNfYf3Pb/aqYO6JUtnFWOnDhI9vOJ565guIDJB7NgSFQtYrmG8MAoEYj67+hLGK21BammsYWwP0R1DQKKxc9YnFVd3fJiR0NJydvfqtinF29kJI6GhOzunm7o8Hlr+LXTv+zph0UVNTTFSGIDF6zGzMmvMMTh7XDSYPdZz/V420/ue3GCvo2toakJF+sl9bIpENHn/yU/A46Kk5fcZjKC/Lxs2bScR5hUKOwoJk4sNCX6ysrLFy1SeMfX1NIXrUdMTGzTU4MWWwcPcIxNPPfvn/2bvvMDvLOm/g3ymZzKQTSK+kUUJLQgIKRKog0hRQUeyAuirg2lhfdy1r2bWvuvvaK6uvuiqrqGDDFZQmRSEhoZeQQCAxhfRk8v4RYYGcSWYy58w9mfl8ruu5Lp3nnOf8niczwz339y75+lffkSfa2ANq06b1uauN59yWseP2y2tf//FuNVsNgF3T0jIw513wmXznP9+XB+7v3H5+Bx18bM48+x8qrugCHTFhwgG56G3fyK+u/EpuuP4n2dLGLJJK+jb3z9y5L8vzjjn3qRWQ2mrnNrdU52/Kanr+SRdkyB4jc/lPPrvD1Qd2pLGxKae/6O9z6OwXVrW2urq6vORl701Ly8BOL8M/ctTkvPLVH8nQoaOrVN0zNTf3z5vf+uX8/PLP58YbLk9ra+VZWbuqrq4uZ559SZqbB1Zcor8jRozYO+e++iPZay/BPQDd39yjX16xP27z5o259JvvyZve8oUe1V+0ZcumPP7YQxXPDRrUvq15hw4dXXFlzEcfuS97T6pOf3gtzDnstFz2o09s9/Uli+/KTTf+LLMPO3WXrvvII/d2ui35pIGD9qz49QV3XJsXnnrhLg8wuP66y9rV79wRQ9sY2FJpItquGDSw8rNYuODatLZu6dDk06f70w2XZ+GCaztTGr3Irg/p6WIzZp6Yt7/zOzl09gt3+YdjR5qaWjL36JfnHe/6Tg6dc8pOl3/vaiNHTspbLvxKJk2eUZXrzZz1grzx7/4j/fsPqcr1OmOvYeNy3hs+k332fU6Rz6+rq8uhs1+Y153/qTS3Y5RfKXV19Zk566Sdvm7mrJOq+v17yIzn59TTL+70XtxHzn1pzn7p/+l2P1vVNHbcfrngTZ/v1MjYgQOH5vw3fDajRk+tSk319Q0559wPZtq0OZ26Tr9+g/K68z6Zffer/s/pi896d4457lWdGmXaFUaPmZq3XPjlTJx4UKevVVdXl0PnnJIL3vi5bjsyGICOGzR4WC544+dywonnpV+/QR1+/7DhE3Luqz6Uc17xAcE9VdPSMjCnnfG2vOuS7+f5J56f8eOnt9m2b2pqydSps3PaGRfnkvf8MMce/5pnvLatJU2728z7J8057LS89eKv7VIbdsrUQ/PWi79W9eD+SY2NTXnRme/MOa/4QPYaNq7D7+/ff3BOfMEb8pYLv1Kz4P5JTU3NOePF78gl7/lhXvDCv8vUaXOquhdvQ0OfnHbGxTn3VR/O8OETOvz+fv0G54QTz8tbL/6q4B6A3cbUqbPbbKM88si9+c9vvbddExk7YsVfH8nlP/nsTl93x/xrcsvNv+zQwM+d+fOtv644ELSpqTkjRu7drmu01V867/bfd6q2Wps566Q2206X//RzeeihOzp8zTVrVuQ/v/3eqg2snLh35eX9ly9fnJv+9PNduuadd95Q1S2dnjR6dOWJZYsWLcyKFY92+vptPYuVf9sSelfce8/N+elP/q0zZdHLdPuZ9083YMAeOfPsS3Lc8a/JH//ww9x666/anIneXuPHT8/sOafkwIOP7fQe4bU2aNBeOe+Cf8utt/wyv/31N3ZpmY7xEw7I8088P5OnzOz45w8eltee98ksXHBtFt5xXaeXTBk0eFiOOPLsHHHkWe3epuDIo16aPfcam4ULrs3dd92UjRvX7fLn19XVZ9LkQ/L8ky7I+PHTd/k6XWnGrJPy2998s81Z8HV1dZnRjoC/o57z3BdnzNh9ctmPPpkli+/q0HuHD5+QU06/KFOnzq56Xd3RyJGT8taLvppfXvnlXH/df7e7kVtXV5+DDj42p55+UdUH1TQ3989rXv/x/P5/vpvfXXVphxr+9fX1Oejg43PyKW+uagfd0zU0NOb5J56fOXNOzU03XZH5867O0kfvq7jtQmmDhwzPBW/6fG6+6Re56jffyrJlD3f4GhMmHpgTT7qgW48IBiihX7/Bef35n654buieHQ+mBgwcWvF6tV6Gvr6+Icce9+ocedRLcvNNV+buu27M/ff9OWvWbL/1SmNjU4YNn5DJk2dkv/2PyN6TZlRcBerl5/5ztmzZ/r+LHf375fDDz8i+FQbMDhs2vkPXmTDxgIrPtq2lFnfFqaddmPXr12z39eEdrPXU0y+qeJ1he3UsLD10zskV/4aq5nKmrzvvU9t9rZqrgg0aPCzHHPeqHHPcq7Jly+YsX/Zw1q1bnU2bNqS5eUD69x+cwUNG7PAz21pxa9CgvapWZ7UNGzY+r37tx/LoI/fmppuuyF133pClj96/XUdnY2OfDB+xd6ZOnZ2DDzmuYufwzFknVRzI2Znvg4MOPjYHHnR05s+7JnfMvyb33fvnLF++eLvX1dc3ZI89RmXi3gdm2j6HZf/pR6WxsWm71x13/Gty2OGnb/f1zq5yl2ybkTX3eedk7vPOSbKt03j9+ieyft2abNiwpuKSrR0ZBD79gLnZf/qRWXDHHzN/3rZnUanfob6+PnvsMSoTJv7vs+jTp+92r3ve0a+ouKXcyFGT2l0TANTSGS9+Zz776ddUHCB555035POfPS8vffn7Mm7cfrv8GVu3bs1DD87LtX/8cW77y2+zZcvmnHLahTt8z7Jli/Ozn34uv7ziSzniyLMzY9ZJnWrrP/jA7fnJf1cOLvfb/8h2rzAwbvz+FVc1vf66yzJt38M7PXmpVvr06ZsTTjw/P/qvf93u3MaN6/LNr70zr37txzJu/P7tut7KlY/l29/8hzZXMtgVI0bsnUGD9sqqVY9vd+6n//1vGT5iYiZMOKDd17v1ll/lhz/4aE36dwcNHpZBg4dl1bOWyd+6tTX/9f2P5txXfqhTkzT3GjYuewwdlb8uX7LduZ9f/u8ZOXJSh/p1b/vLVfn+//tQxa2JoS11SSqngH/z+vM/nSlTD+2icjpm69bWPPDA7bnn7pvz0IPzs2TJ3Vm9atl2e0c/qb6+4alfMuPGT8/EvQ/s1D5ojz++qGKQOXnKrF2aadMRra2tue/eW3L7bb/Lfff9JY8tvb+NP5T7ZPToKdl78owcdNCxGTN2n6rVsHLF0jz44Lw8+OC8LFl8d5YtezgrVyxt8/k3NbVk1OgpGT16WqYfcFQmTZ7RqVnYW7ZszuLFd+WhB+cved7IAAAgAElEQVRn0UPz89jSB/P4skU7DCaH7DEyo0dPyYQJB+agQ47LkCEjdvnzS1lwx7XZtGl9xXN9+jTXZGb0k7Zu3Zq77rwhf77117n33lsrblFQX1+fPfccm0mTZ2b6gXMzZcqh23UAPvrIvRWXONpv/yMqdkBVsmrlY3mgwl7pEyYe2KHOw9tv+912gyH22GNkxnaiUfyklSuW5sYbL88d8/+QR5bcvd3P6JO/k/bZ5/DMmn3ydh3n69evqbgM+6jRU3d5RsmG9Wty440/y50Lr88D999WcQBMU1NzRo/ZJ1Onzc6MmSdW3DtzwR1/3G750YEDh7Y5MrGjWlu35PHHF2XNEyuycePabNxY+Xt+9Jipbf4e37B+TcXtAkaNmrJLs5u2r7E199z9p8y7/ercd9+tefyxByv+Hm5s7JPRo6dl0uQZOfCgYzN6THVWVVi44Lrt/v369RuUyVNm1eTa/fsPqdrqLzvy75+7IIt2POL4/yT5SM0LgY45KskOh/r/80d+a+/yXm7D+jVZs3Zl1q1dnaam5jT17ZdBg/bs0asS0fNc9qNP5vrrLtvu6ye+4A05+phzC1S0a7Zs2ZRVq5Zl3dpVaWhoTN/m/hk0aFi3WQlq06b1WbtmVdauXZn6+oanfl+0d9B7T7JtH9u/PYu6+jQ1tWTQ4L165bNor82bN+Uf33Pszl42N8nVXVAOdBfvSfLhtk6OHbdf3vzWL3VhOezOrrv2x/nvH28/6DJJLrz4ax1eTXPhguvyrW9c0uYM6rq6ukydNidHHvWS7D1pRrv+rtywfk0efnhh5s+7Jrff/j9ZuWLpM85/9GM7/k/ANVd/Pz/76eee+v/19Q2ZPGVWDjromEzd57AMHty+Ze5XrXo8f7jmB/njNT+oGOLW19fnjW/+QrsHJzzxxPL8y4fPbHOy1IQJB2TSlJkZPnxC+vRpbnOw89ix+3b5Crxbt7bmK1+6OPfec0vF8/X1DTlq7sty1PPOaXOgxKZNG3Lrzb/Mz3/+H8/IQBoaGrPnXmOz9NH7t3vPua/6UKYf8Lx21fi7qy7Nlb/4YsVzjY19cuzxr81zjzhzh4PIFz98V678xRe265MdPGR46lJXcWb837/j0gzr4OpLV/7iS/ndVd+ueK65uX/2n35URo+emkGDh6WpqaXigNLm5v5tZgDP/hl4uoaGxhxz3KtzxJFnp3kHW1I/suSeXHnFF7PgjmculT9w0J7p09i34oDdC9/29apuWUv3dPddf8pXv/y2Hb5mtw7vK9myZVNWr1qW9evXZPOWTamvq09Lv0Hp1zKwanu7d0dbtmzOqpWPZe3aVdmaramvq0//AXt0eYfgk89/48b12bhpfepSl+aWAWlu7p9+/QZ1SS1r1656avR/69YtaWxsSnPffunXf3CP2ieoO1i3bnXWPLEi6zeseerfesiQ4TpSKti8eVP+unxxNmxc97dn1T9Dhowo+qxaW7dkzRMrsnbtymzavDENDY3p329wBrWzAc4zVfo9PGDAHhkomOkQ4T27KeE90ONt3dqaT/zrORU7mXa3fgPoyYT3UJHwnqqpdnifJDffdEV++IOPVpwU8nSNjU0ZN36/jBgxKf36D06/loFp3dqa9evXZP261Vm9enkWP3xXli9/uM2VW5OOh/fPNmDA0IwZOy3Dh09Mv/6D0tIyMM3NA7Nhw5ps2LA2yx5flMUP35lFixa2OdEv2bZKzkknv3GHtTzb9777wdx6y6869J5ne+Pf/UcmTDywU9fYFStXPpZ//+x5Wb16eZuvaWhozJSpszN27D4ZMHDP9OnTlBUrlmbZ4w9l/vw/ZEOFVcWOO+G1Wfro/bntL1dtd64j4f3GjevziX996Q7r69vcP1OmzMrYcftmQP89Ut/QkFWrlmXliqW5c+H1bawgVZ/Xn/+Z/OSyT+fRR+/b7vyuhPfLly/Opz9xbqdm9k+YcEDe+Ob/W/Hc5s0b84mPnbPdwJen69u3XyZPmZWxY/fNgIFD09DQmNWrl2Xlisdy58LrK64gVVdXn9e+/uO58oov5eFFC7c7L7zvHdoT3u9Wy+a3R0NDnwypMEu0p2toaMweQ0dlj6GjCtdR/vn36zeo5isfsE1Ly8C0tAwsXcZuobGxT4cbIbVWX9+QgYP2zMBBe5YupUfoLr+HAQBqYeGC6yp2xjU09MmEie1fQhMAgGeaOeukNDf3z/e++8E2V59MtgWK993759x375+7sLrtPfHE8ixccF0WLrhul69x0MHH5oQTX9/h9516+kW5795bs/JZS6bvDgYPHpZXv/Zj+cqXKm/tlWybHLRwwbVZuODaiuefbf/pR+a441+T7/7n+ztdX1NTc15+7gfzlS+9reK2bcm2VR3m3f77zLt9h/MXnlJXV5czXvzOqq/mOXTo6Jx8ypvzk8s+U9XrPqmxsSkvP/eD+fIXLmxzufsNG9Zm/ryrM39e+8dDnnbGxZk6bU6uvMKAMXbMVEAAAACgTa2tW3LVb75V8dzUabPTp09zF1cEANCz7D/9qLzloq9WZSvPHSm9YmpdXV2ee+RZednL37dLtfTrNzivO+9TGTlqcg2qq70xY/fJ+W/4XIe2fW3L/tOPzMte/r6qrvg5ce+Dc9ZL/qEqKwc2NPTJi896d2bPOaUKlW3v8Oe8OC84+U01+54eP356XnrOP7Z7m98daWhozBkvfkcOf86LqlAZvUGPm3kPAAAAVM9vfvX1PPjgvIrnZs46qYurAQDomYYNG5+/e8sXcvNNV+S3v/5mxVWPdtXYcftl5qwTc9DBx+/0tXvvfXAOOvjY3HnnDc/YW72zxozdJ6edfnHGT+jcqk3DR0zMm9/6pdx4w0/zpxt/nsUP31mlCrvG6DFTc+Hbvp4f//ATmXf7/3T4/Y2NfXLsca/J8445N/X11Z+fe8iME7LXsHH57qXv2+XvwVGjpuRFZ70r42o4GKWuri5zj355pu17eK79ww/zlz//ps0VDXbVAQcenT33HJPvXPpPefzx7ZfBb48RIyflxWe+s9Pf9/QuwnsAAADoQVaseDRLlz6QadPmdPpav//dd3LVb79d8dzQoaPbvYcmAEBPMHjw8EyZemjFc019+3X6+nV19Zl16MmZOeukLLjj2tz2l99m4YLrsnbtqg5dp3//IZk8ZWYmT5mVKVMPzdCho9v93jFj98k5r/hAWlu35MEHbs8999ySRQ/Nz0MPzs+aNSs7VEe/foMz/cC5mTnzxEyYeFDq6uo69P62NDY25TnPPTPPee6ZWfHXR7J48d159JF7s3Ll0mzYsC4bN65tcwuC5pYBVamhM/r3H5JzX/Wh3HvPLbnm6u9l4YJr09rausP39Os3KAcfckKOnPuS7f49R46clHXrVm//OQP22KX6xo7dN297x6W55eYrc83v/1+WLn1gp++pr2/IxL0PzmGHn5YDDjw69fUNzzg/bsL0itu3NjW17FKNTxo5clJedOY7c+rpF+WRJfdkyZJ7snTp/dmwfk3Wr1+TDevXpHXr9s92+IiJ7br+qNFTc/Hbv5Vbb/lVrv799/LoI/fu9D319fWZMPHAzDns9Bx40DFpaHhmFDtu3H4VtyPuW4XfIfQMwnsAAADoQVavXp6vf+XtGT1mWo6a+7LsP/2oNDV1bGn7ZcsW5YqffzG33/a7Nl9z0slvrMlsHwCA7mq//Y/IfvsfUfPPqaurf+qztm5tzeOPPZTFi+/K8uVLsmrlY9m0aX02blyfvs3907dvv/RtasmgwcMybNj4DB8xIQMGDO10DU+GsRP3Pvipr6346yNZtmxxli1blBUrHs36dU9k48Z12bRpQ5qbB6S5uX+amwdk+IgJGTV6aocGDeyqIXuMzJA9Rmb/6UfW/LOqbdLkGZk0eUbWrVude++55W8DEB7LunWr09TUkr59WzJs+ISMGjUl48ZPb7Ptfezxr6l6bY2NfTJ7zimZPeeUrFjxaO6799Y8/viirF2zMmvXrkqfPn3T1NScoUNHZ9jwCZkw8cA0N/dv83pnnvXuqtf4zHqbMnbcfjXZeqKhoU9mHXpyZh16claufCz33nNLHn/8oac9i6Y0NbVkj6GjMmzYhEyceOAOB4mc/qK3V71GehbhPQAAAPRAix++M9/77gfTp0/f7LPvczJl6qEZM2ZaRo6aUnEfy2XLFuX++/6SBXdcm/nzfr/D2T/TD3heDjzomFqWDwBAtgX5w4ZPyLDhE0qX8lRQPnnKzNKl9CgtLQMz/YC5mX7A3NKlVDRkyIjMmHli6TK6hcGDh2XGzOeXLoMeTngPAAAAPdimTRty+22/e8Ys+paWgWlpGZjGxj5Zu3Z11q1blS1bNrfreqNGTcnZL31PrcoFAACAXkt4DwAAAL3MunWrK+6LuTPjJxyQV7/2X+3HCAAAADUgvAcAAAB2qKGhT46a+9Ic//zXp6FBVwIAAADUgr+4AQAAoAcZPnxCTj3tosybd3Xuv+/WHe5dvzN9+jRnxsznZ+7R52TPPcdWsUoAAADg2YT3AAAA0IP07dsvzz3yrDz3yLOyfv2aPPTgvDz00B1Zsviu/PWvj+Svyx/J2rUrK7534MChGbrnmIwZu08mT56ZKVNnp6mpuYvvAAAAAHon4T0AAAD0UM3N/TN12pxMnTbnGV9vbW3Nhg1rsmnThmzZvCnNLQPSp09zGhv7FKoUAAAAEN4DAABAL1NfX5+WloFpaRlYuhQAAADgb+pLFwAAAAAAAAAAvZ3wHgAAAAAAAAAKE94DAAAAAAAAQGHCewAAAAAAAAAoTHgPAAAAAAAAAIUJ7wEAAAAAAACgMOE9AAAAAAAAABQmvAcAAAAAAACAwoT3AAAAAAAAAFCY8B4AAAAAAAAAChPeAwAAAAAAAEBhwnsAAAAAAAAAKEx4DwAAAAAAAACFCe8BAAAAAAAAoDDhPQAAAAAAAAAUJrwHAAAAAAAAgMKE9wAAAAAAAABQmPAeAAAAAAAAAAoT3gMAAAAAAABAYcJ7AAAAAAAAAChMeA8AAAAAAAAAhQnvAQAAAAAAAKAw4T0AAAAAAAAAFCa8BwAAAAAAAIDChPcAAAAAAAAAUJjwHgAAAAAAAAAKE94DAAAAAAAAQGHCewAAAAAAAAAoTHgPAAAAAAAAAIUJ7wEAAAAAAACgMOE9AAAAAAAAABQmvAcAAAAAAACAwoT3AAAAAAAAAFCY8B4AAAAAAAAAChPeAwAAAAAAAEBhwnsAAAAAAAAAKEx4DwAAAAAAAACFCe8BAAAAAAAAoDDhPQAAAAAAAAAUJrwHAAAAAAAAgMKE9wAAAAAAAABQmPAeAAAAAAAAAAoT3gMAAAAAAABAYcJ7AAAAAAAAAChMeA8AAAAAAAAAhQnvAQAAAAAAAKAw4T0AAAAAAAAAFCa8BwAAAAAAAIDChPcAAAAAAAAAUJjwHgAAAAAAAAAKE94DAAAAAAAAQGHCewAAAAAAAAAoTHgPAAAAAAAAAIUJ7wEAAAAAAACgMOE9AAAAAAAAABQmvAcAAAAAAACAwoT3AAAAAAAAAFCY8B4AAAAAAAAAChPeAwAAAAAAAEBhwnsAAAAAAAAAKEx4DwAAAAAAAACFCe8BAAAAAAAAoDDhPQAAAAAAAAAU1rizF/zs8s+npWVAV9QCAPRyjy19oHQJAAAAAABQxE7D+0eW3NMVdQAAAAAAAABAr2XZfAAAAAAAAAAoTHgPAAAAAAAAAIXtdNl8AACgcz78z6eVLgEAAKhg8cML84H3vaB0GQBAL9C6ZctOXyO8BwCAGlu/7onSJQAAABW0trZqrwMA3YZl8wEAAAAAAACgMOE9AAAAAAAAABTWmORDpYsAdltNSd7Vwff8IclVNagF6B2uKV0AAAAAAADUQmOSfyxdBLDbGpCOh/e/j987AAAAAAAA8AyWzQcAAAAAAACAwoT3AAAAAAAAAFBYY+kCAABgN3dHkpeULgLo9v4+yeEdeP2KJBfUqBagd7ujdAHQxX6U5K7SRQC7rXOSvKiD73lVkvU1qAUAYIcGJNnaweMjRSoFAICyfpCOtZuXlCkTAAB4mo+k433gA4pUCvQIls0HAAAAAAAAgMKE9wAAAAAAAABQmPAeAAAAAAAAAAoT3gMAAAAAAABAYcJ7AAAAAAAAAChMeA8AAAAAAAAAhQnvAQAAAAAAAKAw4T0AAAAAAAAAFCa8BwAAAAAAAIDChPcAAAAAAAAAUJjwHgAAAAAAAAAKE94DAAAAAAAAQGHCewAAAAAAAAAoTHgPAAAAAAAAAIUJ7wEAAAAAAACgMOE9AAAAAAAAABQmvAcAAAAAAACAwoT3AAAAAAAAAFCY8B4AAAAAAAAAChPeAwAAAAAAAEBhwnsAAAAAAAAAKEx4DwAAAAAAAACFCe8BAAAAAAAAoDDhPQAAAAAAAAAUJrwHAAAAAAAAgMKE9wAAAAAAAABQmPAeAAAAAAAAAAoT3gMAAAAAAABAYcJ7AAAAAAAAAChMeA8AAAAAAAAAhQnvAQAAAAAAAKAw4T0AAAAAAAAAFCa8BwAAAAAAAIDChPcAAAAAAAAAUJjwHgAAAAAAAAAKE94DAAAAAAAAQGHCewAAAAAAAAAoTHgPAAAAAAAAAIUJ7wEAAAAAAACgMOE9AAAAAAAAABQmvAcAAAAAAACAwoT3AAAAAAAAAFCY8B4AAAAAAAAAChPeAwAAAAAAAEBhwnsAAAAAAAAAKEx4DwAAAAAAAACFCe8BAAAAAAAAoDDhPQAAAAAAAAAUJrwHAAAAAAAAgMKE9wAAAAAAAABQmPAeAAAAAAAAAAoT3gMAAAAAAABAYcJ7AAAAAAAAAChMeA8AAAAAAAAAhQnvAQAAAAAAAKAw4T0AAAAAAAAAFCa8BwAAAAAAAIDChPcAAAAAAAAAUJjwHgAAAAAAAAAKE94DAAAAAAAAQGHCewAAAAAAAAAoTHgPAAAAAAAAAIUJ7wEAAAAAAACgMOE9AAAAAAAAABQmvAcAAAAAAACAwoT3AAAAAAAAAFCY8B4AAAAAAAAAChPeAwAAAAAAAEBhwnsAAAAAAAAAKEx4DwAAAAAAAACFCe8BAAAAAAAAoDDhPQAAAAAAAAAUJrwHAAAAAAAAgMKE9wAAAAAAAABQmPAeAAAAAAAAAAoT3gMAAAAAAABAYcJ7AAAAAAAAAChMeA8AAAAAAAAAhQnvAQAAAAAAAKAw4T0AAAAAAAAAFCa8BwAAAAAAAIDChPcAAAAAAAAAUJjwHgAAAAAAAAAKE94DAAAAAAAAQGHCewAAAAAAAAAoTHgPAAAAAAAAAIUJ7wEAAAAAAACgMOE9AAAAAAAAABQmvAcAAAAAAACAwoT3AAAAAAAAAFCY8B4AAAAAAAAAChPeAwAAAAAAAEBhwnsAAAAAAAAAKEx4DwAAAAAAAACFCe8BAAAAAAAAoDDhPQAAAAAAAAAUJrwHAAAAAAAAgMKE9wAAAAAAAABQWGPpAoCaOj/JJTW8/q4MAHpTkpdWu5CnWZrk6CQbavgZAAAAAAAAUFXCe+jZLk3y3iTjSxfyNEP+dtTKRyO4BwAAAAAAYDdj2Xzo2dYleVfpIrrQLUm+XroIAAAAAAAA6CjhPfR8309ydekiusDWJBcl2VK6EAAAAAAAAOgo4T30fFuTXJieH2p/L71jkAIAAAAAAAA9kD3voXe4NcnXkpxfupAaWZfkktJFAACw2xqT5J9q/BkzO/j6QUm+WItCnuY7Sf6nxp8BAAAAADzL8CQrsm0mfk873l/F5wQAQO/085Rv13bl8Ui2DRAAAADa9pF0vK09oEilQI9g2XzoPZYm+efSRdTAoiQfL10EAAC7vb9Psql0EV3o3UlWlS4CAAAAAHqrPkkWpPwsn2oeL6vqEwIAoDf7VMq3b7viuD4G8wMAQHuYeQ8A1NQLU76zsFrHH5LUVffxAADQiw1KsiTl27m1PFqTHFmtBwYAAD2c8B7oUkbaQ+/zsyS/KF1EFbQmuTjbGkMAAFANq5K8v3QRNXZpkmtKFwEAAAAAbLNvko0pP+unM8eXq/5UAABg2yD3P6V8e7cWx5ok46v3qAAAoMcz8x7oUmbeQ++0IMnnSxfRCauT/FPpIgAA6JFak7y9dBE18pEkD5YuAgAAAAB4pt15P8931OB5AADA030/5du91TzuTdJc1ScEAAA9n5n3AECXeUPKdyJ29Lg7Sd9aPAwAAHiacdm2zHzp9m+1jjOr+3gAAKBXEN4DAF1md9zP85SaPAkAANjeB1O+/VuN47fVfjAAANBLCO8BgC51RLbt61m6Q7E9x69q9AwAAKCSliQPpHw7uDPH5iQHV/vBAABALyG8B7pUfekCgOL+kOS/ShfRDpuTvK10EQAA9CrrkryndBGd9KUkfy5dBAAAAADQPrvDfp6frtndAwBA2+qS/D7l28O7cixPslf1HwkAAPQaZt4DXcrMeyBJHkryydJF7MDyJB8qXQQAAL3S1iQXZ9tWU7ubDyR5vHQRAAAAAEDHdOf9PN9Yw/sGAID2+FrKt4s7csxP0qcmTwIAAHoPM+8BgGJekfKdjM8+bk/SWMubBgCAdhiRZEXKt4/be5xUm8cAAAC9ivAeACimO+7neUJN7xgAANrv3SnfPm7P8ZNaPQAAAOhlhPcAQFEzk2xJ+Q7HrUn+q8b3CgAAHdGU5M6Ubyfv6NiQZFqtHgAAAPQywnugS9WXLgDodm5O8q3SRWRbp+MlpYsAAICn2ZjkXaWL2Il/y7YBBgAAAABADzAiycqUnTH0oZrfJQAA7JorUn6GfaXj0SSDa3jfAADQ25h5DwB0C5ekXKfjomjgAADQfe2fbbPwS4f1zz5eX8ubBgCAXkh4DwB0CyX383xlF9wfAAB0xudSPqx/+nFzbI0HAADVJrwHALqNM9L1nY7XJqnripsDAIBO2CPJYykf2j95zK3t7QIAQK8kvAcAupWu3M+zNclhXXNbAADQaW9J+dB+a5Lv1PpGAQCglxLeAwDdSlfu5/mNLronAACohoYkf0nZ4H5tkgm1vlEAAOilhPcAQLfTFft5rk4yuqtuCAAAquTYlA3v31/7WwQAgF5LeA8AdDtdsZ/nP3TZ3QAAQHX9OGWC+4eS9O+C+wMAgN5KeA8AdEu13M/zniTNXXcrAABQVZOSrEvXh/cv64qbAwCAXkx4DwB0S7Xcz/NFXXgfAABQCx9N1wb3f0hS1yV3BgAAvZfwHgDotmqxn+dvuvQOAACgNgYkeThdE9xvSTK7a24LAAB6NeE9ANCtVXM/z81JDura8gEAoGZek64J77/cVTcEAAC9nPAeAOjWqrmf5+e7uHYAAKiluiTXp7bB/aoko7rqhgAAoJcT3gMA3V419vNcnmSvri4cAABq7PAkraldeP+OrrsVAADo9YT3AEC3V439PN/a5VUDAEDXuDS1Ce7vTtK3C+8DAAB6O+E9ALBb6Mx+nvOSNHZ9yQAA0CXGJHki1Q/vT+nKmwAAAIT3AMDuoTP7eZ5YoF4AAOhK/5jqBve/6tryAQCACO8BgN3IruzneVmRSgEAoGs1J7kv1QnuNyU5oGvLBwAAIrwHAHYz3077Gy0bkkwrUyYAAHS5s1Od8P7TXV04AACQRHgPAOxmxiRZnfY1Wv6lUI0AAFDKVelccL8syZ5dXjUAAJAI7wGA3dB7s/MGy5Ikg0oVCAAAhRycZHN2Pbx/U9eXDAAA/I3wHgDY7bRk5/t5vq5YdQAAUNYXsmvB/e1JGgvUCwAAbCO8BwB2S2el7cbKTUnqy5UGAABFDc225e872ul3QoliAQCApwjvAYDd1i+zfUOlNclRJYsCAIBu4G3pWIffD8qUCQAAPI3wHgDYbU1PsinPbKhcWrQiAADoHhqzbRn89nT2rU8ypUyZAADA0wjvAYDd2v/N/zZS1iYZX7YcAADoNl6Q9nX2fbhUgQAAwDMI7wGA3drQJI9nWyPlHwvXAgAA3c3l2XFH36Lo7AMAgO5CeA8A7PYuTvJgkn6lCwEAgG5mnyQb0nZH3yvLlQYAADyL8B4A2O31STK3dBEAANBNfSKVO/muTVJXsC4AAOCZhPcAAAAA0IMNTLIkz+zga00yp2RRAADAdoT3QJeqL10AAAAA9DKrk/zTs772rSQ3FKgFAAAA6CYao3MAANh9/EeSb5QuAqrgvUlOK10EUNyaJP2zbdb9wfH3OdA9PZTkzNJFAABAb9CYZHbpIgAA2ml06QKgSiZFOxz4X/VJDildBEAbhpYuAAAAegvL5gMAAAAAAABAYcJ7AAAAAAAAAChMeA8AAAAAAAAAhQnvAQAAAAAAAKAw4T0AAAAAAAAAFCa8BwAAAAAAAIDCGnf2gkNnvzBD9xzTFbUAAL3c9df+OCtXPla6DChu1KgpOfDgY0uXAQD0Aosemp/5864pXQYAAJB2hPcHH3J8pkw9tCtqAQB6ufnzrhbeQ5LhIybmmGNfWboMAKAXuP66y4T3AADQTVg2HwAAAAAAAAAKE94DAAAAAAAAQGHCewAAAAAAAAAoTHgPAAAAAAAAAIUJ7wEAAAAAAACgMOE9AAAAAAAAABQmvAcAAAAAAACAwoT3AAAAAAAAAFCY8B4AAAAAAAAAChPeAwAAAAAAAEBhwnsAAAAAAAAAKEx4DwAAAAAAAACFCe8BAAAAAAAAoDDhPQAAAAAAAAAUJrwHAAAAAAAAgMKE9wAAAAAAAABQmPAeAAAAAAAAAAoT3gMAAAAAAABAYcJ7AAAAAAAAAChMeA8AAAAAAAAAhQnvAQAAAAAAAKAw4T0AAAAAAAAAFCa8BwAAAAAAAIDChPcAAAAAAAAAUJjwHgAAAAAAAAAKE94DAAAAAAAAQGHCewAAAAAAAAAoTHgPAAAAAAAAAIUJ7wEAAAAAAACgMOE9AAAAAAAAABQmvAcAAAAAAACAwoT3AAAAAAAAAFCY8B4AAAAAALqDpBcAACAASURBVAAAChPeAwAAAAAAAEBhwnsAAAAAAAAAKEx4DwAAAAAAAACFCe8BAAAAAAAAoDDhPQAAAAAAAAAUJrwHAAAAAAAAgMKE9wAAAAAAAABQmPAeAAAAAAAAAAoT3gMAAAAAAABAYcJ7AAAAAAAAAChMeA8AAAAAAAAAhQnvAQAAAAAAAKAw4T0AAAAAAAAAFCa8BwAAAAAAAIDChPcAAAAAAAAAUJjwHgAAAAAAAAAKE94DAAAAAAAAQGHCewAAAAAAAAAoTHgPAAAAAAAAAIUJ7wEAAAAAAACgMOE9AAAAAAAAABQmvAcAAAAAAACAwoT3AAAAAAAAAFCY8B4AAAAAAAAAChPeAwAAAAAAAEBhwnsAAAAAAAAAKEx4DwAAAAAAAACFCe8BAAAAAAAAoDDhPQAAAAAAAAAUJrwHAKC7mpNkbOkiAAAAAAC6gvAeAIDu6vAkdyb5lySDCtcCAAAAAFBTwnsAALqrzUlakrw7yT1JLkrSWLQiAAAAAIAaEd4DANBdbX7a/94ryWeS3Jbk7DLlAAAAAADUjvAeAIDuanOFr+2b5PtJfp3kkK4tBwAAAACgdoT3AAB0V5XC+ycdl+SmbAvyJ3RNOQAAAAAAtSO8BwCgu9q0k/P12baE/rwk70/Sv+YVAQAAAADUiPAeAIDuaks7X9c/yfuS3JnkgiQNNasIAAAAAKBGGmt58VtuvjL33/eXXX5/fX19+vbtn+aWAWlpGZiRoyZn1KjJaWpqqWKVAAB0UztaNr+S0Um+mOTiJO9M8rOqVwQAAAAAUCM1De/vu+/PufH6n1b1mnV19Rk5clIOmXFCDp5xQgYPHlbV6wMA0G3sbNn8tuyX5PIkv8i2EH9e1SoCAAAAAKiRmob3tbB1a2uWLLk7S5bcnSuv+GLmHHZ6TjzpgjS3DChdWo/0xBPL86mPn7vd1/8/e/cdHlWV/gH8O5OZySSTHtJ7I5UUauhdVLAigqLS1HWtu7rrz13r7rp2UFYFQVE6CNJ7J7QQSE9I7733ZCbT7u+PmJjk3ptpN5kEzud5fB5z7r1nzmXutPue876Tpy7G/PvWGGFEBEHc7TIzrmH/r5/Q2pc+9T4CgyYbYUQEQRiRtmnz2TwAYAGAXQDeBlBl8IgIgiAIgiAIgiAIgiAIgiAGyYiuea9Wq3Ez9hDWfvk0iovSjD2cuxKlpiCVttL+Uyg6jT00giDuUiqVkvF9R6XSNXs2QRB3AX1X3vfGB/AsgBwA7wIw56BPgiAIgiAIgiAIgiAIgiAIzo3o4H23trZG/PzTWyjITzT2UAiCIAiCIAjuGLryvjdLAB+jK4j/IgATDvsmCIIgCIIgCIIgCIIgCIIwmFHS5nt7hyMoZIrG/ZQKOTrlUtTXlaGiIhdNjeyZTuVyKXbt+ABv/n0nJBIbLodLEARBEARBGMdgpNxwA7AJwJ8A/A3ApUF4DIIgtJCdFYvCghRa+9z5qyAUmhphRAQXUpIvoLIit0+biYkA8xc8b6QREfcCtVqNs6c309o9vUIREjrdCCPiVknJHWSkX6W1T5m6GFbWDkYYEUEQBEEQBEEQg8UowXt3jyDMnLVc5+MqynNx7eqvSE46C4qiaNs7Oppx6sQGPPHkP7kYJkEQBEEQBGFcg1kvYyyAiwDOA3gTAKnBRBBDLD8/CVdj9tDaZ85eToL3I1hW5nUkJ53r0yYUmpLgPTGoKEqFmMu7aO3Rkx+9K4L3FeU5jOc3Jnw2Cd4TBEEQBEEQxF3GKMF7fbm6BeDJZe9hTPgs7N75AZRKehnUpMSzeHDRqzA3tzLCCAmCIAiCIAgODWbwvts8AIkAfgbwAYDqIXjMIXXsyDeM35s1EYnEMDU1h6mpOcwl1nB09Iazix8JqhIEQRAEQRAEQRAEQRDEIBlRwftuwSHT8OCiV3H08Ne0bWq1ClmZ1zF23ANGGBlBEARBEATBoaEI3gNd34lfBPA0gLUAPgcgHaLHHnTxt09ALpdx0hefbwIHRy+MGTML48Y/ABtbZ076JQiCIAiCIAiCIAiCIAhihAbvAWBS9KOIubwLzU01tG1FRWkkeE8QBEEQBDHyDVXwvpsFgA8BrAHwHwA/AVAP8RiGNbVaheqqAlRXFeDC+a0IDIrGgwtfhoOjl7GHxrmy0kz8/NNbtPYHF76M8RMXGWFEBEEQBEEQBEEQBEEQxN2Ob+wB6IvP5yMoaArjtrbWhiEZg1qthlIpH5LH0oSiKHR2dhh7GHcFhUIGihoe9+lVKiVUqqGOW+iHoigoFJ2c9qlWq6BS6Z7m1xiUSvmgXDcqlQJq9fC4HrtxtXpzJBoJ565QcDvGTlk7p/0RhI6M9SHoDmATgDgAM400hmGPotTIyryB/32zGvG3jht7OJxTq1WQSltp/ymGyfd/giAIgiAIgiAIgiAI4u4zYlfeA4C9vStje1tbI+ePVVaWhZzsOJQU30FdbSmamqp7gooikRksLe1gaWkPd48gjA6Khp/fOPD53M+NUCoVyMmOQ1FRKiorclFTU4xOWXufwL1AIIRYbAkbWyfY2DjB0dEL7h7B8PAMgYWF7YD9y+Uy1NYU9/zd3tHMuF9baz3Ky7K1Hreziy9MTIRa72+ImppiKPoF2ARCEZycfGj7NjVWIS3tMvLzElBdVYjm5hpQFAUAEIslcHTyga9vJMaEz4GrW8CgjFetVqGsLAvFRWmoqSlGTXURGurL0dnZ0RMMF4nMYG5uBQsLW3h4hsLbJxy+fpGwsLDjbBw11UW04LtQJIYjw0o6mbQNGRnXkJtzG1VV+aivK+s5ViAQwc7eFaufXwdraweNj6tWq1FRkYPiojRUVxeitroYdXVlv59/1/MoEolhZm4FicQGHh4hv59/FKysRnFw5l1qa0sg7+ybIVkgEMLJ2Ze2b0dHM9LTYpCTHYfKijw0NVX1BNjNza3g7OIHP7+xGDf+QVjbOGo9BrlcisyMG8jKvIGK8mw0NFRCqZSDx+PDwsIGNrbOCAqajLAxs+Do5G3YCWuhtbUBGXeuorgoDVWV+WhorOwJ5JqYCCGxsIFEYgNnZ1/4+kUhNGwGzMwsdX6ctrYGNDfV9vzdUF/BuF99fbnW7zsmAiGcGZ47bbU01yIj43rXuVflo7Ghsud9ViAQwlxiAwsLGzg7+8PPfyxCQqdDLJbo/XjdWlvq0dJSR2t3cvaBQCDq00ZRahTkJyErKxalJRmoqy1Fe3sTgK4JblZWDpg7fxXGT1io8XFVKiVyc26jqDAFFRW5qKkpgkzW3idwb2IihJmZBaxtHGFj4wwHB094eIbAwyMYllb2Bp45QbAy9gy28QAuAzgP4C8A7hh3OMOTUinHgd8+R2dnB6ZOf9LYwyEIgiAIgiAIgiAIgiCIEWtEB+9FpmaM7QIBN0FipVKBhPiTuH51H2prS1j3k8ulqK8vR319OYqKUnHt6j5YWztg+oxliJ7yGCdB646OFlw8vxVJiWfQ0dGicdxtbQ1oa2tAWWlmTzuPx4O7RzDGhM/GxEkPw9TUnHZsdVUBNnz3J43jSUo8i6TEs1qP/513D2oVyOXCr3v+jYrynD5tjo5e+Ovfdvb83dJSh1MnNiI15QLUahVjPzJZO0qK01FSnI7Ll3bC128sFi56lZMgvkzahjt3riAt9RIKC1Iglw9cVlcul0Iul6KpqRplZVmIvXGgK/tE8BTMmbsSbu6BBo9p984PUF1d2KfN1S0Ar73x8x/jlrXj4vmtuBV3lDXTg1IpR0110YDn1NnZgYw715CWegkFBUkaV/bK5TLI5TI0N9WgojwHcTcPg8fjI2D0BMyZtxJeXmE6nCmzA/s+RXFxep82OztX/P2dX3uNQ4rz535BXOwh1hXYHR0tKMhPQkF+Ei6c34rJUx7H/AXPM77euimVCly7+iuuxuxhfH1TlBqtrQ1obW1AaUkGzp/7GePGP4j7H/wzJBJrPc+YXVFhCmIu70JOdhzrqn+VSoGW5lq0NNeisiIXSYlncOTQWkSNXYA581bCxsZJ68dLSjyLk8e/17ifNvt0s7V1xtv/2K/1/t3y8xJx5fIu5ObGs2ZSUCr/OPeK8lwkJpyCQCDC+AkPYvac52BlwHvd7VvHcO7sFlr7m3/fBQcHTwBdWS6Sk87h4oWtqKstZexHrVajqamasbRMb52ydly8uB0Jt0/2BP7ZqFQKtLU1oq2tkTaJwtVtNMaEz0Z09KMQm1kM2A9B6MjYwftu8wAkAfgFwPsABn5xjRCTpyyGtQ37e5ZCLoOsswMN9RUoK81Aq4bsVieOf981gc1/HNdDJe5Snp4hmDjpYVo7V7/nCIIgCIIgCIIgCIIgRpoRHbxvb2deFW5ubngwqyA/CYcOfskaGNGkubkWx499i1u3jmHZUx/AxVX/gG962mUcPrhWY2BFE4qiUFqSgdKSDPj5jYWr22iD+hupsjJv4Nc9/4ZMx1TQBfmJ+P7bF7Dg/hcxY9bTej/+9Wv7cfrkRiiVhqWDV6vVyLhzDZkZ1zF5yuN4YOHLtJW5XCouTsfuHe8zrgpm0p3BoL/42ydw9PDXBqfYpyg1crLjkJMdh/ETF+Ghh9+ASCQ2qM+BVFcVYNvWd9DYUKn1MWq1Ctev7Ud+fiJWrv6ScQJLXW0pdu/6EJUVuVr3S1EU4m+fQG7OLbzw0rewt3fT+tiBtLU14Ojhb5CWekmv45VKBW7fOo6U5PN4YOEriJ78KCfjGgotzbU4cngdMu5c0+t4pVKOm7GHkZR0Doseek2r1e76kEnbsGf3R8jJjtNqfwrMr0MAyMqMxcEDn6O1pd7gcVWU56CiPAeenqHw9YsyuD+C6GW4BO8BQAjgRQBLAHwOYD2A4V9LYwBjxy2Au0ew1vsXFiQj5vIuZGfdZNxOUWocOvAV/vq3HTAxGdE/M4ghEjZmFsLGzDL2MAiCIAiCIAiCIAiCIIaNEVvzHgBr+mRDUiUDwOVLO7Hlx7/oHbjvraa6CBu/fxlZmTf0Ov523DHs3vmhwYF7oktqykXs2PYPnQP33dRqFU6d3Igjh9ayBqc1aWyoNDhw3xtFUbhx/QB+/ukt1tXwhsrJjsNPm97QOnD/+8AYm5saqwwO3PcXf+s4ftr0OjpYyjwYqrwsGz9sfEWnwH1vVZX5+PmnN2nXXVVlPjZtfEWnwH1vzc21+GnTG2hurtW8swYlJXfw7Tdr9A7c9yaXy3Dk0FocOvAl6+r14aSwIAXfrl+jd+C+t05ZOw7s/wzHj/5P7/cINh0dzfhhw8taB+4BsL4OU5LPY8e2f3ASuCeIQTacgvfdbAF8BiAHwHMAeMYdztDx8Y3EytVf4qFH/gIej/m06+vLkJpycYhHRhAEQRAEQRAEQRAEQRB3hxG7JKatrRF5ubcZt3n7ROjd78kTG3A1Zs+A+5iYCGBn7wZzcysIhabo6GhGU2M1azp7hUKGndvfw8rVX8A/YLzWYykuSsOhg18OGAAyM7OE/Sh3WFjYQCgUg6LUkMna0dHRjPr6Co3pyO8lZaWZ2P/rfxnTgI9y8IC1tQPMzCzR1tqIhsZKtAwQEL0Zexjm5taYv+B5zsdpYWEHiYUNzMQWEAhFUCg6IZO2oa6uFCoVewyjsCAZe3Z9hBWrPgOPx928nOqqAuze+QGUSjnrPgKBkDYhYaAVvwORSGxgYWELsZkFhEJTKBVyyGRtqK0thUrFPumhtDQTO7e/izUvfMPpar/m5lps++VtyKRttG3ddd+FAlO0dzQx7tOtproIRw6tw9Kn3u/pd8uPb6KtrZG2L5/Ph0RiA5HIHDJZ24CTd5qaqnHk0Do8t/JTPc6uS2FBMrb+/LbG8g1W1g6wshoFsVgChVyGlpY6NDZWse5/K+4o+Hw+HnnsLb3HNthyc25hx7Z/apxQYm3jCCtLe5iKJZDLZWhprkVTUzXr/tev7Qefb4IHF73CyTjVahV2bP0nrbRFb3w+Hzwev8/7BNPnR2VlHvbt/Zi1ZAgAiMWS3z9b7CASiUFRFGSyNkilraivK9N7AhRB6GE4Bu+7eQDYBuBVAG8BuGrc4QydKVMXQyZtZSzzAXRljYoae98Qj4ogCIIgCIIgCIIgCIIgRr4RGbynKArHj65nrDltY+sMP/+xevV7NWYPa+Cez+djTPhsjJuwEF5eY2jpuSlKjdLSTNy6eQSJCWdoq01VKgX27PoQr76xBba2zhrHQlFqHD74FWPgxdTUHJOnPI7wyLlwdvZjXflEURSaGqtQWpqJrMwbyM66qXFlsotrQJ8a321tjdj43Uu0/SZMXIRZc57VeB7dLC3ttN53MCiVCuzf90mfALRAIMT0GcswbsKDsLd377N/V4mBO4i9cRDJSecY+7x0cTs8vUIRGDTZoLG5uPgjJGw6vLzHwMXFHxYWtoz7KRSdKCvNQmLCKaQkn2cMNmZnxSL2+kFMmfaEQWPqplapsH/fJ7QV/X7+YxE2ZhZ8/cbCxsYRIpEZgK5AcklxOpISz2r9GI5O3ggNmwFv73C4uPjD0sqecT+lUoHy8mwkJZxBUuIZxkBzYUEKYi7txJx5K3U4S3YUKPy275M+NX5FIjNET3kMYWEz4e4R1GeiRF1tKZISz+Dqlb2Mz09K8jlMmvwIPD1DsWvHe2hr+6NfExMhJkxchLAxs+DtE95nAkJzcy1SUy7g4oVtjBMEMjO6yicEh0zV+Rxrqouwfes7rIF7Fxd/TJ2+BAEBExhruTc1ViEt9RJiLu9iLGVyM/YwXFwDGOvZdpsw8SGEhs3o+Ts76yaOHv6att+jj/8NAaMnaHNa4PNNNO5TWZGLndvfZQ3cu7kHYuq0JfD3H894XTY0VCA15SKuXN4NqbSVtv3qlb1wcQ3gJIB1NWYPiopS+7TZ2rkgMmo+AoMmw97eDRKJDXg8HmSydlSUZyMz4zpMTc1pfR0+uJYxcC8SiTEx+hFERd0HF1f/AScBNTVVo7wsC1mZscjKvME4CYUgODKcg/fdJgC4AuA4gL8AyDfucIbGzNnPICH+FBoaKmjbCvIToVartHovJgiCIAiCIAiCIAiCIAjiDyMueC+TtePYkfVISb7AuP2+BS/oteq4qCgVp0/9wLjN1S0Ay57+CA4OnqzH83h8eHqGwtMzFNFTHseObf+krdzu6GjBod++wOoX1mkcT3FxOqqqCmjtjo5eWLn6S9jauWjsg8fjwdbOBbZ2LgiPmAO1WoX0tMu4fnU/6zECgRB2dq49fwsFpoz7ic0s++w33PW/sezo5I2nn/k3nJx8GPfn8Xjw9AqDp1cYwiPm4Ne9H9OyGFAUhQO/fY63/r6bMUA2EFNTc0yKfgQTox/Rul65UGgKH98I+PhGYNacZ7H/1/+iuCiNtt+5c1swdvwDEIslOo2JSXV1YZ8JJPb27njk8TcREMAcQLWxcYKNjRPCI+YO2K9QKMaESYswKfpRODp6aTUWgUAIL68weHmFYfacZ/Hb/k+RlxtP2+/ypV2YGP0wLCwMnzDS1FjVJ1X+6MBJWLzkHVhZjWLcf5SDB+YveB4RkfPw46bXaQFNiqJwNWYPfHwiUVqS0dPu6RWGJ5e9S5tE0s3a2gHTZyxDRMRcbP7hddTXl9H2uX5tn87Be4WiEzu3v8u4itrU1ByPPv4WIiLns04QAromTE2f+RQmTHwI+379LzIz6KnnTxz7DqNHT4QNy8QlsVjS53plm+xjaWnH2fuOXC7Fju3vMk4CE5tZYPET/6exBq+dnStmzX4GEyc9jF93/ws5Obdo+xw98jX8/cexTkrRVmLC6Z7/NzERYv6CNZg67UkIBEL6+MUS+PqNha8ffSJbVWU+SorTGc9l5ZovB/yc6637tR4aNhMUpUbGnWu4fm2fDmdEcMwMgHiAv7XZZ7j2MZJKPC0CsADALwDeA2B4TZNhzMREgLHj7sf5cz/Ttslk7aiqLICrW8CgjoGiqAE/o+4Vg/HvcK/92w7H8x1uYxpu4xlqg3X+w+3flaLUnGZx48Jw+zdiM1LGSRAEQRAEQRDE8DcigvdyuRSVlfnISL+CxITTrCv8IqPu02uFo0qlwIH9nzGmUw8JnYanlv8LAoFI6/7c3YPw51c24ofv/0yrRZ2bexvZWTcRGBQ9YB9MtZd5PD6efubfWgXumfD5JgiPmIvwiLkjog71YLGxccKa59cxriJmEhwyDc88+zG2/vw2LW17a0s9Yi7vwn0LXtD68SMi52Hu/FUwM7PUady92du74fkX12P71neQ2y9gKJO24XbcUUyf+ZTe/XfrHbh3cvbFmhe+NjiLQnDINEyeuhgSiY3efVjbOGLVmq+we+eHuJMe02ebQiFD7I1DmH/fGoPGCfQ9/zHhs7H0qQ+0SsnfNTnkP9j8w6u0bVmZN5CXm9Dzt3/AeDy74lNaNg8mVtYOWLn6C3yzbgXtWizIT0ZTUzVsbJw09tPt4vltqK0tobVbWNjhhZf+p/XECqAr4P3Mc//F/l8/pmWrkMulOHd2C5YsfVfr/gbb2dM/9pmY0c3K2gEvvvSt1pNqAMDc3ArPrfoce3Z9iDvpV/psk0nbcOH8Vjz6uGGlA7qvRYFAhOXPfoygYP0yfty5w5zVe9nTH2oduO+Px+MjNGwGQsNmGPOzZbgGngerD2uMrKD2vUQI4EUATwD4AsA3AAauyzGC+fpFAcwJitDaWgeAm+C9TNaOrMzrKCpMRUVFLpoaq3qy4ggEIkgk1pBY2MLR0Rs+vhEIDZsJicRa58fp6Gjp89lQW1vKuF9zUw3Ky7K16pPH48HVbTTr9prqIloGGKHQFI5O3rR9Ozs7kJUZi9ycOFRW5qOxobIn84upWAJbW2esWPW5Vt8FKEqN6qpCFBamoLqqELW1JaivL0OnrL1nUp9YLIGZmSUsLO3g7h4Mb59w+PhGcppRq7m5Fm29Mhx1c3ENAJ+v3dtcW1sjmptqaO0Ojl6M369KSzKQnh6DkqJ01NaW9JQnMjOzhIWFLZxd/DA6cBKCgqewZsTiknbXtw0cHX1+v75nGPQ9WhtNTdVIST6P/LxEVFcX9kxK5/NNYGFpB0dHL/j6RiF0zEydvi8aU01NMRT9Jm0KhCLGydwdHS24k34FOdlxqKrMQ1NTDZRKOXg8PiQSa7i4BsDffxyixi7QaYKmXC5DVuYNZGXe6HmuOzs7ekpx2dm5Iih4MkLDZmLUKOZJvVyRydqRmXENBQXJqKzIRWNDZZ8ygGIzC9jZucDZ2R++fpEIDpkGc3OrQR0TRVEoLEjCnfQrKC5OR11taU8GOKFQDFs7Z7j8/voMDZ0BUw4mq+ujsaESmRnXUVycjpqaIjQ2VvVM9BeJzGBpaQeJhS3c3ALhHzAOowOjGSfcEgRBEARBEARBsDFK8D456TwKC1M07ieTtkMu70BbW+OAdd95PB6iJz+GRQ+/rtd4bt86gTqGm3Pu7kFY9vSHOgXuu9nYOGHZ8o/w4w+v09ITx1zepTF4X8cQUPP0CoWTs6/OY2Ey3GbTDxUej4/lz32sdeC+m3/AeNz/wJ9w4vh3tG2xNw5i5qzlWq++9/AM0emx2QgEQjy9/F/46ounaDXRkxLPchK872YqlmDV6i85uVnr5h7IwYi6bh4ufeo9rPsyi1Z7PCnxDCfB+26Ojl5YsvSfWgXuu/n4RiA4ZBptJbpare5JUW9lNQpPLf9Iq8B9t1EOHpg46SHE3jjYp52i1MjMuIbJUxZr1U9LSx3jSmmBQITnVn2m141YPp+Pxxa/jYqKXNRUF/XZlpx0FvcteAHWNo4698u1xoZK3Iw9TGsXicywctXnOgXuu5mYCLDkyX+iqrKAlhkh/vYJzLtvNScBgIceeUPvwD3A/Nni7OLH2fvSEH22/Pf3/whiOLMD8BmANQDeAXBw4N1HpoGCxEylVHRVVZmPmMu7kZ52CUqlgnEfpVKO5uZaNDfXoqI8B8lJZ3H08NcIj5iDOXNXYpSDh9aPl5tzG3t3f6Rxv5jLuxBzeZdWfZqYCPDxp5dYt+/Z/RGqKvtWWnB29sUbb27r+Vsul+LyxR2IvXGQMVsOAHTK2lFVmU8rddSbQiFDZsZ1pKVeQkF+Up9AHRPZ74H8xsYqlJZkIPbGAfB4fAQGTcLsuSvg6Rk64PHauH5tP2PZsg/+dVLria4pyedx/Oj/aO0vv7YZHh7BPX8XF6Xh1IkNKGbIQAMAUmkrpNJW1NaWIC31EoRCU0ybsVSn7/m6qKoqwJXLu5CWerlPaa/e+l7fuUhOOosjh9YhPGIu5sxboffEOzbNTTU4fWoTUlPOM05sV6tVaGmuRUtzLfJy43Hu7E8YHRiNBxe9MuyD+Pv3foyysqw+bQ4Onnjz73+8luVyKS6c+wU3Yw8xZmeiKDXa2hqRm3MLuTm3cPbMj5g2fSnmzl8JoZD9+7xSqcD1a/tw5fJuxtedSqXo+XctKkzBmVObMSn6ESy4/0WIzSwMOGu6+voyXLqwAynJ51mvO6BrAmpFeS4qynORmHAKJiZCjAmfjdlznxuU5zo7KxanTv6Aaobsg0DX+1dNdRFqqouQknwBx8TrMWXaEsya/QyEQuZsgVyiKAqZGddxNWYPiovTWO9PyeVS1NeXo76+HCXF6Yi9cQDm5laYPOVxTJ+xzGgTDgiCIAiCIAiCGFmMErxva2voU+tZX903j2bMXA4f3wi9+qAoNeMNIx6Pj8eX/N+AP8I18fYOR2TU/D7pjgGgqDAF9fXlAwaIWhlWoAz27Pt7wbgJD8LdPUivYydPXYzbt46hpqa4T7tM2obU5AuYMOkhLoaoE7GZBWbOehonT2zo015VlQ+ptNWg1f293f/AS8Mi6NqfUCjGnLkrcPDAF33aGxsq0dRYxZqmXVePP6Hfe8HYcQsY08h3W/jQazA3131lYNTYBbTgPQCUl+Vo3Ufs9QOMtd6nTV/a50a3rkQiMR5c+DK2/vx2n3a1bMty1QAAIABJREFUWo3EhNOYPfc5vfvmyrVr+2iZCwBg5uzlcHHVf5WoqViC+x98Cbt2vNenXaVSIDnpHKZNf1LvvgHAxzcSEyYa9j7T2lpPayOfLQQxqAIAHAAQB+AtANeNOxxuDRRUkknb9O63s7MDp0/+gLibR/TK6KFSKZGUeBZpqZcwd/4qzJz1zIhNZVxWmoldO96nTVRkxRJQSkw4jSOH1jIGJHVBUWpkZcYiO+smxk9YiEUPv6HTJERjoCg1zpzajCsxe3S6nhSKTly6sB1pKRex5sVvdMpuNJDOzg6cObUJN2MP63V9q9UqJCedRXraJcyZtwqzZnNzfaenxeDA/k9ZJ4gwoSgK2VmxyM+Lx8KHXkf05EcNHoexVFUVYPvWdxgzM7FRqZSIubwL+XkJeG7V54wTnWtrS7Bn10eorMjVul+KUuNm7CFkZ9/Eiy99y8m1R1FqXLq4A5cubGOdDDWQru+zZ5GWehEzZj2NefNXg883MXhcSqUcRw5/jfhbx3U6TiZrx8XzW5GacgHPrfgUDoM4eaS2tgSHDnyJwoJkvY7v6GjBhfNbcfv2CTyx5B0EjJ7I8QgJgiAIgiAIgrjbjNjl127ugVi5+gs8u+IzvQP3QFeq6f710AEgPGIOXFz8DRkiADCufqYoirFWd2/9V+sDQGen1ODx3Mt4PB7mzNE/cGhiIsDM2c8wbktNvah3v4YKCZtBa6MoCqWlmZz0L5FYY/yEhZz0NRiCQ6cxrvYt6VVT3hAeHsHw8h6j17EBARNYb6ba2DghbMxMvfp19whmnJhRoeVNQbVajYT4k7R2sViCWbOX6zWm3kYHRjOmIM3LG/h9bygolQokJ56ltUskNpg+Y6nB/YeGTYe9PT0Yruk9XxszZj5t8M15plV05LOFIIbEJABXAewDwE0apWFgoCCfvgHd2toSfP/ti7gZe8jgUhxKpQJnTm3G7p3vM07aGu7y8xKw+YfXtQ/cA2DLVdbYUGlw4L7P41AUbt86jp82va5xBb8xqdVq7N39L8Rc3qX39VRXV4ZNG17R6Xlg7au2FBu+fRGxNw5ycn2fPb0Zu3YYfn3H3jiA3Ts/0Clw338sRw6txcUL2zTvPAyVlWVh08ZXdArc9z/+ly1/68mu1a2yMg+bNryiU+C+t8aGSvy06S8GL3xQKGTYvvUdnDvzk16B+95UKiUuXdiOn396qydVvL7kcil+2fJ3nQP3vdXVluKHDS/TMphwJT0tBt//7wW9A/e9tTTXYuvPf8eN6wc4GBlBEARBEARBEHezERu8Ly/Lxi9b/oavPl+K2BsHB0z5NpCMO1cY26PGLjBkeD2cnX0ZV/8WF6UNeBxTHcP8vAS9b6gQgKdnKGztXAzqIzRsBuMK7JLidMYJF0PB3t4NYob0e2UcBa8jouYP6xp9Fha2sGYog1Bays35RxrwXmAqlrCWaAiPmKP3ahUej8eYrrKRYSISk9LSDMbsHiGh0zlJ5cjj8RAUPIX+uCWZRg+eFBWmMAYZwsbMMijTSjcej4/AYHpZlK70mvrfpLeyGoXRgZMMGRoAMNaALipMpZXeIAhiUPAALAGQAmCckcfCieZmep3xbuZ61JyvrirA5o2vobZflqP+JBIbODv7wtcvCp6eoRoz7aSnxWDv7n8ZHCwdSrU1xdi5/V0oFLoF3PU9R3NzK4xy8IC7RzD8A8bDwzMEDg6eGr+rlJZmYuf2f0KlUur1uIPt6OF1SE1hnmQrEIhgbe0Aa2sHjWXSmpqqcfC3LwbcR5Pq6kJs2vgqLYtXf7pe33fSY7Bnl/7Xd0ryeRw7sn7A483MLOHuEYzgkGnw8x8LB0cvxsmz589uQUryeb3GYSxNTdXY9vP/MWYL4fH4sLS0g42ts8bviZUVuTjWq3xDc1MNfv7xTdbvWBJJV417TSUZ6uvLcOzIei3OhJlSqcD2rf9AVmbsgPuJxRI4OfnA1y8KTk4+jL8ve8vPS/h9woJ+k4LUajX27PoQBfmJA+5nZ+cKb58IhIROh5dXGCws6NkNOjpasPWXt9Hexu332cSEU9iz64MBy5EAXZOyXd1Gwz9gPFxc/Bnv5XRTq9U4fnQ9bsUd5XSsBEEQBEEQBEHcXYySNp9LjY1VOHr4a8TFHsbSpz/QebV8LsNqSJHIDP4B3N1T9fEJR1JjVZ+2oqLUAY9xcfFDbs6tPm1SaSv27f0YTy3/aEjqut1tmFao68rU1Bz+AeNpqdDlchmqqws5ydagDwsLW9rEjubmWk769vcf/vEFCwtb2mqoFo7O38srzKDjbW1d0NxED27ou5q/p187V1rN1s5OKShKrbHuONsq8JDQ6QaNqTdvnwhaPWCFQoaK8lzO6qvrg/Xcw7g7dx+fCNy49lufNpm0DdXVRXB21m/BrY9vJPh8w+fbubj4Iz0tpk+bQiHD3t3/wrMrPoFIZGbwYxAEMaCrAF4FMPAXwRGisCCFdZuTju93LS11+GXL31hXmNrauWDqtCUYPXoiY3rk5uZa3Em/gphLO9HSUkfbnp4Wg4sXtmPuvJWsYwgOmYK/v/Nrz98V5bm0UigAMO++NYgae582pwUedM+YoqbU+G0fPX25t3c4wsJnwd9/HCytRsHc3AoURaGpsQrFxWlITtI+aGpv747QMTPg7R0OF1d/1rTcCkUnykqzkJR4GinJ5xkDdYUFKYi5tBNzBvi3NYbkpLOIu3mkT5u7exDGT1yEwMBJfYLiFKVGeVk2kpLOIi72MONkhNycW0hOOovIKO2e+95aW+rxy09vDXx9T30CowMn6XV930mPwcXz2zB3/iqdxlVbU4wD+z9nrd/t6zcW02csQ8DoCTAx6XvroLm5FslJZ3H54o6ea5WiKBw5tA4ursb5TaQrilLjt32f9HleRCIxJkU/itAxM+HhEdLn+1dVVQGSEk7j+rXfGCekJtw+iUmTHoaLawB27ngPbW2NPdtMTISYMHEhQsNmwsc3AiYmf0yObmyoRHLyecRc2skYKE5NuYjxExchIGCCzud4/Oh61u+/PB4PEZHzMWHiQvj4Rvb5DUFRahQVpiH+9gkkJZ5mvEaKi9Nx6MAXWPrUBzqP69LF7awTCkxMhJg67QmMm7CQNmGZoigUF6fh5o2DSEm+0NPe3FSDI4e/1nkcbHKy43Bg/2eMWauAru/m0ZMfha/fWFhY2NLGWFmRh6TE07gZe4iW7YCiKBw9/DWcnHwM/k1IEARBEARBEMTdySjB+8io+Zg2Xbv0xHK5FJ2dUtTWFqO8LBvZWbGMq8+rqwux8buXsGLV5/DTMtjY2dmButpSWrujk3efH9OGYroZ1txUPWCQLTAoGldi9tDaMzOu4eu1z2LmrKcRGTmfk1Wy9wo3t9Gc9cNUx7ysJNPg4L1M2oaq6gJUVxWgvb0Z8k4pZLI21htq3ZhWEstk+tea7c3NLZCTfrTR2dmB6qoCVFUVoL2tCZ2dHZDJ2jWuJGJa+Sc1oNZuNx6PB2cXP4P6YFtNY+i1wtQvRakh75RqfF8oL8tmHhOHN1ptbJmDAA0NlUYN3peXs5w7hxNvrFkCII0NFXoH793cuXkdjg6KxrmzW2jtebnxWPvlcsyc+TSixi1gLMtAEIRBqgD8H4AdYM9sPqKo1WokJZ5h3GZpaQc7O1et+6IoNfbs+ohx4qGJiQD3P/hnTJm6eMBV4NbWDpgydTHGT1iII4fWITHhFG2fSxe2ISRkKlxcAxj7EInMYGf3xySmNoYsNUDXKnVdzk9XtTXFfb772do64+FH30RQ8GTavjweD7Z2LrC1c9EYVBYIRBg3/kFET3lM688jodAUPr4R8PGNwJy5K/Db/s+Qn5dA2+/ypZ2YMOlhxprfxhLbKzW1SGSGxxb/DRGR8xlL0PB4fLh7BMPdIxjjJyzEzz++2Sfw2u3a1X06B+8pSo09uz9kv74feAlTpj2h9fV99PA6JMTTr++LF7YhOGQaXN2Yr2/6uCj8tu9TxuwOfL4JFj38OqInP8Zassfa2gEzZy1HZOR87N3zbxQVdk3mkUpbUZCfpNUYjK2+vhx1dWU9fwcGRePxxW+zZs5ydvbFAwtfRkTkfGz58S+032AUpcbVK7/CzT0QZb1KmHl6heHJZe8yllYCuiZvzJ7zLCKj5mPzD6+hqd/EfwC4fnW/zsH77KxY2gSWbpZW9nhy6XvwDxjPuJ3H4/e89seNvx+/7v2YcXJ0ctI5BAVPRUTkXK3HVVVVgIvntzJuG+Xggaef+Tfrd3Mejwdv73B4e4cjInIe9u39uOf+UMadq1qPYSAtzbXYs/sjxsC9ldUoPLnsffj5j2U9nsfjwdUtAK5uAZgy9Qls3/YPWlp/lUqJ3/Z9gtf/upUszCAIgiAIgiAIgsYowXsLC1udAxHdN6sUik4kJZ7BqZMbaantFIpObN/6Dl586Tut+q+vK2MMClpZ2aOhoQKdnR1QqwxPha5QdNLa1Go1ZLJ21gCJr99YuHsE9/nR362xoRKHD67FsSPr4ekVhoDRExEwegLc3EZrXHF7L3PmKDjHdsO3to4+EUQbVVUFSE0+j7TUS31uHhlK2tFqcB8ikRnrzSuu1NYUIyXlAtJSL9FuVhtCJjX8/E1NzWmrjHTFVvPXzNxqUPqVy2Uag/e1tfR0rSYmAqjVatTUFEPBQU3c9o5mxnap1Lh1cZlSMYtEYigUMtRUFzG+X+uqtaWesb3DgNekgwN9FZ4+3N2D4Os3ljFFaUtzLY4dXY8Tx7+Dh2dIz2eLu3swJ6v+CeIepQTwHYCPADC/MY5QN2MPsaa3j4icxxrwYxJ380hP4K83kUiMVc+vhbd3uNZ9iURiPPHkPyA2k9CyoKhUSpw6sRGrX1indX/G0Pu7kIODJ55/8RuDv48FBkVjYvQjBgXXbWydsfr5tdi980PcSe+fxaUTsTcO4L4FLxg0Ti51/ztKJNZYtWat1r8/XVz8sWL1F9j43Z9owbvysmxUVubpNOkv7uZRxiwVIpEYq9Z8BW+fCK37EonEWLzkHxCLLXD92v4+29RqFU6d3IA1L2i3+jgt9RJKSu7Q2nk8Hh59/G+YMHGRVv1Y2zhi5eov8NOmN1BWlqXVMcNF79daeMRcPLnsPa2++7u6BWDp0x/il5/eom27kx6DrMzrPX8HBEzAsys/0ao8k62tM1as+hzffrOaVpItN+cWWlsbtH4Nq9Uq1nT75uZWWPP8Oq0zpPj6jcXzL3yNTRtfQXs7/aPsxPFvERI6Tesg9OmTGxlLzllZO2DNC1+zZgLpLzhkGp5d8Sl+2fIWbXW7IQ4fWsdYRsHZ2RdrXvyGttJ+ILZ2LvjTn7/Hlh//Sru3U1dXhrjYw5g2Q7uFLQRBEARBEARB3DtGXNp8odAUEyc9jMDAaGz+4TU09KvxLJfLsO/Xj/HaG1s01i5kCy5l3LmGjDv0ldVc6+hoGXB14+OL/46N37/MWutSpVKisCAZhQXJOHt6M0zFEnh6hMDbJxy+/mPh4RHMaQaBkUwgEDHWetaHjY0jY7uuweLa2hIcP7IeOf3KI3BF1knPUKErMzMLDkbCrLGhEsePfcvZCon+ZBpqE2pDzMHqY6YJNTweX2N9S839MgdFKC0WdEoZMjWoVEqs/eIpg8akDS4mlRiCKYAul8vw5WeDf9NMasCEErEZd1lWHn38LWz49kXGLDZA183e4qI0FBel4fzZLRCJzODhGQxvnwj4+Y2Fh2eIxs9XgiAA3GUp8nu7k34FJ49/x7hNIBAiesrjWvcll8tw4Rx9BSaPx8eypz/UKXD/x7E8LFz0KsrLslFclNZnW27ubZSXZXOW0WQwdQd3uZhI6e4RzMGIulZkL33qfaz7Kpu2Ojgp8eywCt4DXdfCkqXv6fx8u7sHYeKkh3Ez9jBtW8ada1oH77uu718YxsXH0qc+1Clw/8exPDy46BWUl2XTSrHl5cajrCwL7u5BGvvpnZmgt4mTHtE6cN/N1NQcz638DGu/Wo5Olu8Xw5mjkzeeePIfOk3aHT16IgJGT6SVulOplD1lF6ytHbBs+UdaBe67OTv7Yuz4BxB/63ifdrVahcyMa5g46WGt+klOOov6+nLGbcuWf6RzaRMHRy8sf/Zj/Ljpddpk69aWetyOO4Yp057Q2E99fRlysuNo7TweD8uf+bfWgftuvn5ReHDRqzjKUcr8oqJUxix7llb2WLn6S50C993EYgmeXv4v/G/9atqkgCtX9mjMvEEQBEEQBEEQxL1nxC6ls7ZxxKo1X0EgoAena6qLGG+09McUwBpKmm5suLgG4JkV/4VYywBqp6wdubm3ce7sFmza8Ar+/eGD2Lv7X8jKjGWc2X4vEXNYXsBUzBx01SUwF3vjANavWzlogXsAAAcr2AerLENC/Cl8vfbZQQvcA+Dk/PmDlMmCx+PptCKRSxSlNiiIbCgpR+Uc9KFUylknQw0FQ7JBiMXcTaRxcPDEcys/h0Rio9X+crkU+XmJuHDuF2z+4TX8+8MHsWvH+8i4c42x3itBEKgCsALATNxlgfu6ujIc/O1z7NrxHmNNcACYPvMp2Nu7ad1nQvxJxjrgkVHzEBwyTe+x8vkmePiRvzJui799Qu9+h9J9C16ArZ2LsYdBIxSaYu7cFbT2psYqNDZUGmFE7MaOewCBQdF6HTsx+hHG9gqWEjxMEhNOMV7fEZHzEBJq4PX96F8Yv08maHF919QU0wL/AGBmZon77n9erzFZWtkzXhcjweIn/k+v1OVjxy0YcPtDj7wBcz2ybY0dy9xvRXmu1n3E3TzK2B4eMVfn9PvdfHwjEcUytribmu+/AMDtuOOMmdaixi6Ap1eYXuOaFP2owaXOul25vJux/cGFL8OaZRK/NmztXDBz1nJae2tLPbKzburdL0EQBEEQBEEQd6cRt/K+t1EOHpg46WHcYFg1EHv9AKZOe2LANPKGpDDmglpDHW+ga0b/a29swYlj3+qcDUAulyEl+TxSks/D3t4dc+evRGTU/Hsytb6hq5z79sUc0Na2xvqVmD04dWKDVvsKhaawsLSDqcgMJgIhBAIR442lkuI7kMulWvWpC6bJMYaKu3kERw6t01jHvuvxRbC0tIPI1BwCgRACEyGEDOniy8qyGFMbEnSdsg7G+o1DhqOyCProX5d0qBly5oaWb+jPxzcCr72xBSdPbEBa6kWdylUoFJ1IT7uM9LTLsLF1xpy5KzBu/ANkxRBBdKXI3wDgA4yQFPl5eQloZKit3E0ma4dM1obGhkqUlNxBRXnOgO8XgUHRmDd/tU5jYAqk8/l8TlZwu7oFwD9gPPJy4/u05+XFsxwxfIjNLFiDx8NBcOh08A9+SftOUVKSMWwmHPB4PMyYqX9WIRcXf9jYOtMyDJSX52jdB+v1fb/h17eLawD8/ccjN/d2n/b+1zsTtgB/9JTHYG6uf7ayyVOfwOVLO43+nUsXnl5hegeNA0ZPYt1ma+eC4JDpevXr5R0OkUgMeb9SVhUV2l17jY1VKGUpiaDv5Ixu9y14AUmJZ2m/5WpqilFRngtXN+YSc0DXJOKE+FOM22YbMPGDz+dj9pznsGfXh3r3AQAtLXWMgXRnZ19ERM4zqG8AiJ78GC5d2EZ7XvPy4hEcMtXg/gmCIAiCIAiCuHuM6OA9AEREzWcM3jc0VKCiPHfAFIlKDmobDwU7O1c8u+JTlJVmIv72CaSkXNA5UFlfX4Z9ez9GUsIZPPnU+3qlexvJuMw8QLEEPk20CFxlZd4YMHDv6zcWgUHR8PIKwygHT61T/a9ftwJVVQVa7WtMhQXJAwbuvbzHICh4Mry8wuHg6Kn1dbppwyuMq4cIOrkRV54bmzFX3Q9H1jaOeGr5R5g15xncjjuOlOTz6GApJ8OmqbEKB3/7HIkJp/HU0x9yktqZGPGaAfR+k28HIO/1t/z3tm5q0APdLQB6f3DfD8DwOiaD6wq6UuSnadpxODlzahNnfUVGzcfjT/yfThN5mpqqUcEQCPX2iYSNrTMn4woKnkILZtbXlaGtrXFYfx+OjJyn10rgoSKRWMPa2pE2+aO0NAMRkXONNKq+3N2D4OjkbVAfrq7+tOB9S3Mt1GqVxmu9uakG5WX0VfrePhGw5fD67h+8r6srQ1tbAyws2GujFxYkM7YbGqAUCIQIGzMLt+KYV30PR1Fj79P7WInEGhYWdszZQyLngc/Xb9I8n8+Ho6M3ysqy+rQ31FewHNFXXs5txolWnl5hsLd312tM3axtHOHrF4X8vATattzcWwMG72trShj/rdw9gjFqlGHjCg6ZClOxxKCyDVmZNxjvG0SNXcDJAgixWAIf30jaBIGiQvI7liAIgiAIgiCIvkZ88N7dPQhCoZgxKFNclDZg8F4gZK7ZO3X6k4iK0v9HvLYcnbx02t/dIxjuHsF46JG/oLQ0A/l5iSgsSEJpSQZt9jab3Nzb2LzxVbz0yka9UviNVJ2d3K1KZ6slr6k+ukqlxLEj6xm3ubgG4Mml7+qd7k+hkGveycgoSo2jR75hDNw7OHphydJ34aFnPVaFcmRMxBkO2AIBjk7eeHLpe4P++BaW7DeSB5tQwHzurm6j8fjitwf98S2t7Af9MfTh4uKPhx/9CxY9/BrKyrJ+/2xJRklxOjo7O7Tqo6gwBT9seBl/fnUTLI34HA8zMgBSHf7W55jh0of097bBko3hG7yvBPAOgB0wLMHGiGVr54L7H/gTxoTP0bkkTF7Obcb20LAZXAwNAODjE0lroygKxUVpnD4O1/z8xxt7CBpZWNrRgvfNTdVGGg2dPvXk+2MKdFIUBZmsXeNvqf5B9W6hoRxe377M59h1fc9k3KZUKlBZmUdrd3DwhJOTj8FjCh0zc0QF7728xxh0vK2dM2NA2tPL0H5daMF7mZaB6aIi5nlkY8JnGzSmbhERcxmD98Usj9uttDSTsT00TL8MBb0JhaYIDIxGasoFvftgy1oRwuFnhbdPOC14X1WZh87ODk6zBRIEQRAEQRAEMbKN+OA9n28CCwsbxpSfdXVlAx5rxhZspagBg/7GZmIigLd3OLy9wwGshFqtQllpJnJz45GXG4/SkjusdUgBoLa2BPt//S9WrPp86AZtZJ2d7aAoipM642w3TVivp9/l5yWgoYG+WsLFNQB/fmUDhEJ6OnhtSaXDPzVlaUkGqirzae2jHDzwyqubYCpmLkegjZGUmtPYTE3NwefzaWluO9pbhvX7HhfYJthIpa13/blrg883gadnKDw9QzF7zrNQq9UoL89G3u+fLSXFaVAq2WvcNzZWYc+uD/HiS98O9lBvA4hD39XbFICmfvu1oiuNebf+AWbl7/v01tjv7zYAvU+6f9Baha5V4sTgYv9SYzzdKfLfxz16DZiamuOxxX/HmPA5eq8uLWepHe7i4m/I0PqwsWWuUTzcarP3N5SfSwqFDNXVRaiqzEd7exNk0nbIFVIoNUwObWII1GtbRmoouLiyrwDWlpjl+2mnFsF7plX3XePi7vq2tnFibG8Y4PqurMxj/Dx3dRvNyZjcOOpnKPD5JnBy8jWoD7aAq6HPM1O/KpUCSqUcAgHzIoRuVVX031xA12IALrh7MvdTWUGfFNJbWWkGY7urGzfvd27ugQYF75lesyKRGPb2boYMqw8bG3rWDbVajeamGoMzhRAEQRAEQRAEcfcY8cF7ABCLLRjbNaX/tdHjZsdwxOeb9NTqmztvJeRyKbIyYxF38zAK8pMYj8nKvIGiotTfJwDc/VQqJZqbqjlJwVrPMinE3Hzg4H1mxjXG9sefeNugwL1KpRxWN0rZZGZcZ2x/9LG3DArcUxSFjvYRUVp4WODzTWBl5UC74d7e3gi5XAaRSP9rcbgTicSQSKzR3u96aW6q0Sr97b2Gz+fDwyMYHh7BmD3nWSgUMuTm3EZc7GHk5NxiPKawIBk52XEYHcheA5YDhwF8MpgPQAw73NW+4caITJHPtc7ODhw++BUUchnGT1ykVx+1tSWM7QKBkHHC40DkchlUDAFJChR4PD4t80/HMJ74KBCIOEurzqa+vhypyReQlnoJVVUFrCWNdCWTDZ/vpJq+m2uDLTDbKdec1Yvt+jbh+PpmmpQpHWBia11tKWO7vhnA+pNIbGBlNQotLXWc9DeYxGILvScfdWP77mxolju2fuVyqcbgfXNTDa2Nx+PDhaPn2NHRGwKBkDYJpKWlFhSlZk0xz7a4gqsJW4acn1KpQGMj/T6QjY0TY7smMmk74/uqVNp/3miX4fyZRBAEQRAEQRDE0LsrgvdsN4k01Tl3cPQEj8ej1YMrK80Y8EfncCcSmSE8Yg7CI+YgPS0G+/b+BwoFPa14StL5eyZ4D3StMuEieM+UZhIAnJwHXrWRzzCRwtHRC+7uQYaNpyKXsxuugyk/P5HWZm3tAF+/KIP6ra8r0zq1N9HF0dGLFrynKAqlJXfg5z/OSKMaGg6O3mgvTOnT1p29xNMrzEijGhmEQjFCQqcjJHQ6srNuYs/ujxjriiYnnRvs4D1x7xkuK+/vuhT5Hh7BA06g6+hoRn1dOevnrEzWjgO/fY7qmiIsXPSqzo/f0c4crNjw3Z907ktXAwU3jc3MjHliMheam2pw8sT3SE25OCj9D6fvZJqyYmmFLWsXQz3x/tgyQ2387iVDRqSVjg7mACHA/tuZbWK7PqxtHEdE8J6L1xrTPQOBQMhaqsqQfgGtLj3G51gisYZIZGbQmLqZmAhgbe2I+vryPu1qtRqdsg6IWf5dZQwTzk1MBJyVXDLkGpZ2tNDuCwFATU0xvvxsqSHD0vrxCYIgCIIgCIIguo344L1arUZbW/9MuV0sLAb+EWhubg07OzfU1/edAd7a2oCysmy9628PJ2FjZkIma8OB/Z/RthUwBFNpDLhhNdyUlmYiOGSa4f2UMKf78/AMGfC41tZ6WhsX6TxLiu8Y3MdQaG2l14J0cfU3eJJMSUlFMU2zAAAgAElEQVS6Qcffi9w9QxhXTmdl3hgmwXvDy1uw8fAIRlG/4D0AZGXFkuC9DgKDovHEknewa8f7tG1afbYQhG6MHby/a1PkP/zoXzWmUaYoCpUVeUhMPI242MNQKump1K9d+RXmZlaYPfc5nR7fmCsNta0dbQyGZCQaSEryeRz87XPI5TLNO+uJUg+f3wg8I2fUMWYwbqAMCEwBVIA9y4A+2DLjDTeDlXWJxzPetSeXSxlL6Jmacvu+Yipmvl6k0lbW4D1Ttjgux2VQGTYjr3wfCZn0CIIgCIIgCIIYOiNzaXkv5WVZUCiYb0BZWNpqPJ5tdWBq8nmDxjWcRI1dwLjypFmL1RAilhUDA9U9Hq7SUi8Z3EdLSx2Ki1Jp7RKJNezsXFmPUyoVjDfKJBY2Bo8pNXVwVk5xrY0heG9uzsH5pxj+vN5r2N730tNiGG/2DTW2lUpMASNdsZ17WuolWspZYmChYTNhZe1Aa29trR8R2UCIEcWYb0wxAKIAvIG7LHCvLR6PB1e3ACx66DW88eY2ODh6Me53/twWFBbQJ0cNxJjBzeH8PiUwEXLeZ0L8Kezb+x+tAvcmJgJY2zjC3t4Nbu6BrP9xGey9G7GtvB8KTCuIu0lZAvtiDieNkGvDeNiCwGzBdn2xTdBgSwsPADIZfZupKTfZALrGpP81bOyV7wO9ZgmCIAiCIAiCuPeM+JX3KSkXWLe5arGqeUz4LMTeOEBrj7t5FDNmLecshZsxmZgI4ODgiZKSviu05Z0dGssDiEzNGEsLyOXDJyWmtupqS1FammlQRoXkpHOMAT4///EajmT+MS7v1FwvcyAV5TkoLhq5JXcNvY7q6sqQkx3H0WjuHZ6eIbC2dkBzc22f9qamaiTEn8TESQ8baWRd2G4uGvp6AQAf30hIJDZob++bsaWuthQpyecQNXaBwY9xr+DxeHBy8kFLv+tIrVajs1PKaRCAuOcZI3h/16XI58KoUe7405+/w/ffvojGhr41gNVqNX7d+2+88detWqcrVygMn5RFaFZcnI6Dv33GOknN3SMYQcFT4O09Bg6OXrC0tNMqM9LmH15DYUEy18O9azCVLRsO+CzPLZeTGIfz5Ji7Hdvzy3VwmO164fHZ3zuYMhJwOS5DrmH5MH29EgRBEARBEARxbxrRwfvGhkrExR5m3CYUirVK/+ztEwEnZ19UVxX0aVcoZDh9ciOWLH2Xk7Eam1JFXylvbm6l8cYcj8eHyNScVte4sbGa5Yjh7ezpzVjzwtd6HSuTtuHK5d2M2yIi5w14rEAggqmpOa0OaFW/604XFEXh5Inv9T5+qEkk1rRgsSHnDwCnTmwgNwf1wOPxMSn6UZw98yNt24XzWxEaNgMSieFZEfRlxrKSp7HJ8PcdExMBJk56CJcu7qBtO3fmJwQFT+GmRu49QsXw2SIQCMmKO4JrQxm8VwDYiLswRT5XJBIbPLfiU3z/7Qu0TEzNTTU4dXIjHl/8tlZ9CQQiWgYticQGq9Z8xdl42ZibWw36YwwHFEXh2JFvGINa9vbuWLL0n/DyHqNX30oS7BqQUCiiZTqQSKyxas3aQX9sM3P27zJsKc37/04xxHAuS3G3Y3vu+/+eNxRbf+Zm7O+tZmYWaGvrm41N1snduAw5R6GAOfNXcMg0zJ23Uu9+tWVr5zzoj0EQBEEQBEEQxMgxYoP37e3N2Prz31nTKAcGRbOmXu6Nx+NhztwV2LPrQ9q2xITTcHMPwpSpiw0eb29qtRr8AWakdwUjeeCx1ZvXkUzahtqaYlq7tY2jVsc7OnrR6rxXVeZBrVYNWp3AwZKXG4/0tMsIGzNL52PPnvmRtloXAGztXBAUPEXj8Ta2zrRJIuVl2airLcUoBw+dx3Pj2n7k542c2tI2ts604H1dbSnKy7Lh5h6oc38J8SeRcecqV8O750RPeQzXru5DR0dzn/aW5lrs2vE+1rzwNUxMuP2I0PTe181+lDv4fBOo1ao+7eVlWZyMY8q0Jbhx4yDDpKQq7Nn1EVau/lKrcepC23MfTF0rmyitVlNqQ6HoREVFLq3d2tqRs88vgvjdUAXvYwC8CiB9iB5vxHJ28cPsuStw7sxPtG0Jt09g6rQlcHLy0diPmZkFLXgvlbbA2cUXJoOQOv5eVF6ejfKybFq7nZ0rXnl9s0ET1jo62NNjE4DYzJIWvO/oaIWTsy8EAuNd32YswXsZSzp9fXAdKCa0JxCIIBCIaPdJuJ5QwVZ+QdeJI13ZAClOvjsaMhGA7XWhUMj0+q1KEARBEARBEARhiBFX816tViEl+QLWr3sONQwBaaBrVensOc9p3eeY8Nnw8Y1k3Hbi2P9w6eIOTtK5yWTtiLm8Cxu/f2nA/drbm7F+3QokxJ9iXNWoqwsXtjKmbRw9Olqr45nKD3R0tCA9LcbgsRnD/l//SyshoMmN6wcQe+Mg47bZs5/VKijnH0BPrU9RahxlWQ01kIT4kyNq1T3AfP4AcOzoep2v87TUSzh0YPBX5d3NzMwscd/9zzNuKyxIxraf32acrKIrilIjM+MaNm14BSXF2pV4EAhEjDWV8/MS0NBQYfCYLCxsMW/eKsZtuTm3sGPbO5zUqaUoNdLTYrDhuz+hkiHIPdRUKgXWfbkct+KOsk5808WVy7shY6irOjpwksF9E0Q/gx28rwCwAsBskMC91mbOWo5Ro9xp7Wq1GqdPbtSqDxsbJ8bjR2qGp+EoM+M6Y/sjj71pcKaZ9g7DvyfczZiub4pSo6mxygij+QPb895QX87ZY9Rz2BehO6YAekdHMyffb4GugHZLcw2t3cREAJGIvYY907WnVnP3mqiv0/+6Y3q9AqCViCEIgiAIgiAIghgKRgney2TtaGio0Oq/yopcFBWm4HbcMRw+uBaffbIYe3d/hNbWBtb+p89YClc3zfXuu/F4PDy57D3G9JlqtRpnT2/Gzz+9qXPAt+t4FfJy43HowJf47JPFOH3yB7S21Gk8rrq6EL/t+wRffLYUZ8/8iMrKPJ0fW6VS4Ozpzbh+dR9tG4/HQ2TUwKneuwWMnsDYfvDAF4i9cQBS6fBfddM7uC6Xy/DLlr8hKfGsxuOUSgXOnNqM40f/x7jdzT0Q4yYs1GoMoaHTGdtzc25h397/QC7XXM+7U9aOk8e/x4H9feuWcr1CejCEhExnXFFRXJSGXTs+YAwC9qdQyHDuzE/Yu/ujPgH/kXD+w9HESY8gOGQq47bc3Nv43zerkRB/Uq9JRLW1Jbh0YTu+Xvsctm/9B4qKUnU6nul9R6lU4Ocf30LGnau0VM26mjp9CeuEkqzMWHy7fg2SEs9CpdI9ZlhdXYgL57di7RfLsWvHe7TMJcZUV1eGQwe+xOefLMGpkxtRpkc2A7VahUsXtuPC+a2M2yOj5hs6TILob7CC9woA/wMQDGA7SG17nZiYCDB/AfMksKzMWBTka84OxDRRCwBK9fjOTTArYMjSZGllz/r9XlsNDRVafXe7lzmyXN/6/KbkkpOzL2O7Pr83mTQ1VY+I34d3M3s7N8b2ygpunuOqygLGyed29syP222wrz1DJsuKzSxgaWVPa29oqKSl+icIgiAIgiAIghhsRol4xd8+gfjbJwal76DgKVjwwJ90Ps7GxgnPrvgEW358k3FFYl5uPPJy4+HtHY7RgZPg4xuBUQ4eMDe37kkd3ylrh1TWhtraElSU56CiPAd5uQm0tNS6aGmuxaUL23HpwnaMcvBAQMBEuLmPhqvbaNjbu0MkEvfZXyZrR011IXJybiHh9kk0sdSInhT9COuP5/6CgqfCwsKO9qO1U9aOo4e/wbEj62Fj4wRziTVMTSWMq9CXPf0RJBJrLc+ae6NGecDWzhXZWbEAukoJ7Nv7H8TfPoFx4x9AYFB0T43vrhUx1UhPj8HtW8cZSw4AgFAoxpPL3tc6FbaPbyR8/aJQkJ9E25aSfB5FRamYMvUJBAVPgYODZ0+gW6mUo7IiDxl3riIh/iRt4kpk1HxUVeYbXD9+sLm6BSA4ZCoy7lyjbcvMuIZ1Xy3H5CmLERI6DY5O3j2pvZVKBaqrCpCRcQ0J8SfR3NR3lUdQ8BRIpa0oLtJuVTfxBx6Ph6XL3sfmTa+hopx+s6uluRa/7fsU5878hLAxs+DjGwE3t0BILGwgFHa99yiVckilbWhurvn9fS8XRUWptBIRupow8SFcu/Irrb2+vgw7tv0TJiYC2Nm7wVRkxpiC08LCDkufep+1fx6Pj6eW/wubNr6Cmuoi2vamxirs2/sfnD3zI8LCZsDHNwqubgGQSGx6SrIoFJ2QSdvQ1HPuOSgsTGF9zxhO2toacOXybly5vBt2dq4YHTgRrm6BcHMLxCgHd9qqqc7ODtTUFCMv5zbib59gzYAQGXUfPL3ChuIU/p+9+w7zsyzw/f+ZPum9TEiDTEIKLSF0AkqVLiJFf0oXaTZ0f+4e3Z979trLdc+uuyq2s66i2NZ1LUfFAiIivfcSSALpSAppppffHwEOMN9JpiV3CK/XdfnP853n+d6Dz8xk5v3c981by46I93/M1iXyVeJO2He/Y3LrH79f8WfITTd+Kx+8Yso2zx8xckIeuP/XLY5Pf/quTJ5yYpeNs8N2gy1AVq5c0uJY09Axnd5CZc5si1Rsz/AREyr+zjv96bsz5cB3FBjRVoMHj0pDQ/cWe9zPmze9S5Yvnzf3qU6dT+cNbRpT8cHZOXOeyJjmbX9fbovZrXz9DxvWvM3zRoyYUPH43DlPZWIrD7q3x9xO3nsjRkxo8bvqli2bM/3pe3Lg1JM6dW0AAID22K2mq0496JS8810f7/A+7KP33D8XXPRP+d53P93qPn3PP/9oi1+EGxp7ZP26NS/vVb/jLF40N4sXzX3dsZqaunTr1ivV1dVZv35Nm/ayGzp0r5x0ypVtft+amtqceNJl+cmPP1fx9S1btuSll17IS9tY7q4rlmjurHe9+//NV669LCtes+/6rJkPvjozrLa2Pt2698pfVi1rsdf2G1VVVefc93y61Rk1rTn1tA/la1+5ssX+rkmyfNmL+c0NX81vbvhqamvr0q1771fjYGuGNo3JO8/8eL7+1bb//1nSSSdfmVkzH6p4n65cuTQ3/u4bufF330hNTV26d++VTZs2bnN5x4EDh+fd5/yPfO87/2NHDnu31tDYIxdf+q/5znWfbHWG+PLli3LH7T/OHbf/+NVjdXUN2bJlyw772h48eFSmHnRKqw96bdq0cZuRvF+/odt9j+7de+fSD3wh377uryqGp2RrxL/9tv/K7a9ZwWTr576507P/dxVLly7I3Xf9/HXHampqt/5sqand+rOlDbMrBw4cntPO+MiOGiZvbV35xTYvyceTtFyWiHarqqrKscddlO9W+Dn8/HOPZMaz97e6ykmSjBtXeZuN6U/fnbVr/5LGxh5dNtaOqK9rrHh805vo+/+qVS+1ONb95QdWO+OxR2/p9DV2d61tIzN9etn7u6qqOnsM37vFA8Urli/KnNmPZ9TofTt1/Ucf+UOnzqfz9txr/9x9189aHH/k4d/n7ce8v9PXf/ihyivYtbYV4Stai/ePP3ZLTjzpsk6NafXqFZnx7P2dusa4vQ+p+KD5o4/cLN4DAAA71Ztuz/tK+vVvykWXfj5nnf3Xqamp69S1msdOzRVXfa3Ns9KTrTPQd3S4b82mTRuyatXSrFixuE3hftSofXLZFV/e5l50lUw96JQcfsRZHR3mLqF374G58OL/9eoM+zfauHF9Vq5Yst1wX11dk7PP/VQm7XN0u8fQNGxszjnv09ud7bRx44asXLFkm8FsyJA9c/Eln09D4T9st8fAQSPy3vf9/XYfsNm0aUNWrly6zXA/YMDwXHzpvxZd0WF30aNH33zgg1/M1INPbfM5Gzas2+EP5Zx2xkczevR+O/Q9evUekMsu/3ImTzmhzeds/dzfPOGmIzZt2phVq17KiuWL2hTuh+0xLh+88qsVt5+BLrDtH8xt88oS+RMj3HepCROPTNOwyttV/f6mb23z3H79m7LH8L1bHF+79i8Vt33a2Roaulc8vq4NWx3tKir9jtKWrZq25aWlC/P0U3d26hpvBf36Dc3w4eNbHF+39i+5/baWqwvtTK1tm9CWbcW2Zc2ale6NXUDz2KkVtxX78wuzMn/e9E5d+4WFMyteo6qqKuP2PnSb5/btNzSDBo1scXzx4nmd3mbqsUf/0KGtvl5r4sRpFX9PfWb6PbvUNlgAAMDu700b76uqqjOm+cCc+56/zTWf+F7GjTu4y649ZMieufrD38gJ77isS8NodXV19h5/aE49fdszE2tr6zNgwPAue98kqa9vzPEnXppLP/jFdOvWq0PXOO2Mj+b/ef8/tOvBhl1NU1NzLr/qa2lq2vaSfq3p02dQLr3sC+0KfW+0z75H56JL/rnVhwjaYr/9j8kVV32t4r58u7qx4w7OBy7/Unr3GdTha4yfcHiu/NDX069/UxeO7K2trq4xZ737k7nokn/JkCF7dum1Bw8elRNPuixD2/l1V1/fmA9cfm1OPOmD6d17YJeO6bUaGrrnnPP+Nudf+LmKf1DsjCEvr3QyaHDXXrcjqqqqW91fuqNqa+vz9mPPz+VXfiU9e/br0mvDa3R22fxbkkxO8pEkNmLuYltn319Y8bXZzz+WZ5+9b5vnH3rYmRWP337bj7a5qtPO0NrvAa1tS7UrqjTLvrNb2/zm11+ruN81LR16eOX7+47b/isvLV24k0fzfx144MkVI+UD99+QJUvmd/i6f7j5O9mwYV1nhkYX6N69T6srP/zm11/t1LVv+NWXKx4fNXq/Nq18dVArDwvf+LtvdHhM69evzS03X9/h81/Rq/eATNrnqIqv3fCrL2fTph2xiw8AAEBLO3TZ/Pq6xg6H4lfU1TWksbFHGht7pmevfmlqas6wPfbO8BHjd2jMqa2tz9uPeX8OO+zM3H/fDXnood+1uqzytnTr1it7jZmS5rEHZtKko9oUWxsbe+QTn/xhFi+el+lP3ZmZMx/M3DlPVlz2cnsGDNgjB0w+Pgcdcnr6dCKWvmKffY/OPvsenfnzpmfWzAezcOHMLF48N2vWrMz6dWta/WNNZ/dO7EoDBw7PVR/+Ru6686e547b/atMfYHv06JNDDjszR7/tve1etaCSseMOzkeu+U5uu/WHufeeX7TYc7KSqqqqjGk+MEcd/Z6MfcPDKg2NPVp8rdW3MlusNZWu0dCwY2b1jx69Xz7ysety+59+lLvu+lmbZvYmW5eAnHbUeZkw8cjXHW9o7N5y7O188KahoeU1Grt1/vOvr2/5fbCjW3u8Vl1dQ8Xvr53dw3bc3odk7LiDMv3pu3PvPb/Is8/c1+4Z9tXVNRkxcmKamw/M+AmHZ3grS2S27VrVedvb35ejjn5vZsy4P3NnP5GFC2dm2bIXsmb1yqxfv6biH9IaG3u2+70mTDwie48/LE8/dUfuveeXmTnj/nbPsK+pqXv1c58w8cgM26PybNTWtPb/a3V155+1q6mpzTWf+F6WLl2Q6U/fnRnP3pe5c5/KyhUt90Penr79hmby5ONz0MGneYiGnaGjfy2fm+SaJP/dhWOhgomTpqVp2NgsXNDy38o33/itjB1beZZvkhww+YTccvP1Wbp0weuOr137l1z/7b/OFVd9rUv+7fVaW7ZsbtPPy+7de6dnz/5ZtWrp6453dubqztSv35Ase8NDEEuWzM+8uU916Ofzww/daMn8dtj/gONzy83Xtwjir97fV3+9yP3dq/eATJh4RJ54/E+vO75x44bc8Mtr8/4L/rHdv7+98MKs3HXHT9o9XnaMw444K089eUeL4zNnPJiHHryxQw+jP/Tgja0uTX/Eke9u0zWmTD0pv/vtN1rMkp/x7P15/LFbs8++7V/d7pabv5Plr9karzPefuz5eeLxW1s8oDT7+cfyq198KWeceU2XvM8rtmzZkmTX+nsJAABQ3g6N96ee/uGcevqHd+Rb7HCN3XrmyKPOzZFHnZvlyxdl9vOPZcH8Z7Js2QtZuXLpq9G1vr4xDQ3d09jYKwMHjcigQSMzePCoDB6yZ4ejy8CBwzNw2jk5Yto5SbbuS7xg/rNZumR+liyZnxUrFmX9+rVZt251qlKVxm4909jYI337DknTsLEZtse4DBmy5w75RXCP4XtXXOb0zaKmpjZHTjsnhx/x7syd+2Rmznggf37huaxcuTjr169NdVV1evbqn0GDRmavMVMypnlKamvru3QMvXr1z8mnXpVjj7swzz33SGbNejhLFs/L6tUrsmHD2tTW1KVb914ZOHBEmoaNzdixB7X68MflV3ZuBkWSXHHV1zp9jfbo3r1PTnjHZXnbMefnuVkP5/nnHsmiRXOyevXyrF+/NjU1denWrVcGDNwjw4aNTXPz1PTpO7jitS68+J87PZ6LLv18p69RyVln/3XOOvuvu/y6x51wSY474ZIuv26y9QGA8RMOz/gJh2f9+rWZO+eJzJ37VJYsnpcVKxZn9eoV2bJlc2qqa7c+9NC9V/r0GZxBg0Zm0OCRaRo2ttWlhjuquro648Yd3KWrrLT2PhMnTcvESdOyfv2azH7+scybNz1LFs/LyhWLs3rNyq2fe03dyw989EzfvkNe/txHpWnY2NTXV94juS2mHf2eTDv6PV34GbXUv/+wHHb4u3LY4e9KsnUG6YL5z2TJ4nlZsmR+li9/5WfL1q1YunXrlYaGHunbd/DLP1vGZujQMf7IyM7U3ni/IcnXknw6ZtrvFK/Mvv/e9Z9q8drs2Y/n2WfubfHg4Stqa+tyymkfyne/8zctXnth4cz8x79/NO9939+nb98hnR7nc7MeyZ9u/UEmTzkx++1/TJvOGTasOc88c+8bxjUj8+dNf1P8W3hM89Q8N+uRFsd/9Ysv5QOXf6ldW449+cTt+cmPP9eVw9vt1dbW5eRTr658f78wq0vv7+efeyS3/vEHmTzlhOy3/7Hb/fgjp53TIt4nyVNP3pHf/PprOfmUK9v83suW/Tnf/tZfmZm8Cxk79qCMHr1fnn/+0Rav/fS/P5devfqneezUNl9v5owH8tP/rvz139TU3OqM9Tfq0aNvJh94Yu6/91ctXvvxj/4hffoMyoiRE9s8rgfu/3Vu/eP32/zx29PU1JyDDj4999z98xav3X3Xz5JsySmnfTi1tZ3brnHTpg155OHf50+3/mcuv+IraezW/gePAQCA3dcOjfe7mz59BmW//Y9p8x/7ulr//sPSv/+wIu+9u6qurs6oUftk1Kh9io2hobHHq6H0rai+vjF7jz80e4/f9h6JlFFf35gxzQdmTPOBpYey09XXd8vYcQe3Gpx2F337DumSaAA7UHtq0C1Jrk5ic9qdbOKkaWlqas7ChTNavPb7m67b5vfSiZOOzEEHn5r7KsScuXOezLVfuCTHn3hpDpx6UurqGto1ruXLF+WJx27Nww/dmLlzn0qydbZ/WzWPndoi3m/ZsiXXf+dvcvIpV2XSPtO6/AHPrjRx0pG5+aZvvTq78xWzZz+eH3zvMzn73E+lcTurFW3cuD5/+uMPcvPvv53Nmze9erymplasbYOJk47MQYeclvvu+WWL1/7v/X1JDpx6chfd38e36dzRe+6f/fY/Jo8+8ocWr9126w+zdu2qnHLq1dt9IPO5WY/kxz/6hyxf9uKrx6qqqrNli60VSjvjzGvy5S9d2uLrdOPGDbn+23+TE0+6LIcfcdY2V2rYsmVz7rrjp/ntb/53xRWpqqqq8853fbxdq3+dcMKlefzRW7J27V9ed3z9+rW57pufyBlnXpP9Dzhum9fYvHlT/viH7+bm33/7NbPXu+a+O/nUqzJr1kNZ9OLsFq/dfdfPM2fOEznxHR/M2HEHt/th1gXzn8ljj/4xDz342y5bLQAAANj9iPcAAOzK2lIH52TrEvnWbC6kqqoqxx5/Yb53/adbvDZn9uN55pl7t7l6yunvvCZLlizIrJkPtnht9erl+T8/+3xuvum67Lf/2zN6z/0zYuTE9OzZ79VwvmXL5qxZsyorli/KwoUzs2D+9MyZ/UTmzn2yRbhuj8kHvqPiEs8rli/Kf/7g71JdXZMBA4enW2PP1De0XP68uromF13yLx1+/85qamrOhIlH5sknbmvx2pNP3JZ/+5f35fAj352JE4/MwEEjXw1RmzdvzosvPp8nn7gt9993Q4v92ceOOzgbN66rOKuflk4/42NZumR+Zs5o7f7+19x803XZd79jsudebbi/FzyTOc8/3un7+/R3XpPnn3s0K1YsbvHafff8Ms9OvzcHHXJa9tvvmAwYuMergXbDhrWZOePBPPzQjXn0kVteF0wHDNgjQ4bumSefuL3D46JrDG0ak5NOviK/+uW1LV7bsGFtfvWLL+WB+36dKVNPyvjxh6Vvv6Gpra3Lpk0bsmzZi3n6qTvz4AO/2eb2gccef1FGtvNB+F69B+SMMz+eH/3w71u8tmbNyvznD/5n7r/vhhw49eTsPf7Q120ptXz5ojzx+J9y3z2/yAsvzHrduUdMOzu3/+lH7RpLJfX1jbngos/l61+5suLWhQvmP5vrvvmJNDU1Z+KkI7PnXgdkyNC90r1771e3R9u4cUPWrl2ZpUsWZMGCZ7Ng/jOZOePBFlvEAAAAVCLeAwCwK9tWvLdE/i5k4qSjWp19f/ON39pmvK+trcv5F/5jvn/9p/Pss/dV/JhVq5bmzjt+kjtfs692XV1jqmtqsu4NMzi7Ss+e/XLU0efllj98t+Lrmzdvqjg78xU1NeV/3Trp5Csya+aDLWa5JsmKFYvz219/Pb/99ddTX9+Ybt17Z/OmjVm1almrM1j79W/K2ed+Kj/8/md29NB3G7W1dXn/Bf+Y73/3b/PsG1ZyeMWqVS/lrjt/krvu3Hn3d48effK+Cz6bb3z9w9mwYW2L15ct+3Nu+t1/5Kbf/crWXTUAACAASURBVEdqamrTs2e/rF+/NmvWVP52W1tbn3Pe87e56w7PUe0qjph2TpYsWfC6++q1Fi6ckRt+eW1ueDnwN3brmbVrVrXp2gdOPTnHHHt+h8Z1wOTjs2DBs7nt1h9WfH3Gs/dnxrP3J9m6Glb3Hn2yauXSbNy4vuLHjxw5Kccdf3GXxPskGTBgeC697Au57pufaHWG/MKFM1r8vGts7JFNmzZmw4Z1XTIOAADgraljm7EDAMDO0Vq8/0OSA5J8JML9LuGV2feVzJnzRKY/ffc2z29o6J4LLv5fOfKoc9u8FPGGDWt3WNh8xXEnXPKm3t5o4KARec/7/v7VGaGtWb9+bZYvezErVy5tPdz3G5qLL/3X9OrVf0cMdbfW0NA9F1z0T5l21Hm71P09YsSEXHDRP213efxNmzZm+fJFrYb7mpq6nPue/y8jR07aEcOkE0474yM55tgL2nTftTXcTzvqvJx19ifbtVz+G5108uU5/Iiztvtx69evybKXXmg13A8eMjrvv/AfO70P/RsNGbpXrvzQv2evMVPafM7atX8R7gEAgE4T7wEA2JW9Md7PT3JBkmNjb/tdzsRJR2Vo05iKr938++u2e35NTW1OOfXqXHb5tRk+fHyXjq1P38F529vfl732OqBd51VX1+T8Cz+X09/5sfTtO6RLx7SzjBt3cC697Ivp3Xtgh68xdtzBufJD/56BA4d34cjeWmpqanPyqVflsiu+nOEjJnTptfv0GfTy/T253eeOaZ6SK67+eoYM2bND792798BcfOnns8++R3fofHasqqqqHH/ipbnw4n9Ov35DO3Wt3n0G5f0XfDYnn3pVp8L91nFV57QzPpozzvx46uoaOnSN8RMOy+VXfjU9e/br1Fha07v3wFx62b/lzLP+qssfWho+YkJOO+OjFbdcAQAA3trKr+MIAACteyXev7JE/qeStG1qIEmSxm69UlPTckZidXXX/ypQVVWV446/OD/58edavLZ40dzMmvlgm2Yxjt5z/1z5oX/PjBn35967/0+mP31PxWW9tzeWoUPHpHns1Ow9/rDsNeaADsemqqqqHHb4u3LoYe/MrJkP5fnnH8sLC2dkyeL5Wbduddau/UvF2erbWza/saHH6/ZzTpKGxh4dGuP27LnX/vnwx76d2//0n7n7rp9VXEa/kpEjJ2Xa0edln33f9rrjDQ3dK4x927O336iurqHFNZKkKm2bmZ5sXaq90jVqtrPSQGeuXVXduWg5evR+ufLq/52ZMx7IPXf/vFP395ixB2b8+MM7dX8nyZAhe+ZDH/1m7r7zZ7ntth9l+bIXt3tOY2OPHHzI6Xn7MeensVvPV4/X1Te2+O9WW1ff4bF1hfqK92vnv9bqK3yuHQ3Rb7xGxXuv7V8aLYzb+5Bc81ffz/333ZC77/p5/vyGPeO3ZdCgkTnk0DNy8KGnp66useODqODQw96Z8eMPzU03fjOPPnJzNm7csN1zhjaNydve/r7sf8Bxrzte6b9ZZ8dbVVWdgw85PZOnnJiHH7opD9x3Q+bMebLVFUpaU1tbn1Gj90nz2KmZOOmoDB48qn3n19RV/Pyqazr/vQ4AANi1VCXZsq0PuOQD/5bmsVN30nCg86794iVZMP+Z1x0bPHhUPvaJ7xUaEQBt9ZVrL8u8uU9t60M+leSzO2k47Bo+k+SoJFcn2ebN8SbzrSQXtfbi/gccl/Pea0/xV2zYsC5zZj+RefOeyqIX52TF8kVZvWZFNm3amJqa2jQ29khDQ/f07j0ogwaPyqDBI9PU1LzDZmO+2a1fvyazZj6U52Y9nEWL5mb16uVZv25Nqmtq0qNH3/Tv35SmYWPTPHZq+vcfVnq4u70NG9Zl7pwnMnduG+/vQSPSNGzsDru/N2/enOdmPZyZM+7Pn//8XFYsX5xNmzamtrYuPXsNyODBozJ6z/0zpnlKl4Rqynjxxdl5btZDWbhgRpYuXZjVq5e/es9169Yr/fo3palpTPbaa3KGDN1rp4xp9erlmf703Zn9/GNZtGhu1q5dmS1bkob6bunXf2iGNjVn7LiD0tTUvFPG05pVq17K7Ocfy/z50/PS0oVZtuzFbNiwNps2bUxdbX0aGnuke/fe6dtvaAYNHJFBQ0Zn2LCxu/TXyz13/zw//+nnt/UhM5OU/Q8PAOV8NsnftPOcXjHxAOggM+8BANiVfSXJ/yw9CMqqq2vImOYpGdPc9r2HaV19fbeMn3B4xk84vPRQyNb7e68xU9q1t/aOVF1d7evtLWDw4FHtnv29o3Xv3ieTp5yYyVNOLD2UberZs18m7XNUJu1zVOmhAAAAuyF73gMAsCtbXHoAAAAAAAA7g3gPAAAAAAAAAIWJ9wAAAAAAAABQmD3v2e00NHRPt269Xn+ssUeh0QAAAAAAAABsn3jPbueyy68tPQQAAAAAAACAdrFsPgAAAAAAAAAUJt4DAAAAAAAAQGHiPQAAAAAAAAAUJt4DAAAAAAAAQGHiPQAAAAAAAAAUJt4DAAAAAAAAQGHiPQAAAAAAAAAUJt4DAAAAAAAAQGHiPQAAAAAAAAAUJt4DAAAAAAAAQGHiPQAAAAAAAAAUJt4DAAAAAAAAQGHiPQAAAAAAAAAUJt4DAAAAAAAAQGHiPQAAAAAAAAAUJt4DAAAAAAAAQGHiPQAAAAAAAAAUJt4DAAAAAAAAQGHiPQAAAAAAAAAUJt4DAAAAAAAAQGHiPQAAAAAAAAAUJt4DAAAAAAAAQGHiPQAAAAAAAAAUJt4DAAAAAAAAQGHiPQAAAAAAAAAUJt4DAAAAAAAAQGHiPQAAAAAAAAAUJt4DAAAAAAAAQGHiPQAAAAAAAAAUJt4DAAAAAAAAQGHiPQAAAAAAAAAUJt4DAAAAAAAAQGHiPQAAAAAAAAAUJt4DAAAAAAAAQGHiPQAAAAAAAAAUJt4DAAAAAAAAQGHiPQAAAAAAAAAUJt4DAAAAAAAAQGHiPQAAAAAAAAAUJt4DAAAAAAAAQGHiPQAAAAAAAAAUJt4DAAAAAAAAQGHiPQAAAAAAAAAUJt4DAAAAAAAAQGHiPQAAAAAAAAAUJt4DAAAAAAAAQGHiPQAAAAAAAAAUJt4DAAAAAAAAQGHiPQAAAAAAAAAUJt4DAAAAAAAAQGHiPQAAAAAAAAAUJt4DAAAAAAAAQGHiPQAAAAAAAAAUJt4DAAAAAAAAQGHiPQAAAAAAAAAUJt4DAAAAAAAAQGHiPQAAAAAAAAAUJt4DAAAAAAAAQGHiPQAAAAAAAAAUJt4DAAAAAAAAQGHiPQAAAAAAAAAUJt4DAAAAAAAAQGHiPQAAAAAAAAAUJt4DAAAAAAAAQGHiPQAAAAAAAAAUJt4DAAAAAAAAQGHiPQAAAAAAAAAUJt4DAAAAAAAAQGHiPQAAAAAAAAAUJt4DAAAAAAAAQGG12/uAFSsWZfGiuTtjLADAW9zGDetKDwF2CevWrfZvcABgp1i1alnpIQAAAC/bbrz/8Y8+uzPGAQAAvOzpp+7M00/dWXoYAAAAAMBOZNl8AAAAAAAAAChMvAcAAAAAAACAwsR7AAAAAAAAAChMvAcAAAAAAACAwsR7AAAAAAAAAChMvAcAAAAAAACAwsR7AAAAAAAAACisNsmo0oMAAGijZaUHAF3kE0n+rvQggCIuTvKZdp5zVJLZO2AsAG2xofQAAADgraI2yZzSgwAAgLeYpS//D3jreakD5yyI390BAABgt2fZfAAAAAAAAAAoTLwHAAAAAAAAgMLEewAAAAAAAAAoTLwHAAAAAAAAgMLEewAAAAAAAAAoTLwHAAAAAAAAgMLEewAAAAAAAAAoTLwHAAAAAAAAgMLEewAAAAAAAAAoTLwHAAAAAAAAgMLEewAAAAAAAAAoTLwHAAAAAAAAgMLEewAAAAAAAAAoTLwHAAAAAAAAgMLEewAAAAAAAAAoTLwHAAAAAAAAgMLEewAAAAAAAAAoTLwHAAAAAAAAgMLEewAAAAAAAAAoTLwHAAAAAAAAgMLEewAAAAAAAAAoTLwHAAAAAAAAgMLEewAAAAAAAAAoTLwHAAAAAAAAgMLEewAAAAAAAAAoTLwHAAAAAAAAgMLEewAAAAAAAAAoTLwHAAAAAAAAgMLEewAAAAAAAAAoTLwHAAAAAAAAgMLEewAAAAAAAAAoTLwHAAAAAAAAgMLEewAAAAAAAAAoTLwHAAAAAAAAgMLEewAAAAAAAAAoTLwHAAAAAAAAgMLEewAAAAAAAAAoTLwHAAAAAAAAgMLEewAAAAAAAAAoTLwHAAAAAAAAgMLEewAAAAAAAAAoTLwHAAAAAAAAgMLEewAAAAAAAAAoTLwHAAAAAAAAgMLEewAAAAAAAAAoTLwHAAAAAAAAgMLEewAAAAAAAAAoTLwHAAAAAAAAgMLEewAAAAAAAAAoTLwHAAAAAAAAgMLEewAAAAAAAAAoTLwHAAAAAAAAgMLEewAAAAAAAAAoTLwHAAAAAAAAgMLEewAAAAAAAAAoTLwHAAAAAAAAgMLEewAAAAAAAAAoTLwHAAAAAAAAgMLEewAAAAAAAAAoTLwHAAAAAAAAgMLEewAAAAAAAAAoTLwHAAAAAAAAgMLEewAAAAAAAAAoTLwHAAAAAAAAgMLEewAAAAAAAAAoTLwHAAAAAAAAgMLEewAAAAAAAAAoTLwHAAAAAAAAgMLEewAAAAAAAAAoTLwHAAAAAAAAgMLEewAAAAAAAAAoTLwHAAAAAAAAgMLEewAAAAAAAAAoTLwHAAAAAAAAgMLEewAAAAAAAAAoTLwHAAAAAAAAgMLEewAAAAAAAAAoTLwHAAAAAAAAgMLEewAAAAAAAAAoTLwHAAAAAAAAgMLEewAAAAAAAAAoTLwHAAAAAAAAgMLEewAAAAAAAAAoTLwHAAAAAAAAgMLEewAAAAAAAAAoTLwHAAAAAAAAgMLEewAAAAAAAAAoTLwHAAAAAAAAgMLEewAAAAAAAAAoTLwHAAAAAAAAgMLEewAAAAAAAAAoTLwHAAAAAAAAgMLEewAAAAAAAAAoTLwHAAAAAAAAgMLEewAAAAAAAAAoTLwHAAAAAAAAgMLEewAAAAAAAAAoTLwHAAAAAAAAgMLEewAAAAAAAAAoTLwHAAAAAAAAgMLEewAAAAAAAAAoTLwHAAAAAAAAgMLEewAAAAAAAAAoTLwHAAAAAAAAgMLEewAAAAAAAAAoTLwHAAAAAAAAgMLEewAAAAAAAAAoTLwHAAAAAAAAgMLEewAAAAAAAAAoTLwHAAAAAAAAgMLEewAAAAAAAAAoTLwHAAAAAAAAgMLEewAAAAAAAAAoTLwHAAAAAAAAgMLEewAAAAAAAAAoTLwHAAAAAAAAgMLEewAAAAAAAAAoTLwHAAAAAAAAgMLEewAAAAAAAAAoTLwHAAAAAAAAgMLEewAAAAAAAAAoTLwHAAAAAAAAgMLEewAAAAAAAAAoTLwHAAAAAAAAgMLEewAAAAAAAAAoTLwHAAAAAAAAgMLEewAAAAAAAAAoTLwHAAAAAAAAgMLEewAAAAAAAAAoTLwHAAAAAAAAgMLEewAAAAAAAAAoTLwHAAAAAAAAgMLEewAAAAAAAAAoTLwHAAAAAAAAgMLEewAAAAAAAAAoTLwHAAAAAAAAgMLEewAAAAAAAAAoTLwHAAAAAAAAgMLEewAAAAAAAAAoTLwHAAAAAAAAgMLEewAAAAAAAAAoTLwHAAAAAAAAgMLEewAAAAAAAAAoTLwHAAAAAAAAgMLEewAAAAAAAAAoTLwHAAAAAAAAgMLEewAAAAAAAAAoTLwHAAAAAAAAgMLEewAAAAAAAAAoTLwHAAAAAAAAgMLEewAAAAAAAAAoTLwHAAAAAAAAgMLEewAAAAAAAAAoTLwHAAAAAAAAgMLEewAAAAAAAAAoTLwHAAAAAAAAgMLEewAAAAAAAAAoTLwHAAAAAAAAgMLEewAAAAAAAAAoTLwHAAAAAAAAgMLEewAAAAAAAAAoTLwHAAAAAAAAgMLEewAAAAAAAAAoTLwHAAAAAAAAgMLEewAAAAAAAAAorLb0AAAAAAAK+Kck55ceBABAG8xPMrX0IADY8cR7AAAA4K2oT5KhpQcBANAGG0sPAICdw7L5AAAAAAAAAFCYeA8AAAAAAAAAhYn3AAAAAAAAAFCYeA8AAAAAAAAAhYn3AAAAAAAAAFCYeA8AAAAAAAAAhdWWHgAAAADArmb4iAk5/IizSg8DAHgLeO65R3LfPb8sPQwAdgHiPQAAAMAb9O07OJOnnFh6GADAW8DmzZvEewCSWDYfAAAAAAAAAIoT7wEAAAAAAACgMPEeAAAAAAAAAAoT7wEAAAAAAACgMPEeAAAAAAAAAAoT7wEAAAAAAACgMPEeAAAAAAAAAAoT7wEAAAAAAACgMPEeAAAAAAAAAAoT7wEAAAAAAACgMPEeAAAAAAAAAAoT7wEAAAAAAACgMPEeAAAAAAAAAAoT7wEAAAAAAACgMPEeAAAAAAAAAAoT7wEAAAAAAACgMPEeAAAAAAAAAAoT7wEAAAAAAACgMPEeAAAAAAAAAAoT7wEAAAAAAACgMPEeAAAAAAAAAAoT7wEAAAAAAACgMPEeAAAAAAAAAAoT7wEAAAAAAACgMPEeAAAAAAAAAAoT7wEAAAAAAACgMPEeAAAAAAAAAAoT7wEAAAAAAACgMPEeAAAAAAAAAAoT7wEAAAAAAACgMPEeAAAAAAAAAAoT7wEAAAAAAACgMPEeAAAAAAAAAAoT7wEAAAAAAACgMPEeAAAAAAAAAAoT7wEAAAAAAACgMPEeAAAAAAAAAAoT7wEAAAAAAACgMPEeAAAAAAAAAAoT7wEAAAAAAACgMPEeAAAAAAAAAAoT7wEAAAAAAACgMPEeAAAAAAAAAAoT7wEAAAAAAACgMPEeAAAAAAAAAAoT7wEAAAAAAACgMPEeAAAAAAAAAAoT7wEAAAAAAACgMPEeAAAAAAAAAAoT7wEAAAAAAACgMPEeAAAAAAAAAAoT7wEAAAAAAACgMPEeAAAAAAAAAAoT7wEAAAAAAACgMPEeAAAAAAAAAAoT7wEAAAAAAACgMPEeAAAAAAAAAAoT7wEAAAAAAACgMPEeAAAAAAAAAAoT7wEAAAAAAACgMPEeAAAAAAAAAAoT7wEAAAAAAACgMPEeAAAA6Ijzk5xYehAAAACwuxDvAQAAgI5oTvLbJDclmVh4LAAAAPCmJ94DAAAAnXFckoeTfDFJn8JjAQAAgDct8R4AAADorLokH04yM8lHktSUHQ4AAAC8+Yj3AAAAQFcZkOQLSe5LMq3wWAAAAOBNRbwHAAAAutrkJLcm+WGSEYXHAgAAAG8K4j0AAACwI1QlOS/J9CSfS9Kz7HAAAChgdJL60oMAeLMQ7wEAAIAdqVuSTyZ5Osn52Rr1AQDYvXVP8ndJnszWfw8C0AbiPQAAALAz7JHkO9m6nP7kwmMBAGDHqEpydrZG+89EuAdoF/EeAAAA2JmmJbk/yfVJhhQeCwDA/9/efYfHVd35H//MSBp1q7hJLshVbpKbjG2MKzbGNqalQCABAiEQIIUsu9lsNpuyu9mE/JYECAQCoYcUIDQbMMU2xsZVxZabbFmSZcmWLNnqZdRmfn8oZjFzxxpprnRnpPfrefjD58w99zuaI4lHn3vOgXkyJH0s6WVJKRbXAgBBifAeAAAAAAD0NbukmyUVqHM71XBrywEAAIAfkiX9QdIuSQstrgUAglqo1QUAAAAAAIABK1qd26neKOmfJL1tbTn9R3lZgRoaqj3ak0dMUHR0vAUVwe12qeBYtke73W7XuPGzLagIAw1zcGBzOhtVWnLYoz0iMkajRk22oCL0E2GS7pH0n5IGWVwLAPQLhPcAAAAAAMBqqZLWS9oo6T5JB6wtJ/h9+MGzOnhgi0f7zbf+UlOnsSDOCh0d7Xr6qe97tDscEfr5f39gQUUYaJiDA1tFxXHDz3/MmOm6657HLKgI/cA1kh6UNN7qQgCgPyG8BwAAAAAAgWK5pBxJz0j6d0lnrC2nZ06WHumze9lDQpScPKHP7gcAAAa8SZJ+I2mN1YUAQH9EeA8AAAAAAAJJqKQ7JX1JnVuwPiqpw9KKuunRR+7os3tFR8frxz9d12f3AwAAA1aCpH+V9H1JDotrAYB+i/AeAAAAAAAEokRJD0m6S51/JH7P2nIAADDfqZP5Ki31PIs+OXmCRl801YKKAA+h6vz/sZ9LGmxxLQDQ7xHeAwAAAACAQDZF0gZJ6yV9V1KRteUAAGCeI3k79P57T3m0L156E+E9AsEydT5MOd3qQgBgoLBbXQAAAAAAAIAP1krKk/SwpFiLawEAAOjPRkt6QdImEdwDQJ8ivAcAAAAAAMHCoc7V93mS7hR/1wAAADBTjKRfSsqXdLPFtQDAgMS2+QAAAAAAINiMkPQHSXdIuk/SdmvL8U3qpHmac/GVpo4ZGhpm2L5oyVc0Y+Zyj/ZRoyeben8AQHAYMmSUbvraf3q0R0fHWVANApBN0pck/a+kiyyuBQAGNMJ7AAAAAAAQrC6WtE3Sq5Lul1RibTkXNmTIKKVPX9Yn90pJSeuT+wAAgkNUVFyf/Q5C0JmjzmOJFlhdCACA7eUAAAAAAEBws0n6sqTDkn4mKcLacgAAAILCuZ2MdongHgACBuE9AAAAAADoD6Il/VTSEUm3WFwLAABAoHJI+p6kPEl3ipwIAAIKP5QBAAAAAEB/cpGk5yVtlDTd4loAAAACyVXq3K3oIUmxFtcCADDAmfcAAAAAAAS2qZIGWV2EgSSrC+jCZZKyJD0j6ceSKq0tBwAAwDJTJP1W0hVWFwIAuDDCewAAAAAAAttbVhcQxELVuR3slyX9XNJjktotraiPtLY2q6PD8606HJEKCfH9z0Ht7W1qa3N6tIeGhiksLMLwmuqqMh06tE0lJw7q9Onjcjob1dbqVHR0nKKi45WYmKyJqXM1MXWuoqPjfH9TPeB2u1ReXqiTpUdUWVGsiorjqq+vkrO5QS0tzQoJCVFk1CBFRsYqOjpOw5PG6aKLpmnc+FkKDXX0am3ByOXqUPHx/TpelKvy8gJVVZWpqbFWLS2NstnsCg+P1qC4wRoyZLRSxqRrYupcDRo0pMf3a211qqOjzaM9JCRUDkekP2/Fq7a2FrW3t3q02212hUdEd3u8/jgHXS6XWloaPdp7+jUy4u2zdzgiFBISZsL4zTpRfFCnywtVUVGsyspiNTc3qLWlWc3N9Yr6x2cSGRmrQXFDlTxigsaNn6Xk5Al+39vpbJTb7fr030bz7Vx7c3O9z+PabHZFXODr73J1qKWlyaPdbg9ReHiUz/fxRVNTrfKPZurEiQOqrDihmupytbQ2q63VqYiIaIWHRylx8AglJY1XytjpGjdulkJD/f9cz+nJe21srFXe4U86f76VFaipqU5OZ4OiouMUHRWn2EFDNGFihlInzVdCQqA/v3ieRHUeK3SvpBCLawEA+IDwHgAAAAAA9HcJ6twe9m5J35f0rrXl9L6X//oLHTywxaP95lt/qanTFvo8zu5db2ndmw95tM+bf62u/cL957WVlBzWxg+e1dEjO+V2uz2uaWyskVSs40X7lJ21QXa7XWnpy7Ry1Tc1ePBIn2vqSn19lQ7s36z8o3t0vCi3y/Crtvb/NmU4sL/za+ZwRCh9+mVauOh6JSWPN622YFVVdUqfbH1Z+/Z+qMbGWq+va2io1tmzpSoq3Kc9u9fLZrNr/ITZWrz0Jk2ceHG375uV+bbeesNz/sXGJuqH//6a7Hbzc6iXXvyxjuTt9GifnbFKX77h330ao7/PwcrKYj304C0e7UnJ4/W97z9nyj3efP1BZWdt8Gi/4cb/0MxZK3s0Zmlpng7u36LCghyVlubJ5erw+lpvn1lCYrIunnuVLlnwhQsG5RfyyEO3qbqqrMvXbd/2qrZve9XncRMSk/WDH77stb+0NE+PP/otj/YxY6brrnse8/k+F1JUuE9bP/6rjh7ZafgAmfR/X9vy8kIdOrhNkhQRGaOZMy/X4iU3KiEx2e86Sk4c0hO/v8ejffToKbrnO0+e11ZdVaaNHz6nvTkfGD4w0tRUpzMqkSQd2P+RJGnsuBm6YtVdShmT7netvShU0u2SfiGp509RAQD6HOE9AAAAAAAYKCZJekfSekm+L2fEBXV0tOvddx7X9m2vnreatCsul0u5+zbq8KFtuua6+5UxZ7VfdRQV7tPGD59RUeFeuVy+12GktdWprMx3lJ21QXPmXqkr137b9JWpwcDpbNT7G57Urp1vXjDo9MbtdulYfqaO5Wdq0uRLdN0X/llx8cN8vn7GzBV6Z/1jam8/P1Crr6/S0SO7NXnKJd2u6ULq684q/+gewz5f5idzMDBt+egl7dm1XmfPlvo9VnVVmd7f8KQ+2fo3rVn7bc3OWGVChcGvpua03nz9QeUd3tGj653NDdq543Xt2b1OCxfdoOWX36awsHCTq/S0c8frevft36u11XOHmQspKtynPzz+bS1ecqOuWH2nbDZ7L1XYY8vV+dBimtWFAAC6L+B+qwAAAAAAAPSytZKut7qI/qDF2ahnn75fn2x9uVvB/We1tbXo1Zf/R59se8WvWgqOZargWLbfoelnud0u7dm1To898k1VV5ebNm4wKC05rId/c6t2bH+tR8H95x3J26HfPfwNHS/a5/M1UVFxmjxlgWFfTrbnqmx/5eS8b/heExKSNHbczC6vZw4GJrOC+89qbKzVK3/7hV579QFTP+9glJ+/R7976PYeB/ef1dHRri0fvaQnfn+3ampOm1CdMbfbpTdff1Bvvv6bbgf3nx1jy0cv6e+v/MpwtxmLTJD0sqQPRXAPAEGL8B4AAAAAAAxEnPvqp/b2Vr3w/I9UcCzblPHeXveoiosPmDKW2SorT+jJx7+t+voqq0vpE3mHt+sPj99renjW2FijZ/74z92aMxlz1hi2xs2NRQAAIABJREFUHzq4rVvngfsiO9P4RI3ZGassX1k70OZgsNize71ee/VXVpdhmUMHt+n5Z36gpqY6U8c9dTJfT/z+HlVVnTJ13HPWvfmwdu54w5SxsjLf1a6db5oylh+iJf1M0gFJX7a4FgCAn9g2HwAAAAAAAN321hu/VWGBZwibnDxBE1MvVuLgkYqJSZDNZlNjQ41KS/OUd3i76urOGI7ndrv02iu/0nfue1ahoWGm1Giz2TR0WIpGjJio5OQJGjJ0tCIiohUREauwMIeanQ1qbqpTWdkxnSg+qKNHdhueeSx1bgv9l5d+om/e9YjlQW5vOpafqT+98GOvXwdJGjx4pCZMnKOUMemKixumqKhBcsut+voqVZQXKS9vh4oKcwxXJLe1OfWnF36ke779Bw0dltJlPamT5ik2NtEjtG5vb1Xuvo2aN//a7r9JA6WleTp9usij3WazabYfRzr4OgdPnTqmkhPMwb4SFhahESM7P5MRIyZqUNwQRUTEKCIyRm6XS05ng+rqzqi0JE8FBVk6dTLf61hZme9q1Oipmn+Jb3Nx5swVamys/fTfp07lq7TksMfrkpMnaPRFU31+T9HRcT6/1gwnig/oLy/9xOvZ9pIUHR2v9OnLNHbcTA2KG6LIiBg1NNSopqZchw99oiN5OzyOxTintqZCzzx1v+797pOKjIw1re6dO97Qju2vebQnJCRp0uT5GjZ8rKKj4+RwRKqxsUanTx9X3uHtqqwo9jrmhnce1+Qplyg+frhpdfrIJulmSQ9ISurrmwMAegfhPQAAAAAAALol/+hujxWRU6Yu1BWr79Tw4WMNr7l43lXq6GjT9m2v6v33njIMbCoqirVn9zpdsuALftU3ZuwMpaUv0bS0xT6FKZMmd56d3tBQrR2f/F1bPnrJMJAqKtynPbvXa+68q/2qL1CdOVOqP//pJ17D4xEjU7V8xW2aMnWBYXicnCylps7VwsU36HR5od5e96jy8z3PkHc6G/Xnl36qb3/3jwoJufCfJ+32EM2ctVJbP/6rR1925gbTwvvsTONt+MeMnaHExBHdHs+fObj9k1f18Ud/HpBzsDc5HBGaOm2xpqUt1qTJ8xQWFtHlNdNnLJfUeYzE+xueMpzPUmd4O23aIsUOGtzlmCtX3XnevzdvfMEwvJ84aa5Wr7m7y/Gs0Nxcr5f+9BOvwXtoqEOXr/yGLl10vcf3+Lnvhow5a9TYWKN1bz6kfXs3Go5z9mypXvnb/+iWr//SlLpraiv0zvpHz2sbNWqyVq35lsZPyPB63eo1d2t/7iate/MRNTR47n7R0tKkjR88qy9++Yem1OmjuZIeljS/L2/qh3WSvD/pEdjGWV0AgIGF8B4AAAAAAADd8tng3m4P0XVf/BfNufjKLq8LCQnToiU3atjwsXrx+R8ZhsSZe97uUXhvs9mVPn2Zli77mkaMTO329ZIUE5Ogy6+4Q2npS/TcMz8w3CVg08bnlTFntUJCzNkdIFC43S69+rdfGG5Fb7PZtODSL2n1lXf7/L6HJ43TbXf8r95Z/5i2bX3Zo7+8rECfbH1Zi5fe1OVYGXNWG4b3J04cVGVFsU8r+C+ko6NNufs+9HpvX5k1B1de8U2lpy/Vs8/8i+rrznq8pr/Owd4SFT1IM2ffpgWXflFRUT1bnT5q9BTddseD2r7tFb29/lGPM85bWpr08ZY/68qrvmNGyQFvwztPqK620rAvOjped9z1sJKSus47o6Pj9ZWbfqbxE+bo9b//2vDs+MOHtml/7malT1/md92f/35auOh6rVl7b5c7WdhsNk2fsVzJyRP01B++a3h8Re6+Tbrqmu/J4Yj0u84ujJT0S0lfU+fK+2CxyOoCACBYEN4DAAAAAAD0gTNnSrU/d7MpY4VHRCs1da4pY/nDZrPpxq/+XGnpS7p13aTJ87Vk6U3atPF5j75TJ4+qrOyYkpMndGvMpZfd3OUqbl8lj5iob9z5kB5/7FtyNjec11dbU6G8w9s1La177znQZe5+W8XFBwz7Llt+q1as/Ea3x7TZ7Lryqu+ora3F8EzoLR+9pHnzr1F4RPQFxxmeNE6jRk1WaWmeR1921nu6YvWdBlf5Lu/w9vO2MT/H4YhQWvpSn8cxew7e8c1/zEFn43l9/XUO9pa77n7MlM/FZrPp0kXXy+V26Z31j3n0Z2a+oytW36XQUIff9wpkZypLlLlnvWGfwxGpr9/+a5+C+8+6eO5aOZ0Nhl9XSXrv3Sc1LW2J7HbzjotYtvwWrbzim926ZuiwFF37hX/Wi8//yKOvtbVZ+3M3K2POGrNK/DybpH+V9GNJMb11EwCA9QjvAQAAAADAQHNMUpGky/vypkeP7NLRI7tMGWvY8DFKvf9FU8byx4JLv9Tt4P6cpZfdrJ07XldTU51HX1HB3m6H92aFpucMG5aiFStu0/p1v/Po25+7uV8Fp+3tbdq48TnDvrT0pVp++e1+jb/26u/qeFGux5nyTU11ysl5X/Mvua7LMWbPWWUY3udkb9DKVXf4dQZ8lpct89PSlyo8PMrncUyfg8PHaPnlt+vtATAHe5PZn8vCRTdof+5mlZw4dF67s7lB+Uf3aMrUS029X6D5eMuf5XK5DPtWrfmWRo2e0qNxFy3+igqOZetI3g6PvrNnOx9+mzFzeY/G/rxx42dpxeXdfyBJkqZOW6SUMekqPr7fo6+wYG9vhvdJkn7VW4MDAAKHeY+qAQAAAAAABLZGST+XlCap0OJagl5UVJxfK57DwsK9rmo+efJoj8c10/wF1ynCYFV48XHjFerB6uCBj1VbU+HRHhYWrrVXfUc2m387M4eGOnTZilsN+7KzjIPzz5sxc4VCQz23ia+trdSxY1k9rq2hoVpHj+w07OvOlvm95ZIBMgeDic1m05KlXzXsO+Fl94r+oq3Nqdx9mwz7RoxM1bz51/o1/tqrv2v4fS5JWXve9mvsc2w2m6659p/8WsU/O2OVYfupk0d6PKYPQnpzcABA4CC8BwAAAAAA/Z1b0ouSJkj6maQWa8vpH+Zdco3CwiL8GiN1kvHW/6dOBUZ4HxISpokGxxPU1Jw2PIs8WGVlvmPYfvHctYqLH2bKPdLSlxmOVVqSp8bGmi6vj4qK0+QpCwz7sr2snPfFvr0fqqOj3aM9ISFJY8fN7PG4ZhkoczDYTEy92DBkPnHioAXV9J2jR3arpaXJsG/J0pv83tZ+yJBRSp9+mWHfsWNZhsdbdFfqpHkaNnyMf2N4ObamoqJY7e2tfo0NAADb5gMAAAAA0Hc+kHSH1UWY5FpJa60uwgd7JH1XkvHSWvTY9Bn+b1+c5GVr/LraM36PbRZvIU9JyWFNnbawj6sxX0tLkwoLcgz7ZsxcYdp97Ha7JkyY4/GggNvt0vGiXE1LW9zlGBlz1ujA/i0e7QcPfKwWZ6PCDVaodyU7613D9tkZq/zait9M/X0OBiOHI1LxCUk6U1lyXntpSZ7cbrffu1UEqmP5ewzbIyKiNWWqOXNxVsYVysl+z6Pd7Xap4FiWps8wDvd95e/1khQXP1wRkTFyNjec1+5ydai+vkoJCUl+3wMAMHAR3gMAAAAA0HcO/eO//iBFgR3en5T0I3WuuHdbXEu/ExkZq+F+rlyUpMTEZNlsNrnd539ETmeDlyv6XkxMomF7XV3gPGDgj6LCveroaPNoj4lJ1OiLppl6r7HjZhiu8i87le9TeJ86aZ5iYxNVX191Xntbm1P7czdrztzu/UgqLyvQqZP5Hu02m02zA2DL/HP6+xwMVjHRCR7hfWtrs1pamgyPOugPiouNdxaYPGWBwsLCTbnH+PEZioqKU1OT5yr7E8UH/A7fU8ZM9+t6qfNnRGJisuHPj0D6/QUACE6E9wAAAAAAoD9plvSIpF9Iqre4lvNMn7Fci5fcaMpYoWEOU8bpqaTk8aasSrbZ7HI4Ij22YXa5OtTa6pTD4d+2/J/V0FCt8rICVVaeUEtLk5zNDWptbTbcMv2zKitPGLY7nQE1vXrs5EnjIwqSkseZvnp4UNxQw/aamgqfrrfbQzRz1kpt/fivHn1ZWRu6Hd5neVl1P2bsdCUmjujWWL5gDgYel8ulqrMnVV5eoJrq02ppbVZra7PHimojVdVlhu3O5vp+Gd67XB2qrDhu2Ddy1GTT7mO32zVyZKryDVb5l5UV+DV2eES0Bg8e6dcYn44VbvwZO5sbTRkfADBwEd4DAAAAAID+Yr06t8gvsroQIzEx8Ro5apLVZZgiKirOtLEc4Z7hvSS1tjb5Fd53dLQp/2imcvd9qPyje9TQUO1PmR6afQj3gkHFaeNvl/iEJDU3mxsOh4UaP3TSnftkzFltGN4XH8/V2bMnfQ7mXK4O7c3+wMs91vhcz4UwBwNTQ0O19udu1v7cTSotyVNbW4up4zc7GxRv6oiBoaGhWu3tnrt0SNKIERNNvVfyyImG4X1tzWm/xo2KjPXr+s8KD480bG9t9fx9ZhKXpMA4ywMA0KsI7wEAAAAAQLDLkXSfpI+tLmSgiIyMMW0su5cV/O4eHnbQ1taibVtf1idb/6bGRs9tl83S4uy1gKZPeVv1nrl7vTJ3r++TGpqb63x+7fCkcRo5apJOlh45r93tdisna4NWrPyGT+McPbJLDQ1VHu0OR4TS0pf6XI8R5mBgOnOmVB+890cd2L9ZLper1+7TX1deX2g3ArNWs58zZPAow3Z/HyiKMDG8t9lCDNt7+rvLB+WSXpV0j8h1AKBf44c8AAAAAAAIVmcl/ZekRyV1WFzLgBISEmZ1CYbKywr055d+qsqK4l6/l8vdP6ZcQ71ngN3Xmpu6F8hlzFntEd5LUnb2e1p++e0+bfeflWm8ZX5a+lKFh0d1q57PYg4Gpl0739Db6x41fZW9EXc//VwuFJz78z1jOJ6XYweczga53a4eH9sSGhLUcYhL0vckPS7pt5JWWVsOAKC3BPVvKwAAAAAAMCC1qfOP1z+R1HvLWhFUiosP6Nk/3m+4BT+8a2tzWl2CXK7uhZ0zZq7QO+sf89jCu7qqTMeL9mnsuJkXvL6pqU55hz8x7MuYs7pbtXxW8fH9evbpf2YOBpj33n1SH21+0eoygp63YxpsNpscJof3EV52d3G5XGpxNnntHyDyJK2WdJWkhySNs7Ycnx1R5wMIA8VAeq8ATEZ4DwAAAAAAgsmH6twi/6DVhSBw1NZW6oVnf3jB0DQ8IlopKWkaPXqKEgePUFzcMMXGDlZomEN2e4jXlaN7c97XW2881FulW66jo93qErotKipOk6cs0IH9Wzz6sjLf7TK8z9230fDs7oSEpC6v9aa2tlIvPPdvF5yDERHRuog52Kcyd6/vMrhPSEzWmDHpGjEiVYPihioufphiYuJls9kVFhah0FDjnUZefP5HKirc2xtlB6SODuPz7m02u+x2c49iv9AK+XYvdQxA6yS9J+lude5CZN6ZAL1jnnjgEgB8QngPAAAAAACCwVFJ90vqm0O4EVTeeuM3amoyzgSSkydo6WVfU1r6UtntxmcUX0hoiMPf8gJaiJdgcsLEOUpMHNEnNcQOGtztazLmrDEM7w/s/0hXX/t9ORwRXq/N9rJl/uyMVT3ejps5GHgaGqq07q1HDPtsNptmzlqpRYtvUPKIiT0av6dzJVhFel0N36G2NqfCwrx/z3WX09nY7ToGqFZJD0t6RdJPJd0haWBNTADohwjvAQAAAABAIKuR9Ct1bg3b+4cVI+iUncrXoYPbDPtmZ6zSdV/8gdeVs75odhpvFd1fOLwEblOmLtSCS7/Yx9X4LnXSPMXGJqq+vuq89paWJh08sEWzZl9heF1FRbFKSg57tNtsNs3K6NkR0sxB87nd/u84vfXjv6m1tdmjPSQkTDfc+B9Kn77Mr/EvdAZ8fxQR4X1ht9PZ1CfhvcMRoZCQnn8v9WOnJN0l6Sl1hvkLrC0HAOAPnsICAAAAAACByCXpRUmTJT0ggnt4kZW1wbB9xMiJ+sKX/AtNJam5qc6v6wPdoLghhu3VVaf6uJLusdtDNHPWSsO+LC8r6yXvq+7HjJ2uwYNH9qgW5uA/uN2mDXWhlde+cLtdyvHyuSxf8XW/g3spiD4Xk0RGeQ/vGxuqTb1Xw+ceyvm0hshA3xnecpmSFkq6XtIJi2sBAPQQ4T0AAAAAAAg0WyRlSLpF0mmLa0GAO5afadi+7LJbTFmhWV1d7vcYgSwhIdmw/cyZkj6upPsy5qw2bC8syFFNjeePDpfLpZyc972MtabHdQy0OejtYYT29lbT7tHkZzB+urzIY1cGSQqPiNaiJV/xa2xJam9vU0ODccDcX0VHx8lmsxn2lZUdM/Ve3saLjkkw9T79lFud2+hPlfRzSU5rywEAdBfhPQAAAAAACBSlkm6VtEzSXotrQRBwu906U+kZMoeEhGrS5Pmm3ONE8QFTxglUI7yc911UuE/t7W19XE33DE8ap5GjJnm0d666fs+j/dixTNXVVnq0OxwRSktf2qMaBuIcjIgwPnO8paXJtHtU+bnzg7eHT1JT5yo01OHX2JJ08uSRgP/+MJvDEam4+OGGfadOHjX1Xt7GGz58rKn36ecaJf1MUqo6dzICAAQJwnsAAAAAAGC1Rkk/UecfmF9Q56oxoEstzkZ1dHgGaNExCaacv1xbWxlwq57NNjplmmF7S0uTiooC/xkab6vvs7M3yP25bdy9bZmflr5U4eFRPbr/QJyD4eHRhu1NTfXq6Gj3e/yzZ0+qvu6sX2M0eNnGPSEhya9xzyk+vt+UcSTJZjf+E/3n528g8Pawj7fdJ3qiprpclQYPxEgyfFgHXSpR505Gl0nKtbgWAIAPCO8BAAAAAICV1kuaJum/JDVbXAuCjLeALiLCOFzsrsw9b5syTiAbPXqKYmISDfsydwf++58xc4Xh1vRnKkt04sTBT//tdDbq0MGthmN4ewDAFwNxDoaGhsnh8HwwoaOjTZWV/h+znX90j99jNDbUGLZ72zWgO9xut7JM/FzCwyMN29vbzDuGwCwTJmYYtpeXF6q8rMCUe+TkfCC322V8/wnG94dPNkuapc4djjy3IAEABAzCewAAAAAAYIVsSYskXSWp2OJaEKRCw4y3v27287xsqTOI3LXzDb/HCXQ2m13p05cZ9u3P3azy8sI+rqh7oqLiNGXqAsO+z660379vk9raWjxek5CQpLHjZvb4/gN1DiYlTzBs93eLf7fbpe2fvOrXGJIUEur5QIckNTXV+j32sfw9qqgw79eWt50MWloaTbuHWSZPXuD13Ps9u9f5PX5HR7vXByMSE0doGNvm+8ulzh2OJkl6QFLgPSECACC8BwAAAAAAfapc0u2SLpa0zeJaEOSio+MN2+vrq1RbU+HX2Js3vuD31t3B4pIF1xkGcm63S2+98VtTtkLvTRlz1hi25+b+X2CflWW8Zf7sjFWy2Xr+J9KBOgdHjkw1bM/dt9GvcffmfKhKE4LxGC+fS2npEb/GbW9v1dvrHvVrjM+LjIw1bK+qKjP1PmZISExWypjphn27dr7p90MN27e9orNnTxr2dX6vGj84gG6rlvRDSdMlvWNxLQCAzyG8BwAAAAAAfaFN0iPqXO31rDpXfwF+CQsLV2ys8ZbvOTnv9XjckhOHtHnTiz2+PtgMHZai6TOWG/YVFe7V2+t+12v3drk6/B4jddI8w63/nc0NOnRwm86cKTVcEW6z2TQrY5Vf9x6oc3D0RVMN2wsL9qq0NK9HY1ZXlemtN37jT1mfSkgcYdh+oviA13DYF+9veEqnTxf1+Hojw5OMV5OXncpXe3ubqfcyw6ULv2zY3tHRrjdff7DHD/ucPVuqjRufN+wLCwvX3PnX9GhcXNARSVdKulzSYYtrAQD8A+E9AAAAAADobR9KmiHpe5L830sa+IwJE+cYtm/56M+q7sHK1dKSw3rumR+YEioHk1VrvqXw8CjDvh3bX9Mbrz1oapB4/HiuXnju37Rz++t+j2W3h2jW7JWGfdlZ7yona4PcbrdH35ix0zV48Ei/7z8Q5+DUqQsVFuZ57r3b7dIbr/2v2tqc3Rrv7NmTeubp++V0mrNVfMqYdMP6XK4OrX/rYa9nql/Ipo3Pa+vHfzWjvPMkJCQrIsJz6/yWlia/dzLoDdPSFinZy7EJhQU5evXl/+n217eutlJPP/VPavHy+c+bf43Xh2RginP/n3af+P80ALAc4T0AAAAAAOgtByWtFCu60IumTF1o2O5sbtAzT9+vM5UlPo3jdruVlfmO/vjkfeedi+3PlurBJD5+uK657p+89u/a+Yae+P3dKizI7vE9GhqqtGvnG3r8sbv1h9/fq8OHtvUoRDUye85qw/Zj+Xu8nsXtbbv97jJvDrqCZg6GR0Qrffoyw76TpUf03DP/qsbGrs+Xd7vdyt23SU88dvd5Xye7PcSv+kJDwzQx9WLDvrzDO/Taq79We7tvx303NdXp76/8Sh+898fz2s36XGw2m8aNn23Y99abDylz9/pPj38IBDabXdd84X6v739vzgd68fkf+XzkQ1HhXj3x+L1eH3QZFDdUKy6/vcf1wmdtkh6WNFnSc2KHJACwTKjVBQAAAAAAgH6nWtIDkn4rybd0BOihaWlLNGxYiuFZy2cqS/S7h2/Xgku/rLnzr1ZCQpLHa5qaapV3eId27nhdJScOndcXEhKmefOv1vZP/t5r9QeSWbOvUFlZgbZu+Yth/8nSI3rqD9/T6NFTNHPWSo0dN0NJyeO9hnh1tZU6dSpfp04e1bFjWSo+niuXq3fyoKSkcRo5apJOfu5Mc5fLpfr6Ko/XOxwRSktfasq9TZuD219TScn5zzkF8hxcuPh67c1533CHgMKCbD346xu1cNH1mjptkZKSx3/a53K5dOZMifKP7NLenA88ttlPSh6voUMv0v7czX7Vt2z5Lf94QMRz14XMPW/rRPEBLVn2VaWlL5XDEenxmtOni3TwwMf6ZOsr5z1MIUmjRk1WmCNCRYV7/arxnIvnrtWhg1s92lucjfr7qw9o3VsPa/jwsYpPSFJYWIRCQ8M8XhsdHaeVq+40pZ6upKSkadnyW7Tpw+cM+w8f+kTHi3I1f8F1mjFjuYYnjTuv3+Xq0LFjWcrJek/79n7o9SEeuz1EN3zlxwo32JkAvaZM0m2SfqfOMN/46SQAQK8hvAcAAAAAAGZxSXpJ0v2SKi2uBQOE3W7X6ivv1QvP/athSNfa6tRHm1/UR5tfVFz8MCUmjlBERIyam+vV2FCts2dLvQbKa9beK4fDc+vt/mz1mrvV3taiHdtf8/qakpLDn4bMYWERiomJV1R0nMLDo9Tc3CBnc72amurU0tLUV2VLkjLmrPYI771JS1/q9ZiA7urNOXjlVfcabv8eCJKTJ2jJ0pu0edOLhv3NzfX64P2n9cH7T8tuD1F0TLxcHR1qbKzxOmZUVJxu+tp/6iMvY3bHqFGTNXPW5crJft+wv6KiWK/87X/091ce0NBhKRoUO1ihYQ411FepprbC68rxqKhBuuGmn+rN1x/0u8ZzUifN16hRkz0eZDintdV53vedkYTE5D4L7yVpxeW3qbKi2OtDFs3N9dq88QVt3viCoqIGKTZ2sCIjY9XQUKXa2soudxOw2Wy6+tr7vO5KgF6XLWmxpC9J+n+SUqwtBwAGjsDbcwkAAAAAAASjzZJmSbpFBPfoY5OnXOLTtsq1NRUqKtyrw4e26XjRPlVWnvAami5d9jUtuPSLZpca8DoDs+/ryrXfVkiI5+rez2trc6q6ulwnS4+osCBHZafyVV1d3ufBvSTNmLnCp5olaXaG8Tb7PdU7c/BmXbIgsOfgZSu+rlGjJnf5OperQ/V1Zy8Y3IdHROvW2x/Q0KEXmVbfdV/8F40cNanL2k6XFyo/f48OH/pEJSWHvQb3DkekbrntAQ0ZMsq0GqXOB0C+8tWfKTIy1tRxe5PNZtcNN/5EM2et7PK1TU11On26SMeP5+rMmdIug3u7PUTXXHe/5s2/1qxy0TNuSa9ImibpvyU1W1sOAAwMhPcAAAAAAMAfJZJulXSZpFyLa8EAtmz5rVq+4ut+n0MdEhKqq6+9T1esvsukyoLTwsU36O57H/cpmO2p+IQkDUsaa9p4UVFxmjJ1QZevS0hI0rjxM0277znmzsHv64rVfbeKuqdCQx267Y7/VUpKml/jxCck6Vv3/F4XXTTNpMo6hYVF6Ou3/1pjxs7we6yEhCTdfe/jfr9XbwYPHqnv3veMKbX2lZCQUN1w439o7VXfMW2HiPiEJH3jm7/RvPnXmDIeTNEo6T8kpUp6UZ2hPgCgl7BtPgAAAAAA6IkmST+X9CtJTotrAWSz2bRi5TeUMiZd6958WJWVJ7o9xthxM3X1td9X0ufOZx6oRo6apHu+86T2527Stq0vq+TEIb/HjIlJ0KTJ8zU7Y7XGjpvhd9D9ebMzVuvA/i1dvGaV6feVBu4cjIqK0x13PaJNG5/T1i1/UXt7m8/X2u0hunjuWq1ec3evnWseE5Oob971sDZ9+Jy2bX2527tChIY6NO+Sa3X5ym+YdtSCN/EJSbrr7kdVfHy/sjLfUcGxbFVXlxkexxBILl10vaZMW6gP339a+/ZulMvV0e0xIiJjdOmlX9LipTfJ4YjshSphglJ17rD0tKSHJJn/FBQAQDarCwAAAAAAAEHJpuBeefWEJK9Lq9PSl+irN/93jwbevestw/bhw8cqZUx6j8bsrvz8PaquKvNoT02dq/iEJJ/HOX26SMXH93u0DxuWYtrq0L0576u11fP5j1mzV/Z4Jafb7dKhg1uVk/2Bjhft87pVt81m07BhYzQx9WLNmn2FRoxM9XhNZeUJFRXu9WgfOjRFY8f5/jVwuVzK3LPeo91uD9Gci6/0eRwrnT5dpEMHt6mwIFulpXlyNjdc8PWhoWEaPGS0hg69SCkpaRo/MUNJSeNls/XenyRdrg7h6lYuAAAHRklEQVRl7nn7gq+ZMuVSxQ4a3Gs1SAN3DtbVnVF21gYdPbJTxccPeA1xhw0fo6lTF2nu/KuVYPAzqbAgW2fOlHq0j58wW4MH93zL+ubmeu3a+aaOHN6hkpLD6ugwftAgLCxcF6WkafLkSzQr4wpFR8d7vCbv8A7V1XmeEjN5ygINGjSkxzV+XktLkypOH5fT2SCns1Etzka53J5HLYSHR2nGzBVex2loqNahg1s92mNjEzVl6kLT6q2rrVTuvk3Ky9uhkhMHDX++nxMTk6gxY6drWtoiTZ22yLTQvr6+SocPbTO4X4KmTltkyj2OHt2tmupyj/bUSfMUHz+82+NlZb6jV1/+5YVeUippdLcH7j0hku6Q9F+Shvrw+nhJtb1aEQD0E4T3AAAAAABgIOq18B6Bxe12q7q6TA31VWpqqlNHR7vCw6MUHROvIUNGKyws3OoSg1Z9fZVq/nG+vdPZILs9VOHhUYqIiFZU1CDFxQ+X3c6pnQN1Dra0NKm2tlJNjTVqbKxRaGi4IiNjNGz4WEX00ir77mhra1HV2ZNqaqpTU1OtQkIccjjClZCQrPiE4b2yO8NA43K5VFtb8enPiba2lk9/RiQOHqGYmESrSwwYQRjenxMv6YeS7pN0oR9mhPcA4CO2zQcAAAAAAEC/ZbPZlJg4QomJI6wupd+JjU1UbCzhW1cG6hwMD4/SsGEpklKsLsVQWFi4hgfR8QTByG63KyEhyXB3BfQbNeoM75+R9KCktdaWAwDBj8cHAQAAAAAAAAAA0FNHJV0l6XJJBy2uBQCCGuE9AAAAAAAAAAAA/PWhpFnq3EafbfIBoAcI7wEAAAAAAAAAAGCGNkkPSxov6RFJHdaWAwDBhfAeAAAAAAAAAAAAZjor6XuS5kpyWlwLAASNUKsLAAAAAAAAAAAAQL+UbXUBABBMWHkPAAAAAAAAAAAAAIDFCO8BAAAAAAAAAAAAALAY4T0AAAAAAAAAAAAAABYjvAcAAAAAAAAAAAAAwGKE9wAAAAAAAAAAAAAAWIzwHgAAAAAAAAAAAAAAixHeAwAAAAAAAAAAAABgMcJ7AAAAAAAAAAAAAAAsRngPAAAAAAAAAAAAAIDFCO8BAAAAAAAAAAAAALAY4T0AAAAAAAAAAAAAABYjvAcAAAAAAAAAAAAAwGKE9wAAAAAAAAAAAAAAWIzwHgAAAAAAAAAAAAAAixHeAwAAAAAAAAAAAABgMcJ7AAAAAAAAAAAAAAAsRngPAAAAAAAAAAAAAIDFCO8BAAAAAAAAAAAAALAY4T0AAAAAAAAAAAAAABYjvAcAAAAAAAAAAAAAwGKE9wAAAAAAAAAAAAAAWIzwHgAAAAAAAAAAAAAAixHeAwAAAAAAAAAAAABgMcJ7AAAAAAAAAAAAAAAsRngPAAAAAAAAAAAAAIDFCO8BAAAAAAAAAAAAALAY4T0AAAAAAAAAAAAAABYjvAcAAAAAAAAAAAAAwGKE9wAAAAAAAAAAAAAAWIzwHgAAAAAAAAAAAAAAixHeAwAAAAAAAAAAAABgMcJ7AAAAAAAAAAAAAAAsRngPAAAAAAAAAAAAAIDFCO8BAAAAAAAAAAAAALAY4T0AAAAAAAAAAAAAABYjvAcAAAAAAAAAAAAAwGKE9wAAAAAAAAAAAAAAWIzwHgAAAAAAAAAAAAAAixHeAwAAAAAAAAAAAABgMcJ7AAAAAAAAAAAAAAAsRngPAAAAAAAAAAAAAIDFCO8BAAAAAAAAAAAAALAY4T0AAAAAAAAAAAAAABYjvAcAAAAAAAAAAAAAwGKE9wAAAAAAAAAAAAAAWIzwHgAAAAAAAAAAAAAAixHeAwAAAAAAAAAAAABgMcJ7AAAAAAAAAAAAAAAsRngPAAAAAAAAAAAAAIDFCO8BAAAAAAAAAAAAALAY4T0AAAAAAAAAAAAAABYjvAcAAAAAAAAAAAAAwGKE9wAAAAAAAAAAAAAAWIzwHgAAAAAAAAAAAAAAixHeAwAAAAAAAAAAAABgMcJ7AAAAAAAAAAAAAAAsRngPAAAAAAAAAAAAAIDFCO8BAAAAAAAAAAAAALAY4T0AAAAAAAAAAAAAABYjvAcAAAAAAAAAAAAAwGKE9wAAAAAAAAAAAAAAWIzwHgAAAAAAAAAAAAAAixHeAwAAAAAAAAAAAABgMcJ7AAAAAAAAAAAAAAAsRngPAAAAAAAAAAAAAIDFCO8BAAAAAAAAAAAAALAY4T0AAAAAAAAAAAAAABYjvAcAAAAAAAAAAAAAwGKhVhcAAAAAAAAQaBoaanQsP9PqMgAAwABw+vRxq0sAAAQIm9UFAAAAAAAAWOAJSXdZXQQAAIAPSiWNtroIAEDvY9t8AAAAAAAAAAAAAAAsRngPAAAAAAAAAAAAAIDFCO8BAAAAAAAAAAAAALAY4T0AAAAAAAAAAAAAABYjvAcAAAAAAAAAAAAAwGKE9wAAAAAAAAAAAAAAWIzwHgAAAAAAAAAAAAAAi/1/vn//FlEgTcUAAAAASUVORK5CYII=)"
      ],
      "metadata": {
        "id": "-Rx5XuS1x_19"
      }
    },
    {
      "cell_type": "markdown",
      "source": [
        "![image.png](data:image/png;base64,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)"
      ],
      "metadata": {
        "id": "fkY0nHbXxlwx"
      }
    },
    {
      "cell_type": "markdown",
      "source": [
        "### Preprocesamiento de los datos"
      ],
      "metadata": {
        "id": "2SFyLv8bOGRc"
      }
    },
    {
      "cell_type": "markdown",
      "source": [
        "#### P6020 - Sexo\n",
        "\n",
        "Esta varaible originalmente está como 1 para hombres y 2 para mujeres. Con Binarizer se lleva a hombres 0 y mujeres 1"
      ],
      "metadata": {
        "id": "b8ZY_uY0OJ4o"
      }
    },
    {
      "cell_type": "code",
      "source": [
        "data[['P6020']].values"
      ],
      "metadata": {
        "id": "-cS-7DlM4L-H",
        "colab": {
          "base_uri": "https://localhost:8080/"
        },
        "outputId": "5a516d6f-b242-4596-a70f-0fd551bd0228"
      },
      "execution_count": null,
      "outputs": [
        {
          "output_type": "execute_result",
          "data": {
            "text/plain": [
              "array([[1],\n",
              "       [2],\n",
              "       [1],\n",
              "       ...,\n",
              "       [2],\n",
              "       [2],\n",
              "       [1]])"
            ]
          },
          "metadata": {},
          "execution_count": 54
        }
      ]
    },
    {
      "cell_type": "code",
      "source": [
        "binarizer = Binarizer(threshold=1).fit(data[['P6020']].values)  # fit does nothing\n",
        "binarizer.transform(data[['P6020']].values)"
      ],
      "metadata": {
        "id": "LaE6TD_HL7qZ",
        "colab": {
          "base_uri": "https://localhost:8080/"
        },
        "outputId": "4290dfe4-16b4-421c-dc6d-5a032d47af51"
      },
      "execution_count": null,
      "outputs": [
        {
          "output_type": "execute_result",
          "data": {
            "text/plain": [
              "array([[0],\n",
              "       [1],\n",
              "       [0],\n",
              "       ...,\n",
              "       [1],\n",
              "       [1],\n",
              "       [0]])"
            ]
          },
          "metadata": {},
          "execution_count": 55
        }
      ]
    },
    {
      "cell_type": "markdown",
      "source": [
        "#### P6040 - ¿cuántos años cumplidos tiene...?\n",
        "\n",
        "Se usa MaxAbsScaler cuyo principio es\n",
        "\n",
        "The transformation is given by:\n",
        "\n",
        "X_std = (X - X.min(axis=0)) / (X.max(axis=0) - X.min(axis=0))\n",
        "X_scaled = X_std * (max - min) + min\n",
        "\n",
        "where min, max = feature_range."
      ],
      "metadata": {
        "id": "mlLs_aLpPBJe"
      }
    },
    {
      "cell_type": "code",
      "source": [
        "transformer = MinMaxScaler().fit(data[['P6040']])\n",
        "transformer.transform(data[['P6040']])"
      ],
      "metadata": {
        "id": "ycEICgC0PBJf",
        "colab": {
          "base_uri": "https://localhost:8080/"
        },
        "outputId": "63c9d7db-739d-49f5-e3f8-93911d40a0b5"
      },
      "execution_count": null,
      "outputs": [
        {
          "output_type": "execute_result",
          "data": {
            "text/plain": [
              "array([[0.15217391],\n",
              "       [0.23913043],\n",
              "       [0.08695652],\n",
              "       ...,\n",
              "       [0.02173913],\n",
              "       [0.13043478],\n",
              "       [0.06521739]])"
            ]
          },
          "metadata": {},
          "execution_count": 56
        }
      ]
    },
    {
      "cell_type": "markdown",
      "source": [
        "#### Variables categoricas (P6051, P5502)\n",
        "Usando OneHotEncoder para no darle más peso a unas categorias sobre las otras"
      ],
      "metadata": {
        "id": "pYO9JN1Ss25-"
      }
    },
    {
      "cell_type": "code",
      "source": [
        "enc = OneHotEncoder()\n",
        "enc.fit(data[['P6051']])\n",
        "print(enc.categories_)\n",
        "print(enc.transform(data[['P6051']]).toarray().shape)\n",
        "print(enc.transform(data[['P6051']]).toarray())"
      ],
      "metadata": {
        "id": "7fwteAlrt7Tc",
        "colab": {
          "base_uri": "https://localhost:8080/"
        },
        "outputId": "3f2a048b-be84-49e6-e248-99f8cef276ed"
      },
      "execution_count": null,
      "outputs": [
        {
          "output_type": "stream",
          "name": "stdout",
          "text": [
            "[array([ 1,  2,  3,  4,  5,  6,  7,  8,  9, 10, 11, 12, 13, 14])]\n",
            "(30914, 14)\n",
            "[[0. 1. 0. ... 0. 0. 0.]\n",
            " [1. 0. 0. ... 0. 0. 0.]\n",
            " [0. 0. 0. ... 0. 0. 0.]\n",
            " ...\n",
            " [1. 0. 0. ... 0. 0. 0.]\n",
            " [1. 0. 0. ... 0. 0. 0.]\n",
            " [1. 0. 0. ... 0. 0. 0.]]\n"
          ]
        }
      ]
    },
    {
      "cell_type": "code",
      "source": [
        "enc = OneHotEncoder()\n",
        "enc.fit(data[['P5502']])\n",
        "print(enc.categories_)\n",
        "print(enc.transform(data[['P5502']]).toarray().shape)\n",
        "print(enc.transform(data[['P5502']]).toarray())"
      ],
      "metadata": {
        "id": "kGVxjospveJM",
        "colab": {
          "base_uri": "https://localhost:8080/"
        },
        "outputId": "f1a48c4c-4521-4b0c-eabc-323f88a35e9a"
      },
      "execution_count": null,
      "outputs": [
        {
          "output_type": "stream",
          "name": "stdout",
          "text": [
            "[array([1., 2., 3., 4., 5., 6.])]\n",
            "(30914, 6)\n",
            "[[0. 1. 0. 0. 0. 0.]\n",
            " [0. 1. 0. 0. 0. 0.]\n",
            " [0. 0. 0. 1. 0. 0.]\n",
            " ...\n",
            " [0. 0. 0. 1. 0. 0.]\n",
            " [0. 0. 0. 1. 0. 0.]\n",
            " [0. 0. 1. 0. 0. 0.]]\n"
          ]
        }
      ]
    },
    {
      "cell_type": "markdown",
      "source": [
        "#### Variables de satisfacción y felicidad (P1895, P1896, P1897, P1898, P1899, P3175, P1901, P1903, P1904, P1905, P1927)\n",
        "\n",
        "En todas estas variables se da una respues del tipo:\n",
        "*   10 Todo el tiempo triste\n",
        "*   9\n",
        "*   ...\n",
        "*   1\n",
        "*   0 Para nada triste\n",
        "\n",
        "Se usa "
      ],
      "metadata": {
        "id": "ArDim8tXmT-A"
      }
    },
    {
      "cell_type": "markdown",
      "source": [
        "habrían 2 opciones.\n",
        "\n",
        "La primera opción es usando StandardScaler y escala los datos entre -1 y 1, pero forzando a que use una media $\\mu=5$ y una desviación estándar $\\sigma=5$. Esto para centrar los valores entre -1 y 1 pero asegurandose de que todos los 10 tenga un valor de 1, todos los 5 un valor de 0 y todos los 0 un valor de -1. Cosa que no pasaría se se usaran las medidas de centro y escala propias de los datos. \n",
        "\n",
        "Esta buscaría que valores distinguir entre valor de satisfacción alta y baja, con correspondecia numérica y de signos"
      ],
      "metadata": {
        "id": "j3keJ3gxpsWC"
      }
    },
    {
      "cell_type": "code",
      "source": [
        "transformer = StandardScaler().fit(np.array([10, 0, 10, 0]).reshape(-1, 1))\n",
        "print(transformer.mean_, transformer.scale_)\n",
        "transformer.transform(data[['P1895']])"
      ],
      "metadata": {
        "id": "RTh-Mwwunhly",
        "colab": {
          "base_uri": "https://localhost:8080/"
        },
        "outputId": "3b188a8e-3871-470d-c59f-ab1a1cb3f2b0"
      },
      "execution_count": null,
      "outputs": [
        {
          "output_type": "stream",
          "name": "stdout",
          "text": [
            "[5.] [5.]\n"
          ]
        },
        {
          "output_type": "stream",
          "name": "stderr",
          "text": [
            "/usr/local/lib/python3.7/dist-packages/sklearn/base.py:444: UserWarning: X has feature names, but StandardScaler was fitted without feature names\n",
            "  f\"X has feature names, but {self.__class__.__name__} was fitted without\"\n"
          ]
        },
        {
          "output_type": "execute_result",
          "data": {
            "text/plain": [
              "array([[0.6],\n",
              "       [0.4],\n",
              "       [0.8],\n",
              "       ...,\n",
              "       [1. ],\n",
              "       [1. ],\n",
              "       [1. ]])"
            ]
          },
          "metadata": {},
          "execution_count": 59
        }
      ]
    },
    {
      "cell_type": "markdown",
      "source": [
        "La segunda opción, es usar MinMaxScaler para llevar los datos a valores entre 0 y 1"
      ],
      "metadata": {
        "id": "HUjIB3G_qnPt"
      }
    },
    {
      "cell_type": "code",
      "source": [
        "transformer = MinMaxScaler().fit(data[['P1896']])\n",
        "transformer.transform(data[['P1896']])"
      ],
      "metadata": {
        "id": "KhPblbSQnpA0",
        "colab": {
          "base_uri": "https://localhost:8080/"
        },
        "outputId": "1618e63c-81b8-4ee4-cb9f-3db84394dda1"
      },
      "execution_count": null,
      "outputs": [
        {
          "output_type": "execute_result",
          "data": {
            "text/plain": [
              "array([[0.5],\n",
              "       [0.5],\n",
              "       [0.6],\n",
              "       ...,\n",
              "       [1. ],\n",
              "       [1. ],\n",
              "       [1. ]])"
            ]
          },
          "metadata": {},
          "execution_count": 60
        }
      ]
    },
    {
      "cell_type": "markdown",
      "source": [
        "###  Tuning the hyper-parameters"
      ],
      "metadata": {
        "id": "pvl7xVUOzQAV"
      }
    },
    {
      "cell_type": "code",
      "source": [
        "base_estimator = KNeighborsClassifier()"
      ],
      "metadata": {
        "id": "MKPatXoH-YFC"
      },
      "execution_count": null,
      "outputs": []
    },
    {
      "cell_type": "code",
      "source": [
        "param_grid = {\n",
        "    'n_neighbors':np.arange(1, 30, 2),\n",
        "    'weights': ['uniform', 'distance'],\n",
        "    'algorithm': ['auto', 'ball_tree', 'kd_tree', 'brute'],\n",
        "    'metric': ['euclidean', 'manhattan', 'chebyshev', 'minkowski'],\n",
        "    }"
      ],
      "metadata": {
        "id": "nkUpWvPw_wCC"
      },
      "execution_count": null,
      "outputs": []
    },
    {
      "cell_type": "code",
      "source": [
        "sh = HalvingGridSearchCV(estimator=base_estimator, param_grid=param_grid, cv=5, factor=3, verbose=1)\n",
        "sh_fit = sh.fit(X_train.values, y_train.values.ravel())\n",
        "print(sh_fit.best_params_)\n",
        "print(sh_fit.best_score_)"
      ],
      "metadata": {
        "colab": {
          "base_uri": "https://localhost:8080/"
        },
        "id": "HrjfSf1Y-je6",
        "outputId": "f3a6c4aa-43b4-4525-ccef-9d2c583a4a6c"
      },
      "execution_count": null,
      "outputs": [
        {
          "output_type": "stream",
          "name": "stdout",
          "text": [
            "n_iterations: 5\n",
            "n_required_iterations: 6\n",
            "n_possible_iterations: 5\n",
            "min_resources_: 110\n",
            "max_resources_: 24731\n",
            "aggressive_elimination: False\n",
            "factor: 3\n",
            "----------\n",
            "iter: 0\n",
            "n_candidates: 480\n",
            "n_resources: 110\n",
            "Fitting 5 folds for each of 480 candidates, totalling 2400 fits\n",
            "----------\n",
            "iter: 1\n",
            "n_candidates: 160\n",
            "n_resources: 330\n",
            "Fitting 5 folds for each of 160 candidates, totalling 800 fits\n",
            "----------\n",
            "iter: 2\n",
            "n_candidates: 54\n",
            "n_resources: 990\n",
            "Fitting 5 folds for each of 54 candidates, totalling 270 fits\n",
            "----------\n",
            "iter: 3\n",
            "n_candidates: 18\n",
            "n_resources: 2970\n",
            "Fitting 5 folds for each of 18 candidates, totalling 90 fits\n",
            "----------\n",
            "iter: 4\n",
            "n_candidates: 6\n",
            "n_resources: 8910\n",
            "Fitting 5 folds for each of 6 candidates, totalling 30 fits\n",
            "{'algorithm': 'ball_tree', 'metric': 'manhattan', 'n_neighbors': 29, 'weights': 'uniform'}\n",
            "0.46934804404390784\n"
          ]
        }
      ]
    },
    {
      "cell_type": "markdown",
      "source": [
        "### Pipeline sin Tuning hyper-parameters"
      ],
      "metadata": {
        "id": "4MtBgVpWrlpk"
      }
    },
    {
      "cell_type": "code",
      "source": [
        "data.columns"
      ],
      "metadata": {
        "id": "gILvj-elxiu5",
        "colab": {
          "base_uri": "https://localhost:8080/"
        },
        "outputId": "f4c9dd6c-17b8-425c-a334-60cdb1b228bd"
      },
      "execution_count": null,
      "outputs": [
        {
          "output_type": "execute_result",
          "data": {
            "text/plain": [
              "Index(['P6020', 'P6040', 'P6051', 'P5502', 'P1895', 'P1896', 'P1897', 'P1898',\n",
              "       'P1899', 'P3175', 'P1901', 'P1903', 'P1904', 'P1905', 'P1927'],\n",
              "      dtype='object')"
            ]
          },
          "metadata": {},
          "execution_count": 64
        }
      ]
    },
    {
      "cell_type": "code",
      "source": [
        "preprocessor = ColumnTransformer(\n",
        "    [('age_', MinMaxScaler(),  ['P6040']),\n",
        "     ('satisfaction_', MinMaxScaler(),  ['P1896', 'P1897', 'P1898', 'P1899', 'P3175', 'P1901', 'P1903', 'P1904', 'P1905', 'P1927'])\n",
        "     ])\n",
        "preprocessor.fit(data)"
      ],
      "metadata": {
        "id": "4jM_HJoqwrUK",
        "colab": {
          "base_uri": "https://localhost:8080/"
        },
        "outputId": "b31e83de-f369-4650-d133-673363a04e35"
      },
      "execution_count": null,
      "outputs": [
        {
          "output_type": "execute_result",
          "data": {
            "text/plain": [
              "ColumnTransformer(transformers=[('age_', MinMaxScaler(), ['P6040']),\n",
              "                                ('satisfaction_', MinMaxScaler(),\n",
              "                                 ['P1896', 'P1897', 'P1898', 'P1899', 'P3175',\n",
              "                                  'P1901', 'P1903', 'P1904', 'P1905',\n",
              "                                  'P1927'])])"
            ]
          },
          "metadata": {},
          "execution_count": 65
        }
      ]
    },
    {
      "cell_type": "code",
      "source": [
        "pipe = Pipeline([\n",
        "    ('preprocessor', preprocessor),\n",
        "    ('model', KNeighborsClassifier(\n",
        "        n_neighbors=25,\n",
        "        algorithm='auto',\n",
        "        metric='manhattan',\n",
        "        weights='distance'))\n",
        "    ])\n"
      ],
      "metadata": {
        "id": "IruyoINXyoac"
      },
      "execution_count": null,
      "outputs": []
    },
    {
      "cell_type": "code",
      "source": [
        "pipe.fit(X_train, y_train)"
      ],
      "metadata": {
        "id": "smGeB7fY8nsx",
        "colab": {
          "base_uri": "https://localhost:8080/"
        },
        "outputId": "c48d2c72-1b8e-43e8-af0e-fe5438b3bacc"
      },
      "execution_count": null,
      "outputs": [
        {
          "output_type": "execute_result",
          "data": {
            "text/plain": [
              "Pipeline(steps=[('preprocessor',\n",
              "                 ColumnTransformer(transformers=[('age_', MinMaxScaler(),\n",
              "                                                  ['P6040']),\n",
              "                                                 ('satisfaction_',\n",
              "                                                  MinMaxScaler(),\n",
              "                                                  ['P1896', 'P1897', 'P1898',\n",
              "                                                   'P1899', 'P3175', 'P1901',\n",
              "                                                   'P1903', 'P1904', 'P1905',\n",
              "                                                   'P1927'])])),\n",
              "                ('model',\n",
              "                 KNeighborsClassifier(metric='manhattan', n_neighbors=25,\n",
              "                                      weights='distance'))])"
            ]
          },
          "metadata": {},
          "execution_count": 67
        }
      ]
    },
    {
      "cell_type": "code",
      "source": [
        "y_pred = pipe.predict(X_test)"
      ],
      "metadata": {
        "id": "MQRr0UWA-FGc"
      },
      "execution_count": null,
      "outputs": []
    },
    {
      "cell_type": "code",
      "source": [
        "X_test"
      ],
      "metadata": {
        "id": "GxhVPY5oGcPc",
        "outputId": "99c51a11-8388-42a9-925d-e6dfe3a432b8",
        "colab": {
          "base_uri": "https://localhost:8080/",
          "height": 455
        }
      },
      "execution_count": null,
      "outputs": [
        {
          "output_type": "execute_result",
          "data": {
            "text/plain": [
              "            P6020  P6040  P1896  P1897  P1898  P1899  P3175  P1901  P1903  \\\n",
              "DIRECTORIO                                                                  \n",
              "7259678         1     70    7.0    9.0    8.0    8.0    8.0    8.0    2.0   \n",
              "7282374         1     85    3.0   10.0    9.0    9.0    8.0    8.0    0.0   \n",
              "7281709         2     62   10.0   10.0    5.0    8.0   10.0   10.0    0.0   \n",
              "7253977         2     65   10.0   10.0   10.0   10.0   10.0   10.0    2.0   \n",
              "7365732         2     60    6.0    8.0    5.0    7.0    6.0    7.0    6.0   \n",
              "...           ...    ...    ...    ...    ...    ...    ...    ...    ...   \n",
              "7400054         2     62    6.0    8.0    7.0    7.0    7.0   10.0    0.0   \n",
              "7364768         2     81   10.0   10.0   10.0    7.0   10.0    0.0   10.0   \n",
              "7256347         2     60    7.0   10.0   10.0   10.0    8.0    9.0    0.0   \n",
              "7382031         2     83    8.0    7.0    9.0    7.0    7.0    8.0    5.0   \n",
              "7249388         2     62    6.0    6.0    6.0    7.0    5.0    5.0    7.0   \n",
              "\n",
              "            P1904  P1905  P1927  \n",
              "DIRECTORIO                       \n",
              "7259678       0.0   10.0    9.0  \n",
              "7282374       0.0   10.0    7.0  \n",
              "7281709       0.0    9.0   10.0  \n",
              "7253977       1.0   10.0   10.0  \n",
              "7365732       3.0   10.0    8.0  \n",
              "...           ...    ...    ...  \n",
              "7400054       0.0    8.0    8.0  \n",
              "7364768       0.0   10.0    6.0  \n",
              "7256347       0.0    9.0    9.0  \n",
              "7382031       3.0    7.0    7.0  \n",
              "7249388       5.0    4.0    6.0  \n",
              "\n",
              "[6183 rows x 12 columns]"
            ],
            "text/html": [
              "\n",
              "  <div id=\"df-66ef4654-f03a-4df6-ad6e-46eaebb54cf0\">\n",
              "    <div class=\"colab-df-container\">\n",
              "      <div>\n",
              "<style scoped>\n",
              "    .dataframe tbody tr th:only-of-type {\n",
              "        vertical-align: middle;\n",
              "    }\n",
              "\n",
              "    .dataframe tbody tr th {\n",
              "        vertical-align: top;\n",
              "    }\n",
              "\n",
              "    .dataframe thead th {\n",
              "        text-align: right;\n",
              "    }\n",
              "</style>\n",
              "<table border=\"1\" class=\"dataframe\">\n",
              "  <thead>\n",
              "    <tr style=\"text-align: right;\">\n",
              "      <th></th>\n",
              "      <th>P6020</th>\n",
              "      <th>P6040</th>\n",
              "      <th>P1896</th>\n",
              "      <th>P1897</th>\n",
              "      <th>P1898</th>\n",
              "      <th>P1899</th>\n",
              "      <th>P3175</th>\n",
              "      <th>P1901</th>\n",
              "      <th>P1903</th>\n",
              "      <th>P1904</th>\n",
              "      <th>P1905</th>\n",
              "      <th>P1927</th>\n",
              "    </tr>\n",
              "    <tr>\n",
              "      <th>DIRECTORIO</th>\n",
              "      <th></th>\n",
              "      <th></th>\n",
              "      <th></th>\n",
              "      <th></th>\n",
              "      <th></th>\n",
              "      <th></th>\n",
              "      <th></th>\n",
              "      <th></th>\n",
              "      <th></th>\n",
              "      <th></th>\n",
              "      <th></th>\n",
              "      <th></th>\n",
              "    </tr>\n",
              "  </thead>\n",
              "  <tbody>\n",
              "    <tr>\n",
              "      <th>7259678</th>\n",
              "      <td>1</td>\n",
              "      <td>70</td>\n",
              "      <td>7.0</td>\n",
              "      <td>9.0</td>\n",
              "      <td>8.0</td>\n",
              "      <td>8.0</td>\n",
              "      <td>8.0</td>\n",
              "      <td>8.0</td>\n",
              "      <td>2.0</td>\n",
              "      <td>0.0</td>\n",
              "      <td>10.0</td>\n",
              "      <td>9.0</td>\n",
              "    </tr>\n",
              "    <tr>\n",
              "      <th>7282374</th>\n",
              "      <td>1</td>\n",
              "      <td>85</td>\n",
              "      <td>3.0</td>\n",
              "      <td>10.0</td>\n",
              "      <td>9.0</td>\n",
              "      <td>9.0</td>\n",
              "      <td>8.0</td>\n",
              "      <td>8.0</td>\n",
              "      <td>0.0</td>\n",
              "      <td>0.0</td>\n",
              "      <td>10.0</td>\n",
              "      <td>7.0</td>\n",
              "    </tr>\n",
              "    <tr>\n",
              "      <th>7281709</th>\n",
              "      <td>2</td>\n",
              "      <td>62</td>\n",
              "      <td>10.0</td>\n",
              "      <td>10.0</td>\n",
              "      <td>5.0</td>\n",
              "      <td>8.0</td>\n",
              "      <td>10.0</td>\n",
              "      <td>10.0</td>\n",
              "      <td>0.0</td>\n",
              "      <td>0.0</td>\n",
              "      <td>9.0</td>\n",
              "      <td>10.0</td>\n",
              "    </tr>\n",
              "    <tr>\n",
              "      <th>7253977</th>\n",
              "      <td>2</td>\n",
              "      <td>65</td>\n",
              "      <td>10.0</td>\n",
              "      <td>10.0</td>\n",
              "      <td>10.0</td>\n",
              "      <td>10.0</td>\n",
              "      <td>10.0</td>\n",
              "      <td>10.0</td>\n",
              "      <td>2.0</td>\n",
              "      <td>1.0</td>\n",
              "      <td>10.0</td>\n",
              "      <td>10.0</td>\n",
              "    </tr>\n",
              "    <tr>\n",
              "      <th>7365732</th>\n",
              "      <td>2</td>\n",
              "      <td>60</td>\n",
              "      <td>6.0</td>\n",
              "      <td>8.0</td>\n",
              "      <td>5.0</td>\n",
              "      <td>7.0</td>\n",
              "      <td>6.0</td>\n",
              "      <td>7.0</td>\n",
              "      <td>6.0</td>\n",
              "      <td>3.0</td>\n",
              "      <td>10.0</td>\n",
              "      <td>8.0</td>\n",
              "    </tr>\n",
              "    <tr>\n",
              "      <th>...</th>\n",
              "      <td>...</td>\n",
              "      <td>...</td>\n",
              "      <td>...</td>\n",
              "      <td>...</td>\n",
              "      <td>...</td>\n",
              "      <td>...</td>\n",
              "      <td>...</td>\n",
              "      <td>...</td>\n",
              "      <td>...</td>\n",
              "      <td>...</td>\n",
              "      <td>...</td>\n",
              "      <td>...</td>\n",
              "    </tr>\n",
              "    <tr>\n",
              "      <th>7400054</th>\n",
              "      <td>2</td>\n",
              "      <td>62</td>\n",
              "      <td>6.0</td>\n",
              "      <td>8.0</td>\n",
              "      <td>7.0</td>\n",
              "      <td>7.0</td>\n",
              "      <td>7.0</td>\n",
              "      <td>10.0</td>\n",
              "      <td>0.0</td>\n",
              "      <td>0.0</td>\n",
              "      <td>8.0</td>\n",
              "      <td>8.0</td>\n",
              "    </tr>\n",
              "    <tr>\n",
              "      <th>7364768</th>\n",
              "      <td>2</td>\n",
              "      <td>81</td>\n",
              "      <td>10.0</td>\n",
              "      <td>10.0</td>\n",
              "      <td>10.0</td>\n",
              "      <td>7.0</td>\n",
              "      <td>10.0</td>\n",
              "      <td>0.0</td>\n",
              "      <td>10.0</td>\n",
              "      <td>0.0</td>\n",
              "      <td>10.0</td>\n",
              "      <td>6.0</td>\n",
              "    </tr>\n",
              "    <tr>\n",
              "      <th>7256347</th>\n",
              "      <td>2</td>\n",
              "      <td>60</td>\n",
              "      <td>7.0</td>\n",
              "      <td>10.0</td>\n",
              "      <td>10.0</td>\n",
              "      <td>10.0</td>\n",
              "      <td>8.0</td>\n",
              "      <td>9.0</td>\n",
              "      <td>0.0</td>\n",
              "      <td>0.0</td>\n",
              "      <td>9.0</td>\n",
              "      <td>9.0</td>\n",
              "    </tr>\n",
              "    <tr>\n",
              "      <th>7382031</th>\n",
              "      <td>2</td>\n",
              "      <td>83</td>\n",
              "      <td>8.0</td>\n",
              "      <td>7.0</td>\n",
              "      <td>9.0</td>\n",
              "      <td>7.0</td>\n",
              "      <td>7.0</td>\n",
              "      <td>8.0</td>\n",
              "      <td>5.0</td>\n",
              "      <td>3.0</td>\n",
              "      <td>7.0</td>\n",
              "      <td>7.0</td>\n",
              "    </tr>\n",
              "    <tr>\n",
              "      <th>7249388</th>\n",
              "      <td>2</td>\n",
              "      <td>62</td>\n",
              "      <td>6.0</td>\n",
              "      <td>6.0</td>\n",
              "      <td>6.0</td>\n",
              "      <td>7.0</td>\n",
              "      <td>5.0</td>\n",
              "      <td>5.0</td>\n",
              "      <td>7.0</td>\n",
              "      <td>5.0</td>\n",
              "      <td>4.0</td>\n",
              "      <td>6.0</td>\n",
              "    </tr>\n",
              "  </tbody>\n",
              "</table>\n",
              "<p>6183 rows × 12 columns</p>\n",
              "</div>\n",
              "      <button class=\"colab-df-convert\" onclick=\"convertToInteractive('df-66ef4654-f03a-4df6-ad6e-46eaebb54cf0')\"\n",
              "              title=\"Convert this dataframe to an interactive table.\"\n",
              "              style=\"display:none;\">\n",
              "        \n",
              "  <svg xmlns=\"http://www.w3.org/2000/svg\" height=\"24px\"viewBox=\"0 0 24 24\"\n",
              "       width=\"24px\">\n",
              "    <path d=\"M0 0h24v24H0V0z\" fill=\"none\"/>\n",
              "    <path d=\"M18.56 5.44l.94 2.06.94-2.06 2.06-.94-2.06-.94-.94-2.06-.94 2.06-2.06.94zm-11 1L8.5 8.5l.94-2.06 2.06-.94-2.06-.94L8.5 2.5l-.94 2.06-2.06.94zm10 10l.94 2.06.94-2.06 2.06-.94-2.06-.94-.94-2.06-.94 2.06-2.06.94z\"/><path d=\"M17.41 7.96l-1.37-1.37c-.4-.4-.92-.59-1.43-.59-.52 0-1.04.2-1.43.59L10.3 9.45l-7.72 7.72c-.78.78-.78 2.05 0 2.83L4 21.41c.39.39.9.59 1.41.59.51 0 1.02-.2 1.41-.59l7.78-7.78 2.81-2.81c.8-.78.8-2.07 0-2.86zM5.41 20L4 18.59l7.72-7.72 1.47 1.35L5.41 20z\"/>\n",
              "  </svg>\n",
              "      </button>\n",
              "      \n",
              "  <style>\n",
              "    .colab-df-container {\n",
              "      display:flex;\n",
              "      flex-wrap:wrap;\n",
              "      gap: 12px;\n",
              "    }\n",
              "\n",
              "    .colab-df-convert {\n",
              "      background-color: #E8F0FE;\n",
              "      border: none;\n",
              "      border-radius: 50%;\n",
              "      cursor: pointer;\n",
              "      display: none;\n",
              "      fill: #1967D2;\n",
              "      height: 32px;\n",
              "      padding: 0 0 0 0;\n",
              "      width: 32px;\n",
              "    }\n",
              "\n",
              "    .colab-df-convert:hover {\n",
              "      background-color: #E2EBFA;\n",
              "      box-shadow: 0px 1px 2px rgba(60, 64, 67, 0.3), 0px 1px 3px 1px rgba(60, 64, 67, 0.15);\n",
              "      fill: #174EA6;\n",
              "    }\n",
              "\n",
              "    [theme=dark] .colab-df-convert {\n",
              "      background-color: #3B4455;\n",
              "      fill: #D2E3FC;\n",
              "    }\n",
              "\n",
              "    [theme=dark] .colab-df-convert:hover {\n",
              "      background-color: #434B5C;\n",
              "      box-shadow: 0px 1px 3px 1px rgba(0, 0, 0, 0.15);\n",
              "      filter: drop-shadow(0px 1px 2px rgba(0, 0, 0, 0.3));\n",
              "      fill: #FFFFFF;\n",
              "    }\n",
              "  </style>\n",
              "\n",
              "      <script>\n",
              "        const buttonEl =\n",
              "          document.querySelector('#df-66ef4654-f03a-4df6-ad6e-46eaebb54cf0 button.colab-df-convert');\n",
              "        buttonEl.style.display =\n",
              "          google.colab.kernel.accessAllowed ? 'block' : 'none';\n",
              "\n",
              "        async function convertToInteractive(key) {\n",
              "          const element = document.querySelector('#df-66ef4654-f03a-4df6-ad6e-46eaebb54cf0');\n",
              "          const dataTable =\n",
              "            await google.colab.kernel.invokeFunction('convertToInteractive',\n",
              "                                                     [key], {});\n",
              "          if (!dataTable) return;\n",
              "\n",
              "          const docLinkHtml = 'Like what you see? Visit the ' +\n",
              "            '<a target=\"_blank\" href=https://colab.research.google.com/notebooks/data_table.ipynb>data table notebook</a>'\n",
              "            + ' to learn more about interactive tables.';\n",
              "          element.innerHTML = '';\n",
              "          dataTable['output_type'] = 'display_data';\n",
              "          await google.colab.output.renderOutput(dataTable, element);\n",
              "          const docLink = document.createElement('div');\n",
              "          docLink.innerHTML = docLinkHtml;\n",
              "          element.appendChild(docLink);\n",
              "        }\n",
              "      </script>\n",
              "    </div>\n",
              "  </div>\n",
              "  "
            ]
          },
          "metadata": {},
          "execution_count": 69
        }
      ]
    },
    {
      "cell_type": "code",
      "source": [
        "y_pred[0]"
      ],
      "metadata": {
        "id": "v_XGFatL-OR0",
        "colab": {
          "base_uri": "https://localhost:8080/"
        },
        "outputId": "b609d2f8-dd73-470c-e7f8-aefaf62934e1"
      },
      "execution_count": null,
      "outputs": [
        {
          "output_type": "execute_result",
          "data": {
            "text/plain": [
              "8.0"
            ]
          },
          "metadata": {},
          "execution_count": 70
        }
      ]
    },
    {
      "cell_type": "code",
      "source": [
        "y_test"
      ],
      "metadata": {
        "id": "na4yn5XI-O7t",
        "colab": {
          "base_uri": "https://localhost:8080/",
          "height": 455
        },
        "outputId": "ae45898e-ae68-4ee7-c153-f91fc2fa2926"
      },
      "execution_count": null,
      "outputs": [
        {
          "output_type": "execute_result",
          "data": {
            "text/plain": [
              "            P1895\n",
              "DIRECTORIO       \n",
              "7259678       9.0\n",
              "7282374       9.0\n",
              "7281709      10.0\n",
              "7253977      10.0\n",
              "7365732      10.0\n",
              "...           ...\n",
              "7400054       9.0\n",
              "7364768       8.0\n",
              "7256347      10.0\n",
              "7382031       9.0\n",
              "7249388       6.0\n",
              "\n",
              "[6183 rows x 1 columns]"
            ],
            "text/html": [
              "\n",
              "  <div id=\"df-6499b86f-fff4-41a0-bdaa-31af89f83819\">\n",
              "    <div class=\"colab-df-container\">\n",
              "      <div>\n",
              "<style scoped>\n",
              "    .dataframe tbody tr th:only-of-type {\n",
              "        vertical-align: middle;\n",
              "    }\n",
              "\n",
              "    .dataframe tbody tr th {\n",
              "        vertical-align: top;\n",
              "    }\n",
              "\n",
              "    .dataframe thead th {\n",
              "        text-align: right;\n",
              "    }\n",
              "</style>\n",
              "<table border=\"1\" class=\"dataframe\">\n",
              "  <thead>\n",
              "    <tr style=\"text-align: right;\">\n",
              "      <th></th>\n",
              "      <th>P1895</th>\n",
              "    </tr>\n",
              "    <tr>\n",
              "      <th>DIRECTORIO</th>\n",
              "      <th></th>\n",
              "    </tr>\n",
              "  </thead>\n",
              "  <tbody>\n",
              "    <tr>\n",
              "      <th>7259678</th>\n",
              "      <td>9.0</td>\n",
              "    </tr>\n",
              "    <tr>\n",
              "      <th>7282374</th>\n",
              "      <td>9.0</td>\n",
              "    </tr>\n",
              "    <tr>\n",
              "      <th>7281709</th>\n",
              "      <td>10.0</td>\n",
              "    </tr>\n",
              "    <tr>\n",
              "      <th>7253977</th>\n",
              "      <td>10.0</td>\n",
              "    </tr>\n",
              "    <tr>\n",
              "      <th>7365732</th>\n",
              "      <td>10.0</td>\n",
              "    </tr>\n",
              "    <tr>\n",
              "      <th>...</th>\n",
              "      <td>...</td>\n",
              "    </tr>\n",
              "    <tr>\n",
              "      <th>7400054</th>\n",
              "      <td>9.0</td>\n",
              "    </tr>\n",
              "    <tr>\n",
              "      <th>7364768</th>\n",
              "      <td>8.0</td>\n",
              "    </tr>\n",
              "    <tr>\n",
              "      <th>7256347</th>\n",
              "      <td>10.0</td>\n",
              "    </tr>\n",
              "    <tr>\n",
              "      <th>7382031</th>\n",
              "      <td>9.0</td>\n",
              "    </tr>\n",
              "    <tr>\n",
              "      <th>7249388</th>\n",
              "      <td>6.0</td>\n",
              "    </tr>\n",
              "  </tbody>\n",
              "</table>\n",
              "<p>6183 rows × 1 columns</p>\n",
              "</div>\n",
              "      <button class=\"colab-df-convert\" onclick=\"convertToInteractive('df-6499b86f-fff4-41a0-bdaa-31af89f83819')\"\n",
              "              title=\"Convert this dataframe to an interactive table.\"\n",
              "              style=\"display:none;\">\n",
              "        \n",
              "  <svg xmlns=\"http://www.w3.org/2000/svg\" height=\"24px\"viewBox=\"0 0 24 24\"\n",
              "       width=\"24px\">\n",
              "    <path d=\"M0 0h24v24H0V0z\" fill=\"none\"/>\n",
              "    <path d=\"M18.56 5.44l.94 2.06.94-2.06 2.06-.94-2.06-.94-.94-2.06-.94 2.06-2.06.94zm-11 1L8.5 8.5l.94-2.06 2.06-.94-2.06-.94L8.5 2.5l-.94 2.06-2.06.94zm10 10l.94 2.06.94-2.06 2.06-.94-2.06-.94-.94-2.06-.94 2.06-2.06.94z\"/><path d=\"M17.41 7.96l-1.37-1.37c-.4-.4-.92-.59-1.43-.59-.52 0-1.04.2-1.43.59L10.3 9.45l-7.72 7.72c-.78.78-.78 2.05 0 2.83L4 21.41c.39.39.9.59 1.41.59.51 0 1.02-.2 1.41-.59l7.78-7.78 2.81-2.81c.8-.78.8-2.07 0-2.86zM5.41 20L4 18.59l7.72-7.72 1.47 1.35L5.41 20z\"/>\n",
              "  </svg>\n",
              "      </button>\n",
              "      \n",
              "  <style>\n",
              "    .colab-df-container {\n",
              "      display:flex;\n",
              "      flex-wrap:wrap;\n",
              "      gap: 12px;\n",
              "    }\n",
              "\n",
              "    .colab-df-convert {\n",
              "      background-color: #E8F0FE;\n",
              "      border: none;\n",
              "      border-radius: 50%;\n",
              "      cursor: pointer;\n",
              "      display: none;\n",
              "      fill: #1967D2;\n",
              "      height: 32px;\n",
              "      padding: 0 0 0 0;\n",
              "      width: 32px;\n",
              "    }\n",
              "\n",
              "    .colab-df-convert:hover {\n",
              "      background-color: #E2EBFA;\n",
              "      box-shadow: 0px 1px 2px rgba(60, 64, 67, 0.3), 0px 1px 3px 1px rgba(60, 64, 67, 0.15);\n",
              "      fill: #174EA6;\n",
              "    }\n",
              "\n",
              "    [theme=dark] .colab-df-convert {\n",
              "      background-color: #3B4455;\n",
              "      fill: #D2E3FC;\n",
              "    }\n",
              "\n",
              "    [theme=dark] .colab-df-convert:hover {\n",
              "      background-color: #434B5C;\n",
              "      box-shadow: 0px 1px 3px 1px rgba(0, 0, 0, 0.15);\n",
              "      filter: drop-shadow(0px 1px 2px rgba(0, 0, 0, 0.3));\n",
              "      fill: #FFFFFF;\n",
              "    }\n",
              "  </style>\n",
              "\n",
              "      <script>\n",
              "        const buttonEl =\n",
              "          document.querySelector('#df-6499b86f-fff4-41a0-bdaa-31af89f83819 button.colab-df-convert');\n",
              "        buttonEl.style.display =\n",
              "          google.colab.kernel.accessAllowed ? 'block' : 'none';\n",
              "\n",
              "        async function convertToInteractive(key) {\n",
              "          const element = document.querySelector('#df-6499b86f-fff4-41a0-bdaa-31af89f83819');\n",
              "          const dataTable =\n",
              "            await google.colab.kernel.invokeFunction('convertToInteractive',\n",
              "                                                     [key], {});\n",
              "          if (!dataTable) return;\n",
              "\n",
              "          const docLinkHtml = 'Like what you see? Visit the ' +\n",
              "            '<a target=\"_blank\" href=https://colab.research.google.com/notebooks/data_table.ipynb>data table notebook</a>'\n",
              "            + ' to learn more about interactive tables.';\n",
              "          element.innerHTML = '';\n",
              "          dataTable['output_type'] = 'display_data';\n",
              "          await google.colab.output.renderOutput(dataTable, element);\n",
              "          const docLink = document.createElement('div');\n",
              "          docLink.innerHTML = docLinkHtml;\n",
              "          element.appendChild(docLink);\n",
              "        }\n",
              "      </script>\n",
              "    </div>\n",
              "  </div>\n",
              "  "
            ]
          },
          "metadata": {},
          "execution_count": 71
        }
      ]
    },
    {
      "cell_type": "code",
      "source": [
        "accuracy_score(y_test.values, y_pred)"
      ],
      "metadata": {
        "id": "tihzbX_7Az2q",
        "colab": {
          "base_uri": "https://localhost:8080/"
        },
        "outputId": "517070d9-c193-4674-bc6a-36bb8a1c98c4"
      },
      "execution_count": null,
      "outputs": [
        {
          "output_type": "execute_result",
          "data": {
            "text/plain": [
              "0.4889212356461265"
            ]
          },
          "metadata": {},
          "execution_count": 72
        }
      ]
    },
    {
      "cell_type": "code",
      "source": [
        "f1_score(y_test.values, y_pred, average='weighted')"
      ],
      "metadata": {
        "id": "XDaECjcs-Q6k",
        "colab": {
          "base_uri": "https://localhost:8080/"
        },
        "outputId": "3211a0e4-9258-4643-eb6a-3936b7e0621d"
      },
      "execution_count": null,
      "outputs": [
        {
          "output_type": "execute_result",
          "data": {
            "text/plain": [
              "0.4823094448930402"
            ]
          },
          "metadata": {},
          "execution_count": 73
        }
      ]
    },
    {
      "cell_type": "code",
      "source": [
        "confusion_matrix(y_test, y_pred,  labels=None, sample_weight=None, normalize=None)"
      ],
      "metadata": {
        "id": "hQN2kx9KQa7w",
        "colab": {
          "base_uri": "https://localhost:8080/"
        },
        "outputId": "641ef927-08b5-45d7-cedc-d728dc262529"
      },
      "execution_count": null,
      "outputs": [
        {
          "output_type": "execute_result",
          "data": {
            "text/plain": [
              "array([[   5,    0,    0,    1,    0,    0,    2,    1,    1,    0,    3],\n",
              "       [   0,    2,    2,    4,    1,    4,    0,    1,    1,    1,    1],\n",
              "       [   1,    0,    6,    6,    4,    7,    4,    7,    4,    0,    3],\n",
              "       [   1,    0,    2,   13,   13,   14,    2,    9,    5,    0,    2],\n",
              "       [   0,    0,    2,    7,   15,   40,   18,   18,   15,    0,    1],\n",
              "       [   1,    0,    2,    6,    6,  151,   85,   55,   60,    4,   29],\n",
              "       [   0,    0,    0,    4,   11,   92,  146,  160,   91,    6,   21],\n",
              "       [   0,    0,    0,    2,    3,   41,  106,  372,  400,   25,   46],\n",
              "       [   0,    0,    0,    2,    2,   29,   64,  296, 1041,  141,  115],\n",
              "       [   0,    0,    1,    0,    0,   10,   10,   65,  464,  363,  120],\n",
              "       [   0,    0,    2,    2,    1,    8,   13,   36,  196,  119,  909]])"
            ]
          },
          "metadata": {},
          "execution_count": 74
        }
      ]
    },
    {
      "cell_type": "markdown",
      "source": [
        "# Menores de edad\n",
        "\n",
        "Valor se refiere al valor de la satisfacción con la vida que tiene el infante.\n",
        "\n",
        "En cuidador se tiene las siguientes categorías:\n",
        "* 1 Asiste a un hogar comunitario, jardín, centro de desarrollo infantil o colegio\n",
        "* 2 Con su padre o madre en la casa\n",
        "* 3 Con su padre o madre en el trabajo\n",
        "* 4 Con empleado/a o niñero/a en la casa\n",
        "* 5 Al cuidado de un/a pariente de 18 años o más\n",
        "* 6 Al cuidado de un/a pariente menor de 18 años\n",
        "* 7 En casa solo\n",
        "* 8 Otro\n",
        "\n",
        "Cada actividad se refiere a cuántas veces realiza la actividad correspondiente, estas actividades tienen peso e influyen en la satisfacción con la vida que tiene el infante.\n",
        "\n",
        "La frecuencia tiene las siguientes categorías:\n",
        "\n",
        "* 1 Todos los días\n",
        "* 2 Al menos una vez a la semana pero no cada día\n",
        "* 3 Al menos una vez al mes, pero no cada semana\n",
        "* 4 Al menos una vez al mes, pero no todos los meses\n",
        "\n",
        "Los pesos de las actividades son las siguientes:\n",
        "* **Leer:** se refiere a la actividad de que el infante lea libros de cuentos, historias o bien sea de dibujos, esta variable tiene un peso de 0.6, es importante que el infante lea, estimule su imaginación y adquiera concentración.\n",
        "\n",
        "* **Jugar:** se refiere a la actividad de jugar juegos de rondas infantiles, tiene un peso de 0.7 porque el infante estimula su imaginacion, adquiere habilidades psicomotrices y expresar sus emociones.\n",
        "\n",
        "* **Salir:** se refiere a la actividad de salir al parque por lo que el niño adquiere habilidades psicomotrices, sociales además de sentir libertad por lo que esta tiene un peso de 0.85.\n",
        "\n",
        "* **VerTV:** se refiere a la actividad de mirar televisión, ayuda en menor medida a socializar, pero primordialmente es para distracción y reducción de tensiones, por lo que tiene un valor de 0.35\n",
        "\n",
        "* **Deporte:** se refiere a la actividad de realizar algún deporte, mantiene al infante sano, aumenta sus capacidades físicas, mentales y sociales, además de estimular el crecimiento óseo y muscular, tiene un peso de 1.\n",
        "\n",
        "* **DispositivosElectronicos:** se refiere a la actividad de jugar o usar dispositivos electronicos, ya sean smartphones, consolas, tablets, etc. si bien desarrolla su capacidad cerebral y destreza con los dispositivos electronicos, traen consecuencias negativas como obesidad y déficit de atención por lo que tiene un peso de 0.2.\n"
      ],
      "metadata": {
        "id": "9wkSJecQZ1HY"
      }
    },
    {
      "cell_type": "markdown",
      "source": [
        "## Carga de datos"
      ],
      "metadata": {
        "id": "XOA39xAWgRGx"
      }
    },
    {
      "cell_type": "code",
      "source": [
        "menores = pd.read_csv(data_path.joinpath('menores.csv'), index_col=\"cuidador\")\n",
        "otro=pd.read_csv(data_path.joinpath('menores_592_1_y_592_3.csv'), index_col=0)\n",
        "menores\n",
        "menores.plot(kind = 'bar').notnull()"
      ],
      "metadata": {
        "id": "p_EMe1_EgKVf",
        "colab": {
          "base_uri": "https://localhost:8080/",
          "height": 459
        },
        "outputId": "52bc5465-ea4d-4a0c-956c-a1261978c41d"
      },
      "execution_count": null,
      "outputs": [
        {
          "output_type": "error",
          "ename": "AttributeError",
          "evalue": "ignored",
          "traceback": [
            "\u001b[0;31m---------------------------------------------------------------------------\u001b[0m",
            "\u001b[0;31mAttributeError\u001b[0m                            Traceback (most recent call last)",
            "\u001b[0;32m<ipython-input-75-503270179dfa>\u001b[0m in \u001b[0;36m<module>\u001b[0;34m()\u001b[0m\n\u001b[1;32m      2\u001b[0m \u001b[0motro\u001b[0m\u001b[0;34m=\u001b[0m\u001b[0mpd\u001b[0m\u001b[0;34m.\u001b[0m\u001b[0mread_csv\u001b[0m\u001b[0;34m(\u001b[0m\u001b[0mdata_path\u001b[0m\u001b[0;34m.\u001b[0m\u001b[0mjoinpath\u001b[0m\u001b[0;34m(\u001b[0m\u001b[0;34m'menores_592_1_y_592_3.csv'\u001b[0m\u001b[0;34m)\u001b[0m\u001b[0;34m,\u001b[0m \u001b[0mindex_col\u001b[0m\u001b[0;34m=\u001b[0m\u001b[0;36m0\u001b[0m\u001b[0;34m)\u001b[0m\u001b[0;34m\u001b[0m\u001b[0;34m\u001b[0m\u001b[0m\n\u001b[1;32m      3\u001b[0m \u001b[0mmenores\u001b[0m\u001b[0;34m\u001b[0m\u001b[0;34m\u001b[0m\u001b[0m\n\u001b[0;32m----> 4\u001b[0;31m \u001b[0mmenores\u001b[0m\u001b[0;34m.\u001b[0m\u001b[0mplot\u001b[0m\u001b[0;34m(\u001b[0m\u001b[0mkind\u001b[0m \u001b[0;34m=\u001b[0m \u001b[0;34m'bar'\u001b[0m\u001b[0;34m)\u001b[0m\u001b[0;34m.\u001b[0m\u001b[0mnotnull\u001b[0m\u001b[0;34m(\u001b[0m\u001b[0;34m)\u001b[0m\u001b[0;34m\u001b[0m\u001b[0;34m\u001b[0m\u001b[0m\n\u001b[0m",
            "\u001b[0;31mAttributeError\u001b[0m: 'AxesSubplot' object has no attribute 'notnull'"
          ]
        },
        {
          "output_type": "display_data",
          "data": {
            "text/plain": [
              "<Figure size 432x288 with 1 Axes>"
            ],
            "image/png": "[encoded data removed]"
          },
          "metadata": {
            "needs_background": "light"
          }
        }
      ]
    },
    {
      "cell_type": "code",
      "source": [
        "otro"
      ],
      "metadata": {
        "id": "iaWv1QwKiYoF"
      },
      "execution_count": null,
      "outputs": []
    },
    {
      "cell_type": "markdown",
      "source": [
        "### Adecuación de datos"
      ],
      "metadata": {
        "id": "VBnPirGTjFDV"
      }
    },
    {
      "cell_type": "code",
      "source": [
        "valores = menores.drop(columns=['cuidador', 'valor'])\n",
        "valores"
      ],
      "metadata": {
        "id": "PRHxKB5-jUt0"
      },
      "execution_count": null,
      "outputs": []
    },
    {
      "cell_type": "code",
      "source": [
        "pesos = [0.6,0.7,0.85,0.35,1,0.2]\n",
        "for i in range(20119):\n",
        "  suma=0\n",
        "  for x in range(6):\n",
        "    if valores.iloc[i][x] != 0:\n",
        "      valor=(valores.iloc[i][x]/valores.iloc[i][x])*(1/valores.iloc[i][x])*pesos[x]\n",
        "    else:\n",
        "      valor=0\n",
        "    suma=suma+valor\n",
        "  menores['valor'].iloc[i]=suma"
      ],
      "metadata": {
        "id": "6UV6DFwMkFp9"
      },
      "execution_count": null,
      "outputs": []
    },
    {
      "cell_type": "code",
      "source": [
        "for i in range(20119):\n",
        "  suma=0\n",
        "  if menores['cuidador'].iloc[i] == 1:\n",
        "    suma=3\n",
        "  elif menores['cuidador'].iloc[i] == 2:\n",
        "    suma=8\n",
        "  elif menores['cuidador'].iloc[i] == 3:\n",
        "    suma=7\n",
        "  elif menores['cuidador'].iloc[i] == 4:\n",
        "    suma=6\n",
        "  elif menores['cuidador'].iloc[i] == 5:\n",
        "    suma=4\n",
        "  elif menores['cuidador'].iloc[i] == 6:\n",
        "    suma=5\n",
        "  elif menores['cuidador'].iloc[i] == 7:\n",
        "    suma=1\n",
        "  elif menores['cuidador'].iloc[i] == 8:\n",
        "    suma=2    \n",
        "  menores['valor'].iloc[i]=math.floor(menores['valor'].iloc[i]+suma-1)"
      ],
      "metadata": {
        "id": "YFH4DphXl3o-"
      },
      "execution_count": null,
      "outputs": []
    },
    {
      "cell_type": "markdown",
      "source": [
        "## Modelo"
      ],
      "metadata": {
        "id": "mXg9t7rvyI2m"
      }
    },
    {
      "cell_type": "code",
      "source": [
        "X = menores.copy().drop(columns=['valor'])\n",
        "y = menores.copy().filter(items=['valor'])"
      ],
      "metadata": {
        "id": "hiFOnQRhyLYc"
      },
      "execution_count": null,
      "outputs": []
    },
    {
      "cell_type": "code",
      "source": [
        "test_size = 0.3\n",
        "random_state = 8"
      ],
      "metadata": {
        "id": "E8D9v1eJuAyi"
      },
      "execution_count": null,
      "outputs": []
    },
    {
      "cell_type": "code",
      "source": [
        "X_train, X_test, y_train, y_test = train_test_split(X, y, test_size=test_size, random_state=random_state)"
      ],
      "metadata": {
        "id": "UoQCihs_x_ti"
      },
      "execution_count": null,
      "outputs": []
    },
    {
      "cell_type": "markdown",
      "source": [
        "###  Tuning the hyper-parameters"
      ],
      "metadata": {
        "id": "meTrnMvAylBa"
      }
    },
    {
      "cell_type": "code",
      "source": [
        "base_estimator = KNeighborsClassifier()"
      ],
      "metadata": {
        "id": "fhEBfh9uylBb"
      },
      "execution_count": null,
      "outputs": []
    },
    {
      "cell_type": "code",
      "source": [
        "param_grid = {\n",
        "    'n_neighbors':np.arange(1, 30, 2),\n",
        "    'weights': ['uniform', 'distance'],\n",
        "    'algorithm': ['auto', 'ball_tree', 'kd_tree', 'brute'],\n",
        "    'metric': ['euclidean', 'manhattan', 'chebyshev', 'minkowski'],\n",
        "    }"
      ],
      "metadata": {
        "id": "YBVB8J9wylBb"
      },
      "execution_count": null,
      "outputs": []
    },
    {
      "cell_type": "code",
      "source": [
        "sh = HalvingGridSearchCV(estimator=base_estimator, param_grid=param_grid, cv=5, factor=3, verbose=1)\n",
        "sh_fit = sh.fit(X_train, y_train)\n",
        "print(sh_fit.best_params_)\n",
        "print(sh_fit.best_score_)"
      ],
      "metadata": {
        "id": "fs2THP-9ylBc"
      },
      "execution_count": null,
      "outputs": []
    },
    {
      "cell_type": "markdown",
      "source": [
        "### Pipeline"
      ],
      "metadata": {
        "id": "29Wvx20X17ja"
      }
    },
    {
      "cell_type": "code",
      "source": [
        "pipe = Pipeline([\n",
        "    ('model', KNeighborsClassifier(\n",
        "        n_neighbors=11,\n",
        "        algorithm='auto',\n",
        "        metric='manhattan',\n",
        "        weights='distance'))\n",
        "    ])\n"
      ],
      "metadata": {
        "id": "LcnlS8OQ13Rb"
      },
      "execution_count": null,
      "outputs": []
    },
    {
      "cell_type": "code",
      "source": [
        "pipe.fit(X_train, y_train)"
      ],
      "metadata": {
        "id": "eAccmVUe13R6"
      },
      "execution_count": null,
      "outputs": []
    },
    {
      "cell_type": "code",
      "source": [
        "y_pred = pipe.predict(X_test)"
      ],
      "metadata": {
        "id": "ksXEzkkv13R7"
      },
      "execution_count": null,
      "outputs": []
    },
    {
      "cell_type": "code",
      "source": [
        "y_pred"
      ],
      "metadata": {
        "id": "rLS1KkZq13R8"
      },
      "execution_count": null,
      "outputs": []
    },
    {
      "cell_type": "code",
      "source": [
        "y_test"
      ],
      "metadata": {
        "id": "wJIr7Ib_13R9"
      },
      "execution_count": null,
      "outputs": []
    },
    {
      "cell_type": "code",
      "source": [
        "accuracy_score(y_test.values, y_pred)"
      ],
      "metadata": {
        "id": "9feQkrGC13R_"
      },
      "execution_count": null,
      "outputs": []
    },
    {
      "cell_type": "code",
      "source": [
        "f1_score(y_test.values, y_pred, average='weighted')"
      ],
      "metadata": {
        "id": "TWOV4j-m13R_"
      },
      "execution_count": null,
      "outputs": []
    },
    {
      "cell_type": "code",
      "source": [
        "confusion_matrix(y_test, y_pred,  labels=None, sample_weight=None, normalize=None)"
      ],
      "metadata": {
        "id": "9rMjPgIu13SA"
      },
      "execution_count": null,
      "outputs": []
    },
    {
      "cell_type": "markdown",
      "source": [
        "El modelo es válido porque el score es 97% ~ 98%"
      ],
      "metadata": {
        "id": "lFTisNQ43LGF"
      }
    },
    {
      "cell_type": "markdown",
      "source": [
        "# Reporte técnico"
      ],
      "metadata": {
        "id": "koWHX3HsCltP"
      }
    },
    {
      "cell_type": "markdown",
      "source": [
        "# Introducción\n",
        "El presente trabajo va referido al análisis de datos suministrados por el Departamento Administrativo Nacional de Estadística (DANE) específicamente tomando los datos de la **[Encuesta de Calidad de Vida 2020](https://www.dane.gov.co/index.php/estadisticas-por-tema/pobreza-y-condiciones-de-vida/calidad-de-vida-ecv)** el cual es un instrumento diseñado para realizar el seguimiento y la medición de las condiciones socioeconómicas de los habitantes de una región. Esta investigación cuantifica y caracteriza las condiciones de vida de los colombianos incluyendo variables relacionadas con la vivienda, las personas para los que se incluyen variables de: educación, salud, cuidado de los niños, fuerza de trabajo, gastos e ingresos, etc., y los hogares que involucra variables como: tenencia de bienes y percepción del jefe o del cónyuge sobre las condiciones de vida en el hogar.\n",
        "\n",
        "# Objetivo\n",
        "- Realizar un análisis descriptivo de los datos suministrados por el DANE.\n",
        "- Desarrollar modelo predictivo para predecir el nivel de satisfacción de niños y abuelos de acuerdo con la composición del hogar y actividades realizadas diariamente.\n",
        "- Entender como un abuelo y un niño o niña pueden estar satisfechos con su vida, a través de la construcción de variables predictivas.\n",
        "- Crear aplicación web para la exploración de resultados.\n",
        "- Crear un video para promocionar el estudio realizado y dar a conocer los resultados y conclusiones.\n",
        "\n",
        "# Encuesta de Calidad de Vida 2020\n",
        "\n",
        "La base de datos empleada corresponde a la **[Encuesta de Calidad de Vida 2020](https://www.dane.gov.co/index.php/estadisticas-por-tema/pobreza-y-condiciones-de-vida/calidad-de-vida-ecv)** (ECV-2020), realizada por el Departamento Administrativo Nacional de Estadísticas (DANE). La cual se ha realizado periódicamente desde aproximadamente 20 años y de forma anual desde el año 2010.  Así mismo, la aplicación de esta encuesta se ha realizado desde sus inicios en las principales regiones del país, sin embargo, desde el año 2017 se extendió su aplicación a todas las regiones del país.\n",
        "\n",
        "La ECV es una operación estadística que tiene como objetivo caracterizar aspectos relacionados con el bienestar de los hogares de todo Colombia, tanto en área urbanas, cabeceras municipales y áreas rurales alejadas. El análisis posterior de esta encuesta ha permitido determinar y explicar los diferentes niveles de vida existentes en la sociedad colombiana. Además, es la fuente de información principal del cálculo del Índice de Pobreza Multidimensional (IPM).\n",
        "\n",
        "La encuesta de 2020 incluye una lista de capítulos base que se ha venido manteniendo desde 2010, estos se describen brevemente a continuación:\n",
        "\n",
        "1. [Datos de la vivienda](https://microdatos.dane.gov.co/index.php/catalog/718/datafile/F17): material de paredes y pisos.\n",
        "2. [Servicios del hogar](https://microdatos.dane.gov.co/index.php/catalog/718/datafile/F2): conexión a servicios públicos, privados o comunales y calidad de los mismos y clasificación de basuras.\n",
        "3. [Características y composición del hogar](https://microdatos.dane.gov.co/index.php/catalog/718/datafile/F3): sexo, edad, parentesco, estado civil, migración, estudios de padre y madre cuando estos no residen en el hogar.\n",
        "4. [Salud](https://microdatos.dane.gov.co/index.php/catalog/718/datafile/F5): cobertura del sistema de seguridad social por regímenes, morbilidad, acciones tomadas para enfrentar enfermedades padecidas durante los últimos 30 días, tiempo para la atención en urgencias y para la consulta médica, fuentes para cubrir los gastos en salud y opinión sobre la calidad de los servicios.\n",
        "5. [Atención integral de los niños y niñas menores de 5 años](https://microdatos.dane.gov.co/index.php/catalog/718/datafile/F4): sitio de permanencia de los niños menores de cinco años durante la mayor parte del tiempo entre semana, tipo de hogar comunitario, guardería, jardín o centro de desarrollo infantil al que asisten, persona que se encarga del cuidado de los niños menores de 5 años, niños que son llevados a control de crecimiento y desarrollo.\n",
        "6. [Educación (personas de 5 años y más)](https://microdatos.dane.gov.co/index.php/catalog/718/datafile/F6): alfabetismo, asistencia escolar, máximo nivel educativo alcanzado y último año aprobado o que esté cursando, tasas brutas y netas de escolaridad, becas, subsidios y créditos.\n",
        "7. [Fuerza de trabajo (personas de 12 años y más)](https://microdatos.dane.gov.co/index.php/catalog/718/datafile/F7): población económicamente activa (PEA), población económicamente inactiva (PEI), ocupados, rama de actividad, posición ocupacional, sitio de trabajo, tamaño de la empresa, tipo de transporte utilizado para desplazarse al trabajo e ingresos.\n",
        "8. [Tecnologías de información y comunicación (TIC)](https://microdatos.dane.gov.co/index.php/catalog/718/data_dictionary#:~:text=126-,Tecnologias%20de%20informacion%20y%20comunicacion,-Esta%20tabla%20contiene): frecuencias de uso de computador y de internet, lugares de acceso a Internet y servicios o actividades para uso de internet y tenencia de celular.\n",
        "9. [Trabajo infantil](https://microdatos.dane.gov.co/index.php/catalog/718/datafile/F9): actividad principal realizada por los menores de 5 a 11 años en la semana de referencia, ocupación, actividad donde realizan la labores, ingresos percibidos y sitios de trabajo y horas trabajadas.\n",
        "10. [Tenencia y financiación de la vivienda que ocupa el hogar](https://microdatos.dane.gov.co/index.php/catalog/718/datafile/F11): tipo de tenencia de la vivienda; tenencia de escritura de propiedad; subsidios recibidos para la compra, construcción, mejora, titulación o escrituración de la vivienda.\n",
        "11. [Condiciones de vida del hogar y tenencia de bienes](https://microdatos.dane.gov.co/index.php/catalog/718/datafile/F12): percepción del jefe o cónyuge sobre las condiciones de vida del hogar, hechos de los que han sido víctimas los miembros del hogar en los últimos 12 meses, ayudas o subsidios recibidos por miembros del hogar en los últimos 12 meses, tenencia de bienes en el hogar y conexión a internet.\n",
        "\n",
        "Sumado a estas, en esta encuesta se realizó un capítulo especial llamado [Gastos de los hogares](https://microdatos.dane.gov.co/index.php/catalog/718/datafile/F15). Donde se pregunta sobre el nivel de gasto de los hogares en los distintos bienes y servicios de la canasta familiar de acuerdo con la clasificación del consumo individual por finalidad (COICOP).\n",
        "\n",
        "# Base de datos\n",
        "\n",
        "La base de datos de la [ECV-2020](https://microdatos.dane.gov.co/index.php/catalog/718/study-description) se encuentra en el Archivo Nacional de Datos (ANDA) del DANE. En el caso de esta encuesta en particular, los 12 diferentes capítulos se segregan en 16 tablas disponibles para su descarga en 3 formatos diferentes (CSV, DTA y SAV). Cabe resaltar que la asignación de la variables o indicativo en cada tabla para las diferentes preguntas, junto con las posibles respuestas de estas se describen en el [diccionario de datos](https://microdatos.dane.gov.co/index.php/catalog/718/data_dictionary) asociado a esta encuesta.\n",
        "\n",
        "## Descripción técnica\n",
        "\n",
        "Es necesario destacar que los diferentes capítulos (tablas) de la encuesta pueden ser divididos en tres grupos: viviendas, hogares y personas. Estos están relacionados con diferentes niveles estructurados en que es recolectada la información. En este caso, una misma vivienda puede agrupar diferentes hogares que se encuentran en la misma ubicación y, a su vez, un mismo hogar puede agrupar diferentes personas que residen en este. La pertenencia de las tablas a los grupos mencionados se presenta a continuación:\n",
        "\n",
        "|      Viviendas       | Hogares                                                      | Personas                                                     |\n",
        "| :------------------: | ------------------------------------------------------------ | ------------------------------------------------------------ |\n",
        "| Datos de la vivienda | Servicios del hogar<br />Tenencia y financiación de la vivienda<br />Condiciones de vida del hogar y tenencia de bienes<br />Gastos del hogar lugares de compra<br />Gastos del hogar gastos por ítem<br />Preguntas de tenencia y financiación de la vivienda<br />Preguntas condiciones de vida del hogar y tenencia de bienes | Características y composición del hogar<br />salud<br />atención integral de niños y niñas menores de 5 años<br />educación<br />fuerza de trabajo<br />tecnologías de información y comunicación<br />trabajo infantil |\n",
        "\n",
        "Específicamente, la base de datos corresponde a una de tipo relacional, donde las relaciones entre tablas son de tipo *padre-hijo*. Además, las \"llaves\" empleadas para unir las diferentes tablas son llamadas en cada una de estas como: \"DIRECTORIO\", \"SECUENCIA_ENCUESTA\" y \"SECUENCIA_P\".\n",
        "\n",
        "De acuerdo con esta relación tabla padre – tabla hijo, las llaves son:\n",
        "\n",
        "* Llave entre tablas de vivienda y hogar: DIRECTORIO.\n",
        "* Llave entre tablas de vivienda y personas: DIRECTORIO.\n",
        "* Llave entre tablas de hogares: DIRECTORIO Y SECUENCIA_ENCUESTA.\n",
        "* Llave entre tablas de hogar y de personas: DIRECTORIO y SECUENCIA_ENCUESTA de la tabla de hogares con DIRECTORIO y SECUENCIA_P de la tabla de personas.\n",
        "* Llave entre tablas de personas: DIRECTORIO, SECUENCIA_P y SECUENCIA_ENCUESTA\n",
        "\n",
        "La información presentada en este apartado es derivada del documento de estructuración de la base de datos realizado por el DANE. Para conocer más información de la base de datos original por favor remítase al [Link](https://microdatos.dane.gov.co/index.php/catalog/718/download/20590/Estructura%20de%20Base%20de%20Datos%20ECV%202020.pdf).\n",
        "\n",
        "Colombia - Encuesta Nacional de Calidad de Vida - ECV 2020. Microdatos.dane.gov.co. (2021). Retrieved 2 May 2022, from https://microdatos.dane.gov.co/index.php/catalog/718/get_microdata.\n",
        "\n",
        "# Ingeniería de características\n",
        "\n",
        "El objetivo último de los modelos desarrollados es predecir la satisfacción de dos grupos poblacionales: niños y abuelos. Por lo que es necesario, determinar edades que segregan ambos grupos poblacionales.\n",
        "\n",
        "En el caso de los abuelos, se toma los 60 años como edad para limitar este grupo poblacional. Cabe resaltar, que no se toma el término abuelo como referencia a las personas que tienen nietos sino que se toma como referencia a aquellas personas que son adultos mayores o que ya han entrado en una etapa final de envejecimiento humano tal como lo expresa el Ministerio de Salud de Colombia en la definición de [\"Envejecimiento y Vejez\"](https://www.minsalud.gov.co/proteccionsocial/promocion-social/Paginas/envejecimiento-vejez.aspx).\n",
        "\n",
        "Colombia, M. (2022). Envejecimiento y Vejez. Minsalud.gov.co. Retrieved 2 May 2022, from https://www.minsalud.gov.co/proteccionsocial/promocion-social/Paginas/envejecimiento-vejez.aspx.\n",
        "\n",
        "En el caso de los niños, se toma los 5 años como edad para limitar este grupo poblacional. \n",
        "\n",
        "# Resultados\n",
        "\n",
        "En los adultos mayores se tuvieron en cuenta las preguntas sobre la satisfacción en diferentes aspectos de su vida, tal como el salario, la salud, la seguridad, su trabajo, etc.\n",
        "\n"
      ],
      "metadata": {
        "id": "RILdk9_kCs5I"
      }
    },
    {
      "cell_type": "code",
      "source": [
        "import seaborn as sns\n",
        "pearson=data.corr(method=\"pearson\")\n",
        "sns.heatmap(pearson)"
      ],
      "metadata": {
        "id": "v95xMfEFwOhk"
      },
      "execution_count": null,
      "outputs": []
    },
    {
      "cell_type": "markdown",
      "source": [
        "Se observa que hay correlacion entre las variables de satisfacción.\n",
        "\n",
        "Por lo que los resultados y predicciones sobre la satisfacción sobre la vida dependen de las satisfaccion de los demás aspectos, más que con el sexo o relación con el dueño de la vivienda.\n",
        "\n",
        "En los niños se tuvo en cuenta quién lo cuida la mayoría del tiempo y qué tan frecuente realiza en el mes las actividades de leer libros, salir, hacer deporte, jugar, etc."
      ],
      "metadata": {
        "id": "R6JY0navyenW"
      }
    },
    {
      "cell_type": "code",
      "source": [
        "pearson=menores.corr(method=\"pearson\")\n",
        "sns.heatmap(pearson)"
      ],
      "metadata": {
        "id": "g6eveODNzhQ-"
      },
      "execution_count": null,
      "outputs": []
    },
    {
      "cell_type": "markdown",
      "source": [
        "En cuanto a los niños lo que más influye en su satisfacción es salir al parque.\n",
        "\n",
        "# Recomendaciones.\n",
        "\n",
        "Tener datos más claros sobre la satisfacción de los niños, porque es prácticamente inexistentes.\n",
        "\n",
        "Los datos de satisfacción sobre la vida de los adultos mayores no se predice correctamente, se necesita mayores estudios y mayores analisis sobre toda la base de datos para hacer un modelo mas confiable."
      ],
      "metadata": {
        "id": "JuThxng_z3B7"
      }
    }
  ]
}